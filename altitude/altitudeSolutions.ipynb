{
 "cells": [
  {
   "cell_type": "markdown",
   "id": "f516b080-48b2-4194-8dea-06342203f7d7",
   "metadata": {},
   "source": [
    "# Test Excel"
   ]
  },
  {
   "cell_type": "markdown",
   "id": "293b6757-0d28-47d8-b1c7-136d50d68d2d",
   "metadata": {},
   "source": [
    "Suposiciones: Todos los productos dentro de un tipo de producto (product type)\n",
    "generan el mismo margen bruto unitario en todos los países."
   ]
  },
  {
   "cell_type": "code",
   "execution_count": 30,
   "id": "5f6cbf4e-299b-4f41-b048-d07e1e053acc",
   "metadata": {},
   "outputs": [],
   "source": [
    "# LIBRERIAS\n",
    "import pandas as pd\n",
    "import numpy as np\n",
    "import matplotlib.pyplot as plt\n",
    "import seaborn as sns"
   ]
  },
  {
   "cell_type": "code",
   "execution_count": 83,
   "id": "fc35d2a4-001c-4c06-88e5-2f2975091f47",
   "metadata": {},
   "outputs": [],
   "source": [
    "# DATA\n",
    "archivo = 'Altitude - DB Test Excel Feb24.xlsx'\n",
    "df = pd.read_excel(archivo)"
   ]
  },
  {
   "cell_type": "markdown",
   "id": "6bfc132e-01d0-4f92-918f-205edc2ea12c",
   "metadata": {},
   "source": [
    "## Estadística Descriptiva"
   ]
  },
  {
   "cell_type": "code",
   "execution_count": 3,
   "id": "083557cc-5474-4a25-b279-d821787569a7",
   "metadata": {},
   "outputs": [],
   "source": [
    "# Incluir en el dataset df una columna llamada \"Total Price ($us)\"\n",
    "# Esta columna se calcula multiplicando la cantidad total de unidades vendidas por el precio unitario\n",
    "df['Total Price ($us)'] = df['Total Units Sold'] * df['Unit Price ($us)']\n",
    "\n",
    "# Incluir en el dataset df una columna llamada \"Unit Cost ($us)\"\n",
    "# Esta columna se calcula dividiendo el costo total en dólares estadounidenses entre la cantidad total de unidades vendidas\n",
    "df['Unit Cost ($us)'] = df['Total Cost ($us)'] / df['Total Units Sold']"
   ]
  },
  {
   "cell_type": "code",
   "execution_count": 84,
   "id": "ed51629d-88ed-4d2e-85ab-ca632dc1a07d",
   "metadata": {},
   "outputs": [
    {
     "name": "stdout",
     "output_type": "stream",
     "text": [
      "<class 'pandas.core.frame.DataFrame'>\n",
      "RangeIndex: 10001 entries, 0 to 10000\n",
      "Data columns (total 9 columns):\n",
      " #   Column            Non-Null Count  Dtype         \n",
      "---  ------            --------------  -----         \n",
      " 0   Region            10001 non-null  object        \n",
      " 1   Country           10001 non-null  object        \n",
      " 2   Product Type      10001 non-null  object        \n",
      " 3   Order Date        10001 non-null  datetime64[ns]\n",
      " 4   Order ID          10001 non-null  int64         \n",
      " 5   Ship Date         10001 non-null  datetime64[ns]\n",
      " 6   Total Units Sold  10001 non-null  int64         \n",
      " 7   Unit Price ($us)  10001 non-null  float64       \n",
      " 8   Total Cost ($us)  10001 non-null  float64       \n",
      "dtypes: datetime64[ns](2), float64(2), int64(2), object(3)\n",
      "memory usage: 703.3+ KB\n",
      "None\n"
     ]
    }
   ],
   "source": [
    "# Utilizar el método 'info' para obtener una descripción concisa del dataframe\n",
    "print(df.info())"
   ]
  },
  {
   "cell_type": "code",
   "execution_count": 85,
   "id": "51e88573-1d3a-4986-82e8-184b3d639699",
   "metadata": {},
   "outputs": [
    {
     "name": "stdout",
     "output_type": "stream",
     "text": [
      "           Order ID  Total Units Sold  Unit Price ($us)  Total Cost ($us)\n",
      "count  1.000100e+04      10001.000000      10001.000000      1.000100e+04\n",
      "mean   5.498506e+08       5002.356264        268.141853      9.381720e+05\n",
      "std    2.607791e+08       2873.537235        217.933232      1.145895e+06\n",
      "min    1.000892e+08          2.000000          9.330000      3.087000e+01\n",
      "25%    3.218126e+08       2530.000000        109.280000      1.647652e+05\n",
      "50%    5.483657e+08       4961.000000        205.700000      4.814683e+05\n",
      "75%    7.759573e+08       7472.000000        437.200000      1.183785e+06\n",
      "max    9.999342e+08      10000.000000        668.270000      5.241726e+06\n"
     ]
    }
   ],
   "source": [
    "# Utilizar el método 'describe' para obtener un resumen estadístico del dataframe\n",
    "print(df.describe())"
   ]
  },
  {
   "cell_type": "markdown",
   "id": "166ceff7-34ce-47ea-92d1-e1c0cf2dddfe",
   "metadata": {},
   "source": [
    "## Preguntas a responder"
   ]
  },
  {
   "cell_type": "markdown",
   "id": "951f453b-fa8f-4c2d-bafa-0f5de340dc31",
   "metadata": {},
   "source": [
    "### 1. Qué región tiene las ventas más altas (en $us) y con cuánto?"
   ]
  },
  {
   "cell_type": "code",
   "execution_count": 6,
   "id": "c58ba686-e361-4107-b53b-eb16e8cca6d7",
   "metadata": {},
   "outputs": [
    {
     "name": "stdout",
     "output_type": "stream",
     "text": [
      "Region\n",
      "Asia                                 2.005306e+09\n",
      "Australia and Oceania                1.049802e+09\n",
      "Central America and the Caribbean    1.395530e+09\n",
      "Europe                               3.481374e+09\n",
      "Middle East and North Africa         1.715633e+09\n",
      "North America                        3.353524e+08\n",
      "Sub-Saharan Africa                   3.350556e+09\n",
      "Name: Total Price ($us), dtype: float64\n",
      "\n",
      "La región con las ventas más altas es Europe con un total de 3481373604.43 $us.\n"
     ]
    }
   ],
   "source": [
    "# Agrupar el dataframe por 'Region' y calcular la suma de 'Total Price ($us)' para cada región\n",
    "region_ventas_max = df.groupby('Region')['Total Price ($us)'].sum()\n",
    "\n",
    "# Encontrar la región con las ventas más altas\n",
    "region_maxima = region_ventas_max.idxmax()\n",
    "\n",
    "# Obtener el valor máximo de ventas\n",
    "ventas_maximas = region_ventas_max.max()\n",
    "\n",
    "# Imprimir la suma de ventas para cada región\n",
    "print(region_ventas_max)\n",
    "print(\"\")\n",
    "\n",
    "# Imprimir la región con las ventas más altas y su total de ventas\n",
    "print(f\"La región con las ventas más altas es {region_maxima} con un total de {ventas_maximas} $us.\")"
   ]
  },
  {
   "cell_type": "markdown",
   "id": "55760e73-3500-4436-869a-d4c3e5468636",
   "metadata": {},
   "source": [
    "### 2. Qué país tiene la mayor cantidad de unidades de carne vendidas?"
   ]
  },
  {
   "cell_type": "code",
   "execution_count": 98,
   "id": "173dbead-10c0-449f-adb0-56e84221d117",
   "metadata": {},
   "outputs": [
    {
     "name": "stdout",
     "output_type": "stream",
     "text": [
      "El país con la mayor cantidad de unidades de carne vendidas es Sudan con un total de 56503 unidades.\n"
     ]
    }
   ],
   "source": [
    "# Filtrar el dataframe para incluir solo las filas donde 'Product Type' es 'Meat'\n",
    "pais_unidades_carne_max = df[df['Product Type'] == 'Meat'].groupby('Country')['Total Units Sold'].sum()\n",
    "\n",
    "# Encontrar el país con la mayor cantidad de unidades de carne vendidas\n",
    "pais_maximo = pais_unidades_carne_max.idxmax()\n",
    "\n",
    "# Encontrar la cantidad máxima de unidades de carne vendidas\n",
    "unidades_maximas = pais_unidades_carne_max.max()\n",
    "\n",
    "# Imprimir el país con la mayor cantidad de unidades de carne vendidas junto con su total\n",
    "print(f\"El país con la mayor cantidad de unidades de carne vendidas es {pais_maximo} con un total de {unidades_maximas} unidades.\")"
   ]
  },
  {
   "cell_type": "markdown",
   "id": "4b115cc8-38ee-4df2-b5c1-cb272f4dd613",
   "metadata": {},
   "source": [
    "### 3. Existe un dato inconsistente en la base de datos. Encuentra esta inconsistencia y límpiala. Cambia alguna de tus respuestas anteriores? Utiliza la tabla corregida en las siguientes preguntas de los niveles intermedio y avanzado. "
   ]
  },
  {
   "cell_type": "markdown",
   "id": "5cddee58-8fe3-4d1f-bd63-730a23b6e9db",
   "metadata": {},
   "source": [
    "#### Calculo del dato inconsistente mediante el margen bruto unitario porcentual y utilizando el método del rango intercuartil (IQR)"
   ]
  },
  {
   "cell_type": "code",
   "execution_count": 8,
   "id": "abf7ee88-f8d5-4678-aed0-cbf835022330",
   "metadata": {},
   "outputs": [
    {
     "name": "stdout",
     "output_type": "stream",
     "text": [
      "Si calculamos el margen bruto unitario en $us, la cantidad de datos atípicos,  es de: 873\n"
     ]
    }
   ],
   "source": [
    "# Calcular el margen bruto unitario sin agregarlo al dataframe\n",
    "margen_bruto_unitario_per = ((df['Unit Price ($us)'] - df['Unit Cost ($us)']) / df['Unit Price ($us)']) * 100\n",
    "\n",
    "# Calcular el primer (Q1) y tercer cuartil (Q3)\n",
    "Q1 = margen_bruto_unitario_per.quantile(0.25)\n",
    "Q3 = margen_bruto_unitario_per.quantile(0.75)\n",
    "\n",
    "# Calcular el rango intercuartil (IQR)\n",
    "IQR = Q3 - Q1\n",
    "\n",
    "# Definir los límites para los outliers\n",
    "limite_inferior = Q1 - 1.5 * IQR\n",
    "limite_superior = Q3 + 1.5 * IQR\n",
    "\n",
    "# Crear una máscara booleana para los outliers\n",
    "mascara = (margen_bruto_unitario_per >= limite_inferior) & (margen_bruto_unitario_per <= limite_superior)\n",
    "\n",
    "# Imprimir el dato inconsistente\n",
    "print(f\"Si calculamos el margen bruto unitario en $us, la cantidad de datos atípicos,  es de: {len(df[~mascara])}\")"
   ]
  },
  {
   "cell_type": "markdown",
   "id": "82ad63ed-0857-4786-b974-fb5d6a3e58f8",
   "metadata": {},
   "source": [
    "#### Cálculo del dato inconsistente mediante el margen bruto unitario en $us y utilizando el método del rango intercuartil (IQR)"
   ]
  },
  {
   "cell_type": "code",
   "execution_count": 9,
   "id": "f912de0f-eb93-4f60-885d-4997bea00487",
   "metadata": {},
   "outputs": [
    {
     "name": "stdout",
     "output_type": "stream",
     "text": [
      "Los datos incosistentes podría ser: \n",
      "\n",
      "       Region Country Product Type Order Date   Order ID  Ship Date  \\\n",
      "10000  Europe   Spain    Baby Food 2013-01-17  337123875 2013-02-03   \n",
      "\n",
      "       Total Units Sold  Unit Price ($us)  Total Cost ($us)  \\\n",
      "10000                 6            255.28             30.87   \n",
      "\n",
      "       Total Price ($us)  Unit Cost ($us)  \n",
      "10000            1531.68            5.145  \n"
     ]
    }
   ],
   "source": [
    "# Calcular el margen bruto unitario\n",
    "margen_bruto_unitario = df['Unit Price ($us)'] - df['Unit Cost ($us)']\n",
    "margen_bruto_unitario_Sus = margen_bruto_unitario\n",
    "# Calcular el primer (Q1) y tercer cuartil (Q3)\n",
    "Q1 = margen_bruto_unitario.quantile(0.25)\n",
    "Q3 = margen_bruto_unitario.quantile(0.75)\n",
    "\n",
    "# Calcular el rango intercuartil (IQR)\n",
    "IQR = Q3 - Q1\n",
    "\n",
    "# Definir los límites para los outliers\n",
    "limite_inferior = Q1 - 1.5 * IQR\n",
    "limite_superior = Q3 + 1.5 * IQR\n",
    "\n",
    "# Crear una máscara booleana para los outliers\n",
    "mascara = (margen_bruto_unitario >= limite_inferior) & (margen_bruto_unitario <= limite_superior)\n",
    "\n",
    "# Imprimir el dato inconsistente\n",
    "print(\"Los datos incosistentes podría ser: \")\n",
    "print(\"\")\n",
    "print(df[~mascara])\n",
    "\n",
    "# Aplicar la máscara al dataframe para mantener solo las filas que no son outliers\n",
    "df = df[mascara]"
   ]
  },
  {
   "cell_type": "code",
   "execution_count": 10,
   "id": "aaa6fcf2-3cf2-4cd2-89be-59fbbd438d91",
   "metadata": {},
   "outputs": [
    {
     "data": {
      "text/plain": [
       "{'whiskers': [<matplotlib.lines.Line2D at 0x7fa58d757610>,\n",
       "  <matplotlib.lines.Line2D at 0x7fa58d755450>],\n",
       " 'caps': [<matplotlib.lines.Line2D at 0x7fa58d756550>,\n",
       "  <matplotlib.lines.Line2D at 0x7fa58d757710>],\n",
       " 'boxes': [<matplotlib.lines.Line2D at 0x7fa58da6a110>],\n",
       " 'medians': [<matplotlib.lines.Line2D at 0x7fa58d757750>],\n",
       " 'fliers': [<matplotlib.lines.Line2D at 0x7fa58d757550>],\n",
       " 'means': []}"
      ]
     },
     "execution_count": 10,
     "metadata": {},
     "output_type": "execute_result"
    },
    {
     "data": {
      "image/png": "[encoded data removed]",
      "text/plain": [
       "<Figure size 640x480 with 1 Axes>"
      ]
     },
     "metadata": {},
     "output_type": "display_data"
    }
   ],
   "source": [
    "# Para comprobar el calculo que se hizo con IQR. Generar un diagrama de caja (boxplot) para la variable margen_bruto_unitario $us y observar datos atípicos\n",
    "plt.boxplot(margen_bruto_unitario)"
   ]
  },
  {
   "cell_type": "markdown",
   "id": "a4002227-ec73-431a-a344-c46d7c183d96",
   "metadata": {},
   "source": [
    "#### ¿Cambia alguna de tus respuestas anteriores?"
   ]
  },
  {
   "cell_type": "code",
   "execution_count": 11,
   "id": "19f12840-7103-421b-908b-b4acc639572c",
   "metadata": {},
   "outputs": [
    {
     "name": "stdout",
     "output_type": "stream",
     "text": [
      "La región con las ventas más altas (en $us) es Europe.\n"
     ]
    }
   ],
   "source": [
    "# Agrupar el dataframe por la columna 'Region' y calcula la suma de 'Total Price ($us)' para cada región\n",
    "# Luego, encuentra la región con la suma más alta de 'Total Price ($us)'\n",
    "region_con_ventas_mas_altas = df.groupby('Region')['Total Price ($us)'].sum().idxmax()\n",
    "\n",
    "#Imprimir \n",
    "print(f\"La región con las ventas más altas (en $us) es {region_con_ventas_mas_altas}.\")"
   ]
  },
  {
   "cell_type": "code",
   "execution_count": 12,
   "id": "3578f68c-386c-4c67-ade2-6e0a0e294ff6",
   "metadata": {},
   "outputs": [
    {
     "name": "stdout",
     "output_type": "stream",
     "text": [
      "El país con la mayor cantidad de unidades de carne vendidas es Sudan.\n"
     ]
    }
   ],
   "source": [
    "# Filtrar el dataframe para incluir solo las filas donde 'Product Type' es 'Meat'\n",
    "# Luego, agrupa el dataframe filtrado por la columna 'Country' y calcula la suma de 'Total Units Sold' para cada país\n",
    "# Finalmente, encuentra el país con la suma más alta de 'Total Units Sold'\n",
    "pais_con_mas_unidades_de_carne_vendidas = df[df['Product Type'] == 'Meat'].groupby('Country')['Total Units Sold'].sum().idxmax()\n",
    "\n",
    "# Imprimir \n",
    "print(f\"El país con la mayor cantidad de unidades de carne vendidas es {pais_con_mas_unidades_de_carne_vendidas}.\")"
   ]
  },
  {
   "cell_type": "markdown",
   "id": "2be6371d-626a-454f-9b22-c95f691b2ebe",
   "metadata": {},
   "source": [
    "### 4. ¿Cuál es el tipo de producto con mayor margen bruto porcentual?"
   ]
  },
  {
   "cell_type": "code",
   "execution_count": 13,
   "id": "777b9b25-9017-49d6-9608-f8c137648d26",
   "metadata": {},
   "outputs": [
    {
     "name": "stdout",
     "output_type": "stream",
     "text": [
      "Product Type\n",
      "Baby Food          37.550924\n",
      "Beverages          33.003161\n",
      "Cereal             43.067574\n",
      "Clothes            67.203514\n",
      "Cosmetics          39.768984\n",
      "Fruits             25.830654\n",
      "Household          24.799856\n",
      "Meat               13.558036\n",
      "Office Supplies    19.386987\n",
      "Personal Care      30.661936\n",
      "Snacks             36.138419\n",
      "Vegetables         40.977541\n",
      "Name: Margen Bruto Porcentual, dtype: float64\n",
      "\n",
      "El tipo de producto con el mayor margen bruto porcentual es Clothes.\n"
     ]
    }
   ],
   "source": [
    "# Agrupar por tipo de producto y sumar 'Total Price ($us)' y 'Total Cost ($us)'\n",
    "grupo_producto = df.groupby('Product Type').agg({'Total Price ($us)': 'sum', 'Total Cost ($us)': 'sum'})\n",
    "\n",
    "# Calcular el margen bruto porcentual para cada tipo de producto\n",
    "margen_bruto_porcentual = (grupo_producto['Total Price ($us)'] - grupo_producto['Total Cost ($us)']) / grupo_producto['Total Price ($us)'] * 100\n",
    "\n",
    "# Cambiar nombre de columna\n",
    "margen_bruto_porcentual = margen_bruto_porcentual.rename(\"Margen Bruto Porcentual\")\n",
    "\n",
    "# Encontrar el tipo de producto con el mayor margen bruto porcentual\n",
    "producto_con_mayor_margen = margen_bruto_porcentual.idxmax()\n",
    "\n",
    "# Imprimir\n",
    "print(margen_bruto_porcentual)\n",
    "print(\"\")\n",
    "print(f\"El tipo de producto con el mayor margen bruto porcentual es {producto_con_mayor_margen}.\")"
   ]
  },
  {
   "cell_type": "markdown",
   "id": "8e1f3030-1196-4b48-b2b0-05b7144b0e1c",
   "metadata": {},
   "source": [
    "### 5. Grafica un pareto de margen bruto por país e indica cuántos países cubren el 80% del margen generado a nivel mundial"
   ]
  },
  {
   "cell_type": "markdown",
   "id": "f087f8e5-8f9f-47f4-98c6-80b61b8a43a2",
   "metadata": {},
   "source": [
    "#### Para el margen bruto en $us"
   ]
  },
  {
   "cell_type": "code",
   "execution_count": 49,
   "id": "0738b14f-71c9-4249-b7c7-d8c1ccf39f08",
   "metadata": {},
   "outputs": [
    {
     "data": {
      "image/png": "[encoded data removed]",
      "text/plain": [
       "<Figure size 800x700 with 2 Axes>"
      ]
     },
     "metadata": {},
     "output_type": "display_data"
    },
    {
     "name": "stdout",
     "output_type": "stream",
     "text": [
      "137 países representan el 80% del margen bruto generado a nivel mundial.\n"
     ]
    }
   ],
   "source": [
    "# Calcular el margen bruto total \n",
    "df['Margen bruto total ($us)'] = df['Total Price ($us)'] - df['Total Cost ($us)']\n",
    "\n",
    "# Calcular el margen bruto total por país\n",
    "margen_pais = df.groupby('Country')['Margen bruto total ($us)'].sum().sort_values(ascending=False)\n",
    "\n",
    "# Calcular el porcentaje de cada país\n",
    "porcentaje_pais = margen_pais / margen_pais.sum() * 100\n",
    "\n",
    "# Calcular el porcentaje acumulado\n",
    "porcentaje_acumulado = porcentaje_pais.cumsum()\n",
    "\n",
    "# Crear un nuevo DataFrame con los datos de porcentaje y porcentaje acumulado\n",
    "pareto_margen_bruto = pd.DataFrame({\n",
    "    'Country': porcentaje_pais.index,\n",
    "    'Porcentaje_Pais': porcentaje_pais.values,\n",
    "    'Porcentaje_Acumulado': porcentaje_acumulado.values\n",
    "})\n",
    "\n",
    "# Establecer el estilo del gráfico\n",
    "sns.set_theme(style=\"whitegrid\")\n",
    "\n",
    "# Crear el gráfico de barras para el margen bruto por país\n",
    "fig, ax1 = plt.subplots(figsize=(8, 7))\n",
    "ax1.bar(pareto_margen_bruto_per['Country'], pareto_margen_bruto_per['Porcentaje_Pais'], color='C0')\n",
    "\n",
    "# Crear el gráfico de línea para el porcentaje acumulado\n",
    "ax2 = ax1.twinx()\n",
    "ax2.plot(pareto_margen_bruto_per['Country'], pareto_margen_bruto_per['Porcentaje_Acumulado'], color='C1', ms=5)\n",
    "\n",
    "# Ajustar los límites del eje y derecho\n",
    "ax2.set_ylim(bottom=0, top=100)\n",
    "\n",
    "# Añadir las etiquetas de los ejes\n",
    "ax1.set_xlabel('Países')\n",
    "ax1.set_ylabel('Porcentaje del Margen Bruto (%)')\n",
    "ax2.set_ylabel('Porcentaje Acumulado (%)')\n",
    "\n",
    "# Hacer que las etiquetas del eje x sean más pequeñas y verticales\n",
    "plt.xticks([])\n",
    "\n",
    "# Guardar imagen\n",
    "plt.savefig('image/cinco1.png')\n",
    "\n",
    "# Mostrar el gráfico\n",
    "plt.show()\n",
    "\n",
    "# Calcular cuántos países representan el 80% del margen bruto\n",
    "num_paises = (pareto_margen_bruto['Porcentaje_Acumulado'] <= 80).sum()\n",
    "print(f'{num_paises} países representan el 80% del margen bruto generado a nivel mundial.')"
   ]
  },
  {
   "cell_type": "markdown",
   "id": "ad69ac57-e4e1-4813-bce4-60ac44f4ef61",
   "metadata": {},
   "source": [
    "#### Para el margen bruto Porcentual"
   ]
  },
  {
   "cell_type": "code",
   "execution_count": 48,
   "id": "74372da3-872d-4c94-9755-0664b2ec426e",
   "metadata": {},
   "outputs": [
    {
     "data": {
      "image/png": "[encoded data removed]",
      "text/plain": [
       "<Figure size 800x700 with 2 Axes>"
      ]
     },
     "metadata": {},
     "output_type": "display_data"
    },
    {
     "name": "stdout",
     "output_type": "stream",
     "text": [
      "140 países representan el 80% del margen bruto generado a nivel mundial.\n"
     ]
    }
   ],
   "source": [
    "# Calcular el margen bruto total \n",
    "df['Margen bruto total (per)'] = ((df['Total Price ($us)'] - df['Total Cost ($us)']) / df['Total Price ($us)']) * 100\n",
    "\n",
    "# Calcular el margen bruto total por país\n",
    "margen_pais = df.groupby('Country')['Margen bruto total (per)'].sum().sort_values(ascending=False)\n",
    "\n",
    "# Calcular el porcentaje de cada país\n",
    "porcentaje_pais = margen_pais / margen_pais.sum() * 100\n",
    "\n",
    "# Calcular el porcentaje acumulado\n",
    "porcentaje_acumulado = porcentaje_pais.cumsum()\n",
    "\n",
    "# Crear un nuevo DataFrame con los datos de porcentaje y porcentaje acumulado\n",
    "pareto_margen_bruto_per = pd.DataFrame({\n",
    "    'Country': porcentaje_pais.index,\n",
    "    'Porcentaje_Pais': porcentaje_pais.values,\n",
    "    'Porcentaje_Acumulado': porcentaje_acumulado.values\n",
    "})\n",
    "\n",
    "# Establecer el estilo del gráfico\n",
    "sns.set_theme(style=\"whitegrid\")\n",
    "\n",
    "# Crear el gráfico de barras para el margen bruto por país\n",
    "fig, ax1 = plt.subplots(figsize=(8, 7))\n",
    "ax1.bar(pareto_margen_bruto_per['Country'], pareto_margen_bruto_per['Porcentaje_Pais'], color='C0')\n",
    "\n",
    "# Crear el gráfico de línea para el porcentaje acumulado\n",
    "ax2 = ax1.twinx()\n",
    "ax2.plot(pareto_margen_bruto_per['Country'], pareto_margen_bruto_per['Porcentaje_Acumulado'], color='C1', ms=5)\n",
    "\n",
    "# Ajustar los límites del eje y derecho\n",
    "ax2.set_ylim(bottom=0, top=100)\n",
    "\n",
    "# Añadir las etiquetas de los ejes\n",
    "ax1.set_xlabel('Países')\n",
    "ax1.set_ylabel('Porcentaje del Margen Bruto (%)')\n",
    "ax2.set_ylabel('Porcentaje Acumulado (%)')\n",
    "\n",
    "# Hacer que las etiquetas del eje x sean más pequeñas y verticales\n",
    "plt.xticks([])\n",
    "\n",
    "# Guardar imagen\n",
    "plt.savefig('image/cinco2.png')\n",
    "\n",
    "# Mostrar el gráfico\n",
    "plt.show()\n",
    "\n",
    "# Calcular cuántos países representan el 80% del margen bruto\n",
    "num_paises = (pareto_margen_bruto_per['Porcentaje_Acumulado'] <= 80).sum()\n",
    "print(f'{num_paises} países representan el 80% del margen bruto generado a nivel mundial.')"
   ]
  },
  {
   "cell_type": "markdown",
   "id": "615e1919-6e85-4fbd-9e35-327c8a48ac57",
   "metadata": {},
   "source": [
    "### 6. Calcula el tiempo promedio (en días) por país que toma en ser enviada una orden desde la fecha en que se registra la orden (order date vs ship date)"
   ]
  },
  {
   "cell_type": "markdown",
   "id": "f8e745c0-fe12-42ad-b7c1-0326bf51bdae",
   "metadata": {},
   "source": [
    "#### a. Cuál es el país con menor tiempo promedio de envío y cuántos días son?"
   ]
  },
  {
   "cell_type": "code",
   "execution_count": 52,
   "id": "3b7eedeb-76c9-447f-bea9-e8e8fc48e7d9",
   "metadata": {},
   "outputs": [
    {
     "name": "stdout",
     "output_type": "stream",
     "text": [
      "El país con el menor tiempo promedio de envío es Yemen y el tiempo promedio de envío es de 19 días.\n"
     ]
    }
   ],
   "source": [
    "# Calcular el número de días que toma enviar cada orden\n",
    "df.loc[:, 'Días para enviar'] = (df['Ship Date'] - df['Order Date']).dt.days\n",
    "\n",
    "# Calcular el tiempo promedio de envío por país y redondear al entero más cercano\n",
    "tiempo_promedio_envio = df.groupby('Country')['Días para enviar'].mean().round().astype(int)\n",
    "\n",
    "# Crear un DataFrame llamado tiempo_envio\n",
    "tiempo_envio = pd.DataFrame(tiempo_promedio_envio)\n",
    "\n",
    "# Encontrar el país con el menor tiempo promedio de envío\n",
    "pais_menor_tiempo = tiempo_envio['Días para enviar'].idxmin()\n",
    "\n",
    "# Encontrar el menor tiempo promedio de envío\n",
    "menor_tiempo = tiempo_envio['Días para enviar'].min()\n",
    "\n",
    "# Imprimir\n",
    "print(f'El país con el menor tiempo promedio de envío es {pais_menor_tiempo} y el tiempo promedio de envío es de {menor_tiempo} días.')"
   ]
  },
  {
   "cell_type": "markdown",
   "id": "44a8aad7-ee53-40a4-a901-712d2d740c79",
   "metadata": {},
   "source": [
    "#### b. Grafica un histograma de estos tiempos promedio por país, utilizando un rango de contenedores (bins) de 1 día. En qué rango se encuentra la mayor cantidad de países?"
   ]
  },
  {
   "cell_type": "code",
   "execution_count": 68,
   "id": "759bfcb4-f9f7-45a0-b97c-130f1e781406",
   "metadata": {},
   "outputs": [
    {
     "data": {
      "image/png": "[encoded data removed]",
      "text/plain": [
       "<Figure size 640x480 with 1 Axes>"
      ]
     },
     "metadata": {},
     "output_type": "display_data"
    },
    {
     "name": "stdout",
     "output_type": "stream",
     "text": [
      "El rango de días con la mayor cantidad de países es 25.\n"
     ]
    }
   ],
   "source": [
    "# Establecer el estilo del gráfico\n",
    "sns.set_theme(style=\"whitegrid\")\n",
    "\n",
    "# Crear el histograma con seaborn\n",
    "sns.histplot(data=tiempo_envio, \n",
    "             x='Días para enviar', \n",
    "             bins=range(int(tiempo_envio['Días para enviar'].min()), int(tiempo_envio['Días para enviar'].max()) + 2), \n",
    "             kde=True, \n",
    "             color='blue')\n",
    "\n",
    "# Añadir las etiquetas de los ejes y el título\n",
    "plt.xlabel('Tiempo promedio de envío (días)', fontsize=10)\n",
    "plt.ylabel('Número de países', fontsize=10)\n",
    "\n",
    "# Guardar imagen\n",
    "plt.savefig('image/seis.png')\n",
    "\n",
    "# Mostrar el gráfico\n",
    "plt.show()\n",
    "\n",
    "# Calcular el rango de días con la mayor cantidad de países\n",
    "dias_con_mas_paises = tiempo_envio['Días para enviar'].value_counts().idxmax()\n",
    "\n",
    "# Imprimir respuesta\n",
    "print(f'El rango de días con la mayor cantidad de países es {dias_con_mas_paises}.')"
   ]
  },
  {
   "cell_type": "markdown",
   "id": "4acff013-852e-4a14-9d81-0f517eb4b722",
   "metadata": {},
   "source": [
    "### 7. Calcula la tasa de crecimiento anual compuesta de ventas a nivel mundial, para el mayor rango de años consecutivos con ventas en todos los meses del año."
   ]
  },
  {
   "cell_type": "code",
   "execution_count": 72,
   "id": "8053525f-d6fa-4053-84b4-25b9bb4c344c",
   "metadata": {},
   "outputs": [
    {
     "name": "stdout",
     "output_type": "stream",
     "text": [
      "Year\n",
      "2010    12\n",
      "2011    12\n",
      "2012    12\n",
      "2013    12\n",
      "2014    12\n",
      "2015    12\n",
      "2016    12\n",
      "2017     7\n",
      "Name: Month, dtype: int64\n"
     ]
    }
   ],
   "source": [
    "# Crear una columna para el año y el mes\n",
    "df['Year'] = df['Order Date'].dt.year\n",
    "df['Month'] = df['Order Date'].dt.month\n",
    "\n",
    "# Agrupar por año y contar los meses únicos\n",
    "df_grupo = df.groupby('Year')['Month'].nunique()\n",
    "\n",
    "# Encontrar los años donde hubo ventas en todos los meses\n",
    "df_todos_años = df_grupo[df_grupo == 12]\n",
    "\n",
    "#imprimir una tabla que identifica el rango de años consecutivos\n",
    "print(df_grupo)"
   ]
  },
  {
   "cell_type": "code",
   "execution_count": 73,
   "id": "17c837c0-888f-426c-b0df-f507ba88f0cb",
   "metadata": {},
   "outputs": [
    {
     "name": "stdout",
     "output_type": "stream",
     "text": [
      "La suma total de \"Total Price ($us)\" para el año 2010 es: 1586297835.53\n",
      "La suma total de \"Total Price ($us)\" para el año 2016 es: 1708702924.77\n",
      "La Tasa de Crecimiento Anual Compuesta (TCAC) entre el año 2010 y el año 2016 es: 1.25 %\n"
     ]
    }
   ],
   "source": [
    "# Sumar las ventas anuales mundiales\n",
    "ventas_anuales = df.groupby(df['Order Date'].dt.year)['Total Price ($us)'].sum()\n",
    "\n",
    "# Obtener la suma de 'Total Price ($us)' para el año 2010 y el año 2016\n",
    "ventas_2010 = ventas_anuales.loc[2010]\n",
    "ventas_2016 = ventas_anuales.loc[2016]\n",
    "\n",
    "print(f'La suma total de \"Total Price ($us)\" para el año 2010 fue de: {ventas_2010}')\n",
    "print(f'La suma total de \"Total Price ($us)\" para el año 2016 fue de: {ventas_2016}')\n",
    "\n",
    "# Calcular la TCAC\n",
    "V_inicial = ventas_anuales.loc[2010]\n",
    "V_final = ventas_anuales.loc[2016]\n",
    "n = 2016 - 2010\n",
    "\n",
    "TCAC = ((V_final / V_inicial)**(1/n) - 1) * 100\n",
    "\n",
    "print(f'La Tasa de Crecimiento Anual Compuesta (TCAC) entre el año 2010 y el año 2016 fue de: {round(TCAC,2)} %')"
   ]
  },
  {
   "cell_type": "markdown",
   "id": "4b3c27b2-bb19-4694-b9df-afd50837000a",
   "metadata": {},
   "source": [
    "### 8. Para órdenes realizadas (order date) en diciembre del 2015, responde a las siguientes preguntas utilizando una tabla dinámica:"
   ]
  },
  {
   "cell_type": "code",
   "execution_count": 81,
   "id": "bd359c68-f8ba-4a70-aa30-7793f4f9d723",
   "metadata": {},
   "outputs": [
    {
     "name": "stdout",
     "output_type": "stream",
     "text": [
      "Day of Week\n",
      "Friday       10\n",
      "Monday       27\n",
      "Saturday     21\n",
      "Sunday       13\n",
      "Thursday     19\n",
      "Tuesday      12\n",
      "Wednesday    23\n",
      "Name: Número de ordenes, dtype: int64\n"
     ]
    }
   ],
   "source": [
    "# Filtramos las órdenes realizadas en diciembre del 2015\n",
    "df_dec_2015 = df[(df['Order Date'].dt.year == 2015) & (df['Order Date'].dt.month == 12)].copy()\n",
    "\n",
    "# Creamos una nueva columna para el día de la semana\n",
    "df_dec_2015.loc[:, 'Day of Week'] = df_dec_2015['Ship Date'].dt.day_name()\n",
    "\n",
    "# Creamos la tabla dinámica\n",
    "tabla_dinamica = pd.pivot_table(df_dec_2015, index='Day of Week', aggfunc='size')\n",
    "\n",
    "# Cambiar nombre de columna\n",
    "tabla_dinamica = tabla_dinamica.rename(\"Número de ordenes\")\n",
    "\n",
    "# Imprimir tabla\n",
    "print(tabla_dinamica)"
   ]
  },
  {
   "cell_type": "markdown",
   "id": "7c202522-546b-43a6-802a-0c7ab06ab9ea",
   "metadata": {},
   "source": [
    "#### a. Identifica en qué día de la semana (lunes-domingo) se dan la mayor cantidad de envíos"
   ]
  },
  {
   "cell_type": "code",
   "execution_count": 76,
   "id": "4ac12e14-1ca6-4051-a833-1707c391774a",
   "metadata": {
    "scrolled": true
   },
   "outputs": [
    {
     "name": "stdout",
     "output_type": "stream",
     "text": [
      "El día de la semana con la mayor cantidad de envíos es: Monday\n"
     ]
    }
   ],
   "source": [
    "# Identifica en qué día de la semana (lunes-domingo) se dan la mayor cantidad de envíos\n",
    "max_ship_day = pivot_table.idxmax()\n",
    "print(f\"El día de la semana con la mayor cantidad de envíos es: {max_ship_day}\")"
   ]
  },
  {
   "cell_type": "markdown",
   "id": "25f4cbc3-0bfd-409c-9469-baf467372efc",
   "metadata": {},
   "source": [
    "#### b. Identifica en qué día de la semana (lunes-domingo) se dan la menor cantidad de envíos"
   ]
  },
  {
   "cell_type": "code",
   "execution_count": 77,
   "id": "db503d71-a475-4a6c-b997-575f61946264",
   "metadata": {},
   "outputs": [
    {
     "name": "stdout",
     "output_type": "stream",
     "text": [
      "El día de la semana con la menor cantidad de envíos es: Friday\n"
     ]
    }
   ],
   "source": [
    "# Identifica en qué día de la semana (lunes-domingo) se dan la menor cantidad de envíos\n",
    "min_ship_day = pivot_table.idxmin()\n",
    "print(f\"El día de la semana con la menor cantidad de envíos es: {min_ship_day}\")"
   ]
  },
  {
   "cell_type": "markdown",
   "id": "4f1d03f0-5486-4b26-847b-f6dabdcc0cc0",
   "metadata": {},
   "source": [
    "## Exportar datos y tablas"
   ]
  },
  {
   "cell_type": "code",
   "execution_count": 97,
   "id": "6f1c08d9-c483-4ee3-ac38-91eb13cbc56c",
   "metadata": {},
   "outputs": [],
   "source": [
    "# Crear un escritor de pandas Excel\n",
    "writer = pd.ExcelWriter('datos_tablas.xlsx')\n",
    "\n",
    "# Escribir cada dataframe en una hoja de Excel diferente\n",
    "region_ventas_max.to_excel(writer, sheet_name='1. Region Ventas Max')\n",
    "pais_unidades_carne_max.to_excel(writer, sheet_name='2. Pais Unidades Carne Max')\n",
    "#margen_bruto_unitario_Sus.to_excel(writer, sheet_name='3. Margen Bruto Unitario $us')\n",
    "margen_bruto_porcentual.to_excel(writer, sheet_name='4. Margen Bruto Tipo Producto %')\n",
    "pareto_margen_bruto.to_excel(writer, sheet_name='5. Pareto Margen Bruto ($us)', index=False)\n",
    "tiempo_envio.to_excel(writer, sheet_name='6. Tiempo Envio')\n",
    "tabla_dinamica.to_excel(writer, sheet_name='8. Tabla Dinamica')\n",
    "\n",
    "# Cerrar el escritor de pandas Excel\n",
    "writer.close()"
   ]
  }
 ],
 "metadata": {
  "kernelspec": {
   "display_name": "Python 3 (ipykernel)",
   "language": "python",
   "name": "python3"
  },
  "language_info": {
   "codemirror_mode": {
    "name": "ipython",
    "version": 3
   },
   "file_extension": ".py",
   "mimetype": "text/x-python",
   "name": "python",
   "nbconvert_exporter": "python",
   "pygments_lexer": "ipython3",
   "version": "3.11.6"
  }
 },
 "nbformat": 4,
 "nbformat_minor": 5
}
