{
 "cells": [
  {
   "cell_type": "markdown",
   "id": "0f14d962-85b3-4524-8a49-7ec6e1f2a1de",
   "metadata": {},
   "source": [
    "# Análisis de personas"
   ]
  },
  {
   "cell_type": "markdown",
   "id": "37b7a883-8af3-472b-b99d-9a5dad215337",
   "metadata": {},
   "source": [
    "Objetivo, predecir la rotación de empleados. Esto esta relacionado con los primeros dos puntos:\n",
    "\n",
    "- Contratación.\n",
    "- Retención de empleados.\n",
    "\n",
    "La rotación de empleados es el proceso en el que los empleados abandonan la empresa también conocido como desgaste de empleados o rotación de empleados.\n",
    "\n",
    "Cuando los empleados calificados se van, puede ser muy costoso para la empresa, por lo que las empresas están interesadas en predecir la rotación de antemano. Por lo tanto, la empresa puede cambiar su estrategia para retener buenos trabajadores o iniciar el preoceso de contratación de nuevos empleados a tiempo.\n",
    "\n",
    "En este análisis utilizaremos datos de empleados de muestra con variables que describen a los empleados con el objetivo de comprender cuáles son las características más importantes que les afectan.\n",
    "\n",
    "Para ello se realizará lo siguente:\n",
    "\n",
    "1. Análisis descriptivo y transformación de datos.\n",
    "2. Predecir la rotación de empleados.\n",
    "3. Evaluación del modelo de predicción.\n",
    "4. Elegir el mejor modelo de predicción."
   ]
  },
  {
   "cell_type": "code",
   "execution_count": 15,
   "id": "8f7eecfa-8e7e-4e62-92e0-a56a9d55cdb5",
   "metadata": {},
   "outputs": [],
   "source": [
    "# LIBRERIAS\n",
    "import numpy as np\n",
    "import pandas as pd\n",
    "import matplotlib.pyplot as plt\n",
    "import seaborn as sns\n",
    "from sklearn.model_selection import train_test_split\n",
    "from sklearn.tree import DecisionTreeClassifier\n",
    "from sklearn.tree import export_graphviz\n",
    "from sklearn.metrics import precision_score\n",
    "from sklearn.metrics import recall_score\n",
    "from sklearn.metrics import roc_auc_score\n",
    "from sklearn.model_selection import cross_val_score\n",
    "\n",
    "from sklearn.ensemble import RandomForestRegressor"
   ]
  },
  {
   "cell_type": "code",
   "execution_count": 16,
   "id": "a00dcae1-283f-4379-bc37-0eb8e688b668",
   "metadata": {},
   "outputs": [],
   "source": [
    "# Importar datos\n",
    "data = pd.read_csv('data/turnover.csv')"
   ]
  },
  {
   "cell_type": "markdown",
   "id": "b1809f67-9587-4568-9729-a475d1360b82",
   "metadata": {},
   "source": [
    "## Análisis descriptivo y transformación de datos"
   ]
  },
  {
   "cell_type": "code",
   "execution_count": 17,
   "id": "205bcd82-f002-4321-b7a8-6e11950b9592",
   "metadata": {},
   "outputs": [
    {
     "name": "stdout",
     "output_type": "stream",
     "text": [
      "<class 'pandas.core.frame.DataFrame'>\n",
      "RangeIndex: 14999 entries, 0 to 14998\n",
      "Data columns (total 10 columns):\n",
      " #   Column                Non-Null Count  Dtype  \n",
      "---  ------                --------------  -----  \n",
      " 0   satisfaction          14999 non-null  float64\n",
      " 1   evaluation            14999 non-null  float64\n",
      " 2   number_of_projects    14999 non-null  int64  \n",
      " 3   average_montly_hours  14999 non-null  int64  \n",
      " 4   time_spend_company    14999 non-null  int64  \n",
      " 5   work_accident         14999 non-null  int64  \n",
      " 6   churn                 14999 non-null  int64  \n",
      " 7   promotion             14999 non-null  int64  \n",
      " 8   department            14999 non-null  object \n",
      " 9   salary                14999 non-null  object \n",
      "dtypes: float64(2), int64(6), object(2)\n",
      "memory usage: 1.1+ MB\n",
      "None\n"
     ]
    }
   ],
   "source": [
    "# Información de cada columna y fila\n",
    "print(data.info())"
   ]
  },
  {
   "cell_type": "code",
   "execution_count": 18,
   "id": "dfb7ec58-2401-4adf-b30f-e0acdc36bdf4",
   "metadata": {},
   "outputs": [
    {
     "name": "stdout",
     "output_type": "stream",
     "text": [
      "       satisfaction    evaluation  number_of_projects  average_montly_hours  \\\n",
      "count  14999.000000  14999.000000        14999.000000          14999.000000   \n",
      "mean       0.612834      0.716102            3.803054            201.050337   \n",
      "std        0.248631      0.171169            1.232592             49.943099   \n",
      "min        0.090000      0.360000            2.000000             96.000000   \n",
      "25%        0.440000      0.560000            3.000000            156.000000   \n",
      "50%        0.640000      0.720000            4.000000            200.000000   \n",
      "75%        0.820000      0.870000            5.000000            245.000000   \n",
      "max        1.000000      1.000000            7.000000            310.000000   \n",
      "\n",
      "       time_spend_company  work_accident         churn     promotion  \n",
      "count        14999.000000   14999.000000  14999.000000  14999.000000  \n",
      "mean             3.498233       0.144610      0.238083      0.021268  \n",
      "std              1.460136       0.351719      0.425924      0.144281  \n",
      "min              2.000000       0.000000      0.000000      0.000000  \n",
      "25%              3.000000       0.000000      0.000000      0.000000  \n",
      "50%              3.000000       0.000000      0.000000      0.000000  \n",
      "75%              4.000000       0.000000      0.000000      0.000000  \n",
      "max             10.000000       1.000000      1.000000      1.000000  \n"
     ]
    }
   ],
   "source": [
    "print(data.describe())"
   ]
  },
  {
   "cell_type": "markdown",
   "id": "4a28505f-91e3-40cc-8a93-246f146f1771",
   "metadata": {},
   "source": [
    "Tenemos 10 variables diferentes sobre 15000 empleados. de las 10 variables sólo dos tienen el tipo objeto. Es decir, datos categóricos. Mientras los demás son flotantes o enteros. Es decir, numéricas."
   ]
  },
  {
   "cell_type": "code",
   "execution_count": 19,
   "id": "50432386-4ccb-4d15-98dd-4b4708eaf18a",
   "metadata": {},
   "outputs": [
    {
     "name": "stdout",
     "output_type": "stream",
     "text": [
      "   satisfaction  evaluation  number_of_projects  average_montly_hours  \\\n",
      "0          0.38        0.53                   2                   157   \n",
      "1          0.80        0.86                   5                   262   \n",
      "2          0.11        0.88                   7                   272   \n",
      "3          0.72        0.87                   5                   223   \n",
      "4          0.37        0.52                   2                   159   \n",
      "\n",
      "   time_spend_company  work_accident  churn  promotion department  salary  \n",
      "0                   3              0      1          0      sales     low  \n",
      "1                   6              0      1          0      sales  medium  \n",
      "2                   4              0      1          0      sales  medium  \n",
      "3                   5              0      1          0      sales     low  \n",
      "4                   3              0      1          0      sales     low  \n"
     ]
    }
   ],
   "source": [
    "# Visualizar las primeras 5 filas\n",
    "print(data.head())"
   ]
  },
  {
   "cell_type": "markdown",
   "id": "67878193-a8ac-4873-a293-b315122f1a8f",
   "metadata": {},
   "source": [
    "Podemos observar que las últimas columnas son department y salary. Que dan información del departamento que trabaja el empleado y el salario que percibe. Esto con datos categóricos."
   ]
  },
  {
   "cell_type": "code",
   "execution_count": 20,
   "id": "3c901f36-6abf-4718-8946-656303590cd5",
   "metadata": {},
   "outputs": [
    {
     "name": "stdout",
     "output_type": "stream",
     "text": [
      "['low' 'medium' 'high']\n"
     ]
    }
   ],
   "source": [
    "# Obtener valores únicos de la columna salary\n",
    "print(data.salary.unique())"
   ]
  },
  {
   "cell_type": "code",
   "execution_count": 21,
   "id": "7bd6f181-3c80-416e-91a2-c4465ff67994",
   "metadata": {},
   "outputs": [
    {
     "name": "stdout",
     "output_type": "stream",
     "text": [
      "['sales' 'accounting' 'hr' 'technical' 'support' 'management' 'IT'\n",
      " 'product_mng' 'marketing' 'RandD']\n"
     ]
    }
   ],
   "source": [
    "# Obtener valores únicos de la columna department\n",
    "print(data.department.unique())"
   ]
  },
  {
   "cell_type": "markdown",
   "id": "55d9423b-718b-4a00-8079-cd655629c023",
   "metadata": {},
   "source": [
    "### Transformar las columnas categóricas \"department\" y \"salary\" en numéricas"
   ]
  },
  {
   "cell_type": "code",
   "execution_count": 22,
   "id": "3a72ad35-4296-41d9-8481-270ff182ef16",
   "metadata": {},
   "outputs": [],
   "source": [
    "# Cambiar el tipo de columna \"salary\" a categórico\n",
    "data.salary = data.salary.astype('category')\n",
    "\n",
    "# Ordenar correctamente estos datos categóricos\n",
    "data.salary = data.salary.cat.reorder_categories(['low','medium','high'])\n",
    "\n",
    "# Codificar categorías con valores enteros\n",
    "data.salary = data.salary.cat.codes"
   ]
  },
  {
   "cell_type": "code",
   "execution_count": 23,
   "id": "5095cedc-2970-4844-92fc-365de282a5a9",
   "metadata": {},
   "outputs": [
    {
     "name": "stdout",
     "output_type": "stream",
     "text": [
      "   IT  RandD  accounting  hr  management  marketing  product_mng  sales  \\\n",
      "0   0      0           0   0           0          0            0      1   \n",
      "1   0      0           0   0           0          0            0      1   \n",
      "2   0      0           0   0           0          0            0      1   \n",
      "3   0      0           0   0           0          0            0      1   \n",
      "4   0      0           0   0           0          0            0      1   \n",
      "\n",
      "   support  technical  \n",
      "0        0          0  \n",
      "1        0          0  \n",
      "2        0          0  \n",
      "3        0          0  \n",
      "4        0          0  \n"
     ]
    }
   ],
   "source": [
    "# Cambiar el tipo de columna \"department\" a variables ficticias (0,1)\n",
    "departments = pd.get_dummies(data.department)\n",
    "\n",
    "# Mostrar la primera 5 filas del \"departments\"\n",
    "print(departments.head())"
   ]
  },
  {
   "cell_type": "markdown",
   "id": "6c7999e7-b0f2-4063-93b5-c088a1ff642e",
   "metadata": {},
   "source": [
    "Estos datos ficticios se manejan de la siguente manera: Supongamos que un empleado es del departamento de ventas, lo que significa que si tenemos una columna separada para cada departamento, entonces el empleado tendrá valor de 1 en la columna de ventas y 0 en las demás columnas de departamentos. Esto significa que tendremos que crear un nuevo DataFrame donde cada departamento sea una columna separada. "
   ]
  },
  {
   "cell_type": "code",
   "execution_count": 24,
   "id": "82065a4a-1bd8-4460-b883-9ce223df42bb",
   "metadata": {},
   "outputs": [
    {
     "data": {
      "text/html": [
       "<div>\n",
       "<style scoped>\n",
       "    .dataframe tbody tr th:only-of-type {\n",
       "        vertical-align: middle;\n",
       "    }\n",
       "\n",
       "    .dataframe tbody tr th {\n",
       "        vertical-align: top;\n",
       "    }\n",
       "\n",
       "    .dataframe thead th {\n",
       "        text-align: right;\n",
       "    }\n",
       "</style>\n",
       "<table border=\"1\" class=\"dataframe\">\n",
       "  <thead>\n",
       "    <tr style=\"text-align: right;\">\n",
       "      <th></th>\n",
       "      <th>IT</th>\n",
       "      <th>RandD</th>\n",
       "      <th>accounting</th>\n",
       "      <th>hr</th>\n",
       "      <th>management</th>\n",
       "      <th>marketing</th>\n",
       "      <th>product_mng</th>\n",
       "      <th>support</th>\n",
       "      <th>technical</th>\n",
       "    </tr>\n",
       "  </thead>\n",
       "  <tbody>\n",
       "    <tr>\n",
       "      <th>0</th>\n",
       "      <td>0</td>\n",
       "      <td>0</td>\n",
       "      <td>0</td>\n",
       "      <td>0</td>\n",
       "      <td>0</td>\n",
       "      <td>0</td>\n",
       "      <td>0</td>\n",
       "      <td>0</td>\n",
       "      <td>0</td>\n",
       "    </tr>\n",
       "    <tr>\n",
       "      <th>1</th>\n",
       "      <td>0</td>\n",
       "      <td>0</td>\n",
       "      <td>0</td>\n",
       "      <td>0</td>\n",
       "      <td>0</td>\n",
       "      <td>0</td>\n",
       "      <td>0</td>\n",
       "      <td>0</td>\n",
       "      <td>0</td>\n",
       "    </tr>\n",
       "    <tr>\n",
       "      <th>2</th>\n",
       "      <td>0</td>\n",
       "      <td>0</td>\n",
       "      <td>0</td>\n",
       "      <td>0</td>\n",
       "      <td>0</td>\n",
       "      <td>0</td>\n",
       "      <td>0</td>\n",
       "      <td>0</td>\n",
       "      <td>0</td>\n",
       "    </tr>\n",
       "    <tr>\n",
       "      <th>3</th>\n",
       "      <td>0</td>\n",
       "      <td>0</td>\n",
       "      <td>0</td>\n",
       "      <td>0</td>\n",
       "      <td>0</td>\n",
       "      <td>0</td>\n",
       "      <td>0</td>\n",
       "      <td>0</td>\n",
       "      <td>0</td>\n",
       "    </tr>\n",
       "    <tr>\n",
       "      <th>4</th>\n",
       "      <td>0</td>\n",
       "      <td>0</td>\n",
       "      <td>0</td>\n",
       "      <td>0</td>\n",
       "      <td>0</td>\n",
       "      <td>0</td>\n",
       "      <td>0</td>\n",
       "      <td>0</td>\n",
       "      <td>0</td>\n",
       "    </tr>\n",
       "  </tbody>\n",
       "</table>\n",
       "</div>"
      ],
      "text/plain": [
       "   IT  RandD  accounting  hr  management  marketing  product_mng  support  \\\n",
       "0   0      0           0   0           0          0            0        0   \n",
       "1   0      0           0   0           0          0            0        0   \n",
       "2   0      0           0   0           0          0            0        0   \n",
       "3   0      0           0   0           0          0            0        0   \n",
       "4   0      0           0   0           0          0            0        0   \n",
       "\n",
       "   technical  \n",
       "0          0  \n",
       "1          0  \n",
       "2          0  \n",
       "3          0  \n",
       "4          0  "
      ]
     },
     "execution_count": 24,
     "metadata": {},
     "output_type": "execute_result"
    }
   ],
   "source": [
    "# 'sales' es la columna que se eliminará del DataFrame 'departments'\n",
    "departments = departments.drop('sales', axis = 1)\n",
    "\n",
    "# Mostrar las primeras 5 filas del DataFrame actualizado\n",
    "departments.head()"
   ]
  },
  {
   "cell_type": "markdown",
   "id": "5b39a120-069d-4461-9495-a3d58442e667",
   "metadata": {},
   "source": [
    "Ahora bien, debemos cuidarnos de un fenómeno conocido como trampa ficticia. Esta última es la situación en la que diferentes variables ficticias transmiten la misma información. Por ejemplo, el empleado de la muestra es del departamento de ventas. "
   ]
  },
  {
   "cell_type": "code",
   "execution_count": 25,
   "id": "57ae5dfc-f942-4995-a1ea-2d5fbcad900c",
   "metadata": {},
   "outputs": [],
   "source": [
    "# Eliminar \"department\" de dataFrame, ya que no la usaremos.\n",
    "data = data.drop('department', axis = 1)"
   ]
  },
  {
   "cell_type": "markdown",
   "id": "e0271e3c-3893-486b-a8f6-117cd7ab2795",
   "metadata": {},
   "source": [
    "### Estadísticas descriptivas"
   ]
  },
  {
   "cell_type": "markdown",
   "id": "21e31e98-5439-45c6-bf73-1f89b00b17f0",
   "metadata": {},
   "source": [
    "#### Tasa de rotación"
   ]
  },
  {
   "cell_type": "markdown",
   "id": "965a4786-4c6c-433d-9929-2ff0d3aec9e0",
   "metadata": {},
   "source": [
    "Observemos que \"churn\" informa si el empleado se fue o no de la empresa.\n",
    "  - Si el valor es 1. Entonces, el empleado se fue\n",
    "  - Si el valor es 0. Entonces, se observa rotación."
   ]
  },
  {
   "cell_type": "code",
   "execution_count": 26,
   "id": "d9746a15-96b7-40f2-b9b5-a1a805da123b",
   "metadata": {},
   "outputs": [
    {
     "name": "stdout",
     "output_type": "stream",
     "text": [
      "0    11428\n",
      "1     3571\n",
      "Name: churn, dtype: int64\n",
      "0    76.191746\n",
      "1    23.808254\n",
      "Name: churn, dtype: float64\n"
     ]
    }
   ],
   "source": [
    "# Conseguir el número total de observaciones\n",
    "n_empleados = len(data)\n",
    "\n",
    "# Imprimir el número de empleados que se fueron/ se quedaron\n",
    "print(data.churn.value_counts())\n",
    "\n",
    "# Imprimir la tasa de rotación de empleados que se fueron / se quedaron\n",
    "print(data.churn.value_counts()/n_empleados*100)"
   ]
  },
  {
   "cell_type": "markdown",
   "id": "2afe3d0a-a9a4-48c1-8ebc-ade44d9bf525",
   "metadata": {},
   "source": [
    "Podemos ver que alrededor del 76% de los empleados se quedaron, mientras que el 24% se fue."
   ]
  },
  {
   "cell_type": "markdown",
   "id": "fa5c8908-c31e-4e43-879f-d98bddc2f4c3",
   "metadata": {},
   "source": [
    "#### Correlaciones"
   ]
  },
  {
   "cell_type": "code",
   "execution_count": 51,
   "id": "a198f45f-3556-4c29-b226-10379ec1daf6",
   "metadata": {},
   "outputs": [
    {
     "data": {
      "image/png": "[encoded data removed]",
      "text/plain": [
       "<Figure size 1000x500 with 2 Axes>"
      ]
     },
     "metadata": {},
     "output_type": "display_data"
    }
   ],
   "source": [
    "# Calcula la matriz de correlación del DataFrame 'data'\n",
    "corr_matriz = data.corr()\n",
    "\n",
    "# Crea una figura más grande\n",
    "plt.figure(figsize=(10, 5))\n",
    "\n",
    "# Crea un mapa de calor con la matriz de correlación usando seaborn\n",
    "sns.heatmap(corr_matriz, annot=True, fmt=\".2f\", cbar_kws={\"shrink\": .8}, cmap=\"YlGnBu\")\n",
    "\n",
    "# Muestrar el gráfico\n",
    "plt.savefig('correlacion.png')\n",
    "plt.show()"
   ]
  },
  {
   "cell_type": "markdown",
   "id": "14b8ec4b-b279-4937-b1f6-565b91b1c3e3",
   "metadata": {},
   "source": [
    "Podemos ver que la variable \"churn\" tiene la correlación negativa más alta con el nivel de satisfacción \"satisfaction\". Esto nos muestra que el aumento en el nivel de satisfacción está asociado con una disminución en la probabilidad de rotación."
   ]
  },
  {
   "cell_type": "markdown",
   "id": "e5d35674-6eac-4dbe-9c91-bf785b38d664",
   "metadata": {},
   "source": [
    "## Predecir la rotación de empleados"
   ]
  },
  {
   "cell_type": "markdown",
   "id": "2f185976-3d3d-49fc-8fe4-daf62aea8f88",
   "metadata": {},
   "source": [
    "Nuestro objetivo será predecir: Churn.\n",
    "\n",
    "Para ello necesitmoas realizar una predicción precisa y construir un algoritmo que pueda ser útil en la realidad. \n",
    "\n",
    "Comencemos dividiendo los datos en dos componentes: Entrenamiento y prueba. \n",
    "\n",
    "Entrenamiento se utiliza para realizar calculos, optimizaciones y desarrollo de algoritmos, muestra que prueba se utiliza para validarlo."
   ]
  },
  {
   "cell_type": "code",
   "execution_count": 28,
   "id": "f99ae8ca-a37c-47e6-a2b7-cb799dfb5b45",
   "metadata": {},
   "outputs": [],
   "source": [
    "# Definir la variable objetivo 'churn'\n",
    "target = data.churn\n",
    "\n",
    "# Definir las características eliminando la columna 'churn' de los datos\n",
    "features = data.drop('churn', axis = 1)\n",
    "\n",
    "# Dividir los datos en conjuntos de entrenamiento y prueba con un tamaño de prueba del 25%\n",
    "target_train, target_test, features_train, feature_test = train_test_split(target,\n",
    "                                                                           features, \n",
    "                                                                           test_size = 0.25,\n",
    "                                                                          random_state = 42)"
   ]
  },
  {
   "cell_type": "markdown",
   "id": "1455a722-1802-40a3-8ea0-36beda3d86d1",
   "metadata": {},
   "source": [
    "La división de entrenamiento y prueba tiene que ver con el concepto de sobreajuste.\n",
    "\n",
    "El sobreajutes es el problema más común que se alla en el análisis. nuestro primero objetivo es tener una precisión buena que pueda ayudarnos a realizar predicciones precisas. Sin embargo, un modelo que es preciso con un conjunto de datos, no podría serlo con otro. Por lo que queremos que nuestro modelo sea generalizable.\n",
    "\n",
    "Ahora bien, el sobreajuste ocurre cuando el modelo funciona bien en el conjunto de datos en el que se desarrolló, pero no así fuera de ella. Por lo tanto, debemos devidir nuestro datos para asegurarnos que nuestro modelo no se ajusta demasiado a los datos de entranamiento."
   ]
  },
  {
   "cell_type": "markdown",
   "id": "76cc82dc-2261-479a-bd5d-4dae1faea380",
   "metadata": {},
   "source": [
    "### Clasificación del árbol de decisión"
   ]
  },
  {
   "cell_type": "markdown",
   "id": "6a15f048-fa4e-4353-9139-fc407961a844",
   "metadata": {},
   "source": [
    "Dado que nuestro objeto tiene clasificación binaria, utilizaremos el árbol de decisión. Por dos motivos:\n",
    "\n",
    "1. Es capaza de proporcionar prediccioes precisas.\n",
    "2. Se puede utilizar para comprender los factores que están impulsando la decisión de abandonar la empresa"
   ]
  },
  {
   "cell_type": "markdown",
   "id": "044d2215-11fe-4008-b057-f3e6e5954205",
   "metadata": {},
   "source": [
    "Se analiza primero con la columna de satisfacción (\"satisfaction\"), donde se prueba si para un determinado empleado el nivel de satisfacción fue superior a 0.5 o no. Si lo fue, vamos a la rama derecha del árbol, de lo contrario nos movemos a la izquierda. Si nos movemos hacia la derecha por ejemplo, la siguiente pregunta que debemos hacer de acuerdo con el árbol es si el salario es alto o no, si no es entonces avanzamos a uno de los últimos nodos u hoja del árbol, donde la salida es que el empleado no esta rotando.\n",
    "\n",
    "Por lo tanto, los empleados con nivel de satisfacción alta y salario alto no rotan y lo contraro."
   ]
  },
  {
   "cell_type": "markdown",
   "id": "ccfbde79-2f61-49ec-b263-97bb7ef37a7d",
   "metadata": {},
   "source": [
    "#### Regla de división"
   ]
  },
  {
   "cell_type": "markdown",
   "id": "fbdd0d6e-4145-41d9-b9cf-a3ca44fd12fd",
   "metadata": {},
   "source": [
    "En general, el algorítmo de árbol de decisiones quiere lograr muestras tan puras en las últimas hojas como se posible. Por lo que se utilizará 2 reglas matemáticas para lograr esta tarea: \n",
    "- Gini: $2\\cdot p\\cdot (1-p)$\n",
    "- Entropía: $-p\\cdot \\log(p)-(1-p)\\cdot \\log(1-p)$\n",
    "  \n",
    "Donde el objetivo es el mismo, minimizar gini o entropía. En ambos casos mostraran muestra más puras en los últimos nodos.\n",
    "\n",
    "Acá utilizaremos Gini."
   ]
  },
  {
   "cell_type": "code",
   "execution_count": 29,
   "id": "51c085ca-79ec-4362-b628-ef1a983cc5bb",
   "metadata": {},
   "outputs": [],
   "source": [
    "##### Gini: Recordando que se quedaron 11428 y se fueron 3571. Entonces,\n",
    "total = 11428 + 3571\n",
    "gini = 2*(11428/total * (3571/total))"
   ]
  },
  {
   "cell_type": "code",
   "execution_count": 30,
   "id": "ec4221be-19d6-4f0f-b2dc-5ff25c5faf44",
   "metadata": {},
   "outputs": [
    {
     "data": {
      "text/plain": [
       "0.36279848707472784"
      ]
     },
     "execution_count": 30,
     "metadata": {},
     "output_type": "execute_result"
    }
   ],
   "source": [
    "gini"
   ]
  },
  {
   "cell_type": "code",
   "execution_count": 31,
   "id": "9fa4d13a-3095-4655-b573-526e52c61fdb",
   "metadata": {},
   "outputs": [
    {
     "name": "stdout",
     "output_type": "stream",
     "text": [
      "100.0\n",
      "97.52\n"
     ]
    }
   ],
   "source": [
    "# Crear un modelo de clasificación de árbol de decisión\n",
    "model =  DecisionTreeClassifier(random_state = 42)\n",
    "\n",
    "# Ajustar nuestras características al objeto\n",
    "model.fit(features_train, target_train)\n",
    "\n",
    "# Probar que tan bien se comoporta el modelo haciendo su predicción, calculando el puntaje de precisión de la predicción\n",
    "print(model.score(features_train,target_train)*100)\n",
    "print(model.score(feature_test,target_test)*100)"
   ]
  },
  {
   "cell_type": "markdown",
   "id": "5117f753-c7d6-47fa-86ec-f0fe0832186a",
   "metadata": {},
   "source": [
    "#### Visualizar del árbol de decisión"
   ]
  },
  {
   "cell_type": "code",
   "execution_count": 32,
   "id": "5c2f5a6c-e3e1-4b31-bf0d-269132637144",
   "metadata": {},
   "outputs": [],
   "source": [
    "# Exportar el arbol a un archivo dot\n",
    "export_graphviz(model,'tree.dot')"
   ]
  },
  {
   "cell_type": "markdown",
   "id": "1d60b05c-9f73-4703-8222-fc0ccf7cbb3b",
   "metadata": {},
   "source": [
    "## Evaluación del modelo de predicción"
   ]
  },
  {
   "cell_type": "markdown",
   "id": "dc84ed96-b345-411c-9f26-22c7ae9ffc7b",
   "metadata": {},
   "source": [
    "Ajustaremos nuestro modelo para tener mejores resultados y controlar el sobreajuste.\n",
    "\n",
    "Para ello, tenemos dos soluciones: o necesitamos limitar la profundidad máxima del árbol, es decir no dejemos que el arbol crezca más de 5 pasos o en todo caso limitaremos el tamaño de la muestra en cada hoja, por lo que no permitirá que el árbol crezca más si solo quedan 100 empleados en el nodo/hoja."
   ]
  },
  {
   "cell_type": "markdown",
   "id": "d68aac87-bc74-4453-a77b-42fd0366a0c5",
   "metadata": {},
   "source": [
    "#### Límite en profundidad"
   ]
  },
  {
   "cell_type": "code",
   "execution_count": 33,
   "id": "fc178ae2-5f48-410e-a917-ff5b3a8991e4",
   "metadata": {},
   "outputs": [
    {
     "name": "stdout",
     "output_type": "stream",
     "text": [
      "97.68868343852787\n",
      "97.11999999999999\n"
     ]
    }
   ],
   "source": [
    "# Crear un modelo de clasificación de árbol de decisión con una profundidad máxima de 5\n",
    "model_depth_5 = DecisionTreeClassifier(max_depth = 5, random_state = 42)\n",
    "\n",
    "# Ajustar nuestras características al objeto\n",
    "model_depth_5.fit(features_train, target_train)\n",
    "\n",
    "# Probar que tan bien se comoporta el modelo haciendo su predicción, calculando el puntaje de precisión de la predicción\n",
    "print(model_depth_5.score(features_train,target_train)*100)\n",
    "print(model_depth_5.score(feature_test,target_test)*100)"
   ]
  },
  {
   "cell_type": "markdown",
   "id": "dc02df35-ba83-49fa-a0a2-290114a05615",
   "metadata": {},
   "source": [
    "Nos damos cuenta que nos ayudara a mantener las pruebas por igual, lo que reducimos el sobreajuste y por lo tanto es modeloe más real."
   ]
  },
  {
   "cell_type": "markdown",
   "id": "5829c0f7-d775-4e14-aa4d-243561bf837f",
   "metadata": {},
   "source": [
    "#### Limite en tamaño o muestras"
   ]
  },
  {
   "cell_type": "code",
   "execution_count": 34,
   "id": "c42245bc-b549-4650-bb1c-a884693ad9d0",
   "metadata": {},
   "outputs": [
    {
     "name": "stdout",
     "output_type": "stream",
     "text": [
      "96.57747355320473\n",
      "96.13333333333334\n"
     ]
    }
   ],
   "source": [
    "# Crear un modelo de clasificación de árbol de decisión con un límite de muestras de 100\n",
    "model_sample_100 = DecisionTreeClassifier(min_samples_leaf = 100,\n",
    "                                         random_state = 42)\n",
    "\n",
    "# Ajustar nuestras características al objeto\n",
    "model_sample_100.fit(features_train, target_train)\n",
    "\n",
    "# Probar que tan bien se comoporta el modelo haciendo su predicción, calculando el puntaje de precisión de la predicción\n",
    "print(model_sample_100.score(features_train,target_train)*100)\n",
    "print(model_sample_100.score(feature_test,target_test)*100)"
   ]
  },
  {
   "cell_type": "markdown",
   "id": "4fde4191-2bdc-442f-a354-0f7e5a7dfe17",
   "metadata": {},
   "source": [
    "### Matriz de confusión."
   ]
  },
  {
   "cell_type": "markdown",
   "id": "8b5ae049-b142-44ed-a353-c637a161af23",
   "metadata": {},
   "source": [
    "- Si queremos mantener la antención en lo que se van, querremos falsos negativos, es decir, personas que se van pero el algoritmo no lo predice.\n",
    "- Si queremos mantener la antención en los que se quedan los falsos positivos serán nuestro objetivo. \n",
    "- Podremos también observar cuál es el porcentaje de eprsonas que realmente se fueron entre aquellos que se predijo que se irían."
   ]
  },
  {
   "cell_type": "code",
   "execution_count": 35,
   "id": "ca6a3640-f9d6-4ad5-aa95-bbdcdabc7040",
   "metadata": {},
   "outputs": [
    {
     "data": {
      "text/plain": [
       "0.935064935064935"
      ]
     },
     "execution_count": 35,
     "metadata": {},
     "output_type": "execute_result"
    }
   ],
   "source": [
    "# Predecir si los empleados abandonarán la empresa utilizando el conjunto de prueba\n",
    "prediction = model.predict(feature_test)\n",
    "\n",
    "# Calcular la puntuación de precisión comparando target_test con la predicción\n",
    "precision_score(target_test, prediction)"
   ]
  },
  {
   "cell_type": "code",
   "execution_count": 36,
   "id": "6c3faa3a-1e9c-45f0-9781-78a8bee93dc4",
   "metadata": {},
   "outputs": [
    {
     "data": {
      "text/plain": [
       "0.9632107023411371"
      ]
     },
     "execution_count": 36,
     "metadata": {},
     "output_type": "execute_result"
    }
   ],
   "source": [
    "# Utilizar el modelo inicial para predecir la rotación\n",
    "prediction = model.predict(feature_test)\n",
    "\n",
    "# Calcular la puntuación de recuperación comparando target_test con la predicción\n",
    "recall_score(target_test, prediction)"
   ]
  },
  {
   "cell_type": "markdown",
   "id": "bf563fa4-af2e-4163-96c7-5b36de4e4d4c",
   "metadata": {},
   "source": [
    "### Puntuación AUC"
   ]
  },
  {
   "cell_type": "markdown",
   "id": "4dfd51ed-ad08-4fb5-86ca-c4c28fb03420",
   "metadata": {},
   "source": [
    "Si nuestro objetivo es tener buenas predicción en ambas partes (se queda / se van), probablemente la mejor opción sea usar la puntuación AUC. Que significa Área bajo la curva y es básicamente un compuestode la medida que se maximiza cuando tanto el recuerdo como la especifidad se maximizan.\n",
    "\n",
    "Para tal efecto, uno necesita colocar Recall en vertical y 1- la especificidad en el eje horizontal "
   ]
  },
  {
   "cell_type": "code",
   "execution_count": 37,
   "id": "4a132b13-d35e-452a-8332-e7abcdc61171",
   "metadata": {},
   "outputs": [
    {
     "data": {
      "text/plain": [
       "0.9710901040622616"
      ]
     },
     "execution_count": 37,
     "metadata": {},
     "output_type": "execute_result"
    }
   ],
   "source": [
    "# Usar el modelo inicial para predecir la rotación (basado en las características del conjunto de prueba)\n",
    "prediccion = model.predict(feature_test)\n",
    "\n",
    "# Calcular la puntuación ROC/AUC comparando target_test con la predicción\n",
    "roc_auc_score(target_test, prediccion)"
   ]
  },
  {
   "cell_type": "markdown",
   "id": "96200295-62da-4a71-89b7-bc6150990e71",
   "metadata": {},
   "source": [
    "La precisión se concentra en el número de Falsos Positivos.\n",
    "\n",
    "La combinación de esos dos resultados en la curva ROC nos permite medir tanto el recuerdo como la precisión. El área bajo la curva ROC se calcula como la puntuación AUC."
   ]
  },
  {
   "cell_type": "markdown",
   "id": "3ccb51d0-e474-4c2c-92a5-a3bdf49b5241",
   "metadata": {},
   "source": [
    "### Desequilibro de clases"
   ]
  },
  {
   "cell_type": "markdown",
   "id": "f423fce5-dbcd-4041-85fb-300ac40b9abe",
   "metadata": {},
   "source": [
    "El anterior método será una buena opción sólo si las clases en el conjunto de datos están equilibradas. Sin embargo el desquilibro de clases puede conducir a una mayor puntación de precisión, cuando de hecho nuestro modelo no puede predecir correctamente la rotación.  \n",
    "\n",
    "para resolver el tema de desequilibro cambiamos las probabilidades previas. Como recordaremos el índice de Gini fue el objeto de nuestro árbol de decisiones que minimiza y se calculó en base a la probabilidad de ser 1 o 0; Cuando el árbol comienza  a crecer tomamos proporciones de 0 y 1 como probabilidades en Gini.\n",
    "\n",
    "Cómo resultado, la clase 0 que son los que se quedan se vuelve más influyente ya que representa el 76% de las observaciones. Es por esta razón que el algoritmo pudo predecir mejor 0 que 1.\n",
    "\n",
    "Para resolverlo equilibremos la clase 50/50. De donde AUC y espacialmente Recall deberían mejorar. Ya que ambas clases son igual de importantes."
   ]
  },
  {
   "cell_type": "code",
   "execution_count": 38,
   "id": "ac426f3d-1a46-4d41-9ee2-aff3a241dbac",
   "metadata": {},
   "outputs": [
    {
     "name": "stdout",
     "output_type": "stream",
     "text": [
      "93.57333333333332\n"
     ]
    }
   ],
   "source": [
    "# Inicializar el DecisionTreeClassifier\n",
    "model_depth_5_b = DecisionTreeClassifier(max_depth=5,class_weight=\"balanced\",random_state=42)\n",
    "\n",
    "# Ajustar el modelo\n",
    "model_depth_5_b.fit(features_train,target_train)\n",
    "\n",
    "# Imprimir la precisión de la predicción (en puntos porcentuales) para el conjunto de prueba\n",
    "print(model_depth_5_b.score(feature_test,target_test)*100)"
   ]
  },
  {
   "cell_type": "code",
   "execution_count": 39,
   "id": "bccea585-5121-4421-bb8a-326bcb926a7f",
   "metadata": {},
   "outputs": [
    {
     "name": "stdout",
     "output_type": "stream",
     "text": [
      "0.9632107023411371\n",
      "0.9710901040622616\n",
      "0.9331103678929766\n",
      "0.960246035681504\n"
     ]
    }
   ],
   "source": [
    "# Imprimir la puntuación de recuperación\n",
    "print(recall_score(target_test,prediction))\n",
    "\n",
    "# Imprimir la puntuación ROC/AUC\n",
    "print(roc_auc_score(target_test,prediction))\n",
    "\n",
    "# Inicializar el modelo\n",
    "model_depth_7_b = DecisionTreeClassifier(max_depth=7,class_weight=\"balanced\",random_state=42)\n",
    "\n",
    "# Ajustar el modelo a la componente de entrenamiento\n",
    "model_depth_7_b.fit(features_train,target_train)\n",
    "\n",
    "# Realizar una predicción utilizando la componente de prueba\n",
    "prediction_b = model_depth_7_b.predict(feature_test)\n",
    "\n",
    "# Imprimir la puntuación de recuperación para el modelo equilibrado\n",
    "print(recall_score(target_test,prediction_b))\n",
    "\n",
    "# Imprimir la puntuación ROC/AUC para el modelo equilibrado\n",
    "print(roc_auc_score(target_test,prediction_b))\n"
   ]
  },
  {
   "cell_type": "markdown",
   "id": "2e60f043-b61f-42e2-826c-209c806ae5dd",
   "metadata": {},
   "source": [
    "Lo más relevante de las salidas es que ambos modelos de clasificación, el inicial y el equilibrado, tienen un buen rendimiento en la identificación de casos positivos y en la distinción entre clases. Sin embargo, el modelo inicial tiene ligeramente mejores métricas (Recall Score de 0.9632 y ROC/AUC Score de 0.9711) en comparación con el modelo equilibrado (Recall Score de 0.9331 y ROC/AUC Score de 0.9602)."
   ]
  },
  {
   "cell_type": "markdown",
   "id": "823974b3-7306-4f79-b7e3-505a90dd7ec5",
   "metadata": {},
   "source": [
    "## Elegir el mejor modelo de predicción"
   ]
  },
  {
   "cell_type": "markdown",
   "id": "a0bfcc43-dcd3-4769-9a73-5b1366377781",
   "metadata": {},
   "source": [
    "¿A que profundidad máxima o a que límite de muestras debe establederse el modelo?. Encontremos los valores óptimos de esos hiperparámetros.\n",
    "\n",
    "La profundidad máxima no debe alcanzar valores muy altos, ya que el árbol comenzará a sobreajustar, y si se alcanza valores bajos tampoco serán aceptables, debido a que pueden proporcionar predicciones sesgadas y menos precisas.\n",
    "\n",
    "Similarmente para el tamaño de muestra mínima, verificaremos valores medios.\n",
    "\n",
    "Para este proposito realizaremos todas las combinaciones posibles entre estas dos técnicas y los compararemos para encontrar los valores que proporcionan el mejor rendimiento en el conjunto de prueba.\n",
    "\n",
    "Este proceso se conoce como GRIDSEACH.\n",
    "\n",
    "Luego, mientras que la división de entrenamiento/prueba asegura que el modelo no se ajuste demasiado al entrenamiento, el ajuste de hiperparámetros puede resultar en un sobreajuste del componente de prueba. Para ello se recomienda validar el modelo en diferentes componentes de prueba, lo cual se logra usando \"Cross Validation\".\n",
    "\n",
    "Croos Validation dividi los datos en k componentes, donde cada componente tiene la oportunidad de ser el componente de prueba. Tener diferentes componente asegura que nuestro modelo no se ajuste demasiado al componente de prueba."
   ]
  },
  {
   "cell_type": "markdown",
   "id": "0f96e5a9-9487-4273-b960-1025073ca164",
   "metadata": {},
   "source": [
    "#### Validación cruzada"
   ]
  },
  {
   "cell_type": "markdown",
   "id": "ed4f1cbd-0e37-4d21-891d-e94686afcb82",
   "metadata": {},
   "source": [
    "El sobreajuste del conjunto de datos es un problema común en la analítica. Esto sucede cuando un modelo ha aprendido los datos demasiado de cerca: tiene un gran rendimiento en el conjunto de datos en el que fue entrenado, pero no logra generalizar fuera de él.\n",
    "\n",
    "Si bien la técnica de división de entrenamiento/prueba garantiza que el modelo no sobreajuste el conjunto de entrenamiento, el ajuste de hiperparámetros puede resultar en un sobreajuste del componente de prueba, ya que consiste en ajustar el modelo para obtener los mejores resultados de predicción en el conjunto de prueba. Por lo tanto, se recomienda validar el modelo en diferentes conjuntos de pruebas. La validación cruzada K-fold nos permite lograr esto:\n",
    "\n",
    "- divide el conjunto de datos en un conjunto de entrenamiento y un conjunto de prueba\n",
    "- se ajusta al modelo, hace predicciones y calcula una puntuación (puede especificar si desea exactitud, precisión, recuperación…)\n",
    "- repite el proceso k veces en total\n",
    "- genera el promedio de las 10 puntuaciones"
   ]
  },
  {
   "cell_type": "code",
   "execution_count": 40,
   "id": "5408b68b-1737-47e0-a296-bebdf226f1a3",
   "metadata": {},
   "outputs": [
    {
     "name": "stdout",
     "output_type": "stream",
     "text": [
      "[0.98333333 0.982      0.97333333 0.96266667 0.95733333 0.974\n",
      " 0.988      0.992      1.         1.        ]\n"
     ]
    }
   ],
   "source": [
    "# Usar esa función para imprimir la puntuación de validación cruzada para 10 pliegues\n",
    "print(cross_val_score(model,features,target,cv=10))"
   ]
  },
  {
   "cell_type": "markdown",
   "id": "bade7656-cf1a-4b81-82bf-ec8122aad31c",
   "metadata": {},
   "source": [
    "#### Configurar los parámetros de GridSearch"
   ]
  },
  {
   "cell_type": "markdown",
   "id": "6cd9b60b-4a64-41b3-9261-2d04f36596d6",
   "metadata": {},
   "source": [
    "Un hiperparámetro es un parámetro dentro de una función. Por ejemplo, max_deptho min_samples_leaf son hiperparámetros de la función DecisionTreeClassifier(). El ajuste de hiperparámetros es el proceso de probar diferentes valores de hiperparámetros para encontrar los óptimos: el que ofrece las mejores predicciones según sus objetivos. En sklearn, puede utilizar GridSearch para probar diferentes combinaciones de hiperparámetros. Aún mejor, puedes usar GridSearchCV() para probar diferentes combinaciones y ejecutar una validación cruzada en una sola función."
   ]
  },
  {
   "cell_type": "code",
   "execution_count": 41,
   "id": "89e71b07-cd3c-403f-8ebb-fbc68feae09d",
   "metadata": {},
   "outputs": [],
   "source": [
    "# Generar valores para la profundidad máxima\n",
    "depth = [i for i in range(5,21,1)]\n",
    "\n",
    "# Generar valores para el tamaño mínimo de muestra\n",
    "samples = [i for i in range(50,500,50)]\n",
    "\n",
    "# Crea el diccionario con los parámetros a verificar\n",
    "parameters = dict(max_depth=depth, min_samples_leaf=samples)"
   ]
  },
  {
   "cell_type": "markdown",
   "id": "a7ae121c-97b9-4415-8876-95ed48fcadf8",
   "metadata": {},
   "source": [
    "#### Implementación de GridSeach"
   ]
  },
  {
   "cell_type": "code",
   "execution_count": 42,
   "id": "2f76bbcc-6371-436f-80d7-f3871dfd49be",
   "metadata": {},
   "outputs": [
    {
     "name": "stdout",
     "output_type": "stream",
     "text": [
      "{'max_depth': 5, 'min_samples_leaf': 50}\n"
     ]
    }
   ],
   "source": [
    "# importa la función GridSearchCV\n",
    "from sklearn.model_selection import GridSearchCV\n",
    "\n",
    "# configurar parámetros: hecho\n",
    "parameters = dict(max_depth=depth, min_samples_leaf = samples)\n",
    "\n",
    "# inicializa la función param_search usando la función GridSearchCV, el modelo inicial y los parámetros anteriores\n",
    "param_search = GridSearchCV(model, parameters, cv = 3)\n",
    "\n",
    "# ajusta param_search al conjunto de datos de entrenamiento\n",
    "param_search.fit(features_train, target_train)\n",
    "\n",
    "# imprime los mejores parámetros encontrados\n",
    "print(param_search.best_params_)"
   ]
  },
  {
   "cell_type": "markdown",
   "id": "dfc1b59c-4cc2-456a-ba45-57c10a2654d8",
   "metadata": {},
   "source": [
    "### Importancia de las característica "
   ]
  },
  {
   "cell_type": "markdown",
   "id": "9c7f05c5-9838-4a1f-a927-3df641e40ea6",
   "metadata": {},
   "source": [
    "Una de las razones por la que usamos árboles de decisiones es por la interpretabilidad. Donde podemos también calcular la importancia de las características. Esto último es la disminución de Gini debido a la característica seleccionada.\n",
    "\n",
    "Si alguna de las característica no son importantes se sugiere sacar del modelo."
   ]
  },
  {
   "cell_type": "code",
   "execution_count": 43,
   "id": "cef2920a-f9c3-4398-af4f-09033634a83b",
   "metadata": {},
   "outputs": [],
   "source": [
    "#### Ordenar características importantes"
   ]
  },
  {
   "cell_type": "markdown",
   "id": "677ade0f-f744-40ea-bf92-3836f1a91bbe",
   "metadata": {},
   "source": [
    "Muchos modelos pueden proporcionar predicciones precisas, pero los árboles de decisión también pueden cuantificar el efecto de las diferentes características en el objetivo. Aquí puede indicarle qué características tienen el impacto más fuerte y más débil en la decisión de abandonar la empresa."
   ]
  },
  {
   "cell_type": "code",
   "execution_count": 44,
   "id": "12f2020d-c65e-4211-8476-52706ac02180",
   "metadata": {},
   "outputs": [
    {
     "data": {
      "text/html": [
       "<div>\n",
       "<style scoped>\n",
       "    .dataframe tbody tr th:only-of-type {\n",
       "        vertical-align: middle;\n",
       "    }\n",
       "\n",
       "    .dataframe tbody tr th {\n",
       "        vertical-align: top;\n",
       "    }\n",
       "\n",
       "    .dataframe thead th {\n",
       "        text-align: right;\n",
       "    }\n",
       "</style>\n",
       "<table border=\"1\" class=\"dataframe\">\n",
       "  <thead>\n",
       "    <tr style=\"text-align: right;\">\n",
       "      <th></th>\n",
       "      <th>importance</th>\n",
       "    </tr>\n",
       "  </thead>\n",
       "  <tbody>\n",
       "    <tr>\n",
       "      <th>satisfaction</th>\n",
       "      <td>0.454793</td>\n",
       "    </tr>\n",
       "    <tr>\n",
       "      <th>time_spend_company</th>\n",
       "      <td>0.398411</td>\n",
       "    </tr>\n",
       "    <tr>\n",
       "      <th>evaluation</th>\n",
       "      <td>0.104667</td>\n",
       "    </tr>\n",
       "    <tr>\n",
       "      <th>average_montly_hours</th>\n",
       "      <td>0.035024</td>\n",
       "    </tr>\n",
       "    <tr>\n",
       "      <th>number_of_projects</th>\n",
       "      <td>0.007105</td>\n",
       "    </tr>\n",
       "    <tr>\n",
       "      <th>work_accident</th>\n",
       "      <td>0.000000</td>\n",
       "    </tr>\n",
       "    <tr>\n",
       "      <th>promotion</th>\n",
       "      <td>0.000000</td>\n",
       "    </tr>\n",
       "    <tr>\n",
       "      <th>salary</th>\n",
       "      <td>0.000000</td>\n",
       "    </tr>\n",
       "  </tbody>\n",
       "</table>\n",
       "</div>"
      ],
      "text/plain": [
       "                      importance\n",
       "satisfaction            0.454793\n",
       "time_spend_company      0.398411\n",
       "evaluation              0.104667\n",
       "average_montly_hours    0.035024\n",
       "number_of_projects      0.007105\n",
       "work_accident           0.000000\n",
       "promotion               0.000000\n",
       "salary                  0.000000"
      ]
     },
     "execution_count": 44,
     "metadata": {},
     "output_type": "execute_result"
    }
   ],
   "source": [
    "# Inicializa el mejor modelo con los parámetros óptimos\n",
    "model_best = DecisionTreeClassifier(max_depth=5,\n",
    "                                         min_samples_leaf = 50,\n",
    "                                         class_weight=\"balanced\",\n",
    "                                         random_state=42)\n",
    "\n",
    "# Ajustar el modelo a la componente de entrenamiento\n",
    "model_best.fit(features_train,target_train)\n",
    "\n",
    "# Calcular la importancia de las características\n",
    "feature_importances = model_best.feature_importances_\n",
    "\n",
    "# Crear una lista de características: hecho\n",
    "feature_list = list(features)\n",
    "\n",
    "# Guardar los resultados dentro de un DataFrame usando feature_list como índice\n",
    "relative_importances = pd.DataFrame(index=feature_list, data=feature_importances, columns=[\"importance\"])\n",
    "\n",
    "# Ordenr el DataFrame para conocer las características más importantes\n",
    "relative_importances.sort_values(by=\"importance\", ascending=False)"
   ]
  },
  {
   "cell_type": "markdown",
   "id": "d824fe15-33dc-400a-9304-0f8db61c3b48",
   "metadata": {},
   "source": [
    "#### Seleccionar característica importantes."
   ]
  },
  {
   "cell_type": "code",
   "execution_count": 45,
   "id": "009cbfd1-ee9a-496a-b9c5-56b330f2fe28",
   "metadata": {},
   "outputs": [],
   "source": [
    "# seleccionar solo las características con una importancia relativa superior al 1%\n",
    "selected_features = relative_importances[relative_importances.importance>0.01]\n",
    "\n",
    "# crear una lista a partir de esas características\n",
    "selected_list = selected_features.index\n",
    "\n",
    "# transformar tanto las componentes features_train como features_test para incluir solo las características seleccionadas\n",
    "features_train_selected = features_train[selected_list]\n",
    "features_test_selected = feature_test[selected_list]"
   ]
  },
  {
   "cell_type": "markdown",
   "id": "db912b72-cc8b-4012-a21f-583361c82f9b",
   "metadata": {},
   "source": [
    "#### Desarrollar y probar el mejor modelo."
   ]
  },
  {
   "cell_type": "code",
   "execution_count": 46,
   "id": "5cd35693-9ab4-42de-a2a2-728a8b6a2d5a",
   "metadata": {},
   "outputs": [
    {
     "name": "stdout",
     "output_type": "stream",
     "text": [
      "93.46666666666667\n",
      "91.9732441471572\n",
      "92.95472582401672\n"
     ]
    }
   ],
   "source": [
    "# Inicializar el mejor modelo usando los parámetros proporcionados en la descripción\n",
    "model_best = DecisionTreeClassifier(max_depth=5, min_samples_leaf=50, class_weight=\"balanced\", random_state=42)\n",
    "\n",
    "# Ajustar el modelo usando solo las características seleccionadas del conjunto de entrenamiento: hecho\n",
    "model_best.fit(features_train_selected, target_train)\n",
    "\n",
    "# Realizar una predicción basada en la lista seleccionada de características del conjunto de prueba\n",
    "prediction_best = model_best.predict(features_test_selected)\n",
    "\n",
    "# Imprimir la precisión general del model_best\n",
    "print(model_best.score(features_test_selected, target_test) * 100)\n",
    "\n",
    "# Imprimir la puntuación de recuperación de las predicciones del modelo\n",
    "print(recall_score(target_test, prediction_best) * 100)\n",
    "\n",
    "# Imprimir la puntuación ROC/AUC de las predicciones del modelo\n",
    "print(roc_auc_score(target_test, prediction_best) * 100)"
   ]
  },
  {
   "cell_type": "markdown",
   "id": "1c2890f6-ada0-4370-9e66-27387093a23b",
   "metadata": {},
   "source": [
    "## PREDICCIÓN"
   ]
  },
  {
   "cell_type": "code",
   "execution_count": 47,
   "id": "483f5528-b2ca-4ae4-bd08-b05ab1573bbe",
   "metadata": {},
   "outputs": [],
   "source": [
    "# Generar datos aleatorios para cada característica basándose en su media y desviación estándar\n",
    "satisfaction = np.random.normal(0.612834, 0.248631, 1000)\n",
    "evaluation = np.random.normal(0.716102, 0.171169, 1000)\n",
    "number_of_projects = np.random.normal(3.803054, 1.232592, 1000)\n",
    "average_montly_hours = np.random.normal(201.050337, 49.943099, 1000)\n",
    "time_spend_company = np.random.normal(3.498233, 1.460136, 1000)\n",
    "work_accident = np.random.choice([0, 1], size=1000, p=[1-0.144610, 0.144610])\n",
    "churn = np.random.choice([0, 1], size=1000, p=[1-0.238083, 0.238083])\n",
    "promotion = np.random.choice([0, 1], size=1000, p=[1-0.021268, 0.021268])\n",
    "salary = np.random.choice([0, 1, 2], size=1000, p=[0.33,0.33,1-0.66])\n",
    "\n",
    "# Crear un DataFrame de pandas con los datos generados\n",
    "df = pd.DataFrame({\n",
    "    'satisfaction': satisfaction,\n",
    "    'evaluation': evaluation,\n",
    "    'number_of_projects': number_of_projects,\n",
    "    'average_montly_hours': average_montly_hours,\n",
    "    'time_spend_company': time_spend_company,\n",
    "    'work_accident': work_accident,\n",
    "    'churn': churn,\n",
    "    'promotion': promotion,\n",
    "    'salary': salary\n",
    "})"
   ]
  },
  {
   "cell_type": "code",
   "execution_count": 48,
   "id": "0640445f-4e10-4740-bf53-364614cdd0a2",
   "metadata": {},
   "outputs": [
    {
     "name": "stdout",
     "output_type": "stream",
     "text": [
      "0    858\n",
      "1    142\n",
      "Name: Prediction, dtype: int64\n"
     ]
    }
   ],
   "source": [
    "# PREDECIR\n",
    "# Asegúrate de que df tenga las mismas características que usaste para entrenar el modelo\n",
    "features_df = df[features_train_selected.columns]\n",
    "\n",
    "# Realizar una predicción\n",
    "prediction_df = model_best.predict(features_df)\n",
    "\n",
    "# Convertir las predicciones a un DataFrame de pandas\n",
    "prediction_df = pd.DataFrame(prediction_df, columns=['Prediction'])\n",
    "\n",
    "# Contar la cantidad de 0s y 1s\n",
    "counts = prediction_df['Prediction'].value_counts()\n",
    "\n",
    "print(counts)"
   ]
  },
  {
   "cell_type": "code",
   "execution_count": 49,
   "id": "5d372117-3f75-47a4-87b1-9535310d94b7",
   "metadata": {},
   "outputs": [
    {
     "data": {
      "text/plain": [
       "0.858"
      ]
     },
     "execution_count": 49,
     "metadata": {},
     "output_type": "execute_result"
    }
   ],
   "source": []
  },
  {
   "cell_type": "code",
   "execution_count": null,
   "id": "9c59b288-5a9c-4ec6-ac2f-fd15fbc547c8",
   "metadata": {},
   "outputs": [],
   "source": []
  }
 ],
 "metadata": {
  "kernelspec": {
   "display_name": "Python 3 (ipykernel)",
   "language": "python",
   "name": "python3"
  },
  "language_info": {
   "codemirror_mode": {
    "name": "ipython",
    "version": 3
   },
   "file_extension": ".py",
   "mimetype": "text/x-python",
   "name": "python",
   "nbconvert_exporter": "python",
   "pygments_lexer": "ipython3",
   "version": "3.11.7"
  }
 },
 "nbformat": 4,
 "nbformat_minor": 5
}
