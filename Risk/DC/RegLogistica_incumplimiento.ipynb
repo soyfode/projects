{
 "cells": [
  {
   "cell_type": "markdown",
   "id": "cb04bda2-efaf-497b-9e76-4f8949383bac",
   "metadata": {},
   "source": [
    "# Regresión logística para incumplimientos\n",
    "\n",
    "**Recuerde que la probabilidad de impago es la probabilidad de que alguien no pague un préstamo**. Esto se expresa como una probabilidad que es un valor entre cero y uno. Estas probabilidades están asociadas con nuestra columna de estado del préstamo, donde $1$ es un impago y $0$ es un no impago.\n",
    "\n",
    "Las predicciones resultantes nos dan probabilidades de impago. Cuanto más cercano sea el valor a $1$, mayor será la probabilidad de que el préstamo sea impago.\n",
    "\n",
    "Para obtener estas probabilidades, entrenamos modelos de aprendizaje automático en nuestras columnas de datos crediticios, conocidas como características, para que los modelos aprendan a usar los datos para predecir las probabilidades. Estos tipos de modelos se conocen como **modelos de clasificación**, donde la clase es incumplimiento o no incumplimiento. **En la industria, se utilizan con frecuencia dos modelos: las regresiones logísticas y los árboles de decisión. Ambos modelos pueden predecir la probabilidad de incumplimiento y nos indican qué importancia tiene cada columna para las predicciones.**\n",
    "\n",
    "**La regresión logística es como una regresión lineal, pero solo produce un valor entre 0 y 1**. Observe que la ecuación de la regresión lineal es en realidad parte de la regresión logística. \n",
    "$$Y=\\beta_0 + \\beta_1\\X_1 + \\beta_2X_2 + \\ldots$$\n",
    "$$P(estado \\;prestamo = 1) = \\dfrac{1}{1+e^{-Y}.$$\n",
    "Las regresiones logísticas funcionan mejor con datos en los que lo que determina un incumplimiento o no incumplimiento puede variar en gran medida. Piense en la intersección con el eje $y$, que es el logaritmo de las probabilidades de no incumplimiento. Esta es otra forma de expresar la probabilidad general de no incumplimiento.\n",
    "\n",
    "Utilizaremos la regresión logística dentro de `scikit-learn`. El uso del modelo es fácil.  "
   ]
  },
  {
   "cell_type": "code",
   "execution_count": 12,
   "id": "79cee867-f290-4762-818f-379c8c5b2ddd",
   "metadata": {},
   "outputs": [],
   "source": [
    "# Libreria\n",
    "import pandas as pd\n",
    "import numpy as np\n",
    "from sklearn.linear_model import LogisticRegression\n",
    "from sklearn.model_selection import train_test_split\n",
    "\n",
    "# Data\n",
    "cr_loan = pd.read_csv(\"cr_loan_w2.csv\")"
   ]
  },
  {
   "cell_type": "markdown",
   "id": "af73f0ee-68f8-43c0-aca9-333db40d5c15",
   "metadata": {},
   "source": [
    "Como cualquier función, puede pasar parámetros o no. El parámetro `solver` es un optimizador, al igual que el solver en Excel. LBFGS es el valor predeterminado."
   ]
  },
  {
   "cell_type": "code",
   "execution_count": null,
   "id": "b76baa5f-f060-4329-9da4-2f262cbcdbfc",
   "metadata": {},
   "outputs": [],
   "source": [
    "clf_logistic = LogisticRegression(solver = 'lbfgs')"
   ]
  },
  {
   "cell_type": "markdown",
   "id": "dd4a65e2-094a-4bb3-8c8b-2b1a138cdf2b",
   "metadata": {},
   "source": [
    "Para entrenar el modelo, llamamos al método `fit` en él. Dentro del método, tenemos que proporcionar al modelo columnas de entrenamiento y etiquetas de entrenamiento. Usamos `ravel` de `numpy` para hacer que las etiquetas sean una matriz unidimensional en lugar de un dataframe. En nuestros datos de crédito, las columnas de entrenamiento son todas las columnas excepto el estado del préstamo. El estado del préstamo contiene las etiquetas."
   ]
  },
  {
   "cell_type": "code",
   "execution_count": 3,
   "id": "f32716a1-51dd-4151-833c-e9ff1ac72a73",
   "metadata": {},
   "outputs": [
    {
     "ename": "NameError",
     "evalue": "name 'training_columns' is not defined",
     "output_type": "error",
     "traceback": [
      "\u001b[0;31m---------------------------------------------------------------------------\u001b[0m",
      "\u001b[0;31mNameError\u001b[0m                                 Traceback (most recent call last)",
      "Cell \u001b[0;32mIn[3], line 8\u001b[0m\n\u001b[1;32m      5\u001b[0m clf_logistic \u001b[38;5;241m=\u001b[39m LogisticRegression(solver \u001b[38;5;241m=\u001b[39m \u001b[38;5;124m'\u001b[39m\u001b[38;5;124mlbfgs\u001b[39m\u001b[38;5;124m'\u001b[39m)\n\u001b[1;32m      7\u001b[0m \u001b[38;5;66;03m# Ajustar el modelo a los datos\u001b[39;00m\n\u001b[0;32m----> 8\u001b[0m clf_logistic\u001b[38;5;241m.\u001b[39mfit(\u001b[43mtraining_columns\u001b[49m, no\u001b[38;5;241m.\u001b[39mravel(training_labels))\n",
      "\u001b[0;31mNameError\u001b[0m: name 'training_columns' is not defined"
     ]
    }
   ],
   "source": [
    "# Ajustar el modelo a los datos\n",
    "clf_logistic.fit(training_columns, no.ravel(training_labels))"
   ]
  },
  {
   "cell_type": "markdown",
   "id": "b63e9182-315d-4bb7-a6ca-b115f3469be7",
   "metadata": {},
   "source": [
    "Generalmente, en el aprendizaje automático, dividimos todo nuestro conjunto de datos en dos conjuntos de datos individuales.\n",
    "\n",
    "Son el conjunto de entrenamiento y el conjunto de prueba. Usamos la mayoría de los datos para entrenar nuestros modelos, de modo que aprendan lo máximo posible de ellos. Nuestro conjunto de prueba se usa para ver cómo reacciona nuestro modelo a nuevos datos que no ha visto antes. Esto es como cuando los estudiantes aprenden en la escuela. Aprenden datos de una materia y se les evalúa sobre diferentes datos de esa misma materia. De esta manera, podemos evaluar su dominio del tema.\n",
    "\n",
    "Lo primero que hacemos es separar nuestros datos en columnas de entrenamiento y etiquetas. Aquí, les hemos asignado X e Y. "
   ]
  },
  {
   "cell_type": "code",
   "execution_count": 10,
   "id": "2ccc01f6-6c76-4f41-b30e-fac93d24e7fb",
   "metadata": {},
   "outputs": [],
   "source": [
    "# Separa a datos de entrenamiento y prueba\n",
    "X = cr_loan.drop(\"loan_status\", axis = 1)\n",
    "y = cr_loan[['loan_status']]"
   ]
  },
  {
   "cell_type": "markdown",
   "id": "d77a8b93-ec18-4f2d-8542-961ca26ca69e",
   "metadata": {},
   "source": [
    "Una vez hecho esto, utilizamos la función de división del tren de prueba dentro del paquete de aprendizaje de `scikit`. Echemos un vistazo al código. ¿Recuerdas que dije que necesitamos columnas de entrenamiento y etiquetas para nuestro modelo? Necesitamos esto tanto para el conjunto de entrenamiento como para el conjunto de prueba, que se crean fácilmente con una línea de código. Dentro de esta función, establecemos el porcentaje de los datos que se utilizarán como conjunto de prueba y un número utilizado como semilla aleatoria para la reproducibilidad."
   ]
  },
  {
   "cell_type": "code",
   "execution_count": 14,
   "id": "4e3eddaa-8eb3-447d-b532-ef3a069d1eb6",
   "metadata": {},
   "outputs": [],
   "source": [
    "X_train, X_test, y_train, y_test = train_test_split(X,y,\n",
    "                                                   test_size=0.4,\n",
    "                                                   random_state=123)"
   ]
  },
  {
   "cell_type": "markdown",
   "id": "b45dee0a-1ca8-41d8-b090-c8f1f0f3f606",
   "metadata": {},
   "source": [
    "## EJERCICIO\n",
    "Las tasas de interés son fáciles de entender, pero ¿qué tan útiles son para predecir la probabilidad de incumplimiento?\n",
    "\n",
    "Dado que aún no ha intentado predecir la probabilidad de incumplimiento, pruebe a crear y entrenar un modelo de regresión logística con solo `loan_int_rate`. Verifique también los parámetros internos del modelo, que son como configuraciones, para ver la estructura del modelo con esta única columna.\n",
    "\n",
    "Los datos cr_loan_clean ya se han cargado en el espacio de trabajo."
   ]
  },
  {
   "cell_type": "code",
   "execution_count": 24,
   "id": "fdfb9cbe-3e35-4aec-af5c-0ea3c401543d",
   "metadata": {},
   "outputs": [],
   "source": [
    "# Librerias\n",
    "import pandas as pd\n",
    "import numpy as np\n",
    "from sklearn.linear_model import LogisticRegression\n",
    "\n",
    "# DATA\n",
    "cr_loan_clean = pd.read_csv(\"cr_loan_nout_nmiss.csv\")"
   ]
  },
  {
   "cell_type": "code",
   "execution_count": 25,
   "id": "d08f937a-af1f-44cb-970b-4efb53fa5eba",
   "metadata": {},
   "outputs": [
    {
     "name": "stdout",
     "output_type": "stream",
     "text": [
      "{'C': 1.0, 'class_weight': None, 'dual': False, 'fit_intercept': True, 'intercept_scaling': 1, 'l1_ratio': None, 'max_iter': 100, 'multi_class': 'auto', 'n_jobs': None, 'penalty': 'l2', 'random_state': None, 'solver': 'lbfgs', 'tol': 0.0001, 'verbose': 0, 'warm_start': False}\n",
      "[-4.45785901]\n"
     ]
    }
   ],
   "source": [
    "# Crear los conjuntos X y y utilizando las columnas loan_int_rate y loan_status.\n",
    "X = cr_loan_clean[[\"loan_int_rate\"]].values\n",
    "y = cr_loan_clean[[\"loan_status\"]].values\n",
    "\n",
    "# Crear y ajustar un modelo de regresión logística a los datos de entrenamiento y llámelo clf_logistic_single.\n",
    "clf_logistic_single = LogisticRegression()\n",
    "clf_logistic_single.fit(X, np.ravel(y))\n",
    "\n",
    "# Imprimir los parámetros del modelo con .get_params().\n",
    "print(clf_logistic_single.get_params())\n",
    "\n",
    "# Verificar la intersección del modelo con el atributo .intercept_.\n",
    "print(clf_logistic_single.intercept_)"
   ]
  },
  {
   "cell_type": "code",
   "execution_count": null,
   "id": "9a17736f-f5e6-4ff9-a859-137f0cd16526",
   "metadata": {},
   "outputs": [],
   "source": []
  }
 ],
 "metadata": {
  "kernelspec": {
   "display_name": "Python 3 (ipykernel)",
   "language": "python",
   "name": "python3"
  },
  "language_info": {
   "codemirror_mode": {
    "name": "ipython",
    "version": 3
   },
   "file_extension": ".py",
   "mimetype": "text/x-python",
   "name": "python",
   "nbconvert_exporter": "python",
   "pygments_lexer": "ipython3",
   "version": "3.11.6"
  }
 },
 "nbformat": 4,
 "nbformat_minor": 5
}
