{
 "cells": [
  {
   "cell_type": "markdown",
   "id": "b3261851-6b33-4249-8de7-16efdeb10de2",
   "metadata": {},
   "source": [
    "# Gestión de Riesgo"
   ]
  },
  {
   "cell_type": "code",
   "execution_count": 2,
   "id": "6bc2f9e1-03f9-4f0e-b650-eb3c08c965e9",
   "metadata": {},
   "outputs": [],
   "source": [
    "import statsmodels.api as sm\n",
    "import numpy as np\n",
    "import plotly.graph_objs as go\n",
    "import matplotlib.pyplot as plt\n",
    "import plotly\n",
    "import warnings\n",
    "import quandl\n",
    "warnings.filterwarnings('ignore')"
   ]
  },
  {
   "cell_type": "code",
   "execution_count": 34,
   "id": "d09b13ba-b569-471f-9842-d84a8a9cde03",
   "metadata": {},
   "outputs": [],
   "source": [
    "## Rendimiento"
   ]
  },
  {
   "cell_type": "code",
   "execution_count": 33,
   "id": "35051ecc-e51d-448b-8df7-dd8823f2e3af",
   "metadata": {},
   "outputs": [
    {
     "name": "stdout",
     "output_type": "stream",
     "text": [
      "-0.005053811636321532\n",
      "0.019306848155579603\n"
     ]
    },
    {
     "data": {
      "application/vnd.plotly.v1+json": {
       "config": {
        "plotlyServerURL": "https://plot.ly"
       },
       "data": [
        {
         "mode": "markers",
         "name": "Risk-Return Relationship",
         "type": "scatter",
         "x": [
          0.6856866236979786,
          -0.01360910669293626,
          0.6334380882979683,
          0.0136359393495959,
          0.04415880889181119,
          -0.20599584180927472,
          -0.015898124547112653,
          -0.13731745190486722,
          -0.27710418076477994,
          -0.02366260731774778,
          0.21498094950806046,
          -0.00207851040236276,
          -0.10002284031243332,
          0.20588851319756224,
          0.020638266828320283,
          -0.1192529288170111,
          -0.12184968818340015,
          0.05185691927828883,
          -0.07391598059840125,
          0.06390942770021948,
          -0.001215744063893326,
          0.006960914625430109,
          -0.0600716774125474,
          -0.1303390058701347,
          -0.05197343933086951,
          -0.14333158598669998,
          0.08685082812767336,
          -0.0797909056271033,
          0.04010356477395138,
          0.1828569134612672,
          0.150501882926379,
          -0.00029866434184360954,
          -0.02341427323061246,
          0.1638745612655209,
          0.0649964586348252,
          -0.132797486808774,
          0.01808876427581105,
          0.08401446184177976,
          -0.004080222148878671,
          0.027028441060166563,
          0.0016003151587856872,
          0.17210782011514886,
          0.0335692119301417,
          -0.07112553879474437,
          -0.05164280089604928,
          0.0032857667873985932,
          -0.07559736110328699,
          -0.09197360872206346,
          -0.07193353719132176,
          -0.0216211771154466,
          0.02143481777586745,
          -0.007950570840696065,
          -0.0014682405269670802,
          0.04629462540342533,
          0.04547994965135065,
          0.002974364852615697,
          0.06476994945551703,
          -0.02643087794512693,
          0.014557262417243824,
          0.04655216025510509,
          -0.06883982013401807,
          0.0498565399083154,
          0.02784470165421466,
          0.005968013837205546,
          -0.005251693890356859,
          -0.06243838019110134,
          0.06511819101338662,
          0.03722053424436812,
          0.04983293642052655,
          -0.044491607715042146,
          0.05128074106579008,
          -0.0073083121376396,
          0.025782871214547472,
          0.08783854586586261,
          -0.03180242204624212,
          0.020617322527329167,
          0.002802307783284476,
          0.049896239807145595,
          -0.033722813135615884,
          0.030475105642445346,
          0.042757097235872954,
          0.02811410638610294,
          0.04949402372532563,
          -0.017353188111906562,
          0.01033644711042405,
          -0.07432601873204751,
          0.020116611010841407,
          0.09383588216428197,
          0.03184097185317022,
          -0.01622811033351649,
          -0.025355145388356735,
          -0.03383631936451858,
          0.035252765185410984,
          -0.006770472896380039,
          -0.020136538249928646,
          0.041979212090993964,
          0.0990265240183594,
          -0.04168976103709151,
          -0.010443377541988758,
          0.09582265299972133
         ],
         "y": [
          0.28140250771961317,
          0.3681037443328787,
          0.4215627877719928,
          0.26004362215270627,
          0.19133070647765088,
          0.21706942198141865,
          0.12475457496499337,
          0.10700009801896096,
          0.16159325543987818,
          0.12298432778687986,
          0.17004554469795422,
          0.12112469946021977,
          0.08930890739539696,
          0.11987734078973529,
          0.13300153058902028,
          0.14239308553548788,
          0.06470907874779963,
          0.1139753510334783,
          0.09781320644803287,
          0.08942344555236932,
          0.11383706928609202,
          0.1190569351252101,
          0.08440323322946768,
          0.10741858572366368,
          0.05719540492879588,
          0.11141262905354946,
          0.05214033324357137,
          0.06030654960543229,
          0.059049878250749616,
          0.07150983986108753,
          0.12937929172839627,
          0.0471832404601696,
          0.1275356035856651,
          0.1194468546450011,
          0.05389742704224319,
          0.10226624331217875,
          0.09657909993878515,
          0.09568962563861098,
          0.08428666212316974,
          0.06879130791125652,
          0.08334867908867874,
          0.05765762087597142,
          0.04547241261765879,
          0.018457795818384852,
          0.06601355914530958,
          0.03214111462459992,
          0.05460594627471737,
          0.07245034092108446,
          0.09300542216007332,
          0.023515597415073877,
          0.05670851087131954,
          0.08692361436715719,
          0.10338874900202877,
          0.051611893445963335,
          0.06608046846898112,
          0.08836839569300196,
          0.036331051755550924,
          0.09166243639392557,
          0.10724181715594654,
          0.08890914580146973,
          0.05718780585798548,
          0.05067398052346765,
          0.0789016469898601,
          0.04925527209265329,
          0.07580484637597745,
          0.06347826540041598,
          0.08745900553917314,
          0.06321002061724969,
          0.030147153506539466,
          0.07219167804393226,
          0.03169497549660776,
          0.06339146007612854,
          0.06717470198221724,
          0.038987348419450646,
          0.08207484090079788,
          0.015797950634701144,
          0.04438634177457851,
          0.08063344336386769,
          0.053018067347923206,
          0.04370859347487139,
          0.03387779971591983,
          0.045816413309918716,
          0.03879118807851477,
          0.02905786452155729,
          0.04854956621221661,
          0.05196822470142437,
          0.0900627486086877,
          0.03641128111133167,
          0.03156936124328756,
          0.024210783842948017,
          0.06278111038087125,
          0.03891378041332849,
          0.08049047278816493,
          0.02236544062704638,
          0.04626853157363872,
          0.04489743814243458,
          0.04713525780549915,
          0.048137241014078486,
          0.03438561140074645,
          0.04423859176071344
         ]
        },
        {
         "mode": "lines",
         "name": "Best Fit Line",
         "type": "scatter",
         "x": [
          0.6856866236979786,
          -0.01360910669293626,
          0.6334380882979683,
          0.0136359393495959,
          0.04415880889181119,
          -0.20599584180927472,
          -0.015898124547112653,
          -0.13731745190486722,
          -0.27710418076477994,
          -0.02366260731774778,
          0.21498094950806046,
          -0.00207851040236276,
          -0.10002284031243332,
          0.20588851319756224,
          0.020638266828320283,
          -0.1192529288170111,
          -0.12184968818340015,
          0.05185691927828883,
          -0.07391598059840125,
          0.06390942770021948,
          -0.001215744063893326,
          0.006960914625430109,
          -0.0600716774125474,
          -0.1303390058701347,
          -0.05197343933086951,
          -0.14333158598669998,
          0.08685082812767336,
          -0.0797909056271033,
          0.04010356477395138,
          0.1828569134612672,
          0.150501882926379,
          -0.00029866434184360954,
          -0.02341427323061246,
          0.1638745612655209,
          0.0649964586348252,
          -0.132797486808774,
          0.01808876427581105,
          0.08401446184177976,
          -0.004080222148878671,
          0.027028441060166563,
          0.0016003151587856872,
          0.17210782011514886,
          0.0335692119301417,
          -0.07112553879474437,
          -0.05164280089604928,
          0.0032857667873985932,
          -0.07559736110328699,
          -0.09197360872206346,
          -0.07193353719132176,
          -0.0216211771154466,
          0.02143481777586745,
          -0.007950570840696065,
          -0.0014682405269670802,
          0.04629462540342533,
          0.04547994965135065,
          0.002974364852615697,
          0.06476994945551703,
          -0.02643087794512693,
          0.014557262417243824,
          0.04655216025510509,
          -0.06883982013401807,
          0.0498565399083154,
          0.02784470165421466,
          0.005968013837205546,
          -0.005251693890356859,
          -0.06243838019110134,
          0.06511819101338662,
          0.03722053424436812,
          0.04983293642052655,
          -0.044491607715042146,
          0.05128074106579008,
          -0.0073083121376396,
          0.025782871214547472,
          0.08783854586586261,
          -0.03180242204624212,
          0.020617322527329167,
          0.002802307783284476,
          0.049896239807145595,
          -0.033722813135615884,
          0.030475105642445346,
          0.042757097235872954,
          0.02811410638610294,
          0.04949402372532563,
          -0.017353188111906562,
          0.01033644711042405,
          -0.07432601873204751,
          0.020116611010841407,
          0.09383588216428197,
          0.03184097185317022,
          -0.01622811033351649,
          -0.025355145388356735,
          -0.03383631936451858,
          0.035252765185410984,
          -0.006770472896380039,
          -0.020136538249928646,
          0.041979212090993964,
          0.0990265240183594,
          -0.04168976103709151,
          -0.010443377541988758,
          0.09582265299972133
         ],
         "y": [
          0.22036247364021821,
          0.07929048877446795,
          0.2098221481743563,
          0.0847867510222443,
          0.09094426293456728,
          0.04047947162506908,
          0.07882871519563987,
          0.054334263467974556,
          0.02613447553685902,
          0.07726235214163252,
          0.12540496015958735,
          0.08161660637350941,
          0.06185786850872145,
          0.12357070323244958,
          0.0861993611572317,
          0.05797849868478683,
          0.057454643065318875,
          0.09249723639735243,
          0.067124519452538,
          0.09492864161234274,
          0.08179065599880199,
          0.08344016910283285,
          0.06991739125860474,
          0.05574205589486084,
          0.07155108423061685,
          0.053121005907115965,
          0.09955671061555503,
          0.06593934514256021,
          0.09012618080999626,
          0.11892443792833234,
          0.11239731616913456,
          0.08197566250041093,
          0.07731244966269478,
          0.11509504503302938,
          0.09514793311505158,
          0.055246095787147065,
          0.08568503886142459,
          0.09898451804470432,
          0.08121279231182162,
          0.08748847894152104,
          0.08235875193701221,
          0.11675597633484247,
          0.08880797724399696,
          0.06768744747681492,
          0.07161778536755489,
          0.08269876546249266,
          0.06678532721264514,
          0.0634816751869959,
          0.06752444642787415,
          0.07767417878104663,
          0.08636005286223376,
          0.08043200994987008,
          0.08173971878344465,
          0.09137513053679619,
          0.09121078243573896,
          0.08263594498880508,
          0.0951022384280592,
          0.07670389680567384,
          0.08497261355251176,
          0.09142708416831381,
          0.06814855549492492,
          0.09209369112180943,
          0.08765314675967815,
          0.0832398668860707,
          0.08097646619598493,
          0.06943994596035982,
          0.09517249071996715,
          0.08954457445725976,
          0.09208892948702829,
          0.07306042683147337,
          0.09238100144761499,
          0.08056157560585776,
          0.08723720469119467,
          0.09975596723297435,
          0.07562027173089378,
          0.08619513597182868,
          0.08260123516401154,
          0.09210169995596006,
          0.07523286284088809,
          0.08818378965579744,
          0.09066148951422605,
          0.08770749495402286,
          0.09202055914737031,
          0.07853517886148186,
          0.0841211300281494,
          0.06704180066723699,
          0.08609412524860208,
          0.10096583610354858,
          0.08845933181776704,
          0.07876214572032011,
          0.07692090903722779,
          0.07520996473310618,
          0.0891476078023235,
          0.0806700762673172,
          0.07797368146991672,
          0.0905045633431992,
          0.1020129669771671,
          0.07362565561090129,
          0.07992912515599122,
          0.10136663606992637
         ]
        }
       ],
       "layout": {
        "height": 470,
        "template": {
         "data": {
          "bar": [
           {
            "error_x": {
             "color": "#2a3f5f"
            },
            "error_y": {
             "color": "#2a3f5f"
            },
            "marker": {
             "line": {
              "color": "#E5ECF6",
              "width": 0.5
             },
             "pattern": {
              "fillmode": "overlay",
              "size": 10,
              "solidity": 0.2
             }
            },
            "type": "bar"
           }
          ],
          "barpolar": [
           {
            "marker": {
             "line": {
              "color": "#E5ECF6",
              "width": 0.5
             },
             "pattern": {
              "fillmode": "overlay",
              "size": 10,
              "solidity": 0.2
             }
            },
            "type": "barpolar"
           }
          ],
          "carpet": [
           {
            "aaxis": {
             "endlinecolor": "#2a3f5f",
             "gridcolor": "white",
             "linecolor": "white",
             "minorgridcolor": "white",
             "startlinecolor": "#2a3f5f"
            },
            "baxis": {
             "endlinecolor": "#2a3f5f",
             "gridcolor": "white",
             "linecolor": "white",
             "minorgridcolor": "white",
             "startlinecolor": "#2a3f5f"
            },
            "type": "carpet"
           }
          ],
          "choropleth": [
           {
            "colorbar": {
             "outlinewidth": 0,
             "ticks": ""
            },
            "type": "choropleth"
           }
          ],
          "contour": [
           {
            "colorbar": {
             "outlinewidth": 0,
             "ticks": ""
            },
            "colorscale": [
             [
              0,
              "#0d0887"
             ],
             [
              0.1111111111111111,
              "#46039f"
             ],
             [
              0.2222222222222222,
              "#7201a8"
             ],
             [
              0.3333333333333333,
              "#9c179e"
             ],
             [
              0.4444444444444444,
              "#bd3786"
             ],
             [
              0.5555555555555556,
              "#d8576b"
             ],
             [
              0.6666666666666666,
              "#ed7953"
             ],
             [
              0.7777777777777778,
              "#fb9f3a"
             ],
             [
              0.8888888888888888,
              "#fdca26"
             ],
             [
              1,
              "#f0f921"
             ]
            ],
            "type": "contour"
           }
          ],
          "contourcarpet": [
           {
            "colorbar": {
             "outlinewidth": 0,
             "ticks": ""
            },
            "type": "contourcarpet"
           }
          ],
          "heatmap": [
           {
            "colorbar": {
             "outlinewidth": 0,
             "ticks": ""
            },
            "colorscale": [
             [
              0,
              "#0d0887"
             ],
             [
              0.1111111111111111,
              "#46039f"
             ],
             [
              0.2222222222222222,
              "#7201a8"
             ],
             [
              0.3333333333333333,
              "#9c179e"
             ],
             [
              0.4444444444444444,
              "#bd3786"
             ],
             [
              0.5555555555555556,
              "#d8576b"
             ],
             [
              0.6666666666666666,
              "#ed7953"
             ],
             [
              0.7777777777777778,
              "#fb9f3a"
             ],
             [
              0.8888888888888888,
              "#fdca26"
             ],
             [
              1,
              "#f0f921"
             ]
            ],
            "type": "heatmap"
           }
          ],
          "heatmapgl": [
           {
            "colorbar": {
             "outlinewidth": 0,
             "ticks": ""
            },
            "colorscale": [
             [
              0,
              "#0d0887"
             ],
             [
              0.1111111111111111,
              "#46039f"
             ],
             [
              0.2222222222222222,
              "#7201a8"
             ],
             [
              0.3333333333333333,
              "#9c179e"
             ],
             [
              0.4444444444444444,
              "#bd3786"
             ],
             [
              0.5555555555555556,
              "#d8576b"
             ],
             [
              0.6666666666666666,
              "#ed7953"
             ],
             [
              0.7777777777777778,
              "#fb9f3a"
             ],
             [
              0.8888888888888888,
              "#fdca26"
             ],
             [
              1,
              "#f0f921"
             ]
            ],
            "type": "heatmapgl"
           }
          ],
          "histogram": [
           {
            "marker": {
             "pattern": {
              "fillmode": "overlay",
              "size": 10,
              "solidity": 0.2
             }
            },
            "type": "histogram"
           }
          ],
          "histogram2d": [
           {
            "colorbar": {
             "outlinewidth": 0,
             "ticks": ""
            },
            "colorscale": [
             [
              0,
              "#0d0887"
             ],
             [
              0.1111111111111111,
              "#46039f"
             ],
             [
              0.2222222222222222,
              "#7201a8"
             ],
             [
              0.3333333333333333,
              "#9c179e"
             ],
             [
              0.4444444444444444,
              "#bd3786"
             ],
             [
              0.5555555555555556,
              "#d8576b"
             ],
             [
              0.6666666666666666,
              "#ed7953"
             ],
             [
              0.7777777777777778,
              "#fb9f3a"
             ],
             [
              0.8888888888888888,
              "#fdca26"
             ],
             [
              1,
              "#f0f921"
             ]
            ],
            "type": "histogram2d"
           }
          ],
          "histogram2dcontour": [
           {
            "colorbar": {
             "outlinewidth": 0,
             "ticks": ""
            },
            "colorscale": [
             [
              0,
              "#0d0887"
             ],
             [
              0.1111111111111111,
              "#46039f"
             ],
             [
              0.2222222222222222,
              "#7201a8"
             ],
             [
              0.3333333333333333,
              "#9c179e"
             ],
             [
              0.4444444444444444,
              "#bd3786"
             ],
             [
              0.5555555555555556,
              "#d8576b"
             ],
             [
              0.6666666666666666,
              "#ed7953"
             ],
             [
              0.7777777777777778,
              "#fb9f3a"
             ],
             [
              0.8888888888888888,
              "#fdca26"
             ],
             [
              1,
              "#f0f921"
             ]
            ],
            "type": "histogram2dcontour"
           }
          ],
          "mesh3d": [
           {
            "colorbar": {
             "outlinewidth": 0,
             "ticks": ""
            },
            "type": "mesh3d"
           }
          ],
          "parcoords": [
           {
            "line": {
             "colorbar": {
              "outlinewidth": 0,
              "ticks": ""
             }
            },
            "type": "parcoords"
           }
          ],
          "pie": [
           {
            "automargin": true,
            "type": "pie"
           }
          ],
          "scatter": [
           {
            "fillpattern": {
             "fillmode": "overlay",
             "size": 10,
             "solidity": 0.2
            },
            "type": "scatter"
           }
          ],
          "scatter3d": [
           {
            "line": {
             "colorbar": {
              "outlinewidth": 0,
              "ticks": ""
             }
            },
            "marker": {
             "colorbar": {
              "outlinewidth": 0,
              "ticks": ""
             }
            },
            "type": "scatter3d"
           }
          ],
          "scattercarpet": [
           {
            "marker": {
             "colorbar": {
              "outlinewidth": 0,
              "ticks": ""
             }
            },
            "type": "scattercarpet"
           }
          ],
          "scattergeo": [
           {
            "marker": {
             "colorbar": {
              "outlinewidth": 0,
              "ticks": ""
             }
            },
            "type": "scattergeo"
           }
          ],
          "scattergl": [
           {
            "marker": {
             "colorbar": {
              "outlinewidth": 0,
              "ticks": ""
             }
            },
            "type": "scattergl"
           }
          ],
          "scattermapbox": [
           {
            "marker": {
             "colorbar": {
              "outlinewidth": 0,
              "ticks": ""
             }
            },
            "type": "scattermapbox"
           }
          ],
          "scatterpolar": [
           {
            "marker": {
             "colorbar": {
              "outlinewidth": 0,
              "ticks": ""
             }
            },
            "type": "scatterpolar"
           }
          ],
          "scatterpolargl": [
           {
            "marker": {
             "colorbar": {
              "outlinewidth": 0,
              "ticks": ""
             }
            },
            "type": "scatterpolargl"
           }
          ],
          "scatterternary": [
           {
            "marker": {
             "colorbar": {
              "outlinewidth": 0,
              "ticks": ""
             }
            },
            "type": "scatterternary"
           }
          ],
          "surface": [
           {
            "colorbar": {
             "outlinewidth": 0,
             "ticks": ""
            },
            "colorscale": [
             [
              0,
              "#0d0887"
             ],
             [
              0.1111111111111111,
              "#46039f"
             ],
             [
              0.2222222222222222,
              "#7201a8"
             ],
             [
              0.3333333333333333,
              "#9c179e"
             ],
             [
              0.4444444444444444,
              "#bd3786"
             ],
             [
              0.5555555555555556,
              "#d8576b"
             ],
             [
              0.6666666666666666,
              "#ed7953"
             ],
             [
              0.7777777777777778,
              "#fb9f3a"
             ],
             [
              0.8888888888888888,
              "#fdca26"
             ],
             [
              1,
              "#f0f921"
             ]
            ],
            "type": "surface"
           }
          ],
          "table": [
           {
            "cells": {
             "fill": {
              "color": "#EBF0F8"
             },
             "line": {
              "color": "white"
             }
            },
            "header": {
             "fill": {
              "color": "#C8D4E3"
             },
             "line": {
              "color": "white"
             }
            },
            "type": "table"
           }
          ]
         },
         "layout": {
          "annotationdefaults": {
           "arrowcolor": "#2a3f5f",
           "arrowhead": 0,
           "arrowwidth": 1
          },
          "autotypenumbers": "strict",
          "coloraxis": {
           "colorbar": {
            "outlinewidth": 0,
            "ticks": ""
           }
          },
          "colorscale": {
           "diverging": [
            [
             0,
             "#8e0152"
            ],
            [
             0.1,
             "#c51b7d"
            ],
            [
             0.2,
             "#de77ae"
            ],
            [
             0.3,
             "#f1b6da"
            ],
            [
             0.4,
             "#fde0ef"
            ],
            [
             0.5,
             "#f7f7f7"
            ],
            [
             0.6,
             "#e6f5d0"
            ],
            [
             0.7,
             "#b8e186"
            ],
            [
             0.8,
             "#7fbc41"
            ],
            [
             0.9,
             "#4d9221"
            ],
            [
             1,
             "#276419"
            ]
           ],
           "sequential": [
            [
             0,
             "#0d0887"
            ],
            [
             0.1111111111111111,
             "#46039f"
            ],
            [
             0.2222222222222222,
             "#7201a8"
            ],
            [
             0.3333333333333333,
             "#9c179e"
            ],
            [
             0.4444444444444444,
             "#bd3786"
            ],
            [
             0.5555555555555556,
             "#d8576b"
            ],
            [
             0.6666666666666666,
             "#ed7953"
            ],
            [
             0.7777777777777778,
             "#fb9f3a"
            ],
            [
             0.8888888888888888,
             "#fdca26"
            ],
            [
             1,
             "#f0f921"
            ]
           ],
           "sequentialminus": [
            [
             0,
             "#0d0887"
            ],
            [
             0.1111111111111111,
             "#46039f"
            ],
            [
             0.2222222222222222,
             "#7201a8"
            ],
            [
             0.3333333333333333,
             "#9c179e"
            ],
            [
             0.4444444444444444,
             "#bd3786"
            ],
            [
             0.5555555555555556,
             "#d8576b"
            ],
            [
             0.6666666666666666,
             "#ed7953"
            ],
            [
             0.7777777777777778,
             "#fb9f3a"
            ],
            [
             0.8888888888888888,
             "#fdca26"
            ],
            [
             1,
             "#f0f921"
            ]
           ]
          },
          "colorway": [
           "#636efa",
           "#EF553B",
           "#00cc96",
           "#ab63fa",
           "#FFA15A",
           "#19d3f3",
           "#FF6692",
           "#B6E880",
           "#FF97FF",
           "#FECB52"
          ],
          "font": {
           "color": "#2a3f5f"
          },
          "geo": {
           "bgcolor": "white",
           "lakecolor": "white",
           "landcolor": "#E5ECF6",
           "showlakes": true,
           "showland": true,
           "subunitcolor": "white"
          },
          "hoverlabel": {
           "align": "left"
          },
          "hovermode": "closest",
          "mapbox": {
           "style": "light"
          },
          "paper_bgcolor": "white",
          "plot_bgcolor": "#E5ECF6",
          "polar": {
           "angularaxis": {
            "gridcolor": "white",
            "linecolor": "white",
            "ticks": ""
           },
           "bgcolor": "#E5ECF6",
           "radialaxis": {
            "gridcolor": "white",
            "linecolor": "white",
            "ticks": ""
           }
          },
          "scene": {
           "xaxis": {
            "backgroundcolor": "#E5ECF6",
            "gridcolor": "white",
            "gridwidth": 2,
            "linecolor": "white",
            "showbackground": true,
            "ticks": "",
            "zerolinecolor": "white"
           },
           "yaxis": {
            "backgroundcolor": "#E5ECF6",
            "gridcolor": "white",
            "gridwidth": 2,
            "linecolor": "white",
            "showbackground": true,
            "ticks": "",
            "zerolinecolor": "white"
           },
           "zaxis": {
            "backgroundcolor": "#E5ECF6",
            "gridcolor": "white",
            "gridwidth": 2,
            "linecolor": "white",
            "showbackground": true,
            "ticks": "",
            "zerolinecolor": "white"
           }
          },
          "shapedefaults": {
           "line": {
            "color": "#2a3f5f"
           }
          },
          "ternary": {
           "aaxis": {
            "gridcolor": "white",
            "linecolor": "white",
            "ticks": ""
           },
           "baxis": {
            "gridcolor": "white",
            "linecolor": "white",
            "ticks": ""
           },
           "bgcolor": "#E5ECF6",
           "caxis": {
            "gridcolor": "white",
            "linecolor": "white",
            "ticks": ""
           }
          },
          "title": {
           "x": 0.05
          },
          "xaxis": {
           "automargin": true,
           "gridcolor": "white",
           "linecolor": "white",
           "ticks": "",
           "title": {
            "standoff": 15
           },
           "zerolinecolor": "white",
           "zerolinewidth": 2
          },
          "yaxis": {
           "automargin": true,
           "gridcolor": "white",
           "linecolor": "white",
           "ticks": "",
           "title": {
            "standoff": 15
           },
           "zerolinecolor": "white",
           "zerolinewidth": 2
          }
         }
        },
        "width": 900,
        "xaxis": {
         "autorange": true,
         "range": [
          -0.33795199440217133,
          0.74653443733537
         ],
         "title": {
          "text": "Desviación estándar"
         },
         "type": "linear"
        },
        "yaxis": {
         "autorange": true,
         "range": [
          -0.013413916338693623,
          0.4507746547453876
         ],
         "title": {
          "text": "Rendimiento"
         },
         "type": "linear"
        }
       }
      },
      "image/png": "[encoded data removed]",
      "text/html": [
       "<div>                            <div id=\"c474ee29-62c9-46e2-a793-a9d4b318c9ba\" class=\"plotly-graph-div\" style=\"height:470px; width:900px;\"></div>            <script type=\"text/javascript\">                require([\"plotly\"], function(Plotly) {                    window.PLOTLYENV=window.PLOTLYENV || {};                                    if (document.getElementById(\"c474ee29-62c9-46e2-a793-a9d4b318c9ba\")) {                    Plotly.newPlot(                        \"c474ee29-62c9-46e2-a793-a9d4b318c9ba\",                        [{\"mode\":\"markers\",\"name\":\"Risk-Return Relationship\",\"x\":[0.6856866236979786,-0.01360910669293626,0.6334380882979683,0.0136359393495959,0.04415880889181119,-0.20599584180927472,-0.015898124547112653,-0.13731745190486722,-0.27710418076477994,-0.02366260731774778,0.21498094950806046,-0.00207851040236276,-0.10002284031243332,0.20588851319756224,0.020638266828320283,-0.1192529288170111,-0.12184968818340015,0.05185691927828883,-0.07391598059840125,0.06390942770021948,-0.001215744063893326,0.006960914625430109,-0.0600716774125474,-0.1303390058701347,-0.05197343933086951,-0.14333158598669998,0.08685082812767336,-0.0797909056271033,0.04010356477395138,0.1828569134612672,0.150501882926379,-0.00029866434184360954,-0.02341427323061246,0.1638745612655209,0.0649964586348252,-0.132797486808774,0.01808876427581105,0.08401446184177976,-0.004080222148878671,0.027028441060166563,0.0016003151587856872,0.17210782011514886,0.0335692119301417,-0.07112553879474437,-0.05164280089604928,0.0032857667873985932,-0.07559736110328699,-0.09197360872206346,-0.07193353719132176,-0.0216211771154466,0.02143481777586745,-0.007950570840696065,-0.0014682405269670802,0.04629462540342533,0.04547994965135065,0.002974364852615697,0.06476994945551703,-0.02643087794512693,0.014557262417243824,0.04655216025510509,-0.06883982013401807,0.0498565399083154,0.02784470165421466,0.005968013837205546,-0.005251693890356859,-0.06243838019110134,0.06511819101338662,0.03722053424436812,0.04983293642052655,-0.044491607715042146,0.05128074106579008,-0.0073083121376396,0.025782871214547472,0.08783854586586261,-0.03180242204624212,0.020617322527329167,0.002802307783284476,0.049896239807145595,-0.033722813135615884,0.030475105642445346,0.042757097235872954,0.02811410638610294,0.04949402372532563,-0.017353188111906562,0.01033644711042405,-0.07432601873204751,0.020116611010841407,0.09383588216428197,0.03184097185317022,-0.01622811033351649,-0.025355145388356735,-0.03383631936451858,0.035252765185410984,-0.006770472896380039,-0.020136538249928646,0.041979212090993964,0.0990265240183594,-0.04168976103709151,-0.010443377541988758,0.09582265299972133],\"y\":[0.28140250771961317,0.3681037443328787,0.4215627877719928,0.26004362215270627,0.19133070647765088,0.21706942198141865,0.12475457496499337,0.10700009801896096,0.16159325543987818,0.12298432778687986,0.17004554469795422,0.12112469946021977,0.08930890739539696,0.11987734078973529,0.13300153058902028,0.14239308553548788,0.06470907874779963,0.1139753510334783,0.09781320644803287,0.08942344555236932,0.11383706928609202,0.1190569351252101,0.08440323322946768,0.10741858572366368,0.05719540492879588,0.11141262905354946,0.05214033324357137,0.06030654960543229,0.059049878250749616,0.07150983986108753,0.12937929172839627,0.0471832404601696,0.1275356035856651,0.1194468546450011,0.05389742704224319,0.10226624331217875,0.09657909993878515,0.09568962563861098,0.08428666212316974,0.06879130791125652,0.08334867908867874,0.05765762087597142,0.04547241261765879,0.018457795818384852,0.06601355914530958,0.03214111462459992,0.05460594627471737,0.07245034092108446,0.09300542216007332,0.023515597415073877,0.05670851087131954,0.08692361436715719,0.10338874900202877,0.051611893445963335,0.06608046846898112,0.08836839569300196,0.036331051755550924,0.09166243639392557,0.10724181715594654,0.08890914580146973,0.05718780585798548,0.05067398052346765,0.0789016469898601,0.04925527209265329,0.07580484637597745,0.06347826540041598,0.08745900553917314,0.06321002061724969,0.030147153506539466,0.07219167804393226,0.03169497549660776,0.06339146007612854,0.06717470198221724,0.038987348419450646,0.08207484090079788,0.015797950634701144,0.04438634177457851,0.08063344336386769,0.053018067347923206,0.04370859347487139,0.03387779971591983,0.045816413309918716,0.03879118807851477,0.02905786452155729,0.04854956621221661,0.05196822470142437,0.0900627486086877,0.03641128111133167,0.03156936124328756,0.024210783842948017,0.06278111038087125,0.03891378041332849,0.08049047278816493,0.02236544062704638,0.04626853157363872,0.04489743814243458,0.04713525780549915,0.048137241014078486,0.03438561140074645,0.04423859176071344],\"type\":\"scatter\"},{\"mode\":\"lines\",\"name\":\"Best Fit Line\",\"x\":[0.6856866236979786,-0.01360910669293626,0.6334380882979683,0.0136359393495959,0.04415880889181119,-0.20599584180927472,-0.015898124547112653,-0.13731745190486722,-0.27710418076477994,-0.02366260731774778,0.21498094950806046,-0.00207851040236276,-0.10002284031243332,0.20588851319756224,0.020638266828320283,-0.1192529288170111,-0.12184968818340015,0.05185691927828883,-0.07391598059840125,0.06390942770021948,-0.001215744063893326,0.006960914625430109,-0.0600716774125474,-0.1303390058701347,-0.05197343933086951,-0.14333158598669998,0.08685082812767336,-0.0797909056271033,0.04010356477395138,0.1828569134612672,0.150501882926379,-0.00029866434184360954,-0.02341427323061246,0.1638745612655209,0.0649964586348252,-0.132797486808774,0.01808876427581105,0.08401446184177976,-0.004080222148878671,0.027028441060166563,0.0016003151587856872,0.17210782011514886,0.0335692119301417,-0.07112553879474437,-0.05164280089604928,0.0032857667873985932,-0.07559736110328699,-0.09197360872206346,-0.07193353719132176,-0.0216211771154466,0.02143481777586745,-0.007950570840696065,-0.0014682405269670802,0.04629462540342533,0.04547994965135065,0.002974364852615697,0.06476994945551703,-0.02643087794512693,0.014557262417243824,0.04655216025510509,-0.06883982013401807,0.0498565399083154,0.02784470165421466,0.005968013837205546,-0.005251693890356859,-0.06243838019110134,0.06511819101338662,0.03722053424436812,0.04983293642052655,-0.044491607715042146,0.05128074106579008,-0.0073083121376396,0.025782871214547472,0.08783854586586261,-0.03180242204624212,0.020617322527329167,0.002802307783284476,0.049896239807145595,-0.033722813135615884,0.030475105642445346,0.042757097235872954,0.02811410638610294,0.04949402372532563,-0.017353188111906562,0.01033644711042405,-0.07432601873204751,0.020116611010841407,0.09383588216428197,0.03184097185317022,-0.01622811033351649,-0.025355145388356735,-0.03383631936451858,0.035252765185410984,-0.006770472896380039,-0.020136538249928646,0.041979212090993964,0.0990265240183594,-0.04168976103709151,-0.010443377541988758,0.09582265299972133],\"y\":[0.22036247364021821,0.07929048877446795,0.2098221481743563,0.0847867510222443,0.09094426293456728,0.04047947162506908,0.07882871519563987,0.054334263467974556,0.02613447553685902,0.07726235214163252,0.12540496015958735,0.08161660637350941,0.06185786850872145,0.12357070323244958,0.0861993611572317,0.05797849868478683,0.057454643065318875,0.09249723639735243,0.067124519452538,0.09492864161234274,0.08179065599880199,0.08344016910283285,0.06991739125860474,0.05574205589486084,0.07155108423061685,0.053121005907115965,0.09955671061555503,0.06593934514256021,0.09012618080999626,0.11892443792833234,0.11239731616913456,0.08197566250041093,0.07731244966269478,0.11509504503302938,0.09514793311505158,0.055246095787147065,0.08568503886142459,0.09898451804470432,0.08121279231182162,0.08748847894152104,0.08235875193701221,0.11675597633484247,0.08880797724399696,0.06768744747681492,0.07161778536755489,0.08269876546249266,0.06678532721264514,0.0634816751869959,0.06752444642787415,0.07767417878104663,0.08636005286223376,0.08043200994987008,0.08173971878344465,0.09137513053679619,0.09121078243573896,0.08263594498880508,0.0951022384280592,0.07670389680567384,0.08497261355251176,0.09142708416831381,0.06814855549492492,0.09209369112180943,0.08765314675967815,0.0832398668860707,0.08097646619598493,0.06943994596035982,0.09517249071996715,0.08954457445725976,0.09208892948702829,0.07306042683147337,0.09238100144761499,0.08056157560585776,0.08723720469119467,0.09975596723297435,0.07562027173089378,0.08619513597182868,0.08260123516401154,0.09210169995596006,0.07523286284088809,0.08818378965579744,0.09066148951422605,0.08770749495402286,0.09202055914737031,0.07853517886148186,0.0841211300281494,0.06704180066723699,0.08609412524860208,0.10096583610354858,0.08845933181776704,0.07876214572032011,0.07692090903722779,0.07520996473310618,0.0891476078023235,0.0806700762673172,0.07797368146991672,0.0905045633431992,0.1020129669771671,0.07362565561090129,0.07992912515599122,0.10136663606992637],\"type\":\"scatter\"}],                        {\"template\":{\"data\":{\"histogram2dcontour\":[{\"type\":\"histogram2dcontour\",\"colorbar\":{\"outlinewidth\":0,\"ticks\":\"\"},\"colorscale\":[[0.0,\"#0d0887\"],[0.1111111111111111,\"#46039f\"],[0.2222222222222222,\"#7201a8\"],[0.3333333333333333,\"#9c179e\"],[0.4444444444444444,\"#bd3786\"],[0.5555555555555556,\"#d8576b\"],[0.6666666666666666,\"#ed7953\"],[0.7777777777777778,\"#fb9f3a\"],[0.8888888888888888,\"#fdca26\"],[1.0,\"#f0f921\"]]}],\"choropleth\":[{\"type\":\"choropleth\",\"colorbar\":{\"outlinewidth\":0,\"ticks\":\"\"}}],\"histogram2d\":[{\"type\":\"histogram2d\",\"colorbar\":{\"outlinewidth\":0,\"ticks\":\"\"},\"colorscale\":[[0.0,\"#0d0887\"],[0.1111111111111111,\"#46039f\"],[0.2222222222222222,\"#7201a8\"],[0.3333333333333333,\"#9c179e\"],[0.4444444444444444,\"#bd3786\"],[0.5555555555555556,\"#d8576b\"],[0.6666666666666666,\"#ed7953\"],[0.7777777777777778,\"#fb9f3a\"],[0.8888888888888888,\"#fdca26\"],[1.0,\"#f0f921\"]]}],\"heatmap\":[{\"type\":\"heatmap\",\"colorbar\":{\"outlinewidth\":0,\"ticks\":\"\"},\"colorscale\":[[0.0,\"#0d0887\"],[0.1111111111111111,\"#46039f\"],[0.2222222222222222,\"#7201a8\"],[0.3333333333333333,\"#9c179e\"],[0.4444444444444444,\"#bd3786\"],[0.5555555555555556,\"#d8576b\"],[0.6666666666666666,\"#ed7953\"],[0.7777777777777778,\"#fb9f3a\"],[0.8888888888888888,\"#fdca26\"],[1.0,\"#f0f921\"]]}],\"heatmapgl\":[{\"type\":\"heatmapgl\",\"colorbar\":{\"outlinewidth\":0,\"ticks\":\"\"},\"colorscale\":[[0.0,\"#0d0887\"],[0.1111111111111111,\"#46039f\"],[0.2222222222222222,\"#7201a8\"],[0.3333333333333333,\"#9c179e\"],[0.4444444444444444,\"#bd3786\"],[0.5555555555555556,\"#d8576b\"],[0.6666666666666666,\"#ed7953\"],[0.7777777777777778,\"#fb9f3a\"],[0.8888888888888888,\"#fdca26\"],[1.0,\"#f0f921\"]]}],\"contourcarpet\":[{\"type\":\"contourcarpet\",\"colorbar\":{\"outlinewidth\":0,\"ticks\":\"\"}}],\"contour\":[{\"type\":\"contour\",\"colorbar\":{\"outlinewidth\":0,\"ticks\":\"\"},\"colorscale\":[[0.0,\"#0d0887\"],[0.1111111111111111,\"#46039f\"],[0.2222222222222222,\"#7201a8\"],[0.3333333333333333,\"#9c179e\"],[0.4444444444444444,\"#bd3786\"],[0.5555555555555556,\"#d8576b\"],[0.6666666666666666,\"#ed7953\"],[0.7777777777777778,\"#fb9f3a\"],[0.8888888888888888,\"#fdca26\"],[1.0,\"#f0f921\"]]}],\"surface\":[{\"type\":\"surface\",\"colorbar\":{\"outlinewidth\":0,\"ticks\":\"\"},\"colorscale\":[[0.0,\"#0d0887\"],[0.1111111111111111,\"#46039f\"],[0.2222222222222222,\"#7201a8\"],[0.3333333333333333,\"#9c179e\"],[0.4444444444444444,\"#bd3786\"],[0.5555555555555556,\"#d8576b\"],[0.6666666666666666,\"#ed7953\"],[0.7777777777777778,\"#fb9f3a\"],[0.8888888888888888,\"#fdca26\"],[1.0,\"#f0f921\"]]}],\"mesh3d\":[{\"type\":\"mesh3d\",\"colorbar\":{\"outlinewidth\":0,\"ticks\":\"\"}}],\"scatter\":[{\"fillpattern\":{\"fillmode\":\"overlay\",\"size\":10,\"solidity\":0.2},\"type\":\"scatter\"}],\"parcoords\":[{\"type\":\"parcoords\",\"line\":{\"colorbar\":{\"outlinewidth\":0,\"ticks\":\"\"}}}],\"scatterpolargl\":[{\"type\":\"scatterpolargl\",\"marker\":{\"colorbar\":{\"outlinewidth\":0,\"ticks\":\"\"}}}],\"bar\":[{\"error_x\":{\"color\":\"#2a3f5f\"},\"error_y\":{\"color\":\"#2a3f5f\"},\"marker\":{\"line\":{\"color\":\"#E5ECF6\",\"width\":0.5},\"pattern\":{\"fillmode\":\"overlay\",\"size\":10,\"solidity\":0.2}},\"type\":\"bar\"}],\"scattergeo\":[{\"type\":\"scattergeo\",\"marker\":{\"colorbar\":{\"outlinewidth\":0,\"ticks\":\"\"}}}],\"scatterpolar\":[{\"type\":\"scatterpolar\",\"marker\":{\"colorbar\":{\"outlinewidth\":0,\"ticks\":\"\"}}}],\"histogram\":[{\"marker\":{\"pattern\":{\"fillmode\":\"overlay\",\"size\":10,\"solidity\":0.2}},\"type\":\"histogram\"}],\"scattergl\":[{\"type\":\"scattergl\",\"marker\":{\"colorbar\":{\"outlinewidth\":0,\"ticks\":\"\"}}}],\"scatter3d\":[{\"type\":\"scatter3d\",\"line\":{\"colorbar\":{\"outlinewidth\":0,\"ticks\":\"\"}},\"marker\":{\"colorbar\":{\"outlinewidth\":0,\"ticks\":\"\"}}}],\"scattermapbox\":[{\"type\":\"scattermapbox\",\"marker\":{\"colorbar\":{\"outlinewidth\":0,\"ticks\":\"\"}}}],\"scatterternary\":[{\"type\":\"scatterternary\",\"marker\":{\"colorbar\":{\"outlinewidth\":0,\"ticks\":\"\"}}}],\"scattercarpet\":[{\"type\":\"scattercarpet\",\"marker\":{\"colorbar\":{\"outlinewidth\":0,\"ticks\":\"\"}}}],\"carpet\":[{\"aaxis\":{\"endlinecolor\":\"#2a3f5f\",\"gridcolor\":\"white\",\"linecolor\":\"white\",\"minorgridcolor\":\"white\",\"startlinecolor\":\"#2a3f5f\"},\"baxis\":{\"endlinecolor\":\"#2a3f5f\",\"gridcolor\":\"white\",\"linecolor\":\"white\",\"minorgridcolor\":\"white\",\"startlinecolor\":\"#2a3f5f\"},\"type\":\"carpet\"}],\"table\":[{\"cells\":{\"fill\":{\"color\":\"#EBF0F8\"},\"line\":{\"color\":\"white\"}},\"header\":{\"fill\":{\"color\":\"#C8D4E3\"},\"line\":{\"color\":\"white\"}},\"type\":\"table\"}],\"barpolar\":[{\"marker\":{\"line\":{\"color\":\"#E5ECF6\",\"width\":0.5},\"pattern\":{\"fillmode\":\"overlay\",\"size\":10,\"solidity\":0.2}},\"type\":\"barpolar\"}],\"pie\":[{\"automargin\":true,\"type\":\"pie\"}]},\"layout\":{\"autotypenumbers\":\"strict\",\"colorway\":[\"#636efa\",\"#EF553B\",\"#00cc96\",\"#ab63fa\",\"#FFA15A\",\"#19d3f3\",\"#FF6692\",\"#B6E880\",\"#FF97FF\",\"#FECB52\"],\"font\":{\"color\":\"#2a3f5f\"},\"hovermode\":\"closest\",\"hoverlabel\":{\"align\":\"left\"},\"paper_bgcolor\":\"white\",\"plot_bgcolor\":\"#E5ECF6\",\"polar\":{\"bgcolor\":\"#E5ECF6\",\"angularaxis\":{\"gridcolor\":\"white\",\"linecolor\":\"white\",\"ticks\":\"\"},\"radialaxis\":{\"gridcolor\":\"white\",\"linecolor\":\"white\",\"ticks\":\"\"}},\"ternary\":{\"bgcolor\":\"#E5ECF6\",\"aaxis\":{\"gridcolor\":\"white\",\"linecolor\":\"white\",\"ticks\":\"\"},\"baxis\":{\"gridcolor\":\"white\",\"linecolor\":\"white\",\"ticks\":\"\"},\"caxis\":{\"gridcolor\":\"white\",\"linecolor\":\"white\",\"ticks\":\"\"}},\"coloraxis\":{\"colorbar\":{\"outlinewidth\":0,\"ticks\":\"\"}},\"colorscale\":{\"sequential\":[[0.0,\"#0d0887\"],[0.1111111111111111,\"#46039f\"],[0.2222222222222222,\"#7201a8\"],[0.3333333333333333,\"#9c179e\"],[0.4444444444444444,\"#bd3786\"],[0.5555555555555556,\"#d8576b\"],[0.6666666666666666,\"#ed7953\"],[0.7777777777777778,\"#fb9f3a\"],[0.8888888888888888,\"#fdca26\"],[1.0,\"#f0f921\"]],\"sequentialminus\":[[0.0,\"#0d0887\"],[0.1111111111111111,\"#46039f\"],[0.2222222222222222,\"#7201a8\"],[0.3333333333333333,\"#9c179e\"],[0.4444444444444444,\"#bd3786\"],[0.5555555555555556,\"#d8576b\"],[0.6666666666666666,\"#ed7953\"],[0.7777777777777778,\"#fb9f3a\"],[0.8888888888888888,\"#fdca26\"],[1.0,\"#f0f921\"]],\"diverging\":[[0,\"#8e0152\"],[0.1,\"#c51b7d\"],[0.2,\"#de77ae\"],[0.3,\"#f1b6da\"],[0.4,\"#fde0ef\"],[0.5,\"#f7f7f7\"],[0.6,\"#e6f5d0\"],[0.7,\"#b8e186\"],[0.8,\"#7fbc41\"],[0.9,\"#4d9221\"],[1,\"#276419\"]]},\"xaxis\":{\"gridcolor\":\"white\",\"linecolor\":\"white\",\"ticks\":\"\",\"title\":{\"standoff\":15},\"zerolinecolor\":\"white\",\"automargin\":true,\"zerolinewidth\":2},\"yaxis\":{\"gridcolor\":\"white\",\"linecolor\":\"white\",\"ticks\":\"\",\"title\":{\"standoff\":15},\"zerolinecolor\":\"white\",\"automargin\":true,\"zerolinewidth\":2},\"scene\":{\"xaxis\":{\"backgroundcolor\":\"#E5ECF6\",\"gridcolor\":\"white\",\"linecolor\":\"white\",\"showbackground\":true,\"ticks\":\"\",\"zerolinecolor\":\"white\",\"gridwidth\":2},\"yaxis\":{\"backgroundcolor\":\"#E5ECF6\",\"gridcolor\":\"white\",\"linecolor\":\"white\",\"showbackground\":true,\"ticks\":\"\",\"zerolinecolor\":\"white\",\"gridwidth\":2},\"zaxis\":{\"backgroundcolor\":\"#E5ECF6\",\"gridcolor\":\"white\",\"linecolor\":\"white\",\"showbackground\":true,\"ticks\":\"\",\"zerolinecolor\":\"white\",\"gridwidth\":2}},\"shapedefaults\":{\"line\":{\"color\":\"#2a3f5f\"}},\"annotationdefaults\":{\"arrowcolor\":\"#2a3f5f\",\"arrowhead\":0,\"arrowwidth\":1},\"geo\":{\"bgcolor\":\"white\",\"landcolor\":\"#E5ECF6\",\"subunitcolor\":\"white\",\"showland\":true,\"showlakes\":true,\"lakecolor\":\"white\"},\"title\":{\"x\":0.05},\"mapbox\":{\"style\":\"light\"}}},\"yaxis\":{\"title\":{\"text\":\"Rendimiento\"}},\"xaxis\":{\"title\":{\"text\":\"Desviaci\\u00f3n est\\u00e1ndar\"}},\"width\":900,\"height\":470},                        {\"responsive\": true}                    ).then(function(){\n",
       "                            \n",
       "var gd = document.getElementById('c474ee29-62c9-46e2-a793-a9d4b318c9ba');\n",
       "var x = new MutationObserver(function (mutations, observer) {{\n",
       "        var display = window.getComputedStyle(gd).display;\n",
       "        if (!display || display === 'none') {{\n",
       "            console.log([gd, 'removed!']);\n",
       "            Plotly.purge(gd);\n",
       "            observer.disconnect();\n",
       "        }}\n",
       "}});\n",
       "\n",
       "// Listen for the removal of the full notebook cells\n",
       "var notebookContainer = gd.closest('#notebook-container');\n",
       "if (notebookContainer) {{\n",
       "    x.observe(notebookContainer, {childList: true});\n",
       "}}\n",
       "\n",
       "// Listen for the clearing of the current output cell\n",
       "var outputEl = gd.closest('.output');\n",
       "if (outputEl) {{\n",
       "    x.observe(outputEl, {childList: true});\n",
       "}}\n",
       "\n",
       "                        })                };                });            </script>        </div>"
      ]
     },
     "metadata": {},
     "output_type": "display_data"
    }
   ],
   "source": [
    "# Número de activos considerados \n",
    "n_assets = 5\n",
    "\n",
    "# Número de simulaciones realizadas \n",
    "n_simulation = 500\n",
    "\n",
    "# Establecer una semilla\n",
    "np.random.seed(15)\n",
    "\n",
    "# Generación de muestras aleatorias de distribución normal utilizadas como rendimientos \n",
    "returns = np.random.randn(n_assets, n_simulation)\n",
    "\n",
    "# Generación de números aleatorios para calcular ponderaciones \n",
    "rand = np.random.rand(n_assets)\n",
    "\n",
    "# Cálculo de ponderaciones\n",
    "weights = rand/sum(rand)\n",
    "\n",
    "# Función utilizada para calcular el rendimiento esperado de la cartera y la desviación estándar de la cartera \n",
    "def port_return(returns):\n",
    "    rets = np.mean(returns, axis=1)\n",
    "    cov = np.cov(rets.T, aweights=weights, ddof=1)\n",
    "    portfolio_returns = np.dot(weights, rets.T)\n",
    "    portfolio_std_dev = np.sqrt(np.dot(weights, np.dot(cov, weights)))\n",
    "    return portfolio_returns, portfolio_std_dev\n",
    "    \n",
    "# Llamar al resultado de la función \n",
    "portfolio_returns, portfolio_std_dev = port_return(returns)\n",
    "\n",
    "# Imprimir el resultado del rendimiento esperado de la cartera y desviación estándar de la cartera.\n",
    "print(portfolio_returns)\n",
    "print(portfolio_std_dev)\n",
    "\n",
    "# Vuelvo a ejecutar la función 100 veces. \n",
    "portfolio = np.array([port_return(np.random.randn(n_assets, i))\n",
    "for i in range(1, 101)])\n",
    "\n",
    "# Para dibujar la línea de mejor ajuste, ejecuto una regresión lineal. \n",
    "best_fit = sm.OLS(portfolio[:, 1], sm.add_constant(portfolio[:, 0]))\\\n",
    ".fit().fittedvalues\n",
    "\n",
    "# Dibujo un gráfico interactivo con fines de visualización.\n",
    "fig = go.Figure()\n",
    "fig.add_trace(go.Scatter(name='Risk-Return Relationship', x=portfolio[:,0],\n",
    "y=portfolio[:,1], mode='markers'))\n",
    "fig.add_trace(go.Scatter(name='Best Fit Line', x=portfolio[:,0],\n",
    "y=best_fit, mode='lines'))\n",
    "fig.update_layout(yaxis_title = 'Rendimiento', xaxis_title = 'Desviación estándar',\n",
    "width=900, height=470)\n",
    "fig.show()"
   ]
  },
  {
   "cell_type": "markdown",
   "id": "e4dcd26b-ded3-4e89-9982-0cc4a4cc52e9",
   "metadata": {},
   "source": [
    "## Selección Adversa\n",
    "Supongamos que la función de utilidad del consumidor es: \n",
    "$$U(x) = e^{\\gamma x}$$ \n",
    "donde x es el ingreso e γ es un parámetro, que toma valores entre 0 y 1.\n",
    "\n",
    "El objetivo final de este ejemplo es decidir si se compra o no un seguro en función de la utilidad del consumidor. Para practicar, asumo que el ingreso es de $2$ USD y el costo del accidente es de $1,5$ USD. Ahora es el momento de calcular la probabilidad de pérdida, $\\phi$, que está dada exógenamente y está distribuida uniformemente. Como último paso, para encontrar el equilibrio, tengo que definir la oferta y la demanda de cobertura de seguro. El siguiente bloque de código indica cómo podemos modelar la selección adversa."
   ]
  },
  {
   "cell_type": "code",
   "execution_count": 38,
   "id": "fb7b966b-cb94-48ee-91fa-618946fd7510",
   "metadata": {},
   "outputs": [
    {
     "name": "stdout",
     "output_type": "stream",
     "text": [
      "The highest three probability of losses are [0.76865997 0.81628632 0.95157986]\n"
     ]
    },
    {
     "data": {
      "image/png": "[encoded data removed]",
      "text/plain": [
       "<Figure size 640x480 with 1 Axes>"
      ]
     },
     "metadata": {},
     "output_type": "display_data"
    }
   ],
   "source": [
    "# Escribir una función para la función de utilidad con aversión al riesgo. \n",
    "def utility(x):\n",
    "    return(np.exp(x ** gamma))\n",
    "\n",
    "# Generación de muestras aleatorias a partir de distribución uniforme. \n",
    "pi = np.random.uniform(0,1,20)\n",
    "pi = np.sort(pi)\n",
    "\n",
    "# Eligiendo los últimos tres elementos. \n",
    "print('The highest three probability of losses are {}'.format(pi[-3:]))\n",
    "y = 2\n",
    "c = 1.5\n",
    "Q = 5\n",
    "D = 0.01\n",
    "gamma = 0.4\n",
    "\n",
    "# Redacción de una función para el suministro de contratos de seguro. \n",
    "def supply(Q):\n",
    "    return(np.mean(pi[-Q:]) * c)\n",
    "\n",
    "# Escribir una función para la demanda de contratos de seguro.\n",
    "def demand(D):\n",
    "    return(np.sum(utility(y - D) > pi * utility(y - c) + (1 - pi) * utility(y)))\n",
    "\n",
    "plt.figure()\n",
    "plt.plot([demand(i) for i in np.arange(0, 1.9, 0.02)], np.arange(0, 1.9,\n",
    "0.02),\n",
    "'r', label='Demanda de seguro')\n",
    "plt.plot(range(1,21), [supply(j) for j in range(1,21)],'g', label='Oferta de seguro')\n",
    "plt.ylabel(\"Costo medio\")\n",
    "plt.xlabel(\"número de personas\")\n",
    "plt.legend()\n",
    "plt.show()"
   ]
  }
 ],
 "metadata": {
  "kernelspec": {
   "display_name": "Python 3 (ipykernel)",
   "language": "python",
   "name": "python3"
  },
  "language_info": {
   "codemirror_mode": {
    "name": "ipython",
    "version": 3
   },
   "file_extension": ".py",
   "mimetype": "text/x-python",
   "name": "python",
   "nbconvert_exporter": "python",
   "pygments_lexer": "ipython3",
   "version": "3.11.6"
  }
 },
 "nbformat": 4,
 "nbformat_minor": 5
}
