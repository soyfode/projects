{
 "cells": [
  {
   "cell_type": "markdown",
   "id": "31189491-7fa9-4674-a593-02d0e78c18fe",
   "metadata": {},
   "source": [
    "# Aprendizaje supervisado con scikit-learn\n",
    "\n",
    "- Los valores a predecir ya están.\n",
    "- Utiliza funciones para predecir el valor de una variable objeto.\n",
    "\n",
    "Existe dos tipos de aprendizaje supervisado:\n",
    "\n",
    "1. Clasificación.- Predice la etiqueta o categoría de una observación binaria. Por ejemplo podemos predecir si una transacción bancaria es fraudulenta o no (Clasificación binaria).\n",
    "2. Regresión.- Se utiliza para predecir valores continuos. Por jemplo, predice el precio de propiedad dado la característica (variable predictiva o variable independiente) el número de dormitorios y el tamaño de una propiedad. Lo que llamamos variable objeto hace referencia a variable dependiente o variable respuesta.\n",
    "\n",
    "CONDICIONES:\n",
    "\n",
    "1. Los datos no deben tener valores faltantes.\n",
    "2. Deben ser numéricos.\n",
    "3. Se almacenan como DataFrames, series o matrices NumPy.\n",
    "\n",
    "scikit-learn sigue la misma sintaxis para todo los modelos de aprendizaje supervisado, lo que hace que el flujo de trabajo sea repetible."
   ]
  },
  {
   "cell_type": "code",
   "execution_count": 7,
   "id": "4d24ef13-95df-4c60-8cce-ab09f85191e8",
   "metadata": {},
   "outputs": [],
   "source": [
    "# LIBRERIAS\n",
    "import pandas as pd\n",
    "import numpy as np\n",
    "import matplotlib.pyplot as plt"
   ]
  },
  {
   "cell_type": "code",
   "execution_count": 8,
   "id": "686b96e0-efe3-4f9b-aa4a-ec952e16177b",
   "metadata": {},
   "outputs": [
    {
     "ename": "ModuleNotFoundError",
     "evalue": "No module named 'sklearn.module'",
     "output_type": "error",
     "traceback": [
      "\u001b[0;31m---------------------------------------------------------------------------\u001b[0m",
      "\u001b[0;31mModuleNotFoundError\u001b[0m                       Traceback (most recent call last)",
      "Cell \u001b[0;32mIn[8], line 2\u001b[0m\n\u001b[1;32m      1\u001b[0m \u001b[38;5;66;03m# Importar libraria scikit-learn\u001b[39;00m\n\u001b[0;32m----> 2\u001b[0m \u001b[38;5;28;01mfrom\u001b[39;00m \u001b[38;5;21;01msklearn\u001b[39;00m\u001b[38;5;21;01m.\u001b[39;00m\u001b[38;5;21;01mmodule\u001b[39;00m \u001b[38;5;28;01mimport\u001b[39;00m Model\n\u001b[1;32m      3\u001b[0m \u001b[38;5;66;03m# Creamos una instancia del modelo\u001b[39;00m\n\u001b[1;32m      4\u001b[0m model \u001b[38;5;241m=\u001b[39m Model()\n",
      "\u001b[0;31mModuleNotFoundError\u001b[0m: No module named 'sklearn.module'"
     ]
    }
   ],
   "source": [
    "# Importar libraria scikit-learn\n",
    "from sklearn.module import Model\n",
    "# Creamos una instancia del modelo\n",
    "model = Model()\n",
    "# Ajustamos el modelo X, a una matriz de nuestras características y a \"y\" una matriz de nuestros valores de variable objetivo\n",
    "model.fit(X,y)\n",
    "# Utilizamos el método de predicción de puntos del modelo y pasamos otras nuevas observaciones.\n",
    "predictions = model.predict(X_new)"
   ]
  },
  {
   "cell_type": "code",
   "execution_count": 165,
   "id": "20099a0b-893c-4603-ae69-ae3c8fc47c3a",
   "metadata": {},
   "outputs": [],
   "source": [
    "# Librerias\n",
    "import pandas as pd\n",
    "import numpy as np\n",
    "import matplotlib.pyplot as plt"
   ]
  },
  {
   "cell_type": "markdown",
   "id": "81bde1f1-c0d0-4264-9526-8fe0dcc20cb8",
   "metadata": {},
   "source": [
    "## Clasificación"
   ]
  },
  {
   "cell_type": "code",
   "execution_count": 199,
   "id": "5e99818e-838a-408f-9b74-11ddf5e88c7e",
   "metadata": {},
   "outputs": [],
   "source": [
    "# DATA\n",
    "ruta_archivo = '/home/jovyan/notebooks/data/telecom_churn_clean.csv'\n",
    "churn_df = pd.read_csv(ruta_archivo,index_col = None)\n",
    "churn_df = churn_df.iloc[:,1:]"
   ]
  },
  {
   "cell_type": "markdown",
   "id": "f28ef91b-7426-4df3-81a2-063a4d5ad3c2",
   "metadata": {},
   "source": [
    "- En esta data, la variable objetivo sería: Churn.- Clientes que se van de la empresa.\n",
    "\n",
    "#### PASOS PARA CONTRUCCIÓN DEL MODELO:\n",
    "\n",
    "1. Construir el clasificador que aprende de los datos etiquetados que le pasaremos.\n",
    "2. Pasar datos sin etiquetar como entrada.\n",
    "3. Hacer que prediga etiquetas para estos datos invisibles.\n",
    "\n",
    "A medida que el clasificador aprende de los datos etiquetados, los llamaremos **DATOS DE ENTRENAMIENTO**\n",
    "\n",
    "Para ello utilizaremos un algoritmo llamado **K-Vecimos más cercanos (KNN)**.\n",
    "\n",
    "La idea de este algoritmo es predecir la etiqueta de cualquier punto de datos \"k\"; por ejemplo, 3 datos etiquetados más cercanos. Utiliza la votación por mayoria, que hace predicciones basadas en la etiqueta que tiene la mayoria de los vecinos más cercanos."
   ]
  },
  {
   "cell_type": "code",
   "execution_count": 200,
   "id": "21adbe5a-cc20-4256-b2d7-5b1e2a556cb8",
   "metadata": {},
   "outputs": [
    {
     "name": "stdout",
     "output_type": "stream",
     "text": [
      "(3333, 2) (3333,)\n",
      "(3, 2)\n",
      "Predicción: [1 0 0]\n"
     ]
    }
   ],
   "source": [
    "# Para ajustar el modelo KNN usando scikit-learn importamos:\n",
    "from sklearn.neighbors import KNeighborsClassifier\n",
    "\n",
    "# Dividimos nuestros datos en X e y. Convertimos con .values al Array\n",
    "X = churn_df[[\"total_day_charge\",\"total_eve_charge\"]].values\n",
    "y = churn_df[\"churn\"].values\n",
    "\n",
    "# Imprimir las observaciones de dos características de 3333 observaciones\n",
    "print(X.shape,y.shape)\n",
    "\n",
    "# Creamos una instancia de nKNeighborsClassifier, con neighbors 15.\n",
    "knn = KNeighborsClassifier(n_neighbors = 15)\n",
    "\n",
    "# Ajustamos el clasificador a nuestros datos etiquetados aplicando la función de clasificador\n",
    "knn.fit(X,y)\n",
    "\n",
    "# Nuevas observaciones\n",
    "X_new = np.array([\n",
    "    [56.8,17.5],\n",
    "    [24.4,24.1],\n",
    "    [50.1,10.9]\n",
    "])\n",
    "# Imprimir\n",
    "print(X_new.shape)\n",
    "\n",
    "# Usando el métodod de predicción de puntos del clasificador le pasamos datos invisibles\n",
    "predictions = knn.predict(X_new)\n",
    "\n",
    "# 1. Se va, 0. se queda.\n",
    "print('Predicción: {}'.format(predictions))"
   ]
  },
  {
   "cell_type": "markdown",
   "id": "4359abe4-68ad-40ee-b2e8-9ad4f1481b1e",
   "metadata": {},
   "source": [
    "La impresión de las predicciones devuelve un valor binario para cada observación o fila en X_new"
   ]
  },
  {
   "cell_type": "markdown",
   "id": "19488fa4-00b7-461a-9d56-fe3bb4d16d51",
   "metadata": {},
   "source": [
    "#### Medición del rendimiento del modelo\n",
    "\n",
    "- En clasificación, la **precisión** (knn.score) es una métrica de uso común.\n",
    "$$Precisión = \\dfrac{Predicciones \\; correctas}{Total \\; observaciones}$$\n",
    "\n",
    "Dado que estos datos se utilizaron para entrenar el modelo, el rendimiento no será el indicado, para otros datos invisibles. \n",
    "\n",
    "Por lo tanto, es común dividir los datos en: \n",
    "- un conjunto de entrenamiento y\n",
    "- un conjunto de prueba.\n",
    "\n",
    "1. Ajustamos el clasificador usando el conjunto de entrenamiento.\n",
    "2. Calculamos la precisión del modelo comparándola con las etiqutas del conjunto de prueba.\n",
    "\n",
    "Para medir importamos lo siguente:"
   ]
  },
  {
   "cell_type": "code",
   "execution_count": 201,
   "id": "72dc90bb-8e2d-4db9-8e90-f7a8bd8cf3a9",
   "metadata": {},
   "outputs": [
    {
     "name": "stdout",
     "output_type": "stream",
     "text": [
      "0.872\n"
     ]
    }
   ],
   "source": [
    "# Importar train_test_split\n",
    "from sklearn.model_selection import train_test_split\n",
    "\n",
    "# Llamamos train_test_split pasando nuestras características y objetivos (array)\n",
    "X_train, X_test, y_train, y_test = train_test_split(X, y, \n",
    "                                                    test_size = 0.3, \n",
    "                                                   random_state = 21,\n",
    "                                                   stratify = y)\n",
    "# Es buena práctica garantizar que nuestra división refleje la proporción de etiquetas en nuestros datos\n",
    "# Entonces, si la deserción ocurre en el 10% de las observaciones, queremos que el 10% de las etiquetas\n",
    "# en nuestro conjunto de entrenamiento y prueba represente la deserción, (strarify = y)\n",
    "\n",
    "\n",
    "# Ahora creamos una instancia de un modelo KNN y lo ajustamos a los datos de entrenamiento utilziando el método de ajsute de puntos\n",
    "knn = KNeighborsClassifier(n_neighbors = 6)\n",
    "knn.fit(X_train, y_train)\n",
    "\n",
    "# Comprobar la precisión con el método de puntuación de puntos.\n",
    "print(knn.score(X_test,y_test))"
   ]
  },
  {
   "cell_type": "markdown",
   "id": "fc599314-8273-4722-8f23-01268270ace1",
   "metadata": {},
   "source": [
    "La precisión de nuestros modelo es 87%, lo cual es bajo dado que nuetras etiquetas tiene una proporción de 9 a 1.\n",
    "\n",
    "#### Interpretación de k,\n",
    "\n",
    "A medida que k aumenta, el límite de decisión es menos afectado por observaciones individuales, lo que refleja un modelo más simples:\n",
    "\n",
    "1. Estos modelos simples con mayor \"k\" son menos capaces de detectar relaciones en el conjunto de datos, lo que se conoce como **desajuste**.\n",
    "2. Contrariamente los modelos, con valores pequeños de \"k\", pueden ser sensibles al ruido en los datos de entrenamiento en lugar de reflejar tendencias generales. Esto se conoce como **Sobreajuste**.\n",
    "\n",
    "Podemos también interpretar \"k\" usando una **curva de complejidad del modelo**. Donde podemos calcular la precisión del entrenamiento."
   ]
  },
  {
   "cell_type": "code",
   "execution_count": 202,
   "id": "2edc387d-827a-4110-a32e-3d4e44e8bfb0",
   "metadata": {},
   "outputs": [
    {
     "data": {
      "image/png": "[encoded data removed]",
      "text/plain": [
       "<Figure size 800x600 with 1 Axes>"
      ]
     },
     "metadata": {},
     "output_type": "display_data"
    }
   ],
   "source": [
    "# Creamos diccionarios vacíos para almacenar las precisiones de nuestro\n",
    "# entrenamiento y prueba, y una matriz que contiene un rango de valores \"k\".\n",
    "train_accuracies = {}\n",
    "test_accuracies = {}\n",
    "neighbors = np.arange(1, 26)\n",
    "\n",
    "# Usamos un bucle for para repetir nuestro flujo de trabajo anterior, construyendo \n",
    "# varios modelos usando un número diferente de vecinos.\n",
    "for neighbor in neighbors:\n",
    "    knn =  KNeighborsClassifier(n_neighbors = neighbor)\n",
    "    # Entrenamos\n",
    "    knn.fit(X_train, y_train)\n",
    "    # Calculamos la precisión del conjunto de entrenamiento y prueba.\n",
    "    train_accuracies[neighbor] = knn.score(X_train, y_train)\n",
    "    test_accuracies[neighbor] = knn.score(X_test, y_test)\n",
    "\n",
    "# Graficamos\n",
    "plt.figure(figsize = (8,6))\n",
    "plt.title('KNN; Variando el número de Vecinos')\n",
    "plt.plot(neighbors, train_accuracies.values(), label = \"Precisión de entrenamiento\")\n",
    "plt.plot(neighbors, test_accuracies.values(), label = \"Precisión de prueba\")\n",
    "plt.legend()\n",
    "plt.xlabel(\"Número de Neighbors\")\n",
    "plt.show()"
   ]
  },
  {
   "cell_type": "markdown",
   "id": "3d24c988-a648-4355-942c-9786e8fe0615",
   "metadata": {},
   "source": [
    "A medida de k aumenta más alla de 7, vemos un sobreajuste en datos de entrenamiento y de prueba, donde el rendimiento "
   ]
  },
  {
   "cell_type": "markdown",
   "id": "6c51223e-3acb-423b-94a6-16f277b6561f",
   "metadata": {},
   "source": [
    "**NOTA:** Para poder tener mejor precisión, dado que se pueden tener escalas diferentes, podemos utilizar la fórmula de Normalización Min-Max:\n",
    "$$z_i=\\dfrac{x_1-\\min(x)}{\\max(x)-\\min(x)}$$\n",
    "Siempre que no haya valores extremos."
   ]
  },
  {
   "cell_type": "markdown",
   "id": "57d4314b-cc7a-474b-8568-8f085ca70bc6",
   "metadata": {},
   "source": [
    "-------------------------------------------------------------------"
   ]
  },
  {
   "cell_type": "markdown",
   "id": "b241d72b-2886-4159-b29c-8384d6c6629a",
   "metadata": {},
   "source": [
    "--------------------------------------------------------------------"
   ]
  },
  {
   "cell_type": "markdown",
   "id": "acbeb076-a53e-4826-a3c5-f3a140e8d0aa",
   "metadata": {},
   "source": [
    "--------------------------------------------------------------------"
   ]
  },
  {
   "cell_type": "markdown",
   "id": "211fa811-195e-48c6-9ebe-d4346e3a4393",
   "metadata": {},
   "source": [
    "## Regresión\n",
    "\n",
    "Normalmente se tiene valores continuos. \n",
    "\n",
    "Empecemos con datos de salud de las mujeres para predecir los niveles de glucosa en sangre.\n",
    "\n",
    "**VARIABLES**:\n",
    "\n",
    "- pregnancies -> número de embarazos\n",
    "- glucose -> Glucosa\n",
    "- triceps -> pliegue cutáneo del tríceps\n",
    "- insulin -> Niveles de insulina\n",
    "- bmi -> indice de masa corporal\n",
    "- age -> edad\n",
    "- diabetes -> Estado de diabetes 1. indica diagnostico, 2. ausencia de diagnostico."
   ]
  },
  {
   "cell_type": "code",
   "execution_count": 9,
   "id": "f4241e3d-7652-4641-ab5a-86954d358b99",
   "metadata": {},
   "outputs": [
    {
     "data": {
      "text/html": [
       "<div>\n",
       "<style scoped>\n",
       "    .dataframe tbody tr th:only-of-type {\n",
       "        vertical-align: middle;\n",
       "    }\n",
       "\n",
       "    .dataframe tbody tr th {\n",
       "        vertical-align: top;\n",
       "    }\n",
       "\n",
       "    .dataframe thead th {\n",
       "        text-align: right;\n",
       "    }\n",
       "</style>\n",
       "<table border=\"1\" class=\"dataframe\">\n",
       "  <thead>\n",
       "    <tr style=\"text-align: right;\">\n",
       "      <th></th>\n",
       "      <th>pregnancies</th>\n",
       "      <th>glucose</th>\n",
       "      <th>diastolic</th>\n",
       "      <th>triceps</th>\n",
       "      <th>insulin</th>\n",
       "      <th>bmi</th>\n",
       "      <th>dpf</th>\n",
       "      <th>age</th>\n",
       "      <th>diabetes</th>\n",
       "    </tr>\n",
       "  </thead>\n",
       "  <tbody>\n",
       "    <tr>\n",
       "      <th>0</th>\n",
       "      <td>6</td>\n",
       "      <td>148</td>\n",
       "      <td>72</td>\n",
       "      <td>35</td>\n",
       "      <td>0</td>\n",
       "      <td>33.6</td>\n",
       "      <td>0.627</td>\n",
       "      <td>50</td>\n",
       "      <td>1</td>\n",
       "    </tr>\n",
       "    <tr>\n",
       "      <th>1</th>\n",
       "      <td>1</td>\n",
       "      <td>85</td>\n",
       "      <td>66</td>\n",
       "      <td>29</td>\n",
       "      <td>0</td>\n",
       "      <td>26.6</td>\n",
       "      <td>0.351</td>\n",
       "      <td>31</td>\n",
       "      <td>0</td>\n",
       "    </tr>\n",
       "    <tr>\n",
       "      <th>2</th>\n",
       "      <td>8</td>\n",
       "      <td>183</td>\n",
       "      <td>64</td>\n",
       "      <td>0</td>\n",
       "      <td>0</td>\n",
       "      <td>23.3</td>\n",
       "      <td>0.672</td>\n",
       "      <td>32</td>\n",
       "      <td>1</td>\n",
       "    </tr>\n",
       "    <tr>\n",
       "      <th>3</th>\n",
       "      <td>1</td>\n",
       "      <td>89</td>\n",
       "      <td>66</td>\n",
       "      <td>23</td>\n",
       "      <td>94</td>\n",
       "      <td>28.1</td>\n",
       "      <td>0.167</td>\n",
       "      <td>21</td>\n",
       "      <td>0</td>\n",
       "    </tr>\n",
       "    <tr>\n",
       "      <th>4</th>\n",
       "      <td>0</td>\n",
       "      <td>137</td>\n",
       "      <td>40</td>\n",
       "      <td>35</td>\n",
       "      <td>168</td>\n",
       "      <td>43.1</td>\n",
       "      <td>2.288</td>\n",
       "      <td>33</td>\n",
       "      <td>1</td>\n",
       "    </tr>\n",
       "  </tbody>\n",
       "</table>\n",
       "</div>"
      ],
      "text/plain": [
       "   pregnancies  glucose  diastolic  triceps  insulin   bmi    dpf  age  \\\n",
       "0            6      148         72       35        0  33.6  0.627   50   \n",
       "1            1       85         66       29        0  26.6  0.351   31   \n",
       "2            8      183         64        0        0  23.3  0.672   32   \n",
       "3            1       89         66       23       94  28.1  0.167   21   \n",
       "4            0      137         40       35      168  43.1  2.288   33   \n",
       "\n",
       "   diabetes  \n",
       "0         1  \n",
       "1         0  \n",
       "2         1  \n",
       "3         0  \n",
       "4         1  "
      ]
     },
     "execution_count": 9,
     "metadata": {},
     "output_type": "execute_result"
    }
   ],
   "source": [
    "# DATA\n",
    "ruta_archivo = '/home/jovyan/notebooks/data/diabetes_clean.csv'\n",
    "diabetes_df = pd.read_csv(ruta_archivo,index_col = None)\n",
    "diabetes_df.head()"
   ]
  },
  {
   "cell_type": "code",
   "execution_count": 10,
   "id": "3e02f0c0-fe35-4670-a3f4-9dd0b68a4266",
   "metadata": {},
   "outputs": [
    {
     "name": "stdout",
     "output_type": "stream",
     "text": [
      "<class 'numpy.ndarray'> <class 'numpy.ndarray'>\n"
     ]
    }
   ],
   "source": [
    "# Crear característica y valor objetivo\n",
    "X = diabetes_df.drop(\"glucose\", axis = 1).values\n",
    "y = diabetes_df[\"glucose\"].values\n",
    "\n",
    "# Corroborar que sean de tipo array\n",
    "print(type(X),type(y))"
   ]
  },
  {
   "cell_type": "markdown",
   "id": "50f9e94f-e9c9-419e-aaca-15e5ac6a0d9d",
   "metadata": {},
   "source": [
    "- Empecemos a predecir los niveles de glucosa en sangre a partir de una única característica: el índice de masa corporal"
   ]
  },
  {
   "cell_type": "code",
   "execution_count": 11,
   "id": "e5b80a56-e06a-4d2e-8144-54fb4aa292cf",
   "metadata": {},
   "outputs": [
    {
     "name": "stdout",
     "output_type": "stream",
     "text": [
      "(768,) (768,)\n",
      "(768,) (768, 1)\n"
     ]
    }
   ],
   "source": [
    "# Cortamos la columna BMI de X, que es la cuarta columna\n",
    "X_bmi = X[:,4]\n",
    "\n",
    "# Verificar la forma de X e y\n",
    "print(y.shape,X_bmi.shape)\n",
    "\n",
    "# La forma para X_bmi no es correcta debido a que debe ser (768,1).\n",
    "# Para ello aplicamos lo siguente\n",
    "X_bmi = X_bmi.reshape(-1,1)\n",
    "print(y.shape,X_bmi.shape)"
   ]
  },
  {
   "cell_type": "markdown",
   "id": "05ec63dd-c474-4f69-8d4c-29813a9b2de8",
   "metadata": {},
   "source": [
    "- Grafiquemos los niveles de glucosa en sangre en función del ínidce de masa corporal."
   ]
  },
  {
   "cell_type": "code",
   "execution_count": 12,
   "id": "fdd6a9d8-d2f4-42d0-9fef-acbe63b4c5a5",
   "metadata": {},
   "outputs": [
    {
     "data": {
      "image/png": "[encoded data removed]",
      "text/plain": [
       "<Figure size 640x480 with 1 Axes>"
      ]
     },
     "metadata": {},
     "output_type": "display_data"
    }
   ],
   "source": [
    "# Grafico\n",
    "plt.scatter(X_bmi, y)\n",
    "plt.ylabel(\"Glucosa en la sangre (mg/dl)\")\n",
    "plt.xlabel(\"Índice de masa corporal\")\n",
    "plt.show()"
   ]
  },
  {
   "cell_type": "markdown",
   "id": "ed499a5d-f770-4f0d-9dba-324b880835ac",
   "metadata": {},
   "source": [
    "- Ahora ajustemos el modelo y tracemos las predicciones"
   ]
  },
  {
   "cell_type": "code",
   "execution_count": 13,
   "id": "2919638a-e1d7-4b97-b4e2-50ccec597b18",
   "metadata": {},
   "outputs": [
    {
     "data": {
      "image/png": "[encoded data removed]",
      "text/plain": [
       "<Figure size 640x480 with 1 Axes>"
      ]
     },
     "metadata": {},
     "output_type": "display_data"
    }
   ],
   "source": [
    "# Importar LinearRegression\n",
    "from sklearn.linear_model import LinearRegression\n",
    "\n",
    "# Creamos una instancia de nuestro modelo\n",
    "reg = LinearRegression()\n",
    "\n",
    "# Ajustamos el modelo a todas nuestras observaciones de características\n",
    "reg.fit(X_bmi, y)\n",
    "\n",
    "# Crear la variable de predicciones\n",
    "predictions = reg.predict(X_bmi)\n",
    "\n",
    "# Graficamos\n",
    "plt.scatter(X_bmi, y)\n",
    "plt.plot(X_bmi, predictions)\n",
    "plt.ylabel(\"Glucosa en la sangre (mg/dl)\")\n",
    "plt.xlabel(\"Índice de masa corporal\")\n",
    "plt.show()"
   ]
  },
  {
   "cell_type": "markdown",
   "id": "52f19cd6-8a54-45ff-9a2f-6b23ed3ef6c2",
   "metadata": {},
   "source": [
    "### Conceptos básicos de regresión lineal\n",
    "\n",
    "Se tiene,\n",
    "\n",
    "$$y = ax + b$$\n",
    "\n",
    "Donde, \n",
    "$$\n",
    "\\begin{array}{rcl}\n",
    "    y &=& Objeto\\\\\n",
    "    x &=& caracteristica\\\\\n",
    "    a &=& Pendiente\\\\\n",
    "    b &=& Intersección\n",
    "\\end{array}\n",
    "$$\n",
    "\n",
    "- ¿Cómo escogemos $a$ y $b$?\n",
    "    - Podemos definir una función de error para cualquier linea dada.\n",
    "    - Luego, podemos elegir la linea que minimice esta función.\n",
    " \n",
    "La función de error se denomina **funciones de pérdida o de costo**\n",
    "\n",
    "- La distancia entre el punto dado y la linea de regresion se llama **suma de residuos**, los cuales querremos minimizar. Es decir,\n",
    "$$RSS = \\sum_{i=1}^n \\left(y_i-\\hat{y}_i\\right)^2$$\n",
    "\n",
    "Este tipo de regresión lineal se le llama **Minimos cuadrados ordinarios** o **OLS**.\n",
    "\n",
    "- Cuando se agregan más funciones se le llama regresión lineal múltiple.\n",
    "\n",
    "Ahora, realizaremos una regresión lineal múltiple con los datos de diabetes:"
   ]
  },
  {
   "cell_type": "code",
   "execution_count": 14,
   "id": "6e43709a-cca1-4cd5-8883-0812274286c6",
   "metadata": {},
   "outputs": [],
   "source": [
    "# Importar librerias\n",
    "from sklearn.model_selection import train_test_split\n",
    "from sklearn.linear_model import LinearRegression\n",
    "\n",
    "# DATA\n",
    "ruta_archivo = '/home/jovyan/notebooks/data/diabetes_clean.csv'\n",
    "diabetes_df = pd.read_csv(ruta_archivo,index_col = None)\n",
    "diabetes_df.head()\n",
    "\n",
    "# Crear característica y valor objetivo\n",
    "X = diabetes_df.drop(\"glucose\", axis = 1).values\n",
    "y = diabetes_df[\"glucose\"].values\n",
    "\n",
    "# Dividimos el conjunto de datos en entranamiento y prueba\n",
    "X_train, X_test, y_train, y_test = train_test_split(X, y, \n",
    "                                                    test_size = 0.3,\n",
    "                                                   random_state = 42)\n",
    "\n",
    "# Instanciamos el modelo\n",
    "reg_all = LinearRegression()\n",
    "\n",
    "# Ajustamos el modelo\n",
    "reg_all.fit(X_train, y_train)\n",
    "\n",
    "# Predecimos el conjunto de prueba\n",
    "y_pred = reg_all.predict(X_test)"
   ]
  },
  {
   "cell_type": "markdown",
   "id": "a7383a52-cf6b-4761-9b57-e12e3745015e",
   "metadata": {},
   "source": [
    "- La métrica predeterminada para evaluar el desempeño del modelo de regresión es $R^2$ que cuantifica la **cantidad de varianza objetivo** que se explica por las características. 1 nos dice que las características explican completamente la variación del objetivo.\n",
    "\n",
    "- Para calcular $R^2$, llamamos al método de puntación de puntos del modelo:"
   ]
  },
  {
   "cell_type": "code",
   "execution_count": 15,
   "id": "292850ed-372b-4910-b80c-41e26ebf0aaa",
   "metadata": {},
   "outputs": [
    {
     "data": {
      "text/plain": [
       "0.28280468810375115"
      ]
     },
     "execution_count": 15,
     "metadata": {},
     "output_type": "execute_result"
    }
   ],
   "source": [
    "# Calculamos R^2\n",
    "reg_all.score(X_test, y_test)"
   ]
  },
  {
   "cell_type": "markdown",
   "id": "12a4736e-643d-44ed-a717-f980a75d3f98",
   "metadata": {},
   "source": [
    "- Otra forma de evaluar el desempeño de un modelo de regresión es tomar la **media de la suma residual de cuadrados**:\n",
    "$$MSE = \\dfrac{1}{n} \\sum_{i=1}^n \\left(y_i-\\hat{y}_i\\right)^2$$\n",
    "Llamado **Error cuadrático medio**. El MSE se mide en unidades de nuestra variable objetivo al cuadrado. Por ejemplo, si el modelo predice un valor en dólares, el MSE estará en dólares al cuadrado. Para convertir a dolares:\n",
    "$$RMSE=\\sqrt{MSE}$$\n",
    "Conocida como **raìz del error cuadrático medio**.\n",
    "Para calcular el RMSE se tiene:"
   ]
  },
  {
   "cell_type": "code",
   "execution_count": 16,
   "id": "ad5796ad-4010-48db-8546-24ec2935052a",
   "metadata": {},
   "outputs": [
    {
     "data": {
      "text/plain": [
       "26.341459582232265"
      ]
     },
     "execution_count": 16,
     "metadata": {},
     "output_type": "execute_result"
    }
   ],
   "source": [
    "# Importar RMSE\n",
    "from sklearn.metrics import mean_squared_error\n",
    "\n",
    "# Calcular el error cuadrático medio\n",
    "mean_squared_error(y_test, y_pred, squared = False)"
   ]
  },
  {
   "cell_type": "markdown",
   "id": "10e2426a-14f3-46b8-a3b4-f5157bce0a91",
   "metadata": {},
   "source": [
    "- El modelo tiene un error promedio para los niveles de glucosa en sangre de alrededor de 24 miligramos por decilitro."
   ]
  },
  {
   "cell_type": "markdown",
   "id": "67f10141-5f51-4366-a647-77addb11d3d0",
   "metadata": {},
   "source": [
    "### Validación Cruzada\n",
    "\n",
    "El $R^2$ depende de la forma en que dividimos los datos por lo que no puede ser representativo para generalizar a datos invisibles. Para combatir esta dependencia de lo que es esencialmente una división aleatoria, utilizamos una técnica llamada validación cruzada.\n",
    "\n",
    "1. Se empieza dividiendo el conjunto de datos en cinco grupos.\n",
    "2. Reservemos el primer grupo como conjunto de prueba.\n",
    "3. Los cuatro restantes predicen los conjuntos de prueba.\n",
    "4. Calcular nuestra métrica de interes como el $R^2$.\n",
    "5. Reservamos el segundo grupo como nuestro conjunto de prueba, predecimos con los restantes conjuntos de prueba y calculamos de nuevo nuestro grupo de interes.\n",
    "6. Así sucesivamente.\n",
    "7. Cómo resultado adquirimos, por ejemplo cinco $R^2$'s a partir de los cuales podemos calcular estadística descriptivas, como la media, la mediana y lso intervalos de confianza.\n",
    "\n",
    "Ahora bien, usar muchos grupos es costo computacionalmente. Para realizar una validación cruzada K-fold en scikit-learn, importamos cross_val_score de sklearn-dot-model_selection y KFold que nos permite establecer una semilla y mezclar datos, haciendo que nuestros resultados sean repetibles en sentido decendente."
   ]
  },
  {
   "cell_type": "code",
   "execution_count": 17,
   "id": "4735da2a-ac8d-4eb3-a50f-d83638c47210",
   "metadata": {},
   "outputs": [
    {
     "name": "stdout",
     "output_type": "stream",
     "text": [
      "[0.26207548 0.28228176 0.41203082 0.23785884 0.41634629 0.30398869]\n",
      "Media: 0.31909697867344794 Deviación estandar: 0.070153206101142\n",
      "Intervalo de confianza al 95%: [0.24088592 0.41580685]\n"
     ]
    }
   ],
   "source": [
    "# Importamos cross_val_score y KFold\n",
    "from sklearn.model_selection import cross_val_score, KFold\n",
    "\n",
    "# Llamamos a KFold\n",
    "kf = KFold(n_splits = 6, shuffle = True, random_state = 42)\n",
    "# n_splits = 6 pliegues o grupos.\n",
    "# shuffle = Mezcla los datos antes de dividirlos.\n",
    "\n",
    "# Instaciamos el modelo\n",
    "reg = LinearRegression()\n",
    "\n",
    "# Llamamos a cross_val_score\n",
    "cv_results = cross_val_score(reg, X, y, cv = kf)\n",
    "# La longitud de la matriz es el número de pliegues (grupos) utilizados\n",
    "\n",
    "# Impromir cv_results\n",
    "print(cv_results)\n",
    "\n",
    "# Calculamos la media y la desviación estándar de cv_results\n",
    "print(\"Media:\", np.mean(cv_results),\"Deviación estandar:\", np.std(cv_results))\n",
    "\n",
    "# Calcular el interalo de confianza\n",
    "print('Intervalo de confianza al 95%:', np.quantile(cv_results,[0.025,0.975]))"
   ]
  },
  {
   "cell_type": "markdown",
   "id": "89242460-0e9e-441a-8ef7-b11dff215475",
   "metadata": {},
   "source": [
    "### Regresión regularizada \n",
    "\n",
    "Exploraremos la regularización en regresión, una técnica para evitar el sobreajuste.\n",
    "\n",
    "Recordemos que ajustar **un modelo de regresión minimiza una pérdida**. Si permitimos que estos ajustes (coeficientes) sean grandes, podemos producir un sobreajuste.\n",
    "\n",
    "Por lo tanto, es una práctica común alterar la función de pérdida para que penalice los coeficientes grandes, a esto se le llama **regularización**.\n",
    "\n",
    "Existen dos tipos de regresión regularizada:\n",
    "\n",
    "1. Regresión Ridge.\n",
    "2. Regresión Lasso."
   ]
  },
  {
   "cell_type": "markdown",
   "id": "53181d77-0d66-49ee-8ce3-8a0020c5aa86",
   "metadata": {},
   "source": [
    "#### Regresión Ridge\n",
    "\n",
    "Utilizamos la función de pérdida de mínimos cuadrados ordinarios más el valor al cuadrado de cada coeficiente, multiplicado por una constante $\\alpha$:\n",
    "$$\\text{Función de pérdida OLS} + \\alpha\\cdot \\sum_{i=1}^n a_i^2.$$\n",
    "\n",
    "La idea es que al minimizar la función de pérdida, los modelos son penalizados por coeficientes con valores positivos o negativos grandes. Luego elegimos un valor $\\alpha$ para poder ajustar y predecir, de tal forma el modelo podría funcionar mejor. Para hacer una analogía es como elegir un $k$ optimo en KNN. EL $\\alpha$ se conoce como el hiperparámetro. Esta $\\alpha$ controla la complejidad del modelo.\n",
    "\n",
    "- Al utilizar $\\alpha=0$, los coeficientes no se penalizas y puede ocurrir un sobreajuste.\n",
    "- Un $\\alpha$ alto, significa que los coeficientes grandes se ven penalizados, lo que puede provocar un desajuste."
   ]
  },
  {
   "cell_type": "code",
   "execution_count": 18,
   "id": "0e5c72f6-4f66-4c6e-ba78-7441874a09b3",
   "metadata": {},
   "outputs": [
    {
     "name": "stdout",
     "output_type": "stream",
     "text": [
      "[0.2828466623222221, 0.28320633574804766, 0.2853000732200006, 0.26423984812668133, 0.19292424694100963]\n"
     ]
    }
   ],
   "source": [
    "# Ridge regressión en scikit-learn\n",
    "from sklearn.linear_model import Ridge\n",
    "\n",
    "# Para resaltar el impacto de diferentes valores de alpha, creamos un espacio vacio\n",
    "scores = []\n",
    "for alpha in [0.1,1.0,10.0,100.0,1000.0]:\n",
    "    ridge = Ridge(alpha = alpha)\n",
    "    ridge.fit(X_train,y_train)\n",
    "    y_pred = ridge.predict(X_test)\n",
    "    scores.append(ridge.score(X_test,y_test))\n",
    "\n",
    "# Imprimir\n",
    "print(scores)"
   ]
  },
  {
   "cell_type": "markdown",
   "id": "a3f3ac7d-b022-4a76-8968-7fccb390fc1e",
   "metadata": {},
   "source": [
    "- Vemos que el rendimiento empeora a medida que aumenta alfa"
   ]
  },
  {
   "cell_type": "markdown",
   "id": "3f7e8e39-2cb1-4222-ab8c-3fa7fd978c7e",
   "metadata": {},
   "source": [
    "#### Valor optimo alpha en la regresión Rigde"
   ]
  },
  {
   "cell_type": "code",
   "execution_count": 30,
   "id": "a68d4b1e-bc37-409f-8421-af3d9f4e2b84",
   "metadata": {},
   "outputs": [
    {
     "name": "stdout",
     "output_type": "stream",
     "text": [
      "El alpha óptimo es:  1.0\n",
      "El score con el alpha óptimo es:  0.28320633574804766\n"
     ]
    }
   ],
   "source": [
    "from sklearn.linear_model import RidgeCV\n",
    "\n",
    "# Definir los valores de alpha que quieres probar\n",
    "alphas = [0.01,0.1, 1.0, 10.0, 100.0, 1000.0]\n",
    "\n",
    "# Crear el objeto RidgeCV\n",
    "ridge_cv = RidgeCV(alphas=alphas, cv=5)\n",
    "\n",
    "# Ajustar el modelo\n",
    "ridge_cv.fit(X_train, y_train)\n",
    "\n",
    "# Imprimir el alpha óptimo\n",
    "print(\"El alpha óptimo es: \", ridge_cv.alpha_)\n",
    "\n",
    "# Predecir y calcular el score con el alpha óptimo\n",
    "y_pred = ridge_cv.predict(X_test)\n",
    "score = ridge_cv.score(X_test, y_test)\n",
    "print(\"El score con el alpha óptimo es: \", score)\n"
   ]
  },
  {
   "cell_type": "markdown",
   "id": "7c4ceebd-bf41-4327-a134-10fa335e236d",
   "metadata": {},
   "source": [
    "### Regresión Lasso\n",
    "\n",
    "Función de pérdida OLS (MCO) más el valor absoluto de cada coeficiente multiplicado por alguna constantes $\\alpha$:\n",
    "$$\\text{Función de pérdida OLS} + \\alpha \\cdot \\sum_{i=1}^n |a_i|.$$ \n",
    "\n",
    "- **La regresión Lasso se puede utilizar para evaluar la importancia de las caracteristica**.\n",
    "- Esto se debe a que tiende a reducir a cero los coeficientes de las caracteristicas menos importantes.\n",
    "- Las caracteristicas cuyos coeficientes no se reducen a cero se seleccionan mediante el algoritmo de Lasso."
   ]
  },
  {
   "cell_type": "code",
   "execution_count": 20,
   "id": "17de4ffa-171c-40dc-bca9-d5c105ade992",
   "metadata": {},
   "outputs": [
    {
     "name": "stdout",
     "output_type": "stream",
     "text": [
      "[0.28575325694826237, 0.29795609755827845, 0.17989838789273893, 0.18127361610181125, 0.15679544303617987]\n"
     ]
    }
   ],
   "source": [
    "# Importar regresión Lasso\n",
    "from sklearn.linear_model import Lasso\n",
    "\n",
    "# Para resaltar el impacto de diferentes valores de alpha, creamos un espacio vacio\n",
    "scores = []\n",
    "for alpha in [0.1,1.0,10.0,20.0,50.0]:\n",
    "    ridge = Lasso(alpha = alpha)\n",
    "    ridge.fit(X_train,y_train)\n",
    "    y_pred = ridge.predict(X_test)\n",
    "    scores.append(ridge.score(X_test,y_test))\n",
    "\n",
    "# Imprimir\n",
    "print(scores)"
   ]
  },
  {
   "cell_type": "markdown",
   "id": "5fac8ba1-93d4-4cd0-b2cb-3e683433b8f9",
   "metadata": {},
   "source": [
    "- El rendimiento cae sustancialmente a medida que $\\alpha$ supera los 10\n",
    "\n",
    "#### Lasso para seleccionar caracteristicas"
   ]
  },
  {
   "cell_type": "code",
   "execution_count": 27,
   "id": "d17459e4-edfc-4b66-9d8c-73efe836d626",
   "metadata": {},
   "outputs": [
    {
     "data": {
      "image/png": "[encoded data removed]",
      "text/plain": [
       "<Figure size 640x480 with 1 Axes>"
      ]
     },
     "metadata": {},
     "output_type": "display_data"
    }
   ],
   "source": [
    "# importar Lasso\n",
    "from sklearn.linear_model import Lasso\n",
    "\n",
    "# Creamos una matriz de características y objetivos, y utilizamos el conjunto de datos\n",
    "X = diabetes_df.drop(\"glucose\", axis = 1).values\n",
    "y = diabetes_df[\"glucose\"].values\n",
    "\n",
    "# Extraer los nombres de la columnas\n",
    "names = diabetes_df.drop(\"glucose\", axis = 1).columns\n",
    "\n",
    "# Creamos una instancia Lasso, estableciendo alpha en cero punto uno.\n",
    "lasso = Lasso(alpha = 0.1)\n",
    "\n",
    "# Ajustamos el modelo a los datos y extraemos el coeficiente\n",
    "lasso_coef = lasso.fit(X, y).coef_\n",
    "\n",
    "# Trazamos los coeficientes para cada caracteristica\n",
    "plt.bar(names, lasso_coef)\n",
    "plt.xticks(rotation = 45)\n",
    "plt.show()"
   ]
  },
  {
   "cell_type": "markdown",
   "id": "c7b2e9ed-c2ba-4caf-b5d6-32d131031301",
   "metadata": {},
   "source": [
    "- Podemos ver que el predictor más importante para nuestra variable objetivo es el nivel de glucosa, de si un individuo tiene diabetes o no. Esto nos permite comunicar a las personas que no son del ámbito técnico y para identificar los factores importantes para los predictores.\n",
    "\n",
    "- En **Conclusión** la regresión Ridge puede ser útil si queremos conservar todas las variables explicativas. Y la regresión Lasso si creemos que sólo queremos mantener un subconjunto de variables explicativas."
   ]
  },
  {
   "cell_type": "markdown",
   "id": "aa26fc0e-43c9-4174-9f8b-27c434a1f521",
   "metadata": {},
   "source": [
    " ## Ajuste refinado del modelo\n",
    "\n",
    "Consideremos un modleo para predecir si una transacción bancaria es fraudulento, donde sólo el $1\\%$ de las transacciones son realmente fraudulentas.\n",
    "\n",
    " Podríamos construir un modelo que clasifique cada transacción como legítima, que tendría una precisión del 99%.\n",
    "\n",
    " Sin embargo, haría un terrible trabajo al predecir el fraude. Las situación en la que una clase es más frecuente se llama **desequilibrio de clases**. Aquí, la clase de transacciones legítimas contiene muchas más instancias que la clase de transacciones fraudulentas. Este es una situación común en la práctica y requiere un enfoque diferente para evaluar el desempeño del modelo.\n",
    "\n",
    " Para resolver este problema, podemos crear una matriz de 2 por 2 que resuma el desempeño, el cual se llama **Matriz de confusión**.\n",
    "$$\n",
    "\\begin{array}{ccc}\n",
    "    & \\text{Predicción legítima} & \\text{Predicción Fraudulenta}\\\\\\\\\n",
    "    \\text{Actual: legítima} & \\text{verdadero negativo} & \\text{Falso positivo}\\\\\\\\\n",
    "    \\text{Actual: Fraudulenta & \\text{Falso negativo} & Verdadero posotivo}\n",
    "\\end{array}\n",
    "$$\n",
    "\n",
    "- **Los verdaderos positivos.** Son la cantidad de transacciones fraudulentas correctamente etiquetadas.\n",
    "- **Los verdaderos negativos.** Son el número de transacciones legítimas correctamente etiquetas.\n",
    "- **Los falsos negativos.** Son el número de transacciones legítimas incorrectamente etiquetadas.\n",
    "- **Los falsos positivos.** Son la cantidad de transacciones incorrectamente etiquetas como fraudulentas.\n",
    "\n",
    "Generalmente la clases de interés se denomina **Clase positiva**. Como nuestro objetivo es detectar fraude, la clases positiva es una transacción ilegítima.\n",
    "\n",
    "La **matríz de confusión** nos permite **recuperar la precisión**, dado por:\n",
    "$$\\dfrac{t_p+t_n}{t_p+t_n+f_p+f_n}$$\n",
    "La suma de las predicciones verdaderas dividida por la suma total de la matriz.\n",
    "\n",
    "Existen otras métricas importantes que podemos calcular a partir de la matriz de confusión:\n",
    "\n",
    "1. **La precisión o valor predictivo positivo:** Que es el número de verdaderos positivos dividido por la suma de todas las predicciones positivas.\n",
    "$$\\dfrac{\\text{verdaderos positivos}}{\\text{verdaderos positivos} + \\text{falsos positivos}}$$\n",
    "En nuestro caso, es el número de fruades correctamente etiquetadas dividida por el número total de transacciones clasificadas como fraudulentas. Una alta precisión significa tener una tasa más baja de falsos positivos. Para nuestro clasificador, esto se traduce en que menos transacciones legítimas se clasifiquen como fraudulentas.\n",
    "\n",
    "2. **Recall o sensibilidad:** Es el número de verdaderos positivos dividido por la suma de verdaderos positivos y falsos negativos.\n",
    "$$\\dfrac{\\text{verdaderos positivos}}{\\text{Vedaderos positivos}+\\text{Falsos negativos}}$$\n",
    "Un alto recuerdo refleja una tasa más baja de falsos negativos. Para nuestro clasificador, significa predecir correctamente la mayoria de las transacciones fraudulentas.\n",
    "\n",
    "3. **La puntación F1:**  Es la media armónica de precisión y recuperación dado por:\n",
    "$$2\\cdot \\dfrac{precisión\\cdot recall}{precisión + recall}$$\n",
    "\n",
    "Esta métrica da igual peso a la precisión y a la recuperación, por lo que tiene en cuenta tanto el número de errores cometidos por el modelo como el tipo de errores.\n",
    "\n",
    "La puntuación F! favorce modelos con precisión y recuperacion similares y es una herramienta útil si buscamos un modelo que funcione razonablemente bien en ambas métricas."
   ]
  },
  {
   "cell_type": "code",
   "execution_count": 32,
   "id": "d10d60cd-7f8d-4ca7-b3d8-72a7aa7763ce",
   "metadata": {},
   "outputs": [
    {
     "ename": "NameError",
     "evalue": "name 'KNeighborsClassifier' is not defined",
     "output_type": "error",
     "traceback": [
      "\u001b[0;31m---------------------------------------------------------------------------\u001b[0m",
      "\u001b[0;31mNameError\u001b[0m                                 Traceback (most recent call last)",
      "Cell \u001b[0;32mIn[32], line 5\u001b[0m\n\u001b[1;32m      2\u001b[0m \u001b[38;5;28;01mfrom\u001b[39;00m \u001b[38;5;21;01msklearn\u001b[39;00m\u001b[38;5;21;01m.\u001b[39;00m\u001b[38;5;21;01mmetrics\u001b[39;00m \u001b[38;5;28;01mimport\u001b[39;00m classification_report, confusion_matrix\n\u001b[1;32m      4\u001b[0m \u001b[38;5;66;03m# Creamos una instancia de nuestro clasificador. \u001b[39;00m\n\u001b[0;32m----> 5\u001b[0m knn \u001b[38;5;241m=\u001b[39m \u001b[43mKNeighborsClassifier\u001b[49m(n_neihbors \u001b[38;5;241m=\u001b[39m \u001b[38;5;241m7\u001b[39m)\n\u001b[1;32m      7\u001b[0m \u001b[38;5;66;03m# Dividimos los datos\u001b[39;00m\n\u001b[1;32m      8\u001b[0m X_train, y_train, X_test, y_test \u001b[38;5;241m=\u001b[39m train_test_split(X, y,\n\u001b[1;32m      9\u001b[0m                                                     test_size \u001b[38;5;241m=\u001b[39m \u001b[38;5;241m0.4\u001b[39m,\n\u001b[1;32m     10\u001b[0m                                                    random_state \u001b[38;5;241m=\u001b[39m \u001b[38;5;241m43\u001b[39m)\n",
      "\u001b[0;31mNameError\u001b[0m: name 'KNeighborsClassifier' is not defined"
     ]
    }
   ],
   "source": [
    "# Importamos la matriz de confusión\n",
    "from sklearn.metrics import classification_report, confusion_matrix\n",
    "\n",
    "# Creamos una instancia de nuestro clasificador. \n",
    "knn = KNeighborsClassifier(n_neihbors = 7)\n",
    "\n",
    "# Dividimos los datos\n",
    "X_train, y_train, X_test, y_test = train_test_split(X, y,\n",
    "                                                    test_size = 0.4,\n",
    "                                                   random_state = 43)"
   ]
  },
  {
   "cell_type": "code",
   "execution_count": null,
   "id": "2ed89207-5f06-4167-b5ab-31f25672fa66",
   "metadata": {},
   "outputs": [],
   "source": []
  }
 ],
 "metadata": {
  "kernelspec": {
   "display_name": "Python 3 (ipykernel)",
   "language": "python",
   "name": "python3"
  },
  "language_info": {
   "codemirror_mode": {
    "name": "ipython",
    "version": 3
   },
   "file_extension": ".py",
   "mimetype": "text/x-python",
   "name": "python",
   "nbconvert_exporter": "python",
   "pygments_lexer": "ipython3",
   "version": "3.11.6"
  }
 },
 "nbformat": 4,
 "nbformat_minor": 5
}
