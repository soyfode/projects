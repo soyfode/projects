{
 "cells": [
  {
   "cell_type": "markdown",
   "id": "0a74d942-ae8d-4e08-8cf7-cc7fd0252bbe",
   "metadata": {},
   "source": [
    "# Preprocesamiento de datos y Pilelines: Datos musicales.\n",
    "\n",
    "Tenemos un conjunto de datos que contiene características categóricas (el género de música). Cómo no son numéricos scikit-learn no los aceptará, por lo que debemos convertirlos en funciones numéricas.\n",
    "\n",
    "Esto lo logramos dividiendo en múltiples características binarias llamadas **variables ficticias**, una para cada categoría.\n",
    "Cero significa que la observación no era de esa categoría, mientras que un significa que si lo era.\n",
    "Por ejemplo digamos que estamos trabajando con un conjunto de datos musicales que tiene un género. 0 significa que no es Rock y 1 significa que si lo es.\n",
    "\n",
    "*(Si son varias categorías, creamos funciones binarias para cada género. Cómo cada canción tiene un género, cada fila tendrá un 1 en una de las diez columnas y ceros en el resto. Si una canción no pertence a ninguno de los primeros nueve géneros, implícitamente es una canción de rock. Esto significa que sólo necesitamos nueve características, por lo que podemos eliminar la columna rock. Si no hacemos esto, estaremos duplicando informción, lo que puede ser un problema para algunos modelos)*."
   ]
  },
  {
   "cell_type": "code",
   "execution_count": 110,
   "id": "6ddd1053-53ab-4fe2-bd9b-d563054a2c00",
   "metadata": {},
   "outputs": [],
   "source": [
    "# LIBRERIAS\n",
    "import pandas as pd\n",
    "import numpy as np\n",
    "import matplotlib.pyplot as plt\n",
    "from sklearn.model_selection import train_test_split \n",
    "from sklearn.model_selection import KFold, cross_val_score\n",
    "from sklearn.linear_model import LinearRegression\n",
    "from sklearn.linear_model import Ridge\n",
    "from sklearn.impute import SimpleImputer\n",
    "from sklearn.linear_model import LogisticRegression\n",
    "from sklearn.pipeline import Pipeline\n",
    "from sklearn.neighbors import KNeighborsClassifier\n",
    "from sklearn.metrics import confusion_matrix\n",
    "from sklearn.preprocessing import StandardScaler\n",
    "from sklearn.tree import DecisionTreeClassifier\n",
    "from sklearn.model_selection import GridSearchCV\n",
    "from sklearn.linear_model import Lasso\n",
    "from sklearn.metrics import mean_squared_error"
   ]
  },
  {
   "cell_type": "code",
   "execution_count": 39,
   "id": "b79c0d15-b11d-466f-88eb-b29f3b78dd7a",
   "metadata": {},
   "outputs": [
    {
     "data": {
      "text/html": [
       "<div>\n",
       "<style scoped>\n",
       "    .dataframe tbody tr th:only-of-type {\n",
       "        vertical-align: middle;\n",
       "    }\n",
       "\n",
       "    .dataframe tbody tr th {\n",
       "        vertical-align: top;\n",
       "    }\n",
       "\n",
       "    .dataframe thead th {\n",
       "        text-align: right;\n",
       "    }\n",
       "</style>\n",
       "<table border=\"1\" class=\"dataframe\">\n",
       "  <thead>\n",
       "    <tr style=\"text-align: right;\">\n",
       "      <th></th>\n",
       "      <th>popularity</th>\n",
       "      <th>acousticness</th>\n",
       "      <th>danceability</th>\n",
       "      <th>duration_ms</th>\n",
       "      <th>energy</th>\n",
       "      <th>instrumentalness</th>\n",
       "      <th>liveness</th>\n",
       "      <th>loudness</th>\n",
       "      <th>speechiness</th>\n",
       "      <th>tempo</th>\n",
       "      <th>valence</th>\n",
       "      <th>genre</th>\n",
       "    </tr>\n",
       "  </thead>\n",
       "  <tbody>\n",
       "    <tr>\n",
       "      <th>36506</th>\n",
       "      <td>60.0</td>\n",
       "      <td>0.896000</td>\n",
       "      <td>0.726</td>\n",
       "      <td>214547.0</td>\n",
       "      <td>0.177</td>\n",
       "      <td>0.000002</td>\n",
       "      <td>0.1160</td>\n",
       "      <td>-14.824</td>\n",
       "      <td>0.0353</td>\n",
       "      <td>92.934</td>\n",
       "      <td>0.618</td>\n",
       "      <td>1</td>\n",
       "    </tr>\n",
       "    <tr>\n",
       "      <th>37591</th>\n",
       "      <td>63.0</td>\n",
       "      <td>0.003840</td>\n",
       "      <td>0.635</td>\n",
       "      <td>190448.0</td>\n",
       "      <td>0.908</td>\n",
       "      <td>0.083400</td>\n",
       "      <td>0.2390</td>\n",
       "      <td>-4.795</td>\n",
       "      <td>0.0563</td>\n",
       "      <td>110.012</td>\n",
       "      <td>0.637</td>\n",
       "      <td>1</td>\n",
       "    </tr>\n",
       "    <tr>\n",
       "      <th>37658</th>\n",
       "      <td>59.0</td>\n",
       "      <td>0.000075</td>\n",
       "      <td>0.352</td>\n",
       "      <td>456320.0</td>\n",
       "      <td>0.956</td>\n",
       "      <td>0.020300</td>\n",
       "      <td>0.1250</td>\n",
       "      <td>-3.634</td>\n",
       "      <td>0.1490</td>\n",
       "      <td>122.897</td>\n",
       "      <td>0.228</td>\n",
       "      <td>1</td>\n",
       "    </tr>\n",
       "    <tr>\n",
       "      <th>36060</th>\n",
       "      <td>54.0</td>\n",
       "      <td>0.945000</td>\n",
       "      <td>0.488</td>\n",
       "      <td>352280.0</td>\n",
       "      <td>0.326</td>\n",
       "      <td>0.015700</td>\n",
       "      <td>0.1190</td>\n",
       "      <td>-12.020</td>\n",
       "      <td>0.0328</td>\n",
       "      <td>106.063</td>\n",
       "      <td>0.323</td>\n",
       "      <td>1</td>\n",
       "    </tr>\n",
       "    <tr>\n",
       "      <th>35710</th>\n",
       "      <td>55.0</td>\n",
       "      <td>0.245000</td>\n",
       "      <td>0.667</td>\n",
       "      <td>273693.0</td>\n",
       "      <td>0.647</td>\n",
       "      <td>0.000297</td>\n",
       "      <td>0.0633</td>\n",
       "      <td>-7.787</td>\n",
       "      <td>0.0487</td>\n",
       "      <td>143.995</td>\n",
       "      <td>0.300</td>\n",
       "      <td>1</td>\n",
       "    </tr>\n",
       "  </tbody>\n",
       "</table>\n",
       "</div>"
      ],
      "text/plain": [
       "       popularity  acousticness  danceability  duration_ms  energy  \\\n",
       "36506        60.0      0.896000         0.726     214547.0   0.177   \n",
       "37591        63.0      0.003840         0.635     190448.0   0.908   \n",
       "37658        59.0      0.000075         0.352     456320.0   0.956   \n",
       "36060        54.0      0.945000         0.488     352280.0   0.326   \n",
       "35710        55.0      0.245000         0.667     273693.0   0.647   \n",
       "\n",
       "       instrumentalness  liveness  loudness  speechiness    tempo  valence  \\\n",
       "36506          0.000002    0.1160   -14.824       0.0353   92.934    0.618   \n",
       "37591          0.083400    0.2390    -4.795       0.0563  110.012    0.637   \n",
       "37658          0.020300    0.1250    -3.634       0.1490  122.897    0.228   \n",
       "36060          0.015700    0.1190   -12.020       0.0328  106.063    0.323   \n",
       "35710          0.000297    0.0633    -7.787       0.0487  143.995    0.300   \n",
       "\n",
       "       genre  \n",
       "36506      1  \n",
       "37591      1  \n",
       "37658      1  \n",
       "36060      1  \n",
       "35710      1  "
      ]
     },
     "execution_count": 39,
     "metadata": {},
     "output_type": "execute_result"
    }
   ],
   "source": [
    "# DATA\n",
    "ruta_archivo = '/home/jovyan/notebooks/data/music_clean.csv'\n",
    "music_df = pd.read_csv(ruta_archivo,index_col = 0)\n",
    "music_df.head()"
   ]
  },
  {
   "cell_type": "markdown",
   "id": "0c31f87b-44ed-4f68-a467-96bc3437d231",
   "metadata": {},
   "source": [
    "## Transformación de Datos\n",
    "\n",
    "- Construir un modelo de regresión utilizando todas las funciones del conjunto de datos para predecir la popularidad de las canciones."
   ]
  },
  {
   "cell_type": "code",
   "execution_count": 5,
   "id": "d670af36-f475-4a23-a9aa-64145554a551",
   "metadata": {},
   "outputs": [],
   "source": [
    "# Crear variables ficticias:\n",
    "## drop_first = True, nos eliminará un columna como queremos\n",
    "#music_dummies = pd.get_dummies(music_df[\"genre\"], drop_first = True)\n",
    "\n",
    "#Imprimir\n",
    "#print(music_dummies.head())"
   ]
  },
  {
   "cell_type": "markdown",
   "id": "b295e80c-e406-40a6-ad5c-310c951f3c24",
   "metadata": {},
   "source": [
    "- Si el conjunto de datos solo tiene una característica categórica podemos omitir el paso de combinar variables.\n",
    "- Si no especificamos una columna, las columnas binarias del nuevo conjunto de datos tendrán el nombre de cada caracteristica original con prefijo, por lo que comenzarán con guión bajo de género. La columna de género se elimina automáticamente."
   ]
  },
  {
   "cell_type": "code",
   "execution_count": 6,
   "id": "e953a163-31b9-4528-ac91-198f033dc7b5",
   "metadata": {},
   "outputs": [
    {
     "data": {
      "text/plain": [
       "Index(['popularity', 'acousticness', 'danceability', 'duration_ms', 'energy',\n",
       "       'instrumentalness', 'liveness', 'loudness', 'speechiness', 'tempo',\n",
       "       'valence', 'genre'],\n",
       "      dtype='object')"
      ]
     },
     "execution_count": 6,
     "metadata": {},
     "output_type": "execute_result"
    }
   ],
   "source": [
    "# Convertir variables categóricas\n",
    "music_dummies = pd.get_dummies(music_df, drop_first = True)\n",
    "\n",
    "# Verificar las columnas del nuevo data frame\n",
    "music_dummies.columns"
   ]
  },
  {
   "cell_type": "markdown",
   "id": "099f8aa5-a8a9-4f2d-b8a1-3b4ac997a4b1",
   "metadata": {},
   "source": [
    "### Manejo de datos faltantes\n",
    "\n",
    "1. Un enfoque común es **eliminar las observaciones faltantes que representan menos del $5\\%$ de todos los datos**.\n",
    "2. Si faltan valores en nuestra columna de subconjunto se eliminaran toda la fila.\n",
    "3. Otra opción es **imputar** los datos faltantes. Esto significa hacer una suposición fundamentada sobre cuáles podrían ser los valores faltantes.\n",
    "4. Podemos imputar la media o la mediana de todas las entradas no faltantes para una caracteristica determinada.\n",
    "5. Para valores categóricos comúnmente se imputa el valor más frecuente.\n",
    "6. ***Tenga en cuenta que debemos dividir datos antes de imputarlos para evitar fugas de datos***."
   ]
  },
  {
   "cell_type": "code",
   "execution_count": 36,
   "id": "0ff824db-347a-4d9b-b522-26c71f7d2651",
   "metadata": {},
   "outputs": [
    {
     "name": "stdout",
     "output_type": "stream",
     "text": [
      "popularity          0\n",
      "acousticness        0\n",
      "danceability        0\n",
      "duration_ms         0\n",
      "energy              0\n",
      "instrumentalness    0\n",
      "liveness            0\n",
      "loudness            0\n",
      "speechiness         0\n",
      "tempo               0\n",
      "valence             0\n",
      "genre               0\n",
      "dtype: int64\n"
     ]
    }
   ],
   "source": [
    "# Filas faltantes de cada columna de music_df\n",
    "print(music_df.isna().sum().sort_values())\n",
    "\n",
    "# Pasamos una lista de columnas con menos del 5% de valores faltantes al argumento del subconjunto\n",
    "# music_df = music_df.dropna(subset=[\"genre\", \"popularity\",\"loudness\",\"liveness\",\"tempo\"])\n",
    "\n",
    "# Imprimir\n",
    "# print(music_df.isna().sum().sort_values())"
   ]
  },
  {
   "cell_type": "markdown",
   "id": "d898fabb-669e-4786-8885-242e097e9ead",
   "metadata": {},
   "source": [
    "## Análisis de datos\n",
    "\n",
    "- Ajustar los datos con un MODELO DE REGRESIÓN LINEAL y realizar una *validación cruzada* con Kfold para predecir la popularidad de una canción de la siguente manera:"
   ]
  },
  {
   "cell_type": "code",
   "execution_count": 33,
   "id": "544dfc4b-3a59-4c30-abdc-d2967ca5d929",
   "metadata": {},
   "outputs": [
    {
     "name": "stdout",
     "output_type": "stream",
     "text": [
      "[10.33283663 10.92843432  9.44214931  9.38877822  9.78719123]\n",
      "Media de RMSE del modelo de regresión lineal: 9.975877941162304\n",
      "Desviación estándar de la matriz objetivo: 11.82417513282017\n"
     ]
    }
   ],
   "source": [
    "# Crear matrices de caracteristicas y objetos\n",
    "X = music_dummies.drop(\"popularity\", axis = 1).values\n",
    "y = music_dummies[\"popularity\"].values\n",
    "\n",
    "# Dividir en conjunto de datos de entranamiento y prueba\n",
    "X_train, X_test, y_train, y_test = train_test_split(X, y,\n",
    "                                                   test_size = 0.2,\n",
    "                                                   random_state = 42)\n",
    "\n",
    "# Instanciar KFold\n",
    "kf = KFold(n_splits = 5, shuffle = True, random_state = 42)\n",
    "\n",
    "# Instanciar la regresión lineal\n",
    "linreg = LinearRegression()\n",
    "\n",
    "# Llamar a cross_val_score\n",
    "linreg_cv = cross_val_score(linreg, X_train, y_train, cv = kf,\n",
    "                           scoring = \"neg_mean_squared_error\")\n",
    "\n",
    "# Tomar la raíz cuadara para calcular RMSE\n",
    "print(np.sqrt(-linreg_cv))\n",
    "\n",
    "# Imprimir la media de RMSE\n",
    "print(\"Media de RMSE del modelo de regresión lineal: {}\".format(np.mean(np.sqrt(-linreg_cv))))\n",
    "print(\"Desviación estándar de la matriz objetivo: {}\".format(np.std(-linreg_cv)))"
   ]
  },
  {
   "cell_type": "markdown",
   "id": "201a143d-8839-4533-906d-e50a63823a0a",
   "metadata": {},
   "source": [
    "**NOTA:** \"neg_mean_squared_error\", devuelve el MSE negativo. Esto se debe a que las métricas de validación cruzada de scikit_learn suponen una puntación más alta es mejor, por lo que MSE se cambia a negativo para contrarrestar esto.\n",
    "\n",
    "- Instanciar un MODELO RIDGE como comparación del modelo de regresión lineal."
   ]
  },
  {
   "cell_type": "code",
   "execution_count": 34,
   "id": "47ec6808-4bc9-4784-bec1-7281201ea612",
   "metadata": {},
   "outputs": [
    {
     "name": "stdout",
     "output_type": "stream",
     "text": [
      "Media RMSE del modelo de regresión Ridge: 10.334930115405797\n",
      "Desviación estándar de la matriz objetivo: 14.02156909907019\n"
     ]
    }
   ],
   "source": [
    "# Instanciar un modelo ridge\n",
    "ridge = Ridge(alpha=0.2)\n",
    "\n",
    "# instanciar  KFold\n",
    "kf = KFold(n_splits = 5, shuffle = True, random_state = 42)\n",
    "\n",
    "# Haz la validación cruzada\n",
    "scores = cross_val_score(ridge, X, y, cv=kf, scoring=\"neg_mean_squared_error\")\n",
    "\n",
    "# Calcula RMSE\n",
    "rmse = np.sqrt(-scores)\n",
    "print(\"Media RMSE del modelo de regresión Ridge: {}\".format(np.mean(rmse)))\n",
    "print(\"Desviación estándar de la matriz objetivo: {}\".format(np.std(y)))"
   ]
  },
  {
   "cell_type": "markdown",
   "id": "aca64c8d-4ad4-4328-90e0-d6dc246f5f5d",
   "metadata": {},
   "source": [
    "**Interpretación**: Dado la RMSE del modelo de regresion lineal es más baja que la de Ridge. Entonces, el modelo de regresión lineal está haciendo un mejor trabajo al predecir la popularidad de las canciones, ya que su error es menor.\n",
    "\n",
    "- Ver como podemos manejar los datos faltantes **imputandolos.**"
   ]
  },
  {
   "cell_type": "code",
   "execution_count": 42,
   "id": "788c9807-f681-40fc-b324-0b529afe9860",
   "metadata": {},
   "outputs": [],
   "source": [
    "# Dividir, almacenándolos como X_cat y X_num respectivamente, \n",
    "# junto con nuestra matriz de destino \"y\".\n",
    "X_cat = music_df[\"genre\"].values.reshape(-1,1)\n",
    "X_num = music_df.drop([\"genre\", \"popularity\"], axis = 1).values\n",
    "y = music_df[\"popularity\"].values\n",
    "\n",
    "# Crear un conjuntos de puebas y otro de entrenamiento categóricos\n",
    "X_train_cat, X_test_cat, y_train, y_test = train_test_split(X_cat, y,\n",
    "                                                           test_size = 0.2,\n",
    "                                                           random_state = 12)\n",
    "\n",
    "# Crear un conjuntos de puebas y otro de entrenamiento numérico\n",
    "X_train_num, X_test_num, y_train, y_test = train_test_split(X_num, y,\n",
    "                                                           test_size = 0.2,\n",
    "                                                           random_state = 12)\n",
    "\n",
    "# Para imputar valores categóricos faltantes, crear una instancia\n",
    "# SimpleImputer espera que Numpy.NaN represente los valores faltantes\n",
    "imp_cat = SimpleImputer(strategy = \"most_frequent\")\n",
    "\n",
    "# Ajustar el modelo imp_cat a los datos, para imputar los valores faltantes \n",
    "# de las cararacterísticas categóricas de entranamiento\n",
    "X_train_cat = imp_cat.fit_transform(X_train_cat)\n",
    "\n",
    "# Ajustar para la categoría de prueba, las llamamos TRANSFORMACIÓN DE PUNTOS\n",
    "X_test_cat = imp_cat.transform(X_test_cat)\n",
    "\n",
    "# Para los datos numéricos, crear una instancia de otro imputador \n",
    "imp_num = SimpleImputer()\n",
    "\n",
    "# Ajustar y transformar las funciones de entranamiento y transformamos \n",
    "# las funciones de prueba\n",
    "X_train_num = imp_num.fit_transform(X_train_num)\n",
    "X_test_num = imp_num.transform(X_test_num)\n",
    "\n",
    "# Combinar los datos de entranamiento usando numpy.append, pasar \n",
    "# nuestras dos matrices y establecer el eje igual 1\n",
    "X_train = np.append(X_train_num, X_train_cat, axis = 1) \n",
    "\n",
    "# Repitir lo mismo para los datos de prueba\n",
    "X_train = np.append(X_test_num, X_test_cat, axis = 1) "
   ]
  },
  {
   "cell_type": "markdown",
   "id": "b324f4d1-ed96-4d34-a5db-abaed687ff67",
   "metadata": {},
   "source": [
    "**NOTA:** Los imputadores se conocen como transformadores\n",
    "\n",
    "### Usando Pipelines\n",
    "\n",
    "Usando una tubería (pipeline), que es un objeto utilizado para que ejecute una serie de transformaciones y cree un modelo en un único flujo de trabajo.\n",
    "\n",
    "#### Modelo de regresión logística\n",
    "\n",
    "- Realizar una clasificación binaria con el MODELO DE REGRESIÓN LOGISTA para predecir si una canción es rock u otro género."
   ]
  },
  {
   "cell_type": "code",
   "execution_count": 51,
   "id": "6d46b924-d425-4614-97d6-05d29f990156",
   "metadata": {},
   "outputs": [
    {
     "name": "stdout",
     "output_type": "stream",
     "text": [
      "La precisión del modelo de regresión logística es: 0.73\n"
     ]
    }
   ],
   "source": [
    "# Eliminar los valores faltantes que represetan menos del 5% de nuestros datos\n",
    "# music_df = music_df.dropna(subset = [\"genre\",\"popularity\",\"loudness\",\"liveness\",\"tempo\"])\n",
    "\n",
    "# Convertir los valores en la columna de género en un atributo binario, que será el objetivo, \n",
    "# a 1 si es Rock en caso contrario 0 \n",
    "# music_df[\"genre\"] = np.where(music_df[\"genre\"] == \"Rock\",1,0)\n",
    "\n",
    "# Crear matrices X e y\n",
    "X = music_df.drop(\"genre\", axis = 1).values\n",
    "y = music_df[\"genre\"].values\n",
    "\n",
    "# Para construir una canalización construimos una lista de pasos que contienen tuplas con\n",
    "# los nombres de los pasos especificados como cadenas y\n",
    "\n",
    "# Crear una instancia del transformador o modelo\n",
    "steps = [(\"imputation\", SimpleImputer()),\n",
    "        (\"logistic_regression\", LogisticRegression())]\n",
    "\n",
    "# Pasar esta lita al crear una instancia de Pipeline\n",
    "pipeline = Pipeline(steps)\n",
    "\n",
    "# Dividir nuestros datos y ajustamos la canalización a los datos de entrenamiento.\n",
    "X_train, X_test, y_train, y_test = train_test_split(X, y,\n",
    "                                          test_size = 0.3,\n",
    "                                          random_state = 42)\n",
    "\n",
    "# Ajustar la canalización a los datos de entrenamiento.\n",
    "pipeline.fit(X_train, y_train)\n",
    "\n",
    "# Calcular la precisión\n",
    "print(\"La precisión del modelo de regresión logística es: {}\".format(pipeline.score(X_test, y_test)))"
   ]
  },
  {
   "cell_type": "markdown",
   "id": "69804da4-472f-4b0c-93f9-5bf19aa55ec6",
   "metadata": {},
   "source": [
    "**Interpretación:** La precisión del MODELO DE REGRESIÓN LOGÍSTICA es de 0.73. Es decir, el modelo esta prediciendo los datos de prueba en un 73%"
   ]
  },
  {
   "cell_type": "markdown",
   "id": "ce797ed3-4293-40f1-88bf-2475ff746fdc",
   "metadata": {},
   "source": [
    "#### Pipeline para la predicción del género: Modelo KNN\n",
    "\n",
    "Imputaremos valores faltantes usando la media para cada atributo y construir un MODELO KNN para la clasificación del género de la canción."
   ]
  },
  {
   "cell_type": "code",
   "execution_count": 58,
   "id": "4c0ce2f4-ab0d-4ac4-878b-d2e808a7b4f5",
   "metadata": {},
   "outputs": [
    {
     "name": "stdout",
     "output_type": "stream",
     "text": [
      "[[75 75]\n",
      " [74 76]]\n"
     ]
    }
   ],
   "source": [
    "# Crear matrices X e y\n",
    "X = music_df.drop(\"genre\", axis = 1).values\n",
    "y = music_df[\"genre\"].values\n",
    "\n",
    "# Dividir nuestros datos y ajustamos la canalización a los datos de entrenamiento.\n",
    "X_train, X_test, y_train, y_test = train_test_split(X, y,\n",
    "                                          test_size = 0.3,\n",
    "                                          random_state = 42)\n",
    "\n",
    "# Instanciar un imputador para valores faltantes\n",
    "imp_mean = SimpleImputer()\n",
    "\n",
    "# Instanciar un modelo KNN\n",
    "knn = KNeighborsClassifier(n_neighbors = 3)\n",
    "\n",
    "# Construir los pasos para el pipeline\n",
    "steps = [(\"imputer\", imp_mean),\n",
    "        (\"knn\", knn)]\n",
    "\n",
    "# Crear el pipeline\n",
    "pipeline = Pipeline(steps)\n",
    "\n",
    "# Entrenar el pipeline con los datos de entrenamiento\n",
    "pipeline.fit(X_train, y_train)\n",
    "\n",
    "# Realizar predicciones con el set de prueba\n",
    "y_pred = pipeline.predict(X_test)\n",
    "\n",
    "# Imprimir la confusion_matrix\n",
    "print(confusion_matrix(y_test, y_pred))"
   ]
  },
  {
   "cell_type": "markdown",
   "id": "6d8544f2-6e49-48b7-aa45-f4114c85aa10",
   "metadata": {},
   "source": [
    "### Centrado y escalado\n",
    "\n",
    "- Al aplicar describe(), para ver que la variable \"speechiness\" sólo tiene decimales y la variable \"loudness\" sólo tiene valores negativo. Es decir, tiene distinas escalas; lo que puede influir desproporcionalmente en nuestro modelo.\n",
    "\n",
    "- Por ejemplo KNN usa la distancia explícitamente al hacer predicciones, por esta razón queremos que las funciones estén en una escala similar.\n",
    "\n",
    "- Para lograr esto, podemos **normalizar o estandarizar nuestros datos**, lo que a menudo se denomina **escalamiento y centrado**.\n",
    "\n",
    "**¿CÓMO ESCALAR NUESTROS DATOS?** \n",
    "\n",
    "- **Estandarización:** De cualquier columna, podemos restar la media y dividirla por la varianza. Esto hace que las características estén centradas alrededor de cero y tenga una varianza de uno.\n",
    "- Podemos restar el mínimo y dividir por el rango de los datos, para que el conjunto de datos normalizado tenga un mínimo de cero y un máximo de uno.\n",
    "- También podemo centrar nuestros datos para que oscilen entre -1 y 1.\n",
    "\n",
    "- PARA ELLO USAREMOS StandardScaler() de pcikit-learn"
   ]
  },
  {
   "cell_type": "code",
   "execution_count": 59,
   "id": "23268d44-9929-4069-9f2f-fe557f371416",
   "metadata": {},
   "outputs": [
    {
     "name": "stdout",
     "output_type": "stream",
     "text": [
      "        duration_ms     loudness  speechiness\n",
      "count  1.000000e+03  1000.000000  1000.000000\n",
      "mean   2.172204e+05    -8.253305     0.077879\n",
      "std    1.175582e+05     5.158523     0.089451\n",
      "min   -1.000000e+00   -38.718000     0.023400\n",
      "25%    1.806562e+05    -9.775500     0.033100\n",
      "50%    2.163000e+05    -6.855000     0.043600\n",
      "75%    2.605025e+05    -4.977750     0.074950\n",
      "max    1.617333e+06    -0.883000     0.710000\n"
     ]
    }
   ],
   "source": [
    "# Utilizar Describe() para observar que nuestros datos necesitan ser \n",
    "# centrados y escalados\n",
    "print(music_df[[\"duration_ms\",\"loudness\",\"speechiness\"]].describe())"
   ]
  },
  {
   "cell_type": "code",
   "execution_count": 73,
   "id": "16f8b413-8f1a-4eba-bc04-b7bdcdcb2795",
   "metadata": {},
   "outputs": [
    {
     "name": "stdout",
     "output_type": "stream",
     "text": [
      "Media de las columnas: 19762.413275219726\n",
      "Desviación estándar de las columnas: 71791.8429618064\n",
      "\n",
      "Media estandarizada de las columnas: 0\n",
      "Desviación estandarizada de las columnas: 1\n"
     ]
    }
   ],
   "source": [
    "# Crear las matrices de características y objetivos\n",
    "X = music_df.drop(\"genre\", axis = 1).values\n",
    "y = music_df[\"genre\"].values\n",
    "\n",
    "# Divir nuestros datos para evitar la fuga de datos.\n",
    "X_train, X_test, y_train, y_test = train_test_split(X, y,\n",
    "                                                   test_size = 0.2,\n",
    "                                                   random_state = 42)\n",
    "\n",
    "# Instanciar un objeto StandardScaler\n",
    "scaler = StandardScaler()\n",
    "\n",
    "# Ajustar a los datos\n",
    "X_train_scaled = scaler.fit_transform(X_train)\n",
    "\n",
    "# transformar en las funciones de prueba\n",
    "X_test_scaled = scaler.transform(X_test)\n",
    "\n",
    "# Observar la media y la desviación estándar de las columnas \n",
    "print(\"Media de las columnas: {}\".format(np.mean(X)))\n",
    "print(\"Desviación estándar de las columnas: {}\".format(np.std(X)))\n",
    "print(\"\")\n",
    "print(\"Media estandarizada de las columnas: {}\".format(round(np.mean(X_train_scaled)))) \n",
    "print(\"Desviación estandarizada de las columnas: {}\".format(round(np.std(X_train_scaled))))"
   ]
  },
  {
   "cell_type": "markdown",
   "id": "ff302d4f-8497-4db9-b7cf-98164745ef2d",
   "metadata": {},
   "source": [
    "- Utilizar escalador en una PIPELINE"
   ]
  },
  {
   "cell_type": "code",
   "execution_count": 74,
   "id": "bdae76f9-f43c-4565-8aa4-12f98088fe69",
   "metadata": {},
   "outputs": [
    {
     "name": "stdout",
     "output_type": "stream",
     "text": [
      "0.805\n"
     ]
    }
   ],
   "source": [
    "# Crear las matrices de características y objetivos\n",
    "X = music_df.drop(\"genre\", axis = 1).values\n",
    "y = music_df[\"genre\"].values\n",
    "\n",
    "# Divir nuestros datos para evitar la fuga de datos.\n",
    "X_train, X_test, y_train, y_test = train_test_split(X, y,\n",
    "                                                   test_size = 0.2,\n",
    "                                                   random_state = 42)\n",
    "\n",
    "# Construimos un objeto de canalización para escalar nuestros datos y \n",
    "## usamos un modelo KNN con seis vecinos.\n",
    "steps = [('scaler', StandardScaler()),\n",
    "        ('knn', KNeighborsClassifier(n_neighbors = 6))]\n",
    "pipeline = Pipeline(steps)\n",
    "\n",
    "# Dividimos nuestros datos\n",
    "X_train, X_test, y_train, y_test = train_test_split(X, y,\n",
    "                                                   test_size = 0.2,\n",
    "                                                   random_state = 21)\n",
    "\n",
    "# Ajustamos el modelo a nuestros datos\n",
    "knn_scaled = pipeline.fit(X_train, y_train)\n",
    "\n",
    "# Predecimos con nuestro conjunto de prueba\n",
    "knn_scaled.predict(X_test)\n",
    "\n",
    "# Imprimir\n",
    "print(knn_scaled.score(X_test, y_test))"
   ]
  },
  {
   "cell_type": "markdown",
   "id": "ab653ace-8332-4455-b3d2-23d8fbff8f0d",
   "metadata": {},
   "source": [
    "**Interpretación:** Dado que se NORMALIZARON los datos, tenemos que para un MODELO KNN, existe una predicción correcta de un 80%. Muy superior a la predicción del MODELO DE REGRESIÓN LOGÍSTICA *rellenando* datos con un 73%\n",
    "\n",
    "- Comparar el MODELO KNN con el uso de datos ***sin escalar***."
   ]
  },
  {
   "cell_type": "code",
   "execution_count": 75,
   "id": "60d560a0-b80f-462b-a288-0a4a4dfb08e5",
   "metadata": {},
   "outputs": [
    {
     "name": "stdout",
     "output_type": "stream",
     "text": [
      "0.515\n"
     ]
    }
   ],
   "source": [
    "# Instanciar y ajustamos el model a los datos\n",
    "knn_unscaled = KNeighborsClassifier(n_neighbors = 6).fit(X_train, y_train)\n",
    "\n",
    "# Imprimir\n",
    "print(knn_unscaled.score(X_test, y_test))"
   ]
  },
  {
   "cell_type": "markdown",
   "id": "ba7e2bda-1e7c-4d58-861a-68406eac3038",
   "metadata": {},
   "source": [
    "**Interpretación:** La precisión del MODELO KNN sin escalar el conjunto de datos llega a 50%. Muy por debajo de los 80%, escalandolos.\n",
    "\n",
    "**NOTA:** .score() para KNN devuelve la precisión del modelo y para regresión devuelve $R^2$.\n",
    "\n",
    "- Ver ahora cómo podemos utilizar la ***validación cruzada con pipeline*** para el MODELO KNN con datos escalados"
   ]
  },
  {
   "cell_type": "code",
   "execution_count": 94,
   "id": "4b513734-548d-42ec-9760-7381378f4793",
   "metadata": {},
   "outputs": [
    {
     "name": "stdout",
     "output_type": "stream",
     "text": [
      "0.8137500000000001\n",
      "{'knn__n_neighbors': 12}\n"
     ]
    }
   ],
   "source": [
    "# Crear las matrices de características y objetivos\n",
    "X = music_df.drop(\"genre\", axis = 1).values\n",
    "y = music_df[\"genre\"].values\n",
    "\n",
    "# Divir nuestros datos para evitar la fuga de datos.\n",
    "X_train, X_test, y_train, y_test = train_test_split(X, y,\n",
    "                                                   test_size = 0.2,\n",
    "                                                   random_state = 21)\n",
    "\n",
    "# Canalizar\n",
    "steps = [\n",
    "    ('scaler', StandardScaler()),\n",
    "    ('knn', KNeighborsClassifier())\n",
    "]\n",
    "pipeline = Pipeline(steps)\n",
    "\n",
    "# Especificar nuestro espacio de hiperparámetros creando un diccionario\n",
    "## Estamos ajustando n_vecinos en el modelo KNN\n",
    "parameters = {\"knn__n_neighbors\": np.arange(1,50)}\n",
    "\n",
    "# Realizar una búsqueda en cuadrícula sobre nuestros parámetros mediante \n",
    "# una instancia del objeto GridSearchCV, pasando nuestra canalización y \n",
    "# establecer el argumento param_grid \n",
    "cv = GridSearchCV(pipeline, param_grid = parameters)\n",
    "\n",
    "# Ajustamos a nuestros datos de entranamiento\n",
    "cv.fit(X_train, y_train)\n",
    "\n",
    "# Predecir utilizando nuestro conjunto de prueba\n",
    "y_pred = cv.predict(X_test)\n",
    "\n",
    "# Imprimir el atributo best_score_ \n",
    "print(cv.best_score_)\n",
    "\n",
    "# Imprimir mejores parámetros\n",
    "print(cv.best_params_)"
   ]
  },
  {
   "cell_type": "markdown",
   "id": "fec24c01-d69c-4338-b606-4978849b172d",
   "metadata": {},
   "source": [
    "- Probar con 12 n-vecinos más cercanos "
   ]
  },
  {
   "cell_type": "code",
   "execution_count": 95,
   "id": "60fe84ad-22e8-4966-9e85-4e4d91bd2b84",
   "metadata": {},
   "outputs": [
    {
     "data": {
      "text/plain": [
       "0.82"
      ]
     },
     "execution_count": 95,
     "metadata": {},
     "output_type": "execute_result"
    }
   ],
   "source": [
    "# Pipilines\n",
    "steps = [\n",
    "    ('scaler', StandardScaler()),\n",
    "    ('knn', KNeighborsClassifier(n_neighbors = 12))\n",
    "]\n",
    "pipeline = Pipeline(steps)\n",
    "\n",
    "# Ajustar pipeline a los datos\n",
    "pipeline.fit(X_train, y_train)\n",
    "\n",
    "# Evaluar la precisión\n",
    "pipeline.score(X_test, y_test)"
   ]
  },
  {
   "cell_type": "markdown",
   "id": "9a94019c-392d-48b6-8cf6-41bf428aa75d",
   "metadata": {},
   "source": [
    "**Interpretación:** El MODELO KNN tiene una precisión del 82% al usar datos normalizados y utilizar 12 vecinos más cercanos.\n",
    "\n",
    "### Centrado y escalado para la regresión Lasso\n",
    "\n",
    "Usaremos un pipeline para pre-procesar los atributos de music_df y construir un modelo de regresión lasso para predecir la sonoridad de una canción."
   ]
  },
  {
   "cell_type": "code",
   "execution_count": 98,
   "id": "369a547f-3e42-48d1-a266-8c10c8c85f14",
   "metadata": {},
   "outputs": [
    {
     "name": "stdout",
     "output_type": "stream",
     "text": [
      "El R^2 es: 0.7200653029753489\n"
     ]
    }
   ],
   "source": [
    "# Crear las matrices de características y objetivos\n",
    "X = music_df.drop(\"loudness\", axis = 1).values\n",
    "y = music_df[\"loudness\"].values\n",
    "\n",
    "# Dividir los datos para evitar la fuga de datos.\n",
    "X_train, X_test, y_train, y_test = train_test_split(X, y,\n",
    "                                                   test_size = 0.2,\n",
    "                                                   random_state = 42)\n",
    "# Crear los pasos del pipeline\n",
    "steps = [(\"scaler\", StandardScaler()),\n",
    "         (\"lasso\", Lasso(alpha = 0.5))]\n",
    "\n",
    "# Instanciar el pipeline\n",
    "pipeline = Pipeline(steps)\n",
    "\n",
    "# Ajustar el modelo a los datos\n",
    "pipeline.fit(X_train, y_train)\n",
    "\n",
    "# Calcular e imprimir R-cuadrada\n",
    "print(\"El R^2 es: {}\".format(pipeline.score(X_test, y_test)))"
   ]
  },
  {
   "cell_type": "markdown",
   "id": "cbd1a0d7-79e1-4e7b-9a98-aafce6677597",
   "metadata": {},
   "source": [
    "**Interpretación:** Para el MODELO DE REGRESIÓN LASSO las características se explican en un 72%. Es decir, el R^2 es de 0.72\n",
    "\n",
    "### Centrado y escalado para la clasificación: Regresión logística\n",
    "\n",
    "Se construirá un pipeline para escalar atributos en el set de datos music_df y realizar la validación cruzada grid search usando un modelo de regresión logística con diferentes valores para el hiperparámetro C. La variable objetivo aquí es \"genre\", que contiene los valores binarios 1 para rock y 0 para cualquier otro género.\n",
    "\n",
    "- Ajustar el escalado y construcción de modelos en un pipeline para **validación cruzada**."
   ]
  },
  {
   "cell_type": "code",
   "execution_count": 104,
   "id": "7e572cf4-1a48-4d68-9fd7-ad6eb431b00c",
   "metadata": {},
   "outputs": [
    {
     "name": "stdout",
     "output_type": "stream",
     "text": [
      "0.8625 \\n {'logreg__C': 0.15873684210526315}\n"
     ]
    }
   ],
   "source": [
    "# Crear las matrices de características y objetivos\n",
    "X = music_df.drop(\"genre\", axis = 1).values\n",
    "y = music_df[\"genre\"].values\n",
    "\n",
    "# Construir steps\n",
    "steps = [(\"scaler\", StandardScaler()),\n",
    "         (\"logreg\", LogisticRegression())]\n",
    "pipeline = Pipeline(steps)\n",
    "\n",
    "# Crear el espacio de parámetros\n",
    "parameters = {\"logreg__C\": np.linspace(0.001, 1.0, 20)}\n",
    "\n",
    "# Dividir los datos\n",
    "X_train, X_test, y_train, y_test = train_test_split(X, y, test_size=0.2,\n",
    "                                                    random_state=21)\n",
    "\n",
    "# Instanciar el objeto grid search\n",
    "cv = GridSearchCV(pipeline, param_grid=parameters)\n",
    "\n",
    "# Entrenar con los datos de entrenamiento\n",
    "cv.fit(X_train, y_train)\n",
    "print(cv.best_score_, \"\\\\n\", cv.best_params_)"
   ]
  },
  {
   "cell_type": "markdown",
   "id": "3b203ec0-c7c7-4dfd-ba49-37c7df522ca1",
   "metadata": {},
   "source": [
    "- Crear el MODELO DE REGRESIÓN LOGÍSTICA con el mejor hiperparámetro "
   ]
  },
  {
   "cell_type": "code",
   "execution_count": 105,
   "id": "6f652d49-3cd9-4d1a-8076-15fdf79642e5",
   "metadata": {},
   "outputs": [
    {
     "name": "stdout",
     "output_type": "stream",
     "text": [
      "La precisión del modelo de regresión logística es: 0.845\n"
     ]
    }
   ],
   "source": [
    "# Crear una instancia del escalador y ajustarlo a los datos de entrenamiento\n",
    "scaler = StandardScaler()\n",
    "X_train_scaled = scaler.fit_transform(X_train)\n",
    "\n",
    "# Crear una instancia del modelo de regresión logística con el hiperparámetro especificado\n",
    "logreg = LogisticRegression(C=0.15873684210526315)\n",
    "\n",
    "# Ajustar el modelo a los datos de entrenamiento escalados\n",
    "logreg.fit(X_train_scaled, y_train)\n",
    "\n",
    "# Escalar los datos de prueba\n",
    "X_test_scaled = scaler.transform(X_test)\n",
    "\n",
    "# Calcular la precisión del modelo utilizando .score()\n",
    "accuracy = logreg.score(X_test_scaled, y_test)\n",
    "\n",
    "print(f\"La precisión del modelo de regresión logística es: {accuracy}\")"
   ]
  },
  {
   "cell_type": "markdown",
   "id": "d037d8e1-9651-4103-a876-2acceac8cbc4",
   "metadata": {},
   "source": [
    "**Interpretación:** Al aplicar el \"C\" optimo para el MODELO DE REGRESIÓN LOGÍSTICA a los datos de prueba, tenemos una precisión del 84%."
   ]
  },
  {
   "cell_type": "markdown",
   "id": "20086572-a6d4-472d-a8ad-c7dab6300690",
   "metadata": {},
   "source": [
    "### Evaluando múltiples modelos\n",
    "\n",
    "Existen algunos principios que pueden guiarnos a la hora de tomar la decisión de cual modelo será el mejor.\n",
    "\n",
    "1. El **tamaño del conjunto de datos** juega un papel importante.\n",
    "    - Menos funciones significan un modelo más simple y pueden reducir el tiempo de capacitación.\n",
    "    - Algunos modelos, como las redes neuronales artificiales, requieren una gran cantidad de datos para funcionar bien.\n",
    "2. Es posible que necesitemos un modelo **interpretable**, para poder explicar a las partes interesadas cómo se hicieron las predicciones. Por ejemplo en la regresión lineal podemos calcular e interpretar los coeficientes del modelo.\n",
    "3. La **flexibilidad** podría ser importante para obtener las predicciones más precisas.\n",
    "    - Generalmente los modelos flexibles hacen menos suposiciones sobre los datos, por jemplo un modelo KNN no supone una relaciçón lineal entre las características y el objeto.\n",
    "\n",
    "---------------------------\n",
    "\n",
    "- Los ***modelos de regresión*** se pueden evaluar utilizando:\n",
    "    - la raíz del error cuadrático medio,\n",
    "    -  el valor de $R^2$.\n",
    "- Todos los ***modelos de clasificación*** se pueden analizar utilizando:\n",
    "    - Accuracy (precision)\n",
    "    - Matriz de confusión (Confussion Matrix) y sus métricas asociadas\n",
    "        - Precisión,\n",
    "        - recall,\n",
    "        - F1-score\n",
    "    - ROC AUC (Regresión logística)\n",
    " \n",
    "***Por lo tanto, un enfoque es seleccionar varios modelos y una métrica***.\n",
    "\n",
    "Recordemos que el rendimiento de algunos modelos como:\n",
    "- KNN\n",
    "- Regresión lineal\n",
    "- Regresión logísta\n",
    "- Redes neuronales artificiales\n",
    "\n",
    "se ven afectados por el **escalado** de nuestros datos. ***Por lo que es mejor escalar nuestros datos antes de evaluar modelos listos para usar.***\n",
    "\n",
    "-----------------------------------\n",
    "\n",
    "Evaluaremos tres modelos para para la clasificación binaria de género de canción:\n",
    "    - KNN\n",
    "    - Regresión logística\n",
    "    - Clasificador de árbol  de decisión\n",
    "    "
   ]
  },
  {
   "cell_type": "code",
   "execution_count": 102,
   "id": "f236d7c1-8ec1-49d0-8596-a6e87c230b60",
   "metadata": {},
   "outputs": [
    {
     "data": {
      "image/png": "[encoded data removed]",
      "text/plain": [
       "<Figure size 640x480 with 1 Axes>"
      ]
     },
     "metadata": {},
     "output_type": "display_data"
    }
   ],
   "source": [
    "# Crear matrices de caracteristicas y objetos\n",
    "X = music_df.drop(\"genre\", axis = 1).values\n",
    "y = music_df[\"genre\"].values\n",
    "\n",
    "# Dividir datos en entrenamiento y prueba\n",
    "## El valor de test_size predeterminado será 0.25\n",
    "X_train, X_test, y_train, y_test = train_test_split(X, y,\n",
    "                                                   random_state = 42)\n",
    "\n",
    "# Instanciar StandardScaler\n",
    "scaler = StandardScaler()\n",
    "\n",
    "# Escalar características en el conjunto de entranamiento\n",
    "X_train_scaled = scaler.fit_transform(X_train)\n",
    "\n",
    "# Escalar características en el conjunto de prueba\n",
    "X_test_scaled = scaler.transform(X_test)\n",
    "\n",
    "# Crear un pipeline mediante un diccionario con los modelos\n",
    "models = {\n",
    "    \"Logistic Regression\": LogisticRegression(), \n",
    "    \"KNN\": KNeighborsClassifier(),\n",
    "    \"Decision Tree\": DecisionTreeClassifier()\n",
    "}\n",
    "\n",
    "# Crear una lista vacía para almacenar los resultados\n",
    "results = []\n",
    "\n",
    "# Recorrer los modelos en nuestro diccionario de modelos, utilizando su método de valores de puntos\n",
    "for model in models.values():\n",
    "    # Crear una instancia de un objeto KFold\n",
    "    kf = KFold(n_splits = 6, random_state = 42, shuffle = True)\n",
    "    # Realizar una validación cruzada, de forma predeterminada la puntación será la precisión\n",
    "    cv_result = cross_val_score(model, X_train_scaled, y_train, cv = kf)\n",
    "    # Agregar los resultados de la validación cruzada a nuestra lista de resultados\n",
    "    results.append(cv_result)\n",
    "\n",
    "# Crear una diagrama de cajas de nuestros resultados \n",
    "plt.boxplot(results, labels = models.keys())\n",
    "plt.show()"
   ]
  },
  {
   "cell_type": "markdown",
   "id": "06d4804b-b878-473d-a8d3-b54543edd9e8",
   "metadata": {},
   "source": [
    "**Interpretación:** \n",
    "1. El resultado nos muestra el rango de puntaciones de precisión de la validación cruzada.\n",
    "2. También podemos ver la puntuación media de la validación cruzada para cada modelo representada por la línea naranja en cada cuadro.\n",
    "3. Vemos que el MODELO DE REGRESIÓN LOGÍSTA tiene la mejor puntación media.\n",
    "\n",
    "#### Evaluar el conjunto de prueba"
   ]
  },
  {
   "cell_type": "code",
   "execution_count": 107,
   "id": "db07e562-ee5f-4ec3-8a5e-4be8696f6f9f",
   "metadata": {},
   "outputs": [
    {
     "name": "stdout",
     "output_type": "stream",
     "text": [
      "Logistic Regression precisión del conjunto de prueba: 0.78\n",
      "KNN precisión del conjunto de prueba: 0.485\n",
      "Decision Tree precisión del conjunto de prueba: 0.54\n"
     ]
    }
   ],
   "source": [
    "# Recorrer los nombres y valores del diccionario utilizando el método de elementos de puntos\n",
    "for name, model in models.items():\n",
    "    # Ajustar el modelo a los datos\n",
    "    model.fit(X_train, y_train)\n",
    "    # Calcular la precisión\n",
    "    test_score = model.score(X_test_scaled, y_test)\n",
    "    # Imprimir \n",
    "    print(\"{} precisión del conjunto de prueba: {}\".format(name, test_score))"
   ]
  },
  {
   "cell_type": "markdown",
   "id": "be12fac0-fa6f-4b6e-8308-b60649f734a1",
   "metadata": {},
   "source": [
    "**Interpretación:** La función logística funciona mejor para este problema si utilizamos la precisión como métrica.\n",
    "\n",
    "### Visualizando el desempeño del modelo de regresión\n",
    "\n",
    "Ahora que se vio cómo evaluar varios modelos listos a usar, construiremos tres modelos de regresión para predecir los niveles de \"energy\" de una canción."
   ]
  },
  {
   "cell_type": "code",
   "execution_count": 108,
   "id": "3fdd3ecd-0aa1-4682-8833-25aff56bfa11",
   "metadata": {},
   "outputs": [
    {
     "data": {
      "image/png": "[encoded data removed]",
      "text/plain": [
       "<Figure size 640x480 with 1 Axes>"
      ]
     },
     "metadata": {},
     "output_type": "display_data"
    }
   ],
   "source": [
    "# Crear matrices de caracteristicas y objetos\n",
    "X = music_df.drop(\"energy\", axis = 1).values\n",
    "y = music_df[\"energy\"].values\n",
    "\n",
    "# Dividir los datos en entrenamiento y prueba\n",
    "## El valor de test_size predeterminado será 0.25\n",
    "X_train, X_test, y_train, y_test = train_test_split(X, y,\n",
    "                                                   random_state = 42)\n",
    "\n",
    "# Crear pipelines de los modelos a evaluar\n",
    "models = {\"Linear Regression\": LinearRegression(), \n",
    "          \"Ridge\": Ridge(alpha=0.1), \n",
    "          \"Lasso\": Lasso(alpha=0.1)}\n",
    "results = []\n",
    "\n",
    "# Iterar sobre los valores de los modelos\n",
    "for model in models.values():\n",
    "  kf = KFold(n_splits=6, random_state=42, shuffle=True)\n",
    "  \n",
    "  # Realizar validación cruzada\n",
    "  cv_scores = cross_val_score(model, X_train, y_train, cv = kf)\n",
    "  \n",
    "  # Anexar los resultados\n",
    "  results.append(cv_scores)\n",
    "\n",
    "# Crear un boxplot de los resultados\n",
    "plt.boxplot(results, labels = models.keys())\n",
    "plt.show()"
   ]
  },
  {
   "cell_type": "markdown",
   "id": "54684747-d08d-40a0-90ce-7d01ab7480c0",
   "metadata": {},
   "source": [
    "**Interpretación:** Vemos que los MODELO de REGRESIÓN LINEAL Y RIDGE tiene una buena puntuación.\n",
    "\n",
    "#### Predicción con el set de prueba\n",
    "\n",
    "Vemos que los MODELO de REGRESIÓN LINEAL Y RIDGE parecieron producir resultados similares. Sería apropiado seleccionar cualquiera de esos modelos; sin embargo, puedes comprobar el ***rendimiento predictivo*** en el set de prueba para ver si uno puede superar al otro.\n",
    "\n",
    "Usarás el error cuadrático medio (RMSE) como métrica."
   ]
  },
  {
   "cell_type": "code",
   "execution_count": 114,
   "id": "38bbfd90-2f1f-46ed-af35-96d37c4bac4b",
   "metadata": {},
   "outputs": [
    {
     "name": "stdout",
     "output_type": "stream",
     "text": [
      "Linear Regression Conjunto de prueba RMSE: 0.11109818526605351\n",
      "Ridge Conjunto de prueba RMSE: 0.11110048128156672\n",
      "Lasso Conjunto de prueba RMSE: 0.17793986625718447\n"
     ]
    }
   ],
   "source": [
    "# Instanciar StandardScaler\n",
    "scaler = StandardScaler()\n",
    "\n",
    "# Escalar características en el conjunto de entranamiento\n",
    "X_train_scaled = scaler.fit_transform(X_train)\n",
    "\n",
    "# Escalar características en el conjunto de prueba\n",
    "X_test_scaled = scaler.transform(X_test)\n",
    "\n",
    "for name, model in models.items():\n",
    "  \n",
    "  # Entrenar el modelo con los datos de entrenamiento\n",
    "  model.fit(X_train_scaled, y_train)\n",
    "  \n",
    "  # Realizar predicciones con el set de prueba\n",
    "  y_pred = model.predict(X_test_scaled)\n",
    "  \n",
    "  # Calcular test_rmse\n",
    "  test_rmse = mean_squared_error(y_test, y_pred, squared = False)\n",
    "  print(\"{} Conjunto de prueba RMSE: {}\".format(name, test_rmse))"
   ]
  },
  {
   "cell_type": "markdown",
   "id": "80f9ce2f-3134-4144-9d6d-01d35950c44f",
   "metadata": {},
   "source": [
    "**Interpretación:** La Regresión Lineal y Ridge tienen un rendimiento muy similar y superior al de Lasso, según el RMSE en el conjunto de prueba. El MODELO DE REGRESIÓN LINEAL es el que mejor rendimiento muestra con el RMSE más bajo.\n",
    "\n",
    "### Visualizando el desempeño del modelo de clasificación\n",
    "\n",
    "La columna \"popularity\" del set de datos music_df será convertido a valores binarios, con 1 que representa popularidad mayor o igual que la mediana de la columna \"popularity\" y 0 que indicará la popularidad por debajo de la mediana.\n",
    "\n",
    "Vamos a construir y visualizar los resultados de tres modelos diferentes para predecir si una canción es popular o no."
   ]
  },
  {
   "cell_type": "code",
   "execution_count": 118,
   "id": "85e3649c-5b4c-4041-b225-d40f10f6eee6",
   "metadata": {},
   "outputs": [
    {
     "data": {
      "text/html": [
       "<div>\n",
       "<style scoped>\n",
       "    .dataframe tbody tr th:only-of-type {\n",
       "        vertical-align: middle;\n",
       "    }\n",
       "\n",
       "    .dataframe tbody tr th {\n",
       "        vertical-align: top;\n",
       "    }\n",
       "\n",
       "    .dataframe thead th {\n",
       "        text-align: right;\n",
       "    }\n",
       "</style>\n",
       "<table border=\"1\" class=\"dataframe\">\n",
       "  <thead>\n",
       "    <tr style=\"text-align: right;\">\n",
       "      <th></th>\n",
       "      <th>popularity</th>\n",
       "      <th>acousticness</th>\n",
       "      <th>danceability</th>\n",
       "      <th>duration_ms</th>\n",
       "      <th>energy</th>\n",
       "      <th>instrumentalness</th>\n",
       "      <th>liveness</th>\n",
       "      <th>loudness</th>\n",
       "      <th>speechiness</th>\n",
       "      <th>tempo</th>\n",
       "      <th>valence</th>\n",
       "      <th>genre</th>\n",
       "      <th>popularity_binary</th>\n",
       "    </tr>\n",
       "  </thead>\n",
       "  <tbody>\n",
       "    <tr>\n",
       "      <th>36506</th>\n",
       "      <td>60.0</td>\n",
       "      <td>0.896000</td>\n",
       "      <td>0.726</td>\n",
       "      <td>214547.0</td>\n",
       "      <td>0.177</td>\n",
       "      <td>0.000002</td>\n",
       "      <td>0.1160</td>\n",
       "      <td>-14.824</td>\n",
       "      <td>0.0353</td>\n",
       "      <td>92.934</td>\n",
       "      <td>0.618</td>\n",
       "      <td>1</td>\n",
       "      <td>1</td>\n",
       "    </tr>\n",
       "    <tr>\n",
       "      <th>37591</th>\n",
       "      <td>63.0</td>\n",
       "      <td>0.003840</td>\n",
       "      <td>0.635</td>\n",
       "      <td>190448.0</td>\n",
       "      <td>0.908</td>\n",
       "      <td>0.083400</td>\n",
       "      <td>0.2390</td>\n",
       "      <td>-4.795</td>\n",
       "      <td>0.0563</td>\n",
       "      <td>110.012</td>\n",
       "      <td>0.637</td>\n",
       "      <td>1</td>\n",
       "      <td>1</td>\n",
       "    </tr>\n",
       "    <tr>\n",
       "      <th>37658</th>\n",
       "      <td>59.0</td>\n",
       "      <td>0.000075</td>\n",
       "      <td>0.352</td>\n",
       "      <td>456320.0</td>\n",
       "      <td>0.956</td>\n",
       "      <td>0.020300</td>\n",
       "      <td>0.1250</td>\n",
       "      <td>-3.634</td>\n",
       "      <td>0.1490</td>\n",
       "      <td>122.897</td>\n",
       "      <td>0.228</td>\n",
       "      <td>1</td>\n",
       "      <td>1</td>\n",
       "    </tr>\n",
       "    <tr>\n",
       "      <th>36060</th>\n",
       "      <td>54.0</td>\n",
       "      <td>0.945000</td>\n",
       "      <td>0.488</td>\n",
       "      <td>352280.0</td>\n",
       "      <td>0.326</td>\n",
       "      <td>0.015700</td>\n",
       "      <td>0.1190</td>\n",
       "      <td>-12.020</td>\n",
       "      <td>0.0328</td>\n",
       "      <td>106.063</td>\n",
       "      <td>0.323</td>\n",
       "      <td>1</td>\n",
       "      <td>1</td>\n",
       "    </tr>\n",
       "    <tr>\n",
       "      <th>35710</th>\n",
       "      <td>55.0</td>\n",
       "      <td>0.245000</td>\n",
       "      <td>0.667</td>\n",
       "      <td>273693.0</td>\n",
       "      <td>0.647</td>\n",
       "      <td>0.000297</td>\n",
       "      <td>0.0633</td>\n",
       "      <td>-7.787</td>\n",
       "      <td>0.0487</td>\n",
       "      <td>143.995</td>\n",
       "      <td>0.300</td>\n",
       "      <td>1</td>\n",
       "      <td>1</td>\n",
       "    </tr>\n",
       "  </tbody>\n",
       "</table>\n",
       "</div>"
      ],
      "text/plain": [
       "       popularity  acousticness  danceability  duration_ms  energy  \\\n",
       "36506        60.0      0.896000         0.726     214547.0   0.177   \n",
       "37591        63.0      0.003840         0.635     190448.0   0.908   \n",
       "37658        59.0      0.000075         0.352     456320.0   0.956   \n",
       "36060        54.0      0.945000         0.488     352280.0   0.326   \n",
       "35710        55.0      0.245000         0.667     273693.0   0.647   \n",
       "\n",
       "       instrumentalness  liveness  loudness  speechiness    tempo  valence  \\\n",
       "36506          0.000002    0.1160   -14.824       0.0353   92.934    0.618   \n",
       "37591          0.083400    0.2390    -4.795       0.0563  110.012    0.637   \n",
       "37658          0.020300    0.1250    -3.634       0.1490  122.897    0.228   \n",
       "36060          0.015700    0.1190   -12.020       0.0328  106.063    0.323   \n",
       "35710          0.000297    0.0633    -7.787       0.0487  143.995    0.300   \n",
       "\n",
       "       genre  popularity_binary  \n",
       "36506      1                  1  \n",
       "37591      1                  1  \n",
       "37658      1                  1  \n",
       "36060      1                  1  \n",
       "35710      1                  1  "
      ]
     },
     "execution_count": 118,
     "metadata": {},
     "output_type": "execute_result"
    }
   ],
   "source": [
    "# Calcular la mediana de la columna 'popularity'\n",
    "median_popularity = music_df['popularity'].median()\n",
    "\n",
    "# Crear una nueva columna 'popularity_binary' que es 1 si 'popularity' es mayor o igual que la mediana, y 0 en caso contrario\n",
    "music_df['popularity_binary'] = (music_df['popularity'] >= median_popularity).astype(int)\n",
    "\n",
    "# Imprimir\n",
    "music_df.head()"
   ]
  },
  {
   "cell_type": "code",
   "execution_count": 119,
   "id": "cfd3c26b-ff15-4cc7-845d-443338023ba5",
   "metadata": {},
   "outputs": [
    {
     "data": {
      "image/png": "[encoded data removed]",
      "text/plain": [
       "<Figure size 640x480 with 1 Axes>"
      ]
     },
     "metadata": {},
     "output_type": "display_data"
    }
   ],
   "source": [
    "# Creamos nuestras matrices de caracteristicas y objetos\n",
    "X = music_df.drop([\"popularity_binary\",\"popularity\"], axis = 1).values\n",
    "y = music_df[\"popularity_binary\"].values\n",
    "\n",
    "# Dividimos nuestros datos en entrenamiento y prueba\n",
    "## El valor de test_size predeterminado será 0.25\n",
    "X_train, X_test, y_train, y_test = train_test_split(X, y,\n",
    "                                                   random_state = 42)\n",
    "\n",
    "# Instanciamos StandardScaler\n",
    "scaler = StandardScaler()\n",
    "\n",
    "# Escalamos nuestras características en el conjunto de entranamiento\n",
    "X_train_scaled = scaler.fit_transform(X_train)\n",
    "\n",
    "# Escalamos nuestras características en el conjunto de prueba\n",
    "X_test_scaled = scaler.transform(X_test)\n",
    "\n",
    "# Crea el diccionario models\n",
    "models = {\n",
    "    \"Logistic Regression\": LogisticRegression(), \n",
    "    \"KNN\": KNeighborsClassifier(),\n",
    "    \"Decision Tree Classifier\": DecisionTreeClassifier()\n",
    "}\n",
    "results = []\n",
    "\n",
    "# Itera sobre los valores de models\n",
    "for model in models.values():\n",
    "  \n",
    "  # Instancia un objeto KFold\n",
    "  kf = KFold(n_splits = 6, random_state = 12, shuffle = True)\n",
    "  \n",
    "  # Realiza validación cruzada\n",
    "  cv_results = cross_val_score(model, X_train_scaled, y_train, cv = kf)\n",
    "  results.append(cv_results)\n",
    "\n",
    "# Dibujar boxplots\n",
    "plt.boxplot(results, labels=models.keys())\n",
    "plt.show()"
   ]
  },
  {
   "cell_type": "markdown",
   "id": "87b38b8c-f64a-417b-8e4f-c7e7dd4ac2fb",
   "metadata": {},
   "source": [
    "**Interpretacion:** Parece que la regresión logística es el mejor candidato basado en los resultados de la validación cruzada.\n",
    "\n",
    "- Terminemos construyendo un pipeline\n",
    "\n",
    "#### Pipeline para predecir la popularidad de la canción: Regresión logística\n",
    "\n",
    "Finalmente construiremos un pipeline para imputar valores faltantes, escalar atributos y ajustar los hiperparámetros de un modelo de regresión logística. \n",
    "- *El objetivo es encontrar los mejores parámetros y precisión al predecir la popularidad de la canción*."
   ]
  },
  {
   "cell_type": "code",
   "execution_count": 120,
   "id": "ca4d81f5-6aa7-4c3e-ab05-04a715a15dbb",
   "metadata": {},
   "outputs": [
    {
     "name": "stdout",
     "output_type": "stream",
     "text": [
      "Tuned Logistic Regression Parameters: {'logreg__C': 0.112, 'logreg__solver': 'newton-cg'}, Accuracy: 0.744\n"
     ]
    }
   ],
   "source": [
    "# Crear steps\n",
    "steps = [(\"imp_mean\", SimpleImputer()), # Agregar la media a datos faltantes\n",
    "         (\"scaler\", StandardScaler()), # Normalizar datos.\n",
    "         (\"logreg\", LogisticRegression())]\n",
    "\n",
    "# Configurar el pipeline\n",
    "pipeline = Pipeline(steps)\n",
    "params = {\"logreg__solver\": [\"newton-cg\", \"saga\", \"lbfgs\"],\n",
    "         \"logreg__C\": np.linspace(0.001, 1.0, 10)}\n",
    "\n",
    "# Crear el objeto GridSearchCV\n",
    "tuning = GridSearchCV(pipeline, param_grid = params)\n",
    "tuning.fit(X_train, y_train)\n",
    "y_pred = tuning.predict(X_test)\n",
    "\n",
    "# Calcular e imprime la precisión\n",
    "print(\"Tuned Logistic Regression Parameters: {}, Accuracy: {}\".format(tuning.best_params_, tuning.score(X_test, y_test)))"
   ]
  },
  {
   "cell_type": "markdown",
   "id": "f3f158da-9177-4305-9ad0-24743762071d",
   "metadata": {},
   "source": [
    "**NOTA:**\n",
    "\n",
    "Estos parámetros son opciones de configuración para un modelo de regresión logística en scikit-learn.\n",
    "\n",
    "- **logreg__solver**: Este parámetro especifica el algoritmo a utilizar en el problema de optimización durante el entrenamiento del modelo de regresión logística. Los valores `\"newton-cg\"`, `\"saga\"` y `\"lbfgs\"` son diferentes algoritmos de optimización.\n",
    "    - `\"newton-cg\"` implementa el método de Newton, un algoritmo de optimización que es bastante eficiente para conjuntos de datos pequeños.\n",
    "    - `\"saga\"` es un algoritmo de optimización que es útil para conjuntos de datos grandes y/o con una alta dimensionalidad.\n",
    "    - `\"lbfgs\"` es un algoritmo de optimización que aproxima el método de Newton, que es más eficiente en términos de memoria que el método de Newton.\n",
    "\n",
    "- **logreg__C**: Este parámetro es el inverso de la fuerza de regularización. Es decir, a medida que `C` aumenta, la fuerza de regularización disminuye. La regularización es una técnica utilizada para prevenir el sobreajuste al agregar una penalización a los coeficientes del modelo. `np.linspace(0.001, 1.0, 10)` genera 10 valores de `C` igualmente espaciados entre 0.001 y 1.0.\n",
    "\n",
    "Estos parámetros se suelen ajustar durante el proceso de ajuste de hiperparámetros para encontrar la mejor configuración para el modelo. En este caso, estamos preparando para una búsqueda en cuadrícula o algo similar, donde se prueban todas las combinaciones posibles de estos parámetros para encontrar la que produce el mejor rendimiento del modelo."
   ]
  }
 ],
 "metadata": {
  "kernelspec": {
   "display_name": "Python 3 (ipykernel)",
   "language": "python",
   "name": "python3"
  },
  "language_info": {
   "codemirror_mode": {
    "name": "ipython",
    "version": 3
   },
   "file_extension": ".py",
   "mimetype": "text/x-python",
   "name": "python",
   "nbconvert_exporter": "python",
   "pygments_lexer": "ipython3",
   "version": "3.11.6"
  }
 },
 "nbformat": 4,
 "nbformat_minor": 5
}
