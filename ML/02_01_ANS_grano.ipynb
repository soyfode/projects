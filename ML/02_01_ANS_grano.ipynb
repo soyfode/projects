{
 "cells": [
  {
   "cell_type": "markdown",
   "id": "c59f7f79-8467-4346-86f6-946f783f3e44",
   "metadata": {},
   "source": [
    "# Semillas\n",
    "\n",
    "## ¿Cuantos clusters de grano existen?"
   ]
  },
  {
   "cell_type": "code",
   "execution_count": 57,
   "id": "0be6ff59-94d4-45f6-b671-229a6b41a1db",
   "metadata": {},
   "outputs": [],
   "source": [
    "# LIBRERIAS\n",
    "import pandas as pd\n",
    "import numpy as np\n",
    "import matplotlib.pyplot as plt\n",
    "from sklearn.cluster import KMeans"
   ]
  },
  {
   "cell_type": "code",
   "execution_count": 58,
   "id": "31e4878f-6f3d-4c0c-8985-507bbe933e3c",
   "metadata": {},
   "outputs": [
    {
     "data": {
      "text/plain": [
       "array([[15.26  , 14.84  ,  0.871 , ...,  2.221 ,  5.22  ,  1.    ],\n",
       "       [14.88  , 14.57  ,  0.8811, ...,  1.018 ,  4.956 ,  1.    ],\n",
       "       [14.29  , 14.09  ,  0.905 , ...,  2.699 ,  4.825 ,  1.    ],\n",
       "       ...,\n",
       "       [13.2   , 13.66  ,  0.8883, ...,  8.315 ,  5.056 ,  3.    ],\n",
       "       [11.84  , 13.21  ,  0.8521, ...,  3.598 ,  5.044 ,  3.    ],\n",
       "       [12.3   , 13.34  ,  0.8684, ...,  5.637 ,  5.063 ,  3.    ]])"
      ]
     },
     "execution_count": 58,
     "metadata": {},
     "output_type": "execute_result"
    }
   ],
   "source": [
    "# DATA\n",
    "ruta_archivo = '/home/jovyan/notebooks/data/seeds.csv'\n",
    "samples = np.loadtxt(ruta_archivo, delimiter = ',')\n",
    "samples"
   ]
  },
  {
   "cell_type": "code",
   "execution_count": 59,
   "id": "0d341e30-b35b-4902-b72b-6c60ab38ffba",
   "metadata": {},
   "outputs": [
    {
     "data": {
      "image/png": "[encoded data removed]",
      "text/plain": [
       "<Figure size 640x480 with 1 Axes>"
      ]
     },
     "metadata": {},
     "output_type": "display_data"
    }
   ],
   "source": [
    "# Range de 1 a 5.\n",
    "ks = range(1, 6)\n",
    "\n",
    "# Crear una lista vacía para almacenar inercias.\n",
    "inertias = []\n",
    "\n",
    "# Loop de ks\n",
    "for k in ks:\n",
    "    # Crear una instancia de KMeans con k clusters: model\n",
    "    # con n_init = 10, que se ejecuta 10 veces para diferentes\n",
    "    # semillas de centroides y la mejor solución de estas 10\n",
    "    # es la que se seleciona.\n",
    "    model = KMeans(n_clusters = k, n_init = 10)\n",
    "    \n",
    "    # Ajustar modelo a muestras\n",
    "    model.fit(samples)\n",
    "    \n",
    "    # Agregar la inercia a la lista de inertias.\n",
    "    inertias.append(model.inertia_)\n",
    "    \n",
    "    \n",
    "# Trazar ks vs inercias\n",
    "plt.plot(ks, inertias, '-o')\n",
    "plt.xlabel('number of clusters, k')\n",
    "plt.ylabel('inertia')\n",
    "plt.xticks(ks)\n",
    "plt.show()"
   ]
  },
  {
   "cell_type": "markdown",
   "id": "90bc3a17-1e5c-4741-ac72-da4fa9d82a61",
   "metadata": {},
   "source": [
    "**Interpretación:** En el gráfico de inercia, 3 es un buen número de grupos para los datos de grano. De hecho, las muestras de cereales proceden de una mezcla de 3 variedades de cereales diferentes: \"Kama\", \"Rosa\" y \"Canadian\".\n",
    "\n",
    "## Evaluando los clusters de grano\n",
    "\n",
    "Ahora, agrupe las muestras de granos en tres grupos y compárelos con las variedades de granos mediante una tabulación cruzada.\n",
    "\n",
    "Tiene la variedad `\"samples\"` de muestras de granos y una lista `\"varieties\"` que indica la variedad de granos para cada muestra.\n"
   ]
  },
  {
   "cell_type": "code",
   "execution_count": 60,
   "id": "4543847d-42e0-4714-b339-233469a39672",
   "metadata": {},
   "outputs": [],
   "source": [
    "# DATA\n",
    "ruta_archivo = '/home/jovyan/notebooks/data/varieties.csv'\n",
    "varieties = pd.read_csv(ruta_archivo, header = None)\n",
    "varieties = varieties[0].tolist()"
   ]
  },
  {
   "cell_type": "code",
   "execution_count": 61,
   "id": "aa930432-4fce-4c40-9f7b-d6de47644a63",
   "metadata": {},
   "outputs": [
    {
     "name": "stdout",
     "output_type": "stream",
     "text": [
      "varieties   Trigo rosa   trigo canadiense  Trigo Kama\n",
      "labels                                               \n",
      "0                   60                  0           1\n",
      "1                    0                 70           5\n",
      "2                   10                  0          64\n"
     ]
    }
   ],
   "source": [
    "# Crear un modelo KMeans con 3 clusters: modelo\n",
    "model = KMeans(n_clusters = 3, n_init = 10, random_state = 42)\n",
    "\n",
    "# Utilizar fit_predict para ajustar el modelo y obtener etiquetas de grupo:labels\n",
    "## fit_predict es lo mismo que usar .fit() y luego .predict()\n",
    "labels = model.fit_predict(samples)\n",
    "\n",
    "# Crear un DataFrame con etiquetas y variedades como columnas: df\n",
    "df = pd.DataFrame({'labels': labels, 'varieties': varieties})\n",
    "\n",
    "# Create crosstab: ct\n",
    "ct = pd.crosstab(df['labels'],[df['varieties']])\n",
    "\n",
    "# Display ct\n",
    "print(ct)"
   ]
  }
 ],
 "metadata": {
  "kernelspec": {
   "display_name": "Python 3 (ipykernel)",
   "language": "python",
   "name": "python3"
  },
  "language_info": {
   "codemirror_mode": {
    "name": "ipython",
    "version": 3
   },
   "file_extension": ".py",
   "mimetype": "text/x-python",
   "name": "python",
   "nbconvert_exporter": "python",
   "pygments_lexer": "ipython3",
   "version": "3.11.6"
  }
 },
 "nbformat": 4,
 "nbformat_minor": 5
}
