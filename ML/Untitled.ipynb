{
 "cells": [
  {
   "cell_type": "markdown",
   "id": "53356c42-9826-4669-bd6a-a92e5dfd7a49",
   "metadata": {},
   "source": [
    "# Recomendar artistas musicales\n",
    "\n",
    "Recomendaremos artistas musicales populares. \n",
    "\n",
    "Tenemos un array disperso `artists` cuyas filas corresponden a artistas y cuyas columnas corresponden a usuarios. Las entradas dan el número de veces que cada artista fue escuchado por cada usuario.\n",
    "\n",
    "Construiremos un pipeline y transforma el array en características NMF normalizadas. \n",
    "\n",
    "Se utilizará `MaxAbsScaler` que transforma los datos para que todos los usuarios tengan la misma influencia en el modelo, independientemente del número de artistas que hayan escuchado. "
   ]
  },
  {
   "cell_type": "code",
   "execution_count": 10,
   "id": "c2757c74-3517-4e74-96fb-4f556b608d55",
   "metadata": {},
   "outputs": [],
   "source": [
    "# LIBRERIAS\n",
    "import pandas as pd\n",
    "import numpy as np\n",
    "from scipy.sparse import csr_matrix\n",
    "import matplotlib.pyplot as plt\n",
    "from sklearn.decomposition import NMF"
   ]
  },
  {
   "cell_type": "code",
   "execution_count": 15,
   "id": "6500ed3c-6ff6-4d04-95ff-f7254772a03f",
   "metadata": {},
   "outputs": [],
   "source": [
    "# DATA\n",
    "ruta_archivo = '/home/jovyan/notebooks/data/scrobbler-small-sample.csv'\n",
    "df = pd.read_csv(ruta_archivo)\n",
    "_shape = (df.artist_offset.nunique(), df.user_offset.nunique())\n",
    "artists = csr_matrix((df.playcount, (df.artist_offset, df.user_offset)), shape=_shape, dtype=np.float64)"
   ]
  },
  {
   "cell_type": "code",
   "execution_count": 18,
   "id": "e7c67976-8b17-451f-9e91-3ca26341d9b4",
   "metadata": {},
   "outputs": [
    {
     "data": {
      "text/plain": [
       "array([[nan, 'popularity', 'acousticness', ..., 'tempo', 'valence',\n",
       "        'genre'],\n",
       "       [36506.0, '60.0', '0.8959999999999999', ..., '92.934', '0.618',\n",
       "        '1'],\n",
       "       [37591.0, '63.0', '0.0038399999999999', ..., '110.012', '0.637',\n",
       "        '1'],\n",
       "       ...,\n",
       "       [46896.0, '54.0', '0.0161', ..., '85.08200000000001', '0.835',\n",
       "        '0'],\n",
       "       [45135.0, '62.0', '0.326', ..., '150.063', '0.5379999999999999',\n",
       "        '0'],\n",
       "       [18960.0, '42.0', '0.0295', ..., '146.245', '0.18600000000000003',\n",
       "        '0']], dtype=object)"
      ]
     },
     "execution_count": 18,
     "metadata": {},
     "output_type": "execute_result"
    }
   ],
   "source": []
  },
  {
   "cell_type": "code",
   "execution_count": null,
   "id": "83703e9e-025a-4322-998f-eb8a49ce9952",
   "metadata": {},
   "outputs": [],
   "source": []
  }
 ],
 "metadata": {
  "kernelspec": {
   "display_name": "Python 3 (ipykernel)",
   "language": "python",
   "name": "python3"
  },
  "language_info": {
   "codemirror_mode": {
    "name": "ipython",
    "version": 3
   },
   "file_extension": ".py",
   "mimetype": "text/x-python",
   "name": "python",
   "nbconvert_exporter": "python",
   "pygments_lexer": "ipython3",
   "version": "3.11.6"
  }
 },
 "nbformat": 4,
 "nbformat_minor": 5
}
