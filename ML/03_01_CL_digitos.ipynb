{
 "cells": [
  {
   "cell_type": "markdown",
   "id": "58e9eb6a-a4ff-4f90-afba-d293d6424a18",
   "metadata": {},
   "source": [
    "# Dígitos escritos a mano.\n",
    "\n",
    "- Aplicaremos la regresión logística y una máquina de vectores de soporte para clasificar imágenes de dígitos escritos a mano."
   ]
  },
  {
   "cell_type": "code",
   "execution_count": 6,
   "id": "4c64698c-8659-423a-ba6e-c8a40df3cb4e",
   "metadata": {},
   "outputs": [],
   "source": [
    "# LIBRERIAS\n",
    "from sklearn.linear_model import LogisticRegression\n",
    "from sklearn.model_selection import train_test_split\n",
    "from sklearn import datasets\n",
    "from sklearn.svm import SVC"
   ]
  },
  {
   "cell_type": "code",
   "execution_count": 3,
   "id": "294e7478-2cb1-4af9-810d-e7e5cdaf569c",
   "metadata": {},
   "outputs": [],
   "source": [
    "# DATA\n",
    "digits = datasets.load_digits\n",
    "X, y = datasets.load_digits(return_X_y = True)\n",
    "# Dividir datos de entrenamiento y prueba\n",
    "X_train, X_test, y_train, y_test = train_test_split(X, y)"
   ]
  },
  {
   "cell_type": "code",
   "execution_count": 25,
   "id": "6d6a2bf9-c8a3-4b6a-9885-b9c688344d87",
   "metadata": {},
   "outputs": [
    {
     "name": "stdout",
     "output_type": "stream",
     "text": [
      "1.0\n",
      "0.9666666666666667\n",
      "0.9977728285077951\n",
      "0.9888888888888889\n"
     ]
    }
   ],
   "source": [
    "# Aplicar regresión logística e imprimir puntuaciones\n",
    "lr = LogisticRegression(max_iter = 2254)\n",
    "lr.fit(X_train, y_train)\n",
    "print(lr.score(X_train, y_train))\n",
    "print(lr.score(X_test, y_test))\n",
    "\n",
    "# Aplicar SVM e imprimir puntuaciones\n",
    "svm = SVC()\n",
    "svm.fit(X_train, y_train)\n",
    "print(svm.score(X_train, y_train))\n",
    "print(svm.score(X_test, y_test))"
   ]
  },
  {
   "cell_type": "code",
   "execution_count": null,
   "id": "2da90e9d-3307-43f1-9ddd-dceddf9a8ab0",
   "metadata": {},
   "outputs": [],
   "source": []
  }
 ],
 "metadata": {
  "kernelspec": {
   "display_name": "Python 3 (ipykernel)",
   "language": "python",
   "name": "python3"
  },
  "language_info": {
   "codemirror_mode": {
    "name": "ipython",
    "version": 3
   },
   "file_extension": ".py",
   "mimetype": "text/x-python",
   "name": "python",
   "nbconvert_exporter": "python",
   "pygments_lexer": "ipython3",
   "version": "3.11.6"
  }
 },
 "nbformat": 4,
 "nbformat_minor": 5
}
