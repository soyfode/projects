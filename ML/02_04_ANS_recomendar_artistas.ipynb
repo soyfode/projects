{
 "cells": [
  {
   "cell_type": "markdown",
   "id": "53356c42-9826-4669-bd6a-a92e5dfd7a49",
   "metadata": {},
   "source": [
    "# Recomendar artistas musicales\n",
    "\n",
    "Recomendaremos artistas musicales populares. \n",
    "\n",
    "Tenemos un array disperso `artists` cuyas filas corresponden a artistas y cuyas columnas corresponden a usuarios. Las entradas dan el número de veces que cada artista fue escuchado por cada usuario.\n",
    "\n",
    "Construiremos un pipeline y transforma el array en características NMF normalizadas. \n",
    "\n",
    "Se utilizará `MaxAbsScaler` que transforma los datos para que todos los usuarios tengan la misma influencia en el modelo, independientemente del número de artistas que hayan escuchado. "
   ]
  },
  {
   "cell_type": "code",
   "execution_count": 14,
   "id": "c2757c74-3517-4e74-96fb-4f556b608d55",
   "metadata": {},
   "outputs": [],
   "source": [
    "# LIBRERIAS\n",
    "import pandas as pd\n",
    "import numpy as np\n",
    "from scipy.sparse import csr_matrix\n",
    "import matplotlib.pyplot as plt\n",
    "from sklearn.decomposition import NMF\n",
    "from sklearn.preprocessing import Normalizer, MaxAbsScaler\n",
    "from sklearn.pipeline import make_pipeline"
   ]
  },
  {
   "cell_type": "code",
   "execution_count": 25,
   "id": "6500ed3c-6ff6-4d04-95ff-f7254772a03f",
   "metadata": {},
   "outputs": [],
   "source": [
    "# DATA\n",
    "ruta_archivo = '/home/jovyan/notebooks/data/scrobbler-small-sample.csv'\n",
    "df = pd.read_csv(ruta_archivo)\n",
    "\n",
    "# Reorganizar el DataFrame\n",
    "pivot_df = df.pivot(index='artist_offset', columns='user_offset', values='playcount')\n",
    "\n",
    "# Convertir el DataFrame reorganizado en una matriz dispersa\n",
    "artists = csr_matrix(pivot_df_filled.values)\n",
    "\n",
    "ruta_archivo2 = '/home/jovyan/notebooks/data/artists.csv'\n",
    "df = pd.read_csv(ruta_archivo2, header = None)\n",
    "artist_names = df[0].values"
   ]
  },
  {
   "cell_type": "code",
   "execution_count": 26,
   "id": "e7c67976-8b17-451f-9e91-3ca26341d9b4",
   "metadata": {},
   "outputs": [],
   "source": [
    "# Crear un MaxAbsScaler: scaler\n",
    "scaler = MaxAbsScaler()\n",
    "\n",
    "# Crear un modelo NMF: nmf\n",
    "nmf = NMF(n_components = 20)\n",
    "\n",
    "# Crear un Normalizer: normalizer\n",
    "normalizer = Normalizer()\n",
    "\n",
    "# Crear un pipeline: pipeline\n",
    "pipeline = make_pipeline(scaler, nmf, normalizer)\n",
    "\n",
    "# Aplicar fit_transform a los artistas: norm_features\n",
    "norm_features = pipeline.fit_transform(artists)"
   ]
  },
  {
   "cell_type": "markdown",
   "id": "5420f5ac-2130-4f85-9f29-0940d83af972",
   "metadata": {},
   "source": [
    "## ¿Qué otros artistas musicales podrían gustarte?\n",
    "\n",
    "Supongamos que somos fans de Bruce Springsteen. \n",
    "\n",
    "Para responder esta preguntau, utilizaremos las características NMF y la similitud coseno para encontrar artistas musicales similares."
   ]
  },
  {
   "cell_type": "code",
   "execution_count": 27,
   "id": "d4afe7d8-f1dd-4e48-bdbc-eb67ff845fe0",
   "metadata": {},
   "outputs": [
    {
     "name": "stdout",
     "output_type": "stream",
     "text": [
      "Bruce Springsteen    1.000000\n",
      "Leonard Cohen        0.961675\n",
      "Neil Young           0.950481\n",
      "The Beach Boys       0.857471\n",
      "Van Morrison         0.836613\n",
      "dtype: float64\n"
     ]
    }
   ],
   "source": [
    "# Crear un DataFrame: df\n",
    "df = pd.DataFrame(norm_features, index = artist_names)\n",
    "\n",
    "# Seleccionar la fila de 'Bruce Springsteen': artist\n",
    "artist = df.loc['Bruce Springsteen']\n",
    "\n",
    "# Calcular las similitudes del coseno: similarities\n",
    "similarities = df.dot(artist)\n",
    "\n",
    "# Mostrar aquellos con la mayor similitud del coseno\n",
    "print(similarities.nlargest())"
   ]
  }
 ],
 "metadata": {
  "kernelspec": {
   "display_name": "Python 3 (ipykernel)",
   "language": "python",
   "name": "python3"
  },
  "language_info": {
   "codemirror_mode": {
    "name": "ipython",
    "version": 3
   },
   "file_extension": ".py",
   "mimetype": "text/x-python",
   "name": "python",
   "nbconvert_exporter": "python",
   "pygments_lexer": "ipython3",
   "version": "3.11.6"
  }
 },
 "nbformat": 4,
 "nbformat_minor": 5
}
