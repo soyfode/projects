{
 "cells": [
  {
   "cell_type": "markdown",
   "id": "58e9eb6a-a4ff-4f90-afba-d293d6424a18",
   "metadata": {},
   "source": [
    "# Dígitos escritos a mano.\n",
    "\n",
    "- Aplicaremos la regresión logística y una máquina de vectores de soporte para clasificar imágenes de dígitos escritos a mano."
   ]
  },
  {
   "cell_type": "code",
   "execution_count": 5,
   "id": "4c64698c-8659-423a-ba6e-c8a40df3cb4e",
   "metadata": {},
   "outputs": [],
   "source": [
    "# LIBRERIAS\n",
    "from sklearn.linear_model import LogisticRegression\n",
    "from sklearn.model_selection import train_test_split\n",
    "from sklearn import datasets"
   ]
  },
  {
   "cell_type": "code",
   "execution_count": 6,
   "id": "294e7478-2cb1-4af9-810d-e7e5cdaf569c",
   "metadata": {},
   "outputs": [
    {
     "ename": "AttributeError",
     "evalue": "'function' object has no attribute 'data'",
     "output_type": "error",
     "traceback": [
      "\u001b[0;31m---------------------------------------------------------------------------\u001b[0m",
      "\u001b[0;31mAttributeError\u001b[0m                            Traceback (most recent call last)",
      "Cell \u001b[0;32mIn[6], line 5\u001b[0m\n\u001b[1;32m      2\u001b[0m digits \u001b[38;5;241m=\u001b[39m datasets\u001b[38;5;241m.\u001b[39mload_digits\n\u001b[1;32m      4\u001b[0m \u001b[38;5;66;03m# Dividir datos de entrenamiento y prueba\u001b[39;00m\n\u001b[0;32m----> 5\u001b[0m X_train, X_test, y_train, y_test \u001b[38;5;241m=\u001b[39m train_test_split(\u001b[43mdigits\u001b[49m\u001b[38;5;241;43m.\u001b[39;49m\u001b[43mdata\u001b[49m, digits\u001b[38;5;241m.\u001b[39mtarget)\n",
      "\u001b[0;31mAttributeError\u001b[0m: 'function' object has no attribute 'data'"
     ]
    }
   ],
   "source": [
    "# DATA\n",
    "digits = datasets.load_digits\n",
    "\n",
    "# Dividir datos de entrenamiento y prueba\n",
    "X_train, X_test, y_train, y_test = train_test_split(digits.data, digits.target)"
   ]
  },
  {
   "cell_type": "code",
   "execution_count": null,
   "id": "6d6a2bf9-c8a3-4b6a-9885-b9c688344d87",
   "metadata": {},
   "outputs": [],
   "source": [
    "# Aplicar regresión logística e imprimir puntuaciones\n",
    "lr = LogisticRegression()\n",
    "lr.fit(X_train, y_train)\n",
    "print(lr.score(X_train, y_train))\n",
    "print(lr.score(X_test, y_test))\n",
    "\n",
    "# Aplicar SVM e imprimir puntuaciones\n",
    "svm = SVC()\n",
    "svm.fit(X_train, y_train)\n",
    "print(svm.score(X_train, y_train))\n",
    "print(svm.score(X_test, y_test))"
   ]
  },
  {
   "cell_type": "code",
   "execution_count": null,
   "id": "2da90e9d-3307-43f1-9ddd-dceddf9a8ab0",
   "metadata": {},
   "outputs": [],
   "source": []
  }
 ],
 "metadata": {
  "kernelspec": {
   "display_name": "Python 3 (ipykernel)",
   "language": "python",
   "name": "python3"
  },
  "language_info": {
   "codemirror_mode": {
    "name": "ipython",
    "version": 3
   },
   "file_extension": ".py",
   "mimetype": "text/x-python",
   "name": "python",
   "nbconvert_exporter": "python",
   "pygments_lexer": "ipython3",
   "version": "3.11.6"
  }
 },
 "nbformat": 4,
 "nbformat_minor": 5
}
