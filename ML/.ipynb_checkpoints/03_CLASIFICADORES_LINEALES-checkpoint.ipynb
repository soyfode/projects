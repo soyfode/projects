{
 "cells": [
  {
   "cell_type": "markdown",
   "id": "8f464b2f-269d-4742-87cd-611801d290c1",
   "metadata": {},
   "source": [
    "# Clasificadores lineales\n",
    "\n",
    "## Aplicando la regresión logística y SVM\n",
    "\n",
    "Empecemos recordando algunos pasos típicos de aprendizaje supervisado."
   ]
  },
  {
   "cell_type": "code",
   "execution_count": 18,
   "id": "8e1668c9-1556-4b4c-a10e-196b42b8898a",
   "metadata": {},
   "outputs": [],
   "source": [
    "# LEBRERIA\n",
    "import sklearn.datasets\n",
    "from sklearn.neighbors import KNeighborsClassifier\n",
    "from sklearn.model_selection import train_test_split\n",
    "from sklearn.linear_model import LogisticRegression\n",
    "from sklearn.svm import LinearSVC\n",
    "from sklearn.svm import SVC"
   ]
  },
  {
   "cell_type": "code",
   "execution_count": 7,
   "id": "fb468c33-f694-47da-8b1e-2f947e196fbe",
   "metadata": {},
   "outputs": [
    {
     "name": "stdout",
     "output_type": "stream",
     "text": [
      "(11314, 130107)\n",
      "\n",
      "(11314,)\n"
     ]
    }
   ],
   "source": [
    "# Cargar los datos de los grupos de noticias del repositorio \n",
    "# de conjunto de datos integrados en scikit-learn\n",
    "newsgroups = sklearn.datasets.fetch_20newsgroups_vectorized()\n",
    "X, y = newsgroups.data, newsgroups.target\n",
    "\n",
    "# Inspeccionar la forma de X e y.\n",
    "print(X.shape)\n",
    "print()\n",
    "print(y.shape)"
   ]
  },
  {
   "cell_type": "markdown",
   "id": "060eb3d1-d014-4c7a-a393-79eaf4367e26",
   "metadata": {},
   "source": [
    "-  En este caso las características se derivan de las palabras que aparencen en cada articulo de noticia y los valores son los temas del artículo que es lo que intentamos predecir."
   ]
  },
  {
   "cell_type": "code",
   "execution_count": null,
   "id": "9e1d9498-73ab-4b6c-b48f-6c1a537f295a",
   "metadata": {},
   "outputs": [],
   "source": [
    "# Intanciar KNN\n",
    "knn = KNeighborsClassifier(n_neighbors = 1)\n",
    "\n",
    "# Ajustar el modelo con el conjunto de datos\n",
    "knn.fit(X, y)\n",
    "\n",
    "# Precedir \n",
    "y_pred = knn.predict(X)"
   ]
  },
  {
   "cell_type": "markdown",
   "id": "ecbb493d-65f4-44ee-a351-16edc796c890",
   "metadata": {},
   "source": [
    "### Evaluando el modelo"
   ]
  },
  {
   "cell_type": "code",
   "execution_count": null,
   "id": "e891f923-760e-466b-81e0-6609d52a705b",
   "metadata": {},
   "outputs": [],
   "source": [
    "# Usar .score() para evaluar el modelo\n",
    "knn.score(X, y)"
   ]
  },
  {
   "cell_type": "markdown",
   "id": "0a80601b-2a62-4c10-8003-e78a7744612f",
   "metadata": {},
   "source": [
    "- El número no es particularmente significativo, ya que queremos saber cómo se generaliza el modelo a datos no vistos."
   ]
  },
  {
   "cell_type": "code",
   "execution_count": null,
   "id": "4866eedb-9d5f-4989-9a10-b9add9034b7f",
   "metadata": {},
   "outputs": [],
   "source": [
    "# Dividir el conjunto de datos en entrenamiento y prueba\n",
    "X_train, X_test, y_train, y_test = train_test_split(X, y)\n",
    "\n",
    "# Volver a ajustar al conjunto de datos\n",
    "knn.fit(X_train, y_train)\n",
    "\n",
    "# Calcular la puntación de la prueba\n",
    "knn.score(X_test, y_test)"
   ]
  },
  {
   "cell_type": "markdown",
   "id": "95f0c01d-0460-4a01-aa1b-eb7c6cc7d781",
   "metadata": {},
   "source": [
    "### Ejecutar regresión lineal y SVM\n",
    "\n",
    "Pongamos cómo ejemplo el conjunto de datos de vino de sklearn."
   ]
  },
  {
   "cell_type": "code",
   "execution_count": 22,
   "id": "90f74a35-413f-4cd1-bf0a-186796a4339e",
   "metadata": {},
   "outputs": [
    {
     "name": "stderr",
     "output_type": "stream",
     "text": [
      "/opt/conda/lib/python3.11/site-packages/sklearn/linear_model/_logistic.py:460: ConvergenceWarning: lbfgs failed to converge (status=1):\n",
      "STOP: TOTAL NO. of ITERATIONS REACHED LIMIT.\n",
      "\n",
      "Increase the number of iterations (max_iter) or scale the data as shown in:\n",
      "    https://scikit-learn.org/stable/modules/preprocessing.html\n",
      "Please also refer to the documentation for alternative solver options:\n",
      "    https://scikit-learn.org/stable/modules/linear_model.html#logistic-regression\n",
      "  n_iter_i = _check_optimize_result(\n"
     ]
    },
    {
     "ename": "ValueError",
     "evalue": "X has 13 features, but LogisticRegression is expecting 130107 features as input.",
     "output_type": "error",
     "traceback": [
      "\u001b[0;31m---------------------------------------------------------------------------\u001b[0m",
      "\u001b[0;31mValueError\u001b[0m                                Traceback (most recent call last)",
      "Cell \u001b[0;32mIn[22], line 14\u001b[0m\n\u001b[1;32m     11\u001b[0m lr\u001b[38;5;241m.\u001b[39mpredict(X_test)\n\u001b[1;32m     13\u001b[0m \u001b[38;5;66;03m# Calcular la precisión del entrenamiento\u001b[39;00m\n\u001b[0;32m---> 14\u001b[0m \u001b[43mlr\u001b[49m\u001b[38;5;241;43m.\u001b[39;49m\u001b[43mscore\u001b[49m\u001b[43m(\u001b[49m\u001b[43mwine\u001b[49m\u001b[38;5;241;43m.\u001b[39;49m\u001b[43mdata\u001b[49m\u001b[43m,\u001b[49m\u001b[43m \u001b[49m\u001b[43mwine\u001b[49m\u001b[38;5;241;43m.\u001b[39;49m\u001b[43mtarget\u001b[49m\u001b[43m)\u001b[49m\n",
      "File \u001b[0;32m/opt/conda/lib/python3.11/site-packages/sklearn/base.py:706\u001b[0m, in \u001b[0;36mClassifierMixin.score\u001b[0;34m(self, X, y, sample_weight)\u001b[0m\n\u001b[1;32m    681\u001b[0m \u001b[38;5;250m\u001b[39m\u001b[38;5;124;03m\"\"\"\u001b[39;00m\n\u001b[1;32m    682\u001b[0m \u001b[38;5;124;03mReturn the mean accuracy on the given test data and labels.\u001b[39;00m\n\u001b[1;32m    683\u001b[0m \n\u001b[0;32m   (...)\u001b[0m\n\u001b[1;32m    702\u001b[0m \u001b[38;5;124;03m    Mean accuracy of ``self.predict(X)`` w.r.t. `y`.\u001b[39;00m\n\u001b[1;32m    703\u001b[0m \u001b[38;5;124;03m\"\"\"\u001b[39;00m\n\u001b[1;32m    704\u001b[0m \u001b[38;5;28;01mfrom\u001b[39;00m \u001b[38;5;21;01m.\u001b[39;00m\u001b[38;5;21;01mmetrics\u001b[39;00m \u001b[38;5;28;01mimport\u001b[39;00m accuracy_score\n\u001b[0;32m--> 706\u001b[0m \u001b[38;5;28;01mreturn\u001b[39;00m accuracy_score(y, \u001b[38;5;28;43mself\u001b[39;49m\u001b[38;5;241;43m.\u001b[39;49m\u001b[43mpredict\u001b[49m\u001b[43m(\u001b[49m\u001b[43mX\u001b[49m\u001b[43m)\u001b[49m, sample_weight\u001b[38;5;241m=\u001b[39msample_weight)\n",
      "File \u001b[0;32m/opt/conda/lib/python3.11/site-packages/sklearn/linear_model/_base.py:451\u001b[0m, in \u001b[0;36mLinearClassifierMixin.predict\u001b[0;34m(self, X)\u001b[0m\n\u001b[1;32m    437\u001b[0m \u001b[38;5;250m\u001b[39m\u001b[38;5;124;03m\"\"\"\u001b[39;00m\n\u001b[1;32m    438\u001b[0m \u001b[38;5;124;03mPredict class labels for samples in X.\u001b[39;00m\n\u001b[1;32m    439\u001b[0m \n\u001b[0;32m   (...)\u001b[0m\n\u001b[1;32m    448\u001b[0m \u001b[38;5;124;03m    Vector containing the class labels for each sample.\u001b[39;00m\n\u001b[1;32m    449\u001b[0m \u001b[38;5;124;03m\"\"\"\u001b[39;00m\n\u001b[1;32m    450\u001b[0m xp, _ \u001b[38;5;241m=\u001b[39m get_namespace(X)\n\u001b[0;32m--> 451\u001b[0m scores \u001b[38;5;241m=\u001b[39m \u001b[38;5;28;43mself\u001b[39;49m\u001b[38;5;241;43m.\u001b[39;49m\u001b[43mdecision_function\u001b[49m\u001b[43m(\u001b[49m\u001b[43mX\u001b[49m\u001b[43m)\u001b[49m\n\u001b[1;32m    452\u001b[0m \u001b[38;5;28;01mif\u001b[39;00m \u001b[38;5;28mlen\u001b[39m(scores\u001b[38;5;241m.\u001b[39mshape) \u001b[38;5;241m==\u001b[39m \u001b[38;5;241m1\u001b[39m:\n\u001b[1;32m    453\u001b[0m     indices \u001b[38;5;241m=\u001b[39m xp\u001b[38;5;241m.\u001b[39mastype(scores \u001b[38;5;241m>\u001b[39m \u001b[38;5;241m0\u001b[39m, \u001b[38;5;28mint\u001b[39m)\n",
      "File \u001b[0;32m/opt/conda/lib/python3.11/site-packages/sklearn/linear_model/_base.py:432\u001b[0m, in \u001b[0;36mLinearClassifierMixin.decision_function\u001b[0;34m(self, X)\u001b[0m\n\u001b[1;32m    429\u001b[0m check_is_fitted(\u001b[38;5;28mself\u001b[39m)\n\u001b[1;32m    430\u001b[0m xp, _ \u001b[38;5;241m=\u001b[39m get_namespace(X)\n\u001b[0;32m--> 432\u001b[0m X \u001b[38;5;241m=\u001b[39m \u001b[38;5;28;43mself\u001b[39;49m\u001b[38;5;241;43m.\u001b[39;49m\u001b[43m_validate_data\u001b[49m\u001b[43m(\u001b[49m\u001b[43mX\u001b[49m\u001b[43m,\u001b[49m\u001b[43m \u001b[49m\u001b[43maccept_sparse\u001b[49m\u001b[38;5;241;43m=\u001b[39;49m\u001b[38;5;124;43m\"\u001b[39;49m\u001b[38;5;124;43mcsr\u001b[39;49m\u001b[38;5;124;43m\"\u001b[39;49m\u001b[43m,\u001b[49m\u001b[43m \u001b[49m\u001b[43mreset\u001b[49m\u001b[38;5;241;43m=\u001b[39;49m\u001b[38;5;28;43;01mFalse\u001b[39;49;00m\u001b[43m)\u001b[49m\n\u001b[1;32m    433\u001b[0m scores \u001b[38;5;241m=\u001b[39m safe_sparse_dot(X, \u001b[38;5;28mself\u001b[39m\u001b[38;5;241m.\u001b[39mcoef_\u001b[38;5;241m.\u001b[39mT, dense_output\u001b[38;5;241m=\u001b[39m\u001b[38;5;28;01mTrue\u001b[39;00m) \u001b[38;5;241m+\u001b[39m \u001b[38;5;28mself\u001b[39m\u001b[38;5;241m.\u001b[39mintercept_\n\u001b[1;32m    434\u001b[0m \u001b[38;5;28;01mreturn\u001b[39;00m xp\u001b[38;5;241m.\u001b[39mreshape(scores, (\u001b[38;5;241m-\u001b[39m\u001b[38;5;241m1\u001b[39m,)) \u001b[38;5;28;01mif\u001b[39;00m scores\u001b[38;5;241m.\u001b[39mshape[\u001b[38;5;241m1\u001b[39m] \u001b[38;5;241m==\u001b[39m \u001b[38;5;241m1\u001b[39m \u001b[38;5;28;01melse\u001b[39;00m scores\n",
      "File \u001b[0;32m/opt/conda/lib/python3.11/site-packages/sklearn/base.py:626\u001b[0m, in \u001b[0;36mBaseEstimator._validate_data\u001b[0;34m(self, X, y, reset, validate_separately, cast_to_ndarray, **check_params)\u001b[0m\n\u001b[1;32m    623\u001b[0m     out \u001b[38;5;241m=\u001b[39m X, y\n\u001b[1;32m    625\u001b[0m \u001b[38;5;28;01mif\u001b[39;00m \u001b[38;5;129;01mnot\u001b[39;00m no_val_X \u001b[38;5;129;01mand\u001b[39;00m check_params\u001b[38;5;241m.\u001b[39mget(\u001b[38;5;124m\"\u001b[39m\u001b[38;5;124mensure_2d\u001b[39m\u001b[38;5;124m\"\u001b[39m, \u001b[38;5;28;01mTrue\u001b[39;00m):\n\u001b[0;32m--> 626\u001b[0m     \u001b[38;5;28;43mself\u001b[39;49m\u001b[38;5;241;43m.\u001b[39;49m\u001b[43m_check_n_features\u001b[49m\u001b[43m(\u001b[49m\u001b[43mX\u001b[49m\u001b[43m,\u001b[49m\u001b[43m \u001b[49m\u001b[43mreset\u001b[49m\u001b[38;5;241;43m=\u001b[39;49m\u001b[43mreset\u001b[49m\u001b[43m)\u001b[49m\n\u001b[1;32m    628\u001b[0m \u001b[38;5;28;01mreturn\u001b[39;00m out\n",
      "File \u001b[0;32m/opt/conda/lib/python3.11/site-packages/sklearn/base.py:415\u001b[0m, in \u001b[0;36mBaseEstimator._check_n_features\u001b[0;34m(self, X, reset)\u001b[0m\n\u001b[1;32m    412\u001b[0m     \u001b[38;5;28;01mreturn\u001b[39;00m\n\u001b[1;32m    414\u001b[0m \u001b[38;5;28;01mif\u001b[39;00m n_features \u001b[38;5;241m!=\u001b[39m \u001b[38;5;28mself\u001b[39m\u001b[38;5;241m.\u001b[39mn_features_in_:\n\u001b[0;32m--> 415\u001b[0m     \u001b[38;5;28;01mraise\u001b[39;00m \u001b[38;5;167;01mValueError\u001b[39;00m(\n\u001b[1;32m    416\u001b[0m         \u001b[38;5;124mf\u001b[39m\u001b[38;5;124m\"\u001b[39m\u001b[38;5;124mX has \u001b[39m\u001b[38;5;132;01m{\u001b[39;00mn_features\u001b[38;5;132;01m}\u001b[39;00m\u001b[38;5;124m features, but \u001b[39m\u001b[38;5;132;01m{\u001b[39;00m\u001b[38;5;28mself\u001b[39m\u001b[38;5;241m.\u001b[39m\u001b[38;5;18m__class__\u001b[39m\u001b[38;5;241m.\u001b[39m\u001b[38;5;18m__name__\u001b[39m\u001b[38;5;132;01m}\u001b[39;00m\u001b[38;5;124m \u001b[39m\u001b[38;5;124m\"\u001b[39m\n\u001b[1;32m    417\u001b[0m         \u001b[38;5;124mf\u001b[39m\u001b[38;5;124m\"\u001b[39m\u001b[38;5;124mis expecting \u001b[39m\u001b[38;5;132;01m{\u001b[39;00m\u001b[38;5;28mself\u001b[39m\u001b[38;5;241m.\u001b[39mn_features_in_\u001b[38;5;132;01m}\u001b[39;00m\u001b[38;5;124m features as input.\u001b[39m\u001b[38;5;124m\"\u001b[39m\n\u001b[1;32m    418\u001b[0m     )\n",
      "\u001b[0;31mValueError\u001b[0m: X has 13 features, but LogisticRegression is expecting 130107 features as input."
     ]
    }
   ],
   "source": [
    "# Cargar el cojunto de datos\n",
    "wine = sklearn.datasets.load_wine()\n",
    "\n",
    "# Instanciar el clasificador\n",
    "lr = LogisticRegression()\n",
    "\n",
    "# Ajustar el clasificador al conjunto de datos \n",
    "lr.fit(X_train, y_train)\n",
    "\n",
    "# Predecir\n",
    "lr.predict(X_test)\n",
    "\n",
    "# Calcular la precisión del entrenamiento\n",
    "lr.score(wine.data, wine.target)"
   ]
  },
  {
   "cell_type": "markdown",
   "id": "726e550e-97e5-47e9-b748-28af3f14a4f9",
   "metadata": {},
   "source": [
    "- `LogicticRegression()` puede también generar puntajes de confianza en lugar de predicciones \"duras\" y definitivas\n",
    "- Esto se realiza con `predic_proba()`. "
   ]
  },
  {
   "cell_type": "code",
   "execution_count": null,
   "id": "b5d45429-f1c5-4ae6-b746-38ec7203e7ba",
   "metadata": {},
   "outputs": [],
   "source": [
    "# Calcular el puntaje de confianza\n",
    "lr.prodict_proba(wine.data[:1])"
   ]
  },
  {
   "cell_type": "markdown",
   "id": "661001b1-5eae-4961-940f-187c7d1158ed",
   "metadata": {},
   "source": [
    "#### Usando el clasificador SVM\n",
    "\n",
    "- Usaremos `LinearSVC()` que funciona de la misma manera que `LogisticRegression()`"
   ]
  },
  {
   "cell_type": "code",
   "execution_count": 21,
   "id": "7b4aea1d-6292-4ed7-8a0b-70ddec033911",
   "metadata": {},
   "outputs": [
    {
     "ename": "NameError",
     "evalue": "name 'smv' is not defined",
     "output_type": "error",
     "traceback": [
      "\u001b[0;31m---------------------------------------------------------------------------\u001b[0m",
      "\u001b[0;31mNameError\u001b[0m                                 Traceback (most recent call last)",
      "Cell \u001b[0;32mIn[21], line 11\u001b[0m\n\u001b[1;32m      8\u001b[0m svm \u001b[38;5;241m=\u001b[39m LinearSVC()\n\u001b[1;32m     10\u001b[0m \u001b[38;5;66;03m# Ajustar a los datos\u001b[39;00m\n\u001b[0;32m---> 11\u001b[0m \u001b[43msmv\u001b[49m\u001b[38;5;241m.\u001b[39mfit(wine\u001b[38;5;241m.\u001b[39mdata, wine\u001b[38;5;241m.\u001b[39mtarget)\n\u001b[1;32m     13\u001b[0m \u001b[38;5;66;03m# calcular la precisión \u001b[39;00m\n\u001b[1;32m     14\u001b[0m smv\u001b[38;5;241m.\u001b[39mscore(wine\u001b[38;5;241m.\u001b[39mdata, wine\u001b[38;5;241m.\u001b[39mtarget)\n",
      "\u001b[0;31mNameError\u001b[0m: name 'smv' is not defined"
     ]
    }
   ],
   "source": [
    "# Cargar el cojunto de datos\n",
    "wine = sklearn.datasets.load_wine()\n",
    "\n",
    "# Cargar el cojunto de datos\n",
    "wine = sklearn.datasets.load_wine()\n",
    "\n",
    "# Instanciar SVM\n",
    "svm = LinearSVC()\n",
    "\n",
    "# Ajustar a los datos\n",
    "smv.fit(wine.data, wine.target)\n",
    "\n",
    "# calcular la precisión \n",
    "smv.score(wine.data, wine.target)"
   ]
  },
  {
   "cell_type": "markdown",
   "id": "0b079970-b5d9-4c41-b1f3-4b1db6a854eb",
   "metadata": {},
   "source": [
    "#### Usando la clase SVC\n",
    "\n",
    "- Se ajusta a una SVM no lineal por defecto."
   ]
  },
  {
   "cell_type": "code",
   "execution_count": 20,
   "id": "359bbf56-60b2-4563-bd36-b11923edc26a",
   "metadata": {},
   "outputs": [
    {
     "ename": "NameError",
     "evalue": "name 'smv' is not defined",
     "output_type": "error",
     "traceback": [
      "\u001b[0;31m---------------------------------------------------------------------------\u001b[0m",
      "\u001b[0;31mNameError\u001b[0m                                 Traceback (most recent call last)",
      "Cell \u001b[0;32mIn[20], line 5\u001b[0m\n\u001b[1;32m      2\u001b[0m svm \u001b[38;5;241m=\u001b[39m SVC()\n\u001b[1;32m      4\u001b[0m \u001b[38;5;66;03m# Ajustar a los datos\u001b[39;00m\n\u001b[0;32m----> 5\u001b[0m \u001b[43msmv\u001b[49m\u001b[38;5;241m.\u001b[39mfit(wine\u001b[38;5;241m.\u001b[39mdata, wine\u001b[38;5;241m.\u001b[39mtarget)\n\u001b[1;32m      7\u001b[0m \u001b[38;5;66;03m# calcular la precisión \u001b[39;00m\n\u001b[1;32m      8\u001b[0m smv\u001b[38;5;241m.\u001b[39mscore(wine\u001b[38;5;241m.\u001b[39mdata, wine\u001b[38;5;241m.\u001b[39mtarget)\n",
      "\u001b[0;31mNameError\u001b[0m: name 'smv' is not defined"
     ]
    }
   ],
   "source": [
    "# Instanciar SVC\n",
    "svm = SVC()\n",
    "\n",
    "# Ajustar a los datos\n",
    "smv.fit(wine.data, wine.target)\n",
    "\n",
    "# calcular la precisión \n",
    "smv.score(wine.data, wine.target)"
   ]
  },
  {
   "cell_type": "markdown",
   "id": "1f5d166e-746d-45e7-9019-854cebfc1b4f",
   "metadata": {},
   "source": [
    "- Con los hiperparámetros predeterminados, la precisión no es particularmente alta, pero es posible que al ajustar los hiperparámetros de este model lleguemos a una precisión del 100%.\n",
    "- Pero tal clasificador podría estar sobreajustado, lo cual es un riesgo que corremos cuando usamos modelos más complejos como `SVM` *no lineales*.\n",
    "- Un ***hiperparámetro*** es una elección sobre el modelo que haces antes de ajustar a los datos, y a menudo contrala la complejidad del modelo.\n",
    "    - Si el modelo es muy simple, es posible que no pueda capturar los patrones en los datos, lo que lleva a una baja precisión del entrenamiento o **Desajuste**.\n",
    "    - Si el modelo es demasiado complejo, puede aprender las peculiaridades de su conjunto de entrenamiento particular, lo que lleva a una mejor precisión con los datos de prueba o **Sobreajuste**."
   ]
  },
  {
   "cell_type": "code",
   "execution_count": 19,
   "id": "0d5117c8-7548-49f3-bc79-544095a3258a",
   "metadata": {},
   "outputs": [
    {
     "ename": "NameError",
     "evalue": "name 'datasets' is not defined",
     "output_type": "error",
     "traceback": [
      "\u001b[0;31m---------------------------------------------------------------------------\u001b[0m",
      "\u001b[0;31mNameError\u001b[0m                                 Traceback (most recent call last)",
      "Cell \u001b[0;32mIn[19], line 1\u001b[0m\n\u001b[0;32m----> 1\u001b[0m digits \u001b[38;5;241m=\u001b[39m \u001b[43mdatasets\u001b[49m\u001b[38;5;241m.\u001b[39mload_digits()\n",
      "\u001b[0;31mNameError\u001b[0m: name 'datasets' is not defined"
     ]
    }
   ],
   "source": [
    "digits = datasets.load_digits()"
   ]
  },
  {
   "cell_type": "code",
   "execution_count": null,
   "id": "cd3c274f-5066-4995-b1a6-a9b62fa71da7",
   "metadata": {},
   "outputs": [],
   "source": []
  }
 ],
 "metadata": {
  "kernelspec": {
   "display_name": "Python 3 (ipykernel)",
   "language": "python",
   "name": "python3"
  },
  "language_info": {
   "codemirror_mode": {
    "name": "ipython",
    "version": 3
   },
   "file_extension": ".py",
   "mimetype": "text/x-python",
   "name": "python",
   "nbconvert_exporter": "python",
   "pygments_lexer": "ipython3",
   "version": "3.11.6"
  }
 },
 "nbformat": 4,
 "nbformat_minor": 5
}
