{
 "cells": [
  {
   "cell_type": "markdown",
   "id": "31189491-7fa9-4674-a593-02d0e78c18fe",
   "metadata": {},
   "source": [
    "# Aprendizaje supervisado\n",
    "\n",
    "- Los valores a predecir ya están.\n",
    "- Utiliza funciones para predecir el valor de una variable objeto.\n",
    "\n",
    "Existe dos tipos de aprendizaje supervisado:\n",
    "\n",
    "1. Clasificación.- Predice la etiqueta o categoría de una observación binaria. Por ejemplo podemos predecir si una transacción bancaria es fraudulenta o no (Clasificación binaria).\n",
    "2. Regresión.- Se utiliza para predecir valores continuos. Por jemplo, predice el precio de propiedad dado la característica (variable predictiva o variable independiente) el número de dormitorios y el tamaño de una propiedad. Lo que llamamos variable objeto hace referencia a variable dependiente o variable respuesta.\n",
    "\n",
    "CONDICIONES:\n",
    "\n",
    "1. Los datos no deben tener valores faltantes.\n",
    "2. Deben ser numéricos.\n",
    "3. Se almacenan como DataFrames, series o matrices NumPy.\n",
    "\n",
    "scikit-learn sigue la misma sintaxis para todo los modelos de aprendizaje supervisado, lo que hace que el flujo de trabajo sea repetible."
   ]
  },
  {
   "cell_type": "code",
   "execution_count": 12,
   "id": "686b96e0-efe3-4f9b-aa4a-ec952e16177b",
   "metadata": {},
   "outputs": [],
   "source": [
    "# Importar libraria scikit-learn\n",
    "#from sklearn.module import Model\n",
    "\n",
    "# Creamos una instancia del modelo\n",
    "#model = Model()\n",
    "\n",
    "# Ajustamos el modelo X, a una matriz de nuestras características y a \"y\" una matriz de nuestros valores de variable objetivo\n",
    "#model.fit(X,y)\n",
    "\n",
    "# Utilizamos el método de predicción de puntos del modelo y pasamos otras nuevas observaciones.\n",
    "#predictions = model.predict(X_new)"
   ]
  },
  {
   "cell_type": "code",
   "execution_count": 1,
   "id": "20099a0b-893c-4603-ae69-ae3c8fc47c3a",
   "metadata": {},
   "outputs": [],
   "source": [
    "# Librerias\n",
    "import pandas as pd\n",
    "import numpy as np\n",
    "import matplotlib.pyplot as plt\n",
    "from sklearn.neighbors import KNeighborsClassifier\n",
    "from sklearn.model_selection import train_test_split\n",
    "from sklearn.metrics import classification_report, confusion_matrix\n",
    "from sklearn.linear_model import LinearRegression\n",
    "from sklearn.metrics import mean_squared_error\n",
    "from sklearn.model_selection import cross_val_score, KFold\n",
    "from sklearn.linear_model import Ridge\n",
    "from sklearn.linear_model import RidgeCV\n",
    "from sklearn.linear_model import Lasso\n",
    "from sklearn.linear_model import LogisticRegression\n",
    "from sklearn.metrics import roc_curve\n",
    "from sklearn.metrics import roc_auc_score\n",
    "from sklearn.model_selection import GridSearchCV\n",
    "from sklearn.model_selection import RandomizedSearchCV\n",
    "from sklearn.impute import SimpleImputer\n",
    "from sklearn.pipeline import Pipeline\n",
    "from sklearn.preprocessing import StandardScaler\n",
    "from sklearn.tree import DecisionTreeClassifier"
   ]
  },
  {
   "cell_type": "markdown",
   "id": "81bde1f1-c0d0-4264-9526-8fe0dcc20cb8",
   "metadata": {},
   "source": [
    "## Clasificación"
   ]
  },
  {
   "cell_type": "code",
   "execution_count": 5,
   "id": "5e99818e-838a-408f-9b74-11ddf5e88c7e",
   "metadata": {},
   "outputs": [
    {
     "data": {
      "text/html": [
       "<div>\n",
       "<style scoped>\n",
       "    .dataframe tbody tr th:only-of-type {\n",
       "        vertical-align: middle;\n",
       "    }\n",
       "\n",
       "    .dataframe tbody tr th {\n",
       "        vertical-align: top;\n",
       "    }\n",
       "\n",
       "    .dataframe thead th {\n",
       "        text-align: right;\n",
       "    }\n",
       "</style>\n",
       "<table border=\"1\" class=\"dataframe\">\n",
       "  <thead>\n",
       "    <tr style=\"text-align: right;\">\n",
       "      <th></th>\n",
       "      <th>account_length</th>\n",
       "      <th>area_code</th>\n",
       "      <th>international_plan</th>\n",
       "      <th>voice_mail_plan</th>\n",
       "      <th>number_vmail_messages</th>\n",
       "      <th>total_day_minutes</th>\n",
       "      <th>total_day_calls</th>\n",
       "      <th>total_day_charge</th>\n",
       "      <th>total_eve_minutes</th>\n",
       "      <th>total_eve_calls</th>\n",
       "      <th>total_eve_charge</th>\n",
       "      <th>total_night_minutes</th>\n",
       "      <th>total_night_calls</th>\n",
       "      <th>total_night_charge</th>\n",
       "      <th>total_intl_minutes</th>\n",
       "      <th>total_intl_calls</th>\n",
       "      <th>total_intl_charge</th>\n",
       "      <th>customer_service_calls</th>\n",
       "      <th>churn</th>\n",
       "    </tr>\n",
       "  </thead>\n",
       "  <tbody>\n",
       "    <tr>\n",
       "      <th>0</th>\n",
       "      <td>128</td>\n",
       "      <td>415</td>\n",
       "      <td>0</td>\n",
       "      <td>1</td>\n",
       "      <td>25</td>\n",
       "      <td>265.1</td>\n",
       "      <td>110</td>\n",
       "      <td>45.07</td>\n",
       "      <td>197.4</td>\n",
       "      <td>99</td>\n",
       "      <td>16.78</td>\n",
       "      <td>244.7</td>\n",
       "      <td>91</td>\n",
       "      <td>11.01</td>\n",
       "      <td>10.0</td>\n",
       "      <td>3</td>\n",
       "      <td>2.70</td>\n",
       "      <td>1</td>\n",
       "      <td>0</td>\n",
       "    </tr>\n",
       "    <tr>\n",
       "      <th>1</th>\n",
       "      <td>107</td>\n",
       "      <td>415</td>\n",
       "      <td>0</td>\n",
       "      <td>1</td>\n",
       "      <td>26</td>\n",
       "      <td>161.6</td>\n",
       "      <td>123</td>\n",
       "      <td>27.47</td>\n",
       "      <td>195.5</td>\n",
       "      <td>103</td>\n",
       "      <td>16.62</td>\n",
       "      <td>254.4</td>\n",
       "      <td>103</td>\n",
       "      <td>11.45</td>\n",
       "      <td>13.7</td>\n",
       "      <td>3</td>\n",
       "      <td>3.70</td>\n",
       "      <td>1</td>\n",
       "      <td>0</td>\n",
       "    </tr>\n",
       "    <tr>\n",
       "      <th>2</th>\n",
       "      <td>137</td>\n",
       "      <td>415</td>\n",
       "      <td>0</td>\n",
       "      <td>0</td>\n",
       "      <td>0</td>\n",
       "      <td>243.4</td>\n",
       "      <td>114</td>\n",
       "      <td>41.38</td>\n",
       "      <td>121.2</td>\n",
       "      <td>110</td>\n",
       "      <td>10.30</td>\n",
       "      <td>162.6</td>\n",
       "      <td>104</td>\n",
       "      <td>7.32</td>\n",
       "      <td>12.2</td>\n",
       "      <td>5</td>\n",
       "      <td>3.29</td>\n",
       "      <td>0</td>\n",
       "      <td>0</td>\n",
       "    </tr>\n",
       "    <tr>\n",
       "      <th>3</th>\n",
       "      <td>84</td>\n",
       "      <td>408</td>\n",
       "      <td>1</td>\n",
       "      <td>0</td>\n",
       "      <td>0</td>\n",
       "      <td>299.4</td>\n",
       "      <td>71</td>\n",
       "      <td>50.90</td>\n",
       "      <td>61.9</td>\n",
       "      <td>88</td>\n",
       "      <td>5.26</td>\n",
       "      <td>196.9</td>\n",
       "      <td>89</td>\n",
       "      <td>8.86</td>\n",
       "      <td>6.6</td>\n",
       "      <td>7</td>\n",
       "      <td>1.78</td>\n",
       "      <td>2</td>\n",
       "      <td>0</td>\n",
       "    </tr>\n",
       "    <tr>\n",
       "      <th>4</th>\n",
       "      <td>75</td>\n",
       "      <td>415</td>\n",
       "      <td>1</td>\n",
       "      <td>0</td>\n",
       "      <td>0</td>\n",
       "      <td>166.7</td>\n",
       "      <td>113</td>\n",
       "      <td>28.34</td>\n",
       "      <td>148.3</td>\n",
       "      <td>122</td>\n",
       "      <td>12.61</td>\n",
       "      <td>186.9</td>\n",
       "      <td>121</td>\n",
       "      <td>8.41</td>\n",
       "      <td>10.1</td>\n",
       "      <td>3</td>\n",
       "      <td>2.73</td>\n",
       "      <td>3</td>\n",
       "      <td>0</td>\n",
       "    </tr>\n",
       "    <tr>\n",
       "      <th>...</th>\n",
       "      <td>...</td>\n",
       "      <td>...</td>\n",
       "      <td>...</td>\n",
       "      <td>...</td>\n",
       "      <td>...</td>\n",
       "      <td>...</td>\n",
       "      <td>...</td>\n",
       "      <td>...</td>\n",
       "      <td>...</td>\n",
       "      <td>...</td>\n",
       "      <td>...</td>\n",
       "      <td>...</td>\n",
       "      <td>...</td>\n",
       "      <td>...</td>\n",
       "      <td>...</td>\n",
       "      <td>...</td>\n",
       "      <td>...</td>\n",
       "      <td>...</td>\n",
       "      <td>...</td>\n",
       "    </tr>\n",
       "    <tr>\n",
       "      <th>3328</th>\n",
       "      <td>192</td>\n",
       "      <td>415</td>\n",
       "      <td>0</td>\n",
       "      <td>1</td>\n",
       "      <td>36</td>\n",
       "      <td>156.2</td>\n",
       "      <td>77</td>\n",
       "      <td>26.55</td>\n",
       "      <td>215.5</td>\n",
       "      <td>126</td>\n",
       "      <td>18.32</td>\n",
       "      <td>279.1</td>\n",
       "      <td>83</td>\n",
       "      <td>12.56</td>\n",
       "      <td>9.9</td>\n",
       "      <td>6</td>\n",
       "      <td>2.67</td>\n",
       "      <td>2</td>\n",
       "      <td>0</td>\n",
       "    </tr>\n",
       "    <tr>\n",
       "      <th>3329</th>\n",
       "      <td>68</td>\n",
       "      <td>415</td>\n",
       "      <td>0</td>\n",
       "      <td>0</td>\n",
       "      <td>0</td>\n",
       "      <td>231.1</td>\n",
       "      <td>57</td>\n",
       "      <td>39.29</td>\n",
       "      <td>153.4</td>\n",
       "      <td>55</td>\n",
       "      <td>13.04</td>\n",
       "      <td>191.3</td>\n",
       "      <td>123</td>\n",
       "      <td>8.61</td>\n",
       "      <td>9.6</td>\n",
       "      <td>4</td>\n",
       "      <td>2.59</td>\n",
       "      <td>3</td>\n",
       "      <td>0</td>\n",
       "    </tr>\n",
       "    <tr>\n",
       "      <th>3330</th>\n",
       "      <td>28</td>\n",
       "      <td>510</td>\n",
       "      <td>0</td>\n",
       "      <td>0</td>\n",
       "      <td>0</td>\n",
       "      <td>180.8</td>\n",
       "      <td>109</td>\n",
       "      <td>30.74</td>\n",
       "      <td>288.8</td>\n",
       "      <td>58</td>\n",
       "      <td>24.55</td>\n",
       "      <td>191.9</td>\n",
       "      <td>91</td>\n",
       "      <td>8.64</td>\n",
       "      <td>14.1</td>\n",
       "      <td>6</td>\n",
       "      <td>3.81</td>\n",
       "      <td>2</td>\n",
       "      <td>0</td>\n",
       "    </tr>\n",
       "    <tr>\n",
       "      <th>3331</th>\n",
       "      <td>184</td>\n",
       "      <td>510</td>\n",
       "      <td>1</td>\n",
       "      <td>0</td>\n",
       "      <td>0</td>\n",
       "      <td>213.8</td>\n",
       "      <td>105</td>\n",
       "      <td>36.35</td>\n",
       "      <td>159.6</td>\n",
       "      <td>84</td>\n",
       "      <td>13.57</td>\n",
       "      <td>139.2</td>\n",
       "      <td>137</td>\n",
       "      <td>6.26</td>\n",
       "      <td>5.0</td>\n",
       "      <td>10</td>\n",
       "      <td>1.35</td>\n",
       "      <td>2</td>\n",
       "      <td>0</td>\n",
       "    </tr>\n",
       "    <tr>\n",
       "      <th>3332</th>\n",
       "      <td>74</td>\n",
       "      <td>415</td>\n",
       "      <td>0</td>\n",
       "      <td>1</td>\n",
       "      <td>25</td>\n",
       "      <td>234.4</td>\n",
       "      <td>113</td>\n",
       "      <td>39.85</td>\n",
       "      <td>265.9</td>\n",
       "      <td>82</td>\n",
       "      <td>22.60</td>\n",
       "      <td>241.4</td>\n",
       "      <td>77</td>\n",
       "      <td>10.86</td>\n",
       "      <td>13.7</td>\n",
       "      <td>4</td>\n",
       "      <td>3.70</td>\n",
       "      <td>0</td>\n",
       "      <td>0</td>\n",
       "    </tr>\n",
       "  </tbody>\n",
       "</table>\n",
       "<p>3333 rows × 19 columns</p>\n",
       "</div>"
      ],
      "text/plain": [
       "      account_length  area_code  international_plan  voice_mail_plan  \\\n",
       "0                128        415                   0                1   \n",
       "1                107        415                   0                1   \n",
       "2                137        415                   0                0   \n",
       "3                 84        408                   1                0   \n",
       "4                 75        415                   1                0   \n",
       "...              ...        ...                 ...              ...   \n",
       "3328             192        415                   0                1   \n",
       "3329              68        415                   0                0   \n",
       "3330              28        510                   0                0   \n",
       "3331             184        510                   1                0   \n",
       "3332              74        415                   0                1   \n",
       "\n",
       "      number_vmail_messages  total_day_minutes  total_day_calls  \\\n",
       "0                        25              265.1              110   \n",
       "1                        26              161.6              123   \n",
       "2                         0              243.4              114   \n",
       "3                         0              299.4               71   \n",
       "4                         0              166.7              113   \n",
       "...                     ...                ...              ...   \n",
       "3328                     36              156.2               77   \n",
       "3329                      0              231.1               57   \n",
       "3330                      0              180.8              109   \n",
       "3331                      0              213.8              105   \n",
       "3332                     25              234.4              113   \n",
       "\n",
       "      total_day_charge  total_eve_minutes  total_eve_calls  total_eve_charge  \\\n",
       "0                45.07              197.4               99             16.78   \n",
       "1                27.47              195.5              103             16.62   \n",
       "2                41.38              121.2              110             10.30   \n",
       "3                50.90               61.9               88              5.26   \n",
       "4                28.34              148.3              122             12.61   \n",
       "...                ...                ...              ...               ...   \n",
       "3328             26.55              215.5              126             18.32   \n",
       "3329             39.29              153.4               55             13.04   \n",
       "3330             30.74              288.8               58             24.55   \n",
       "3331             36.35              159.6               84             13.57   \n",
       "3332             39.85              265.9               82             22.60   \n",
       "\n",
       "      total_night_minutes  total_night_calls  total_night_charge  \\\n",
       "0                   244.7                 91               11.01   \n",
       "1                   254.4                103               11.45   \n",
       "2                   162.6                104                7.32   \n",
       "3                   196.9                 89                8.86   \n",
       "4                   186.9                121                8.41   \n",
       "...                   ...                ...                 ...   \n",
       "3328                279.1                 83               12.56   \n",
       "3329                191.3                123                8.61   \n",
       "3330                191.9                 91                8.64   \n",
       "3331                139.2                137                6.26   \n",
       "3332                241.4                 77               10.86   \n",
       "\n",
       "      total_intl_minutes  total_intl_calls  total_intl_charge  \\\n",
       "0                   10.0                 3               2.70   \n",
       "1                   13.7                 3               3.70   \n",
       "2                   12.2                 5               3.29   \n",
       "3                    6.6                 7               1.78   \n",
       "4                   10.1                 3               2.73   \n",
       "...                  ...               ...                ...   \n",
       "3328                 9.9                 6               2.67   \n",
       "3329                 9.6                 4               2.59   \n",
       "3330                14.1                 6               3.81   \n",
       "3331                 5.0                10               1.35   \n",
       "3332                13.7                 4               3.70   \n",
       "\n",
       "      customer_service_calls  churn  \n",
       "0                          1      0  \n",
       "1                          1      0  \n",
       "2                          0      0  \n",
       "3                          2      0  \n",
       "4                          3      0  \n",
       "...                      ...    ...  \n",
       "3328                       2      0  \n",
       "3329                       3      0  \n",
       "3330                       2      0  \n",
       "3331                       2      0  \n",
       "3332                       0      0  \n",
       "\n",
       "[3333 rows x 19 columns]"
      ]
     },
     "execution_count": 5,
     "metadata": {},
     "output_type": "execute_result"
    }
   ],
   "source": [
    "# DATA\n",
    "ruta_archivo = '/home/jovyan/notebooks/data/telecom_churn_clean.csv'\n",
    "churn_df = pd.read_csv(ruta_archivo,index_col = 0)\n",
    "churn_df"
   ]
  },
  {
   "cell_type": "markdown",
   "id": "f28ef91b-7426-4df3-81a2-063a4d5ad3c2",
   "metadata": {},
   "source": [
    "- En esta data, la variable objetivo sería:\n",
    "    - Churn -> Empleados que se van de la empresa.\n",
    "\n",
    "**PASOS PARA CONTRUCCIÓN DEL MODELO:**\n",
    "\n",
    "1. Construir el clasificador que aprende de los datos etiquetados que le pasaremos.\n",
    "2. Pasar datos sin etiquetar como entrada.\n",
    "3. Hacer que prediga etiquetas para estos datos invisibles.\n",
    "\n",
    "A medida que el clasificador aprende de los datos etiquetados, los llamaremos **DATOS DE ENTRENAMIENTO**\n",
    "\n",
    "### KNN\n",
    "\n",
    "Empezaremos utilizaremos un algoritmo llamado **K-Vecimos más cercanos (KNN)**.\n",
    "\n",
    "La idea de este algoritmo es predecir la etiqueta de cualquier punto de datos \"k\"; por ejemplo, 3 datos etiquetados más cercanos. Utiliza la votación por mayoria, que hace predicciones basadas en la etiqueta que tiene la mayoria de los vecinos más cercanos."
   ]
  },
  {
   "cell_type": "code",
   "execution_count": 6,
   "id": "21adbe5a-cc20-4256-b2d7-5b1e2a556cb8",
   "metadata": {},
   "outputs": [
    {
     "name": "stdout",
     "output_type": "stream",
     "text": [
      "(3333, 2) (3333,)\n",
      "(3, 2)\n",
      "Predicción: [1 0 0]\n"
     ]
    }
   ],
   "source": [
    "# Dividir los datos en X e y. Convertir con .values a Array\n",
    "X = churn_df[[\"total_day_charge\",\"total_eve_charge\"]].values\n",
    "y = churn_df[\"churn\"].values\n",
    "\n",
    "# Imprimir las observaciones de dos características de 3333 observaciones\n",
    "print(X.shape,y.shape)\n",
    "\n",
    "# Crear una instancia de nKNeighborsClassifier, con neighbors 15.\n",
    "knn = KNeighborsClassifier(n_neighbors = 15)\n",
    "\n",
    "# Ajustar el clasificador a los datos etiquetados aplicando la función \n",
    "# de clasificador\n",
    "knn.fit(X,y)\n",
    "\n",
    "# Nuevas observaciones\n",
    "X_new = np.array([\n",
    "    [56.8,17.5],\n",
    "    [24.4,24.1],\n",
    "    [50.1,10.9]\n",
    "])\n",
    "# Imprimir\n",
    "print(X_new.shape)\n",
    "\n",
    "# Usar el método de predicción de puntos del clasificador usando \n",
    "# datos invisibles\n",
    "predictions = knn.predict(X_new)\n",
    "\n",
    "# 1. Se va, 0. se queda.\n",
    "print('Predicción: {}'.format(predictions))"
   ]
  },
  {
   "cell_type": "markdown",
   "id": "19488fa4-00b7-461a-9d56-fe3bb4d16d51",
   "metadata": {},
   "source": [
    "La impresión de las predicciones devuelve un valor binario para cada observación o fila en X_new\n",
    "\n",
    "#### Medición del rendimiento del modelo\n",
    "\n",
    "- En clasificación, la **precisión** (knn.score) es una métrica de uso común.\n",
    "$$Precisión = \\dfrac{Predicciones \\; correctas}{Total \\; observaciones}$$\n",
    "\n",
    "Dado que estos datos se utilizaron para entrenar el modelo, el rendimiento no será el indicado, para otros \"datos invisibles\". Por lo tanto, es común dividir los datos en: \n",
    "- Conjunto de entrenamiento y\n",
    "- Conjunto de prueba.\n",
    "\n",
    "Donde: \n",
    "\n",
    "1. Ajustamos el clasificador usando el conjunto de entrenamiento.\n",
    "2. ***Calculamos la precisión del modelo comparándola con las etiquetas del conjunto de prueba.***"
   ]
  },
  {
   "cell_type": "code",
   "execution_count": 7,
   "id": "72dc90bb-8e2d-4db9-8e90-f7a8bd8cf3a9",
   "metadata": {},
   "outputs": [
    {
     "name": "stdout",
     "output_type": "stream",
     "text": [
      "0.872\n"
     ]
    }
   ],
   "source": [
    "# Llamar train_test_split pasando nuestras características y objetivos (array)\n",
    "X_train, X_test, y_train, y_test = train_test_split(X, y, \n",
    "                                                    test_size = 0.3, \n",
    "                                                   random_state = 21,\n",
    "                                                   stratify = y)\n",
    "# Es buena práctica garantizar que nuestra división refleje la proporción de etiquetas en nuestros datos\n",
    "# Entonces, si la deserción ocurre en el 10% de las observaciones, queremos que el 10% de las etiquetas\n",
    "# en nuestro conjunto de entrenamiento y prueba represente la deserción, (strarify = y)\n",
    "\n",
    "\n",
    "# Crear una instancia de un modelo KNN y lo ajustamos a los datos de entrenamiento utilziando el método de ajsute de puntos\n",
    "knn = KNeighborsClassifier(n_neighbors = 6)\n",
    "knn.fit(X_train, y_train)\n",
    "\n",
    "# Comprobar la precisión con el método de puntuación de puntos.\n",
    "print(knn.score(X_test,y_test))"
   ]
  },
  {
   "cell_type": "markdown",
   "id": "fc599314-8273-4722-8f23-01268270ace1",
   "metadata": {},
   "source": [
    "**Interpretación:** La precisión de nuestros modelo es 87%, lo cual es bajo dado que nuetras etiquetas tiene una proporción de 9 a 1.\n",
    "\n",
    "#### Interpretación de k\n",
    "\n",
    "A medida que `\"k\"` aumenta, el límite de decisión es menos afectado por observaciones individuales, lo que refleja un modelo más simple.\n",
    "\n",
    "1. Estos modelos simples con mayor `\"k\"` son menos capaces de detectar relaciones en el conjunto de datos, lo que se conoce como **desajuste**.\n",
    "2. Contrariamente los modelos, con valores pequeños de \"k\", pueden ser sensibles al ruido en los datos de entrenamiento en lugar de reflejar tendencias generales. Esto se conoce como **Sobreajuste**.\n",
    "\n",
    "Podemos también interpretar `\"k\"` usando una **curva de complejidad del modelo**. Donde podemos calcular la precisión del entrenamiento."
   ]
  },
  {
   "cell_type": "code",
   "execution_count": 8,
   "id": "2edc387d-827a-4110-a32e-3d4e44e8bfb0",
   "metadata": {},
   "outputs": [
    {
     "data": {
      "image/png": "[encoded data removed]",
      "text/plain": [
       "<Figure size 800x600 with 1 Axes>"
      ]
     },
     "metadata": {},
     "output_type": "display_data"
    }
   ],
   "source": [
    "# Crear diccionarios vacíos para almacenar las precisiones de nuestro\n",
    "# entrenamiento y prueba, y una matriz que contiene un rango de valores \"k\".\n",
    "train_accuracies = {}\n",
    "test_accuracies = {}\n",
    "neighbors = np.arange(1, 26)\n",
    "\n",
    "# Usar un bucle for para repetir nuestro flujo de trabajo anterior, construyendo \n",
    "# varios modelos usando un número diferente de vecinos.\n",
    "for neighbor in neighbors:\n",
    "    knn =  KNeighborsClassifier(n_neighbors = neighbor)\n",
    "    # Entrenar el modelo\n",
    "    knn.fit(X_train, y_train)\n",
    "    # Calcular la precisión del conjunto de entrenamiento y prueba.\n",
    "    train_accuracies[neighbor] = knn.score(X_train, y_train)\n",
    "    test_accuracies[neighbor] = knn.score(X_test, y_test)\n",
    "\n",
    "# Graficar\n",
    "plt.figure(figsize = (8,6))\n",
    "plt.title('KNN; Variando el número de Vecinos')\n",
    "plt.plot(neighbors, train_accuracies.values(), label = \"Precisión de entrenamiento\")\n",
    "plt.plot(neighbors, test_accuracies.values(), label = \"Precisión de prueba\")\n",
    "plt.legend()\n",
    "plt.xlabel(\"Número de Neighbors\")\n",
    "plt.show()"
   ]
  },
  {
   "cell_type": "markdown",
   "id": "de28a2de-0475-40c5-ba55-edc3eb973e6d",
   "metadata": {},
   "source": [
    "A medida de k aumenta más alla de 7, vemos un sobreajuste en datos de entrenamiento y de prueba, donde el rendimiento \n",
    "\n",
    "**NOTA:** Para poder tener mejor precisión, dado que se pueden tener escalas diferentes, podemos utilizar la fórmula de Normalización Min-Max:\n",
    "$$z_i=\\dfrac{x_1-\\min(x)}{\\max(x)-\\min(x)}$$\n",
    "Siempre que no haya valores extremos.\n",
    "\n",
    "### Ajuste del modelo\n",
    "\n",
    "Consideremos un modelo para predecir si una transacción bancaria es fraudulento, donde sólo el $1\\%$ de las transacciones son realmente fraudulentas.\n",
    "\n",
    " Podríamos construir un modelo que clasifique cada transacción como legítima, lo cual tendría una precisión del 99%.\n",
    "\n",
    " Sin embargo, haría un terrible trabajo al predecir el fraude. Las situación en la que una clase es más frecuente se llama **desequilibrio de clases**. Aquí, la clase de transacciones legítimas contiene muchas más instancias que la clase de transacciones fraudulentas. Este es una situación común en la práctica y requiere un enfoque diferente para evaluar el desempeño del modelo.\n",
    "\n",
    " Para resolver este problema, podemos crear una matriz $2 \\times 2$ que resuma el desempeño, el cual llamaremos **Matriz de confusión**.\n",
    "$$\n",
    "\\begin{array}{c|cc}\n",
    "    & \\tiny\\text{Predicción legítima} & \\tiny\\text{Predicción Fraudulenta}\\\\\n",
    "    \\hline\n",
    "    \\tiny\\text{Actual: legítima} &\\tiny\\text{verdadero negativo} & \\tiny\\text{Falso positivo}\\\\\n",
    "   \\tiny \\text{Actual: Fraudulenta} & \\tiny\\text{Falso negativo} & \\tiny\\text{Verdadero positivo}\n",
    "\\end{array}\n",
    "$$\n",
    "\n",
    "- **Los verdaderos positivos.** Son la cantidad de transacciones fraudulentas correctamente etiquetadas.\n",
    "- **Los verdaderos negativos.** Son el número de transacciones legítimas correctamente etiquetas.\n",
    "- **Los falsos negativos.** Son el número de transacciones legítimas incorrectamente etiquetadas.\n",
    "- **Los falsos positivos.** Son la cantidad de transacciones incorrectamente etiquetas como fraudulentas.\n",
    "\n",
    "Generalmente la clases de interés se denomina **Clase positiva**. Como nuestro objetivo es detectar fraude, la clases positiva es una transacción ilegítima.\n",
    "\n",
    "La **matríz de confusión** nos permite **recuperar la precisión**, dado por:\n",
    "$$\\dfrac{t_p+t_n}{t_p+t_n+f_p+f_n}$$\n",
    "La suma de las predicciones verdaderas dividida por la suma total de la matriz.\n",
    "\n",
    "Existen otras métricas importantes que podemos calcular a partir de la matriz de confusión:\n",
    "\n",
    "1. **La precisión o valor predictivo positivo:** Que es el número de verdaderos positivos dividido por la suma de todas las predicciones positivas.\n",
    "$$\\dfrac{\\text{verdaderos positivos}}{\\text{verdaderos positivos} + \\text{falsos positivos}}$$\n",
    "En nuestro caso, es el número de fruades correctamente etiquetadas dividida por el número total de transacciones clasificadas como fraudulentas. Una alta precisión significa tener una tasa más baja de falsos positivos. Para nuestro clasificador, esto se traduce en que menos transacciones legítimas se clasifiquen como fraudulentas.\n",
    "\n",
    "2. **Recall o sensibilidad:** Es el número de verdaderos positivos dividido por la suma de verdaderos positivos y falsos negativos.\n",
    "$$\\dfrac{\\text{verdaderos positivos}}{\\text{Vedaderos positivos}+\\text{Falsos negativos}}$$\n",
    "Un alto recuerdo refleja una tasa más baja de falsos negativos. Para nuestro clasificador, significa predecir correctamente la mayoria de las transacciones fraudulentas.\n",
    "\n",
    "3. **La puntación F1-score:**  Es la *media armónica de precisión y recuperación* dado por:\n",
    "$$2\\cdot \\dfrac{precisión\\cdot recall}{precisión + recall}$$\n",
    "\n",
    "Esta métrica da igual peso a la precisión y a la recuperación, por lo que tiene en cuenta tanto el número de errores cometidos por el modelo como el tipo de errores.\n",
    "\n",
    "La puntuación F1-score favorece modelos con precisión y recuperacion similares y es una herramienta útil si buscamos un modelo que funcione razonablemente bien en ambas métricas."
   ]
  },
  {
   "cell_type": "code",
   "execution_count": 9,
   "id": "2e05e56f-e3bb-4085-ae0c-7a8d739e935f",
   "metadata": {},
   "outputs": [
    {
     "name": "stdout",
     "output_type": "stream",
     "text": [
      "[[1134   16]\n",
      " [ 146   38]]\n",
      "              precision    recall  f1-score   support\n",
      "\n",
      "           0       0.89      0.99      0.93      1150\n",
      "           1       0.70      0.21      0.32       184\n",
      "\n",
      "    accuracy                           0.88      1334\n",
      "   macro avg       0.79      0.60      0.63      1334\n",
      "weighted avg       0.86      0.88      0.85      1334\n",
      "\n"
     ]
    }
   ],
   "source": [
    "# Dividir los datos en X e y.\n",
    "X = churn_df.drop(\"churn\", axis = 1).values\n",
    "y = churn_df[\"churn\"].values\n",
    "\n",
    "# Crear una instancia del clasificador. \n",
    "knn = KNeighborsClassifier(n_neighbors = 7)\n",
    "\n",
    "# Dividir los datos\n",
    "X_train, X_test, y_train, y_test = train_test_split(X, y,\n",
    "                                                    test_size = 0.4,\n",
    "                                                   random_state = 43)\n",
    "\n",
    "# Ajustar los datos de entreamiento\n",
    "knn.fit(X_train,y_train)\n",
    "\n",
    "# Predecir las etiquetas del conjunto de prueba \n",
    "y_pred = knn.predict(X_test)\n",
    "\n",
    "# Imprimir la matriz de confusión\n",
    "print(confusion_matrix(y_test,y_pred))\n",
    "\n",
    "# Generar de las métricas relevantes\n",
    "print(classification_report(y_test,y_pred))"
   ]
  },
  {
   "cell_type": "markdown",
   "id": "1025ebf4-e022-431c-ba80-9a558ceb3e2f",
   "metadata": {},
   "source": [
    "En nuestro caso:\n",
    "\n",
    "- **Verdaderos positivos:** Cantidad de empleados que se van de la empresa correctamente etiquetados.\n",
    "- **Verdaderos negativos:** Cantidad de empleados que se quedan en la empresa correctamente etiquetados.\n",
    "- **Falsos negativos:** Cantidad de empleados que se quedan en la empresa incorrectamente etiquetados.\n",
    "- **Falsos positivos:** Cantidad de empleados que se van de la empresa incorrectamente etiquetados.\n",
    "\n",
    "**MATRIZ DE CONFUSIÓN**\n",
    "\n",
    "1. **Accuracy:** De todas las predicciones que hice, cuantas son correctas. (No funciona si existe un desbalance).\n",
    "2. **Recall:** De toda la cantidad de empleados que etiquetamos correctamente, cuantos hemos identificado correctamente.\n",
    "3. **F1:** Que tan bien el modelo equilibra la precisión y el recall. Esta en el rango de [0,1], donde 1 significa que tiene alta *accuracy* en función de falsos positivos, como un alto recall.\n",
    "\n",
    "**INTERPRETACIÓN**\n",
    "\n",
    "- **Clase 0 (empleados que se quedan)**:\n",
    "    - **Precisión**: El modelo tiene una precisión del 89%, lo que significa que del total de empleados que el modelo predijo que se quedarían, el 89% realmente se quedó.\n",
    "    - **Recall**: El modelo tiene un recall del 99%, lo que significa que pudo identificar correctamente el 99% de los empleados que realmente se quedaron.\n",
    "    - **F1-score**: El F1-score es una medida que combina precisión y recall en un solo número. Un F1-score del 93% indica que el modelo tiene un buen equilibrio entre precisión y recall para la clase de empleados que se quedan.\n",
    "    - **Support**: El support es el número de ocurrencias reales de la clase en el conjunto de datos. En este caso, hay 1150 empleados que se quedaron.\n",
    "\n",
    "- **Clase 1 (empleados que se van)**:\n",
    "    - **Precisión**: El modelo tiene una precisión del 70%, lo que significa que del total de empleados que el modelo predijo que se irían, el 70% realmente se fue.\n",
    "    - **Recall**: El modelo tiene un recall del 21%, lo que significa que pudo identificar correctamente solo el 21% de los empleados que realmente se fueron.\n",
    "    - **F1-score**: Un F1-score del 32% indica que el modelo tiene un equilibrio relativamente bajo entre precisión y recall para la clase de empleados que se van.\n",
    "    - **Support**: Hay 184 empleados que realmente se fueron.\n",
    "\n",
    "- **Accuracy**: La precisión total del modelo es del 88%, lo que significa que el modelo predijo correctamente el 88% de los casos, tanto de empleados que se quedaron como de empleados que se fueron.\n",
    "\n",
    "- **Macro avg**: El promedio macro de precisión, recall y F1-score no tiene en cuenta el desequilibrio de clases y trata todas las clases por igual. La precisión macro avg es del 79%, el recall macro avg es del 60% y el F1-score macro avg es del 63%.\n",
    "\n",
    "- **Weighted avg**: El promedio ponderado de precisión, recall y F1-score tiene en cuenta el desequilibrio de clases y da más peso a la clase con más instancias (en este caso, los empleados que se quedan). La precisión ponderada avg es del 86%, el recall ponderado avg es del 88% y el F1-score ponderado avg es del 85%.\n",
    "  \n",
    "### Regresión logística y la curva de ROC\n",
    "\n",
    "- La regresión logística se utiliza para ***clasificación***.\n",
    "- Este modelo calcula la  probabilidad $p$, de que una observación pertenezca a una clases binaria.\n",
    "- Usando este los datos de diabetes:\n",
    "    - Si $p\\geq 0.5$, etiquetamos los datos cómo $1$. Qué hace referencia a que una persona tiene más probabilidades de tener diabetes.\n",
    "    - Si $p<0.5$, lo etiqutamos cómo $0$ para represetar que es más probable que no tenga diabetes.\n",
    " \n",
    "***El MODELO DE REGRESIÓN LOGÍSTICA produce un límite de decisión lineal.***"
   ]
  },
  {
   "cell_type": "code",
   "execution_count": 11,
   "id": "23763059-fa26-4c86-ac7c-3d92c1b9548b",
   "metadata": {},
   "outputs": [
    {
     "data": {
      "text/html": [
       "<style>#sk-container-id-2 {color: black;}#sk-container-id-2 pre{padding: 0;}#sk-container-id-2 div.sk-toggleable {background-color: white;}#sk-container-id-2 label.sk-toggleable__label {cursor: pointer;display: block;width: 100%;margin-bottom: 0;padding: 0.3em;box-sizing: border-box;text-align: center;}#sk-container-id-2 label.sk-toggleable__label-arrow:before {content: \"▸\";float: left;margin-right: 0.25em;color: #696969;}#sk-container-id-2 label.sk-toggleable__label-arrow:hover:before {color: black;}#sk-container-id-2 div.sk-estimator:hover label.sk-toggleable__label-arrow:before {color: black;}#sk-container-id-2 div.sk-toggleable__content {max-height: 0;max-width: 0;overflow: hidden;text-align: left;background-color: #f0f8ff;}#sk-container-id-2 div.sk-toggleable__content pre {margin: 0.2em;color: black;border-radius: 0.25em;background-color: #f0f8ff;}#sk-container-id-2 input.sk-toggleable__control:checked~div.sk-toggleable__content {max-height: 200px;max-width: 100%;overflow: auto;}#sk-container-id-2 input.sk-toggleable__control:checked~label.sk-toggleable__label-arrow:before {content: \"▾\";}#sk-container-id-2 div.sk-estimator input.sk-toggleable__control:checked~label.sk-toggleable__label {background-color: #d4ebff;}#sk-container-id-2 div.sk-label input.sk-toggleable__control:checked~label.sk-toggleable__label {background-color: #d4ebff;}#sk-container-id-2 input.sk-hidden--visually {border: 0;clip: rect(1px 1px 1px 1px);clip: rect(1px, 1px, 1px, 1px);height: 1px;margin: -1px;overflow: hidden;padding: 0;position: absolute;width: 1px;}#sk-container-id-2 div.sk-estimator {font-family: monospace;background-color: #f0f8ff;border: 1px dotted black;border-radius: 0.25em;box-sizing: border-box;margin-bottom: 0.5em;}#sk-container-id-2 div.sk-estimator:hover {background-color: #d4ebff;}#sk-container-id-2 div.sk-parallel-item::after {content: \"\";width: 100%;border-bottom: 1px solid gray;flex-grow: 1;}#sk-container-id-2 div.sk-label:hover label.sk-toggleable__label {background-color: #d4ebff;}#sk-container-id-2 div.sk-serial::before {content: \"\";position: absolute;border-left: 1px solid gray;box-sizing: border-box;top: 0;bottom: 0;left: 50%;z-index: 0;}#sk-container-id-2 div.sk-serial {display: flex;flex-direction: column;align-items: center;background-color: white;padding-right: 0.2em;padding-left: 0.2em;position: relative;}#sk-container-id-2 div.sk-item {position: relative;z-index: 1;}#sk-container-id-2 div.sk-parallel {display: flex;align-items: stretch;justify-content: center;background-color: white;position: relative;}#sk-container-id-2 div.sk-item::before, #sk-container-id-2 div.sk-parallel-item::before {content: \"\";position: absolute;border-left: 1px solid gray;box-sizing: border-box;top: 0;bottom: 0;left: 50%;z-index: -1;}#sk-container-id-2 div.sk-parallel-item {display: flex;flex-direction: column;z-index: 1;position: relative;background-color: white;}#sk-container-id-2 div.sk-parallel-item:first-child::after {align-self: flex-end;width: 50%;}#sk-container-id-2 div.sk-parallel-item:last-child::after {align-self: flex-start;width: 50%;}#sk-container-id-2 div.sk-parallel-item:only-child::after {width: 0;}#sk-container-id-2 div.sk-dashed-wrapped {border: 1px dashed gray;margin: 0 0.4em 0.5em 0.4em;box-sizing: border-box;padding-bottom: 0.4em;background-color: white;}#sk-container-id-2 div.sk-label label {font-family: monospace;font-weight: bold;display: inline-block;line-height: 1.2em;}#sk-container-id-2 div.sk-label-container {text-align: center;}#sk-container-id-2 div.sk-container {/* jupyter's `normalize.less` sets `[hidden] { display: none; }` but bootstrap.min.css set `[hidden] { display: none !important; }` so we also need the `!important` here to be able to override the default hidden behavior on the sphinx rendered scikit-learn.org. See: https://github.com/scikit-learn/scikit-learn/issues/21755 */display: inline-block !important;position: relative;}#sk-container-id-2 div.sk-text-repr-fallback {display: none;}</style><div id=\"sk-container-id-2\" class=\"sk-top-container\"><div class=\"sk-text-repr-fallback\"><pre>LogisticRegression(max_iter=2300)</pre><b>In a Jupyter environment, please rerun this cell to show the HTML representation or trust the notebook. <br />On GitHub, the HTML representation is unable to render, please try loading this page with nbviewer.org.</b></div><div class=\"sk-container\" hidden><div class=\"sk-item\"><div class=\"sk-estimator sk-toggleable\"><input class=\"sk-toggleable__control sk-hidden--visually\" id=\"sk-estimator-id-2\" type=\"checkbox\" checked><label for=\"sk-estimator-id-2\" class=\"sk-toggleable__label sk-toggleable__label-arrow\">LogisticRegression</label><div class=\"sk-toggleable__content\"><pre>LogisticRegression(max_iter=2300)</pre></div></div></div></div></div>"
      ],
      "text/plain": [
       "LogisticRegression(max_iter=2300)"
      ]
     },
     "execution_count": 11,
     "metadata": {},
     "output_type": "execute_result"
    }
   ],
   "source": [
    "# Instanciar el modelo\n",
    "logreg = LogisticRegression(max_iter = 2300)\n",
    "\n",
    "# Dividir los datos\n",
    "X_train, X_test, y_train, y_test = train_test_split(X, y,\n",
    "                                                   test_size = 0.3,\n",
    "                                                   random_state = 42)\n",
    "\n",
    "# Ajustar el modelo a los datos de entrenamiento\n",
    "logreg.fit(X_train, y_train)"
   ]
  },
  {
   "cell_type": "markdown",
   "id": "ae241438-d476-45c1-a870-6c19c85a39d2",
   "metadata": {},
   "source": [
    "#### Predecir las probabilidad\n",
    "\n",
    "- Predecimos las probabilidades de que cada instancia pertenezca a una clase (grupo).\n",
    "- Esto devuelve una matriz bidimensional con probabilidades de ambas clases.\n",
    "- En nuestro caso que si el individuo no abandonó o si abandonó."
   ]
  },
  {
   "cell_type": "code",
   "execution_count": 12,
   "id": "7d6f17e0-f855-4caf-96de-a2d8aef697e2",
   "metadata": {},
   "outputs": [
    {
     "name": "stdout",
     "output_type": "stream",
     "text": [
      "0.21745212361495941\n"
     ]
    }
   ],
   "source": [
    "# Predecir probabilidades\n",
    "## # Dividir la segunda columna, que representa las probabilidades\n",
    "## de clases positiva.\n",
    "y_pred_probs = logreg.predict_proba(X_test)[:,1]\n",
    "\n",
    "\n",
    "# Imprimir la probabilidad de que la primera observación haya cambiado\n",
    "print(y_pred_probs[0])"
   ]
  },
  {
   "cell_type": "markdown",
   "id": "cd3c7480-f15b-4fa1-b0f6-6bb9106879eb",
   "metadata": {},
   "source": [
    "### Curva ROC\n",
    "\n",
    "- El umbral para predecir la probabilidad es de $0.5$.\n",
    "- ¿Qué sucede si variamos este umbral?.\n",
    "- Lo haremos con la Curva de ROC, que visualizará ***como los diferentes umbrales afectan las tasas de verdaderos positivos y falsos positivos***.\n",
    "    - Si el umbral es igual a $p=0$, (punto superior derecho del gráfico), el modelo predice uno para todos las observaciones, lo que significa que predecirá correctamente todos los valores positivos y predecirá incorrectamente todos los valores negativos.\n",
    "    - Si el umbral es igual a $p=1$ (punto inferior izquierdo del gráfico), el modelo predice cero para todos los datos, lo que significa que tanto las tasas de verdaderos como de falsos positivos son cero.\n",
    "- La idea sería hacer variar el umbral."
   ]
  },
  {
   "cell_type": "code",
   "execution_count": 13,
   "id": "18f0e823-ee06-40c4-b58c-ae7a07e56110",
   "metadata": {},
   "outputs": [
    {
     "data": {
      "image/png": "[encoded data removed]",
      "text/plain": [
       "<Figure size 640x480 with 1 Axes>"
      ]
     },
     "metadata": {},
     "output_type": "display_data"
    }
   ],
   "source": [
    "# Llamar a la función roc_curve\n",
    "## Pasar las etiqueteas de prueba como 1er argumento y las probabiliaddes \n",
    "## predichas como 2do.\n",
    "## Desglozar los resultados como: \n",
    "### tasa de falsos positivos (FPR)\n",
    "### Tasa de verdaderos positivos (TPR)\n",
    "### Y los umbrales\n",
    "fpr, tpr, thresholds = roc_curve(y_test, y_pred_probs)\n",
    "\n",
    "# Trazar una linea de puntos de cero a uno, junto con FPR y TPR\n",
    "plt.plot([0,1], [0,1], 'k--')\n",
    "plt.plot(fpr, tpr)\n",
    "plt.xlabel('Tasa de falsos positivos')\n",
    "plt.ylabel('Tasa de verdaderos positivos')\n",
    "plt.title('Regresión logista y curva ROC')\n",
    "plt.show()"
   ]
  },
  {
   "cell_type": "markdown",
   "id": "13565d44-905f-4305-92e2-3d4f9c050b07",
   "metadata": {},
   "source": [
    "#### Cuantificar el rendimiento del modelo\n",
    "\n",
    "- Tener un modelo con uno para la tasa de verdaderos positivos y cero para la tasa de falsos positivos, sería el modelo perfecto.\n",
    "- Así, que para cuantificar el rendimiento del modelo, ***calculamos el área bajo la curva de ROC***, una métrica conocida como **AUC**.\n",
    "    - Las puntuaciones varían de cero a uno, siendo uno ideal."
   ]
  },
  {
   "cell_type": "code",
   "execution_count": 14,
   "id": "0ce3b926-5f40-4af9-82b7-8e40bc65bc9d",
   "metadata": {},
   "outputs": [
    {
     "name": "stdout",
     "output_type": "stream",
     "text": [
      "0.827630945483921\n"
     ]
    }
   ],
   "source": [
    "# Aplicar la métrica de AUC\n",
    "print(roc_auc_score(y_test, y_pred_probs))"
   ]
  },
  {
   "cell_type": "markdown",
   "id": "7afbc8e3-b7cb-4d11-865c-17bc455d37fb",
   "metadata": {},
   "source": [
    "El AUC, o Área Bajo la Curva, es una métrica que se utiliza para cuantificar el rendimiento general de un modelo de clasificación binaria.\n",
    "\n",
    "El ***AUC se interpreta como la probabilidad de que un clasificador clasifique un ejemplo positivo aleatorio más alto que un ejemplo negativo aleatorio***. Aquí están algunos puntos clave sobre cómo interpretar el AUC:\n",
    "\n",
    "- Un AUC de 1.0 indica que el modelo tiene una capacidad perfecta para distinguir entre las clases positiva y negativa. Es decir, el modelo clasificará correctamente un ejemplo positivo aleatorio más alto que un ejemplo negativo aleatorio el 100% de las veces.\n",
    "\n",
    "- Un AUC de 0.5 indica que el modelo no tiene capacidad para distinguir entre las clases positiva y negativa. Es decir, el modelo clasificará correctamente un ejemplo positivo aleatorio más alto que un ejemplo negativo aleatorio solo el 50% de las veces, lo cual es equivalente a adivinar al azar.\n",
    "\n",
    "- Un AUC menor a 0.5 indica que el modelo está clasificando peor que una clasificación aleatoria. En este caso, podría ser útil invertir las predicciones del modelo.\n",
    "\n",
    "En resumen, cuanto más cercano esté el AUC a 1, mejor será el modelo para distinguir entre las clases positiva y negativa. Y cuanto más cercano esté a 0.5, menos útil será el modelo.\n",
    "\n",
    "**Interpretación:** En nuestro conjunto de datos, un valor de AUC de 0.82 indica que tu modelo tiene un buen rendimiento en la clasificación entre empleados que abandonan la empresa y los que se quedan. En términos más específicos, esto significa que si eliges al azar un empleado que dejó la empresa y uno que se quedó, hay una probabilidad del 82% de que tu modelo clasifique correctamente al empleado que dejó la empresa por encima del que se quedó.\n",
    "\n",
    "Es importante recordar que aunque 0.82 es un buen valor de AUC, la interpretación depende del contexto. Por ejemplo, en algunos campos como la detección de enfermedades, es posible que se requiera un AUC más alto para considerar que el modelo es bueno. Además, siempre es útil comparar el AUC con el de otros modelos para tener una mejor idea de cómo se desempeña tu modelo.\n",
    "\n",
    "Finalmente, aunque el AUC es una métrica útil, no debes confiar únicamente en ella para evaluar tu modelo. También debes considerar otras métricas y aspectos del modelo, como la precisión, la exhaustividad, la matriz de confusión, la interpretabilidad del modelo y la importancia de las características. Además, es importante validar tu modelo con un conjunto de datos de prueba independiente para asegurarte de que el modelo se generaliza bien a nuevos datos."
   ]
  },
  {
   "cell_type": "markdown",
   "id": "57d4314b-cc7a-474b-8568-8f085ca70bc6",
   "metadata": {},
   "source": [
    "-------------------------------------------------------------------"
   ]
  },
  {
   "cell_type": "markdown",
   "id": "b241d72b-2886-4159-b29c-8384d6c6629a",
   "metadata": {},
   "source": [
    "--------------------------------------------------------------------"
   ]
  },
  {
   "cell_type": "markdown",
   "id": "4a4c3922-312d-4453-9696-958e66a00f3f",
   "metadata": {},
   "source": [
    "-------------------------------------------------------------------"
   ]
  },
  {
   "cell_type": "markdown",
   "id": "acbeb076-a53e-4826-a3c5-f3a140e8d0aa",
   "metadata": {},
   "source": [
    "--------------------------------------------------------------------"
   ]
  },
  {
   "cell_type": "markdown",
   "id": "211fa811-195e-48c6-9ebe-d4346e3a4393",
   "metadata": {},
   "source": [
    "## Regresión\n",
    "\n",
    "Normalmente se tiene valores continuos. \n",
    "\n",
    "Empecemos con datos de salud de las mujeres para predecir los niveles de glucosa en sangre.\n",
    "\n",
    "**VARIABLES**:\n",
    "\n",
    "- pregnancies -> número de embarazos\n",
    "- glucose -> Glucosa\n",
    "- triceps -> pliegue cutáneo del tríceps\n",
    "- insulin -> Niveles de insulina\n",
    "- bmi -> indice de masa corporal\n",
    "- age -> edad\n",
    "- diabetes -> Estado de diabetes 1. indica diagnostico, 2. ausencia de diagnostico."
   ]
  },
  {
   "cell_type": "code",
   "execution_count": 15,
   "id": "f4241e3d-7652-4641-ab5a-86954d358b99",
   "metadata": {},
   "outputs": [
    {
     "data": {
      "text/html": [
       "<div>\n",
       "<style scoped>\n",
       "    .dataframe tbody tr th:only-of-type {\n",
       "        vertical-align: middle;\n",
       "    }\n",
       "\n",
       "    .dataframe tbody tr th {\n",
       "        vertical-align: top;\n",
       "    }\n",
       "\n",
       "    .dataframe thead th {\n",
       "        text-align: right;\n",
       "    }\n",
       "</style>\n",
       "<table border=\"1\" class=\"dataframe\">\n",
       "  <thead>\n",
       "    <tr style=\"text-align: right;\">\n",
       "      <th></th>\n",
       "      <th>pregnancies</th>\n",
       "      <th>glucose</th>\n",
       "      <th>diastolic</th>\n",
       "      <th>triceps</th>\n",
       "      <th>insulin</th>\n",
       "      <th>bmi</th>\n",
       "      <th>dpf</th>\n",
       "      <th>age</th>\n",
       "      <th>diabetes</th>\n",
       "    </tr>\n",
       "  </thead>\n",
       "  <tbody>\n",
       "    <tr>\n",
       "      <th>0</th>\n",
       "      <td>6</td>\n",
       "      <td>148</td>\n",
       "      <td>72</td>\n",
       "      <td>35</td>\n",
       "      <td>0</td>\n",
       "      <td>33.6</td>\n",
       "      <td>0.627</td>\n",
       "      <td>50</td>\n",
       "      <td>1</td>\n",
       "    </tr>\n",
       "    <tr>\n",
       "      <th>1</th>\n",
       "      <td>1</td>\n",
       "      <td>85</td>\n",
       "      <td>66</td>\n",
       "      <td>29</td>\n",
       "      <td>0</td>\n",
       "      <td>26.6</td>\n",
       "      <td>0.351</td>\n",
       "      <td>31</td>\n",
       "      <td>0</td>\n",
       "    </tr>\n",
       "    <tr>\n",
       "      <th>2</th>\n",
       "      <td>8</td>\n",
       "      <td>183</td>\n",
       "      <td>64</td>\n",
       "      <td>0</td>\n",
       "      <td>0</td>\n",
       "      <td>23.3</td>\n",
       "      <td>0.672</td>\n",
       "      <td>32</td>\n",
       "      <td>1</td>\n",
       "    </tr>\n",
       "    <tr>\n",
       "      <th>3</th>\n",
       "      <td>1</td>\n",
       "      <td>89</td>\n",
       "      <td>66</td>\n",
       "      <td>23</td>\n",
       "      <td>94</td>\n",
       "      <td>28.1</td>\n",
       "      <td>0.167</td>\n",
       "      <td>21</td>\n",
       "      <td>0</td>\n",
       "    </tr>\n",
       "    <tr>\n",
       "      <th>4</th>\n",
       "      <td>0</td>\n",
       "      <td>137</td>\n",
       "      <td>40</td>\n",
       "      <td>35</td>\n",
       "      <td>168</td>\n",
       "      <td>43.1</td>\n",
       "      <td>2.288</td>\n",
       "      <td>33</td>\n",
       "      <td>1</td>\n",
       "    </tr>\n",
       "  </tbody>\n",
       "</table>\n",
       "</div>"
      ],
      "text/plain": [
       "   pregnancies  glucose  diastolic  triceps  insulin   bmi    dpf  age  \\\n",
       "0            6      148         72       35        0  33.6  0.627   50   \n",
       "1            1       85         66       29        0  26.6  0.351   31   \n",
       "2            8      183         64        0        0  23.3  0.672   32   \n",
       "3            1       89         66       23       94  28.1  0.167   21   \n",
       "4            0      137         40       35      168  43.1  2.288   33   \n",
       "\n",
       "   diabetes  \n",
       "0         1  \n",
       "1         0  \n",
       "2         1  \n",
       "3         0  \n",
       "4         1  "
      ]
     },
     "execution_count": 15,
     "metadata": {},
     "output_type": "execute_result"
    }
   ],
   "source": [
    "# DATA\n",
    "ruta_archivo = '/home/jovyan/notebooks/data/diabetes_clean.csv'\n",
    "diabetes_df = pd.read_csv(ruta_archivo,index_col = None)\n",
    "diabetes_df.head()"
   ]
  },
  {
   "cell_type": "code",
   "execution_count": 16,
   "id": "3e02f0c0-fe35-4670-a3f4-9dd0b68a4266",
   "metadata": {},
   "outputs": [
    {
     "name": "stdout",
     "output_type": "stream",
     "text": [
      "<class 'numpy.ndarray'> <class 'numpy.ndarray'>\n"
     ]
    }
   ],
   "source": [
    "# Crear característica y valor objetivo\n",
    "X = diabetes_df.drop(\"glucose\", axis = 1).values\n",
    "y = diabetes_df[\"glucose\"].values\n",
    "\n",
    "# Corroborar que sean de tipo array\n",
    "print(type(X),type(y))"
   ]
  },
  {
   "cell_type": "markdown",
   "id": "50f9e94f-e9c9-419e-aaca-15e5ac6a0d9d",
   "metadata": {},
   "source": [
    "- Empecemos a predecir los niveles de glucosa en sangre a partir de una única característica: el índice de masa corporal"
   ]
  },
  {
   "cell_type": "code",
   "execution_count": 17,
   "id": "e5b80a56-e06a-4d2e-8144-54fb4aa292cf",
   "metadata": {},
   "outputs": [
    {
     "name": "stdout",
     "output_type": "stream",
     "text": [
      "(768,) (768,)\n",
      "(768,) (768, 1)\n"
     ]
    }
   ],
   "source": [
    "# Dividir la columna BMI de X (la cuarta columna)\n",
    "X_bmi = X[:,4]\n",
    "\n",
    "# Verificar la forma de X e y\n",
    "print(y.shape,X_bmi.shape)\n",
    "\n",
    "# La forma para X_bmi no es correcta debido a que debe ser (768,1).\n",
    "# Para ello aplicar lo siguente\n",
    "X_bmi = X_bmi.reshape(-1,1)\n",
    "print(y.shape,X_bmi.shape)"
   ]
  },
  {
   "cell_type": "markdown",
   "id": "05ec63dd-c474-4f69-8d4c-29813a9b2de8",
   "metadata": {},
   "source": [
    "- Grafiquemos los niveles de glucosa en sangre en función del ínidce de masa corporal."
   ]
  },
  {
   "cell_type": "code",
   "execution_count": 18,
   "id": "fdd6a9d8-d2f4-42d0-9fef-acbe63b4c5a5",
   "metadata": {},
   "outputs": [
    {
     "data": {
      "image/png": "[encoded data removed]",
      "text/plain": [
       "<Figure size 640x480 with 1 Axes>"
      ]
     },
     "metadata": {},
     "output_type": "display_data"
    }
   ],
   "source": [
    "# Graficar\n",
    "plt.scatter(X_bmi, y)\n",
    "plt.ylabel(\"Glucosa en la sangre (mg/dl)\")\n",
    "plt.xlabel(\"Índice de masa corporal\")\n",
    "plt.show()"
   ]
  },
  {
   "cell_type": "markdown",
   "id": "ed499a5d-f770-4f0d-9dba-324b880835ac",
   "metadata": {},
   "source": [
    "- Ahora ajustemos el modelo y tracemos las predicciones"
   ]
  },
  {
   "cell_type": "code",
   "execution_count": 19,
   "id": "2919638a-e1d7-4b97-b4e2-50ccec597b18",
   "metadata": {},
   "outputs": [
    {
     "data": {
      "image/png": "[encoded data removed]",
      "text/plain": [
       "<Figure size 640x480 with 1 Axes>"
      ]
     },
     "metadata": {},
     "output_type": "display_data"
    }
   ],
   "source": [
    "# Crear una instancia del modelo\n",
    "reg = LinearRegression()\n",
    "\n",
    "# Ajustar el modelo a todas las observaciones de características\n",
    "reg.fit(X_bmi, y)\n",
    "\n",
    "# Crear la variable de predicciones\n",
    "predictions = reg.predict(X_bmi)\n",
    "\n",
    "# Graficar\n",
    "plt.scatter(X_bmi, y)\n",
    "plt.plot(X_bmi, predictions)\n",
    "plt.ylabel(\"Glucosa en la sangre (mg/dl)\")\n",
    "plt.xlabel(\"Índice de masa corporal\")\n",
    "plt.show()"
   ]
  },
  {
   "cell_type": "markdown",
   "id": "52f19cd6-8a54-45ff-9a2f-6b23ed3ef6c2",
   "metadata": {},
   "source": [
    "### Conceptos básicos de regresión lineal\n",
    "\n",
    "Se tiene,\n",
    "\n",
    "$$y = ax + b$$\n",
    "\n",
    "Donde, \n",
    "$$\n",
    "\\begin{array}{rcl}\n",
    "    y &=& Objeto\\\\\n",
    "    x &=& caracteristica\\\\\n",
    "    a &=& Pendiente\\\\\n",
    "    b &=& Intersección\n",
    "\\end{array}\n",
    "$$\n",
    "\n",
    "- ¿Cómo escogemos $a$ y $b$?\n",
    "    - Podemos definir una función de error para cualquier linea dada.\n",
    "    - Luego, podemos elegir la linea que minimice esta función.\n",
    " \n",
    "La función de error se denomina **funciones de pérdida o de costo**\n",
    "\n",
    "- La distancia entre el punto dado y la linea de regresion se llama **suma de residuos**, los cuales querremos minimizar. Es decir,\n",
    "$$RSS = \\sum_{i=1}^n \\left(y_i-\\hat{y}_i\\right)^2$$\n",
    "\n",
    "Este tipo de regresión lineal se le llama **Minimos cuadrados ordinarios** o **OLS**.\n",
    "\n",
    "- Cuando se agregan más funciones se le llama regresión lineal múltiple.\n",
    "\n",
    "Ahora, realizaremos una regresión lineal múltiple con los datos de diabetes:"
   ]
  },
  {
   "cell_type": "code",
   "execution_count": 20,
   "id": "6e43709a-cca1-4cd5-8883-0812274286c6",
   "metadata": {},
   "outputs": [],
   "source": [
    "# Dividir el conjunto de datos en entranamiento y prueba\n",
    "X_train, X_test, y_train, y_test = train_test_split(X, y, \n",
    "                                                    test_size = 0.3,\n",
    "                                                   random_state = 42)\n",
    "\n",
    "# Instanciar el modelo\n",
    "reg_all = LinearRegression()\n",
    "\n",
    "# Ajustar el modelo\n",
    "reg_all.fit(X_train, y_train)\n",
    "\n",
    "# Predecir el conjunto de prueba\n",
    "y_pred = reg_all.predict(X_test)"
   ]
  },
  {
   "cell_type": "markdown",
   "id": "a7383a52-cf6b-4761-9b57-e12e3745015e",
   "metadata": {},
   "source": [
    "- La métrica predeterminada para evaluar el desempeño del modelo de regresión es $R^2$ que cuantifica la **cantidad de varianza objetivo** que se explica por las características. 1 nos dice que las características explican completamente la variación del objetivo.\n",
    "\n",
    "- Para calcular $R^2$, llamamos al método de puntación de puntos del modelo:"
   ]
  },
  {
   "cell_type": "code",
   "execution_count": 21,
   "id": "292850ed-372b-4910-b80c-41e26ebf0aaa",
   "metadata": {},
   "outputs": [
    {
     "data": {
      "text/plain": [
       "0.28280468810375115"
      ]
     },
     "execution_count": 21,
     "metadata": {},
     "output_type": "execute_result"
    }
   ],
   "source": [
    "# Calcular R^2\n",
    "reg_all.score(X_test, y_test)"
   ]
  },
  {
   "cell_type": "markdown",
   "id": "12a4736e-643d-44ed-a717-f980a75d3f98",
   "metadata": {},
   "source": [
    "- Otra forma de evaluar el desempeño de un modelo de regresión es tomar la **media de la suma residual de cuadrados**:\n",
    "$$MSE = \\dfrac{1}{n} \\sum_{i=1}^n \\left(y_i-\\hat{y}_i\\right)^2$$\n",
    "Llamado **Error cuadrático medio**. El MSE se mide en unidades de nuestra variable objetivo al cuadrado. Por ejemplo, si el modelo predice un valor en dólares, el MSE estará en dólares al cuadrado. Para convertir a dolares:\n",
    "$$RMSE=\\sqrt{MSE}$$\n",
    "Conocida como **raìz del error cuadrático medio**.\n",
    "Para calcular el RMSE se tiene:"
   ]
  },
  {
   "cell_type": "code",
   "execution_count": 22,
   "id": "ad5796ad-4010-48db-8546-24ec2935052a",
   "metadata": {},
   "outputs": [
    {
     "data": {
      "text/plain": [
       "26.341459582232265"
      ]
     },
     "execution_count": 22,
     "metadata": {},
     "output_type": "execute_result"
    }
   ],
   "source": [
    "# Calcular el error cuadrático medio\n",
    "mean_squared_error(y_test, y_pred, squared = False)"
   ]
  },
  {
   "cell_type": "markdown",
   "id": "10e2426a-14f3-46b8-a3b4-f5157bce0a91",
   "metadata": {},
   "source": [
    "**Interpretación:** El modelo tiene un error promedio para los niveles de glucosa en sangre de alrededor de 24 miligramos por decilitro."
   ]
  },
  {
   "cell_type": "markdown",
   "id": "67f10141-5f51-4366-a647-77addb11d3d0",
   "metadata": {},
   "source": [
    "### Validación Cruzada\n",
    "\n",
    "***El $R^2$ depende de la forma en que dividimos los datos por lo que no puede ser representativo para generalizar a datos invisibles***. Para combatir esta dependencia de lo que es esencialmente una división aleatoria, utilizamos una técnica llamada **validación cruzada**.\n",
    "\n",
    "1. Se empieza dividiendo el conjunto de datos en cinco grupos.\n",
    "2. Reservemos el primer grupo como conjunto de prueba.\n",
    "3. Los cuatro restantes predicen los conjuntos de prueba.\n",
    "4. Calcular nuestra métrica de interes como el $R^2$.\n",
    "5. Reservamos el segundo grupo como nuestro conjunto de prueba, predecimos con los restantes conjuntos de prueba y calculamos de nuevo nuestro grupo de interes.\n",
    "6. Así sucesivamente.\n",
    "7. Cómo resultado adquirimos, por ejemplo cinco $R^2$'s a partir de los cuales podemos calcular estadística descriptivas, como la media, la mediana y lso intervalos de confianza.\n",
    "\n",
    "Ojo, usar muchos grupos es costo computacionalmente. \n",
    "\n",
    "Para realizar una validación cruzada K-fold en scikit-learn:\n",
    "- Importamos cross_val_score de sklearn-dot-model_selection y KFold que nos permite establecer una semilla y mezclar datos, haciendo que nuestros resultados sean repetibles en sentido decendente."
   ]
  },
  {
   "cell_type": "code",
   "execution_count": 23,
   "id": "4735da2a-ac8d-4eb3-a50f-d83638c47210",
   "metadata": {},
   "outputs": [
    {
     "name": "stdout",
     "output_type": "stream",
     "text": [
      "[0.26207548 0.28228176 0.41203082 0.23785884 0.41634629 0.30398869]\n",
      "Media: 0.31909697867344794 Deviación estandar: 0.070153206101142\n",
      "Intervalo de confianza al 95%: [0.24088592 0.41580685]\n"
     ]
    }
   ],
   "source": [
    "# Llamar a KFold\n",
    "## n_splits = 6 pliegues o grupos.\n",
    "## shuffle = Mezcla los datos antes de dividirlos.\n",
    "kf = KFold(n_splits = 6, shuffle = True, random_state = 42)\n",
    "\n",
    "# Instaciar el modelo\n",
    "reg = LinearRegression()\n",
    "\n",
    "# Llamar a cross_val_score\n",
    "cv_results = cross_val_score(reg, X, y, cv = kf)\n",
    "# La longitud de la matriz es el número de pliegues (grupos) utilizados\n",
    "\n",
    "# Impromir cv_results\n",
    "print(cv_results)\n",
    "\n",
    "# Calcular la media y la desviación estándar de cv_results\n",
    "print(\"Media:\", np.mean(cv_results),\"Deviación estandar:\", np.std(cv_results))\n",
    "\n",
    "# Calcular el interalo de confianza\n",
    "print('Intervalo de confianza al 95%:', np.quantile(cv_results,[0.025,0.975]))"
   ]
  },
  {
   "cell_type": "markdown",
   "id": "53181d77-0d66-49ee-8ce3-8a0020c5aa86",
   "metadata": {},
   "source": [
    "### Regresión regularizada \n",
    "\n",
    "Exploraremos ***la regularización en regresión, una técnica para evitar el sobreajuste.***\n",
    "\n",
    "Recordemos que ajustar **un modelo de regresión minimiza una pérdida**. Si permitimos que estos ajustes (coeficientes) sean grandes, podemos producir un sobreajuste.\n",
    "\n",
    "Por lo tanto, es una práctica común alterar la función de pérdida para que penalice los coeficientes grandes, a esto se le llama **regularización**.\n",
    "\n",
    "Existen dos tipos de regresión regularizada:\n",
    "\n",
    "1. Regresión Ridge.\n",
    "2. Regresión Lasso.\n",
    "3. \n",
    "#### Regresión Ridge\n",
    "\n",
    "Utilizamos la función de pérdida de mínimos cuadrados ordinarios más el valor al cuadrado de cada coeficiente, multiplicado por una constante $\\alpha$:\n",
    "$$\\text{Función de pérdida OLS} + \\alpha\\cdot \\sum_{i=1}^n a_i^2.$$\n",
    "\n",
    "La idea es que al minimizar la función de pérdida, los modelos son penalizados por coeficientes con valores positivos o negativos grandes. Luego elegimos un valor $\\alpha$ para poder ajustar y predecir, de tal forma el modelo podría funcionar mejor. Para hacer una analogía es como elegir un $k$ optimo en KNN. EL $\\alpha$ se conoce como el hiperparámetro. Esta $\\alpha$ controla la complejidad del modelo.\n",
    "\n",
    "- Al utilizar $\\alpha=0$, los coeficientes no se penalizas y puede ocurrir un sobreajuste.\n",
    "- Un $\\alpha$ alto, significa que los coeficientes grandes se ven penalizados, lo que puede provocar un desajuste."
   ]
  },
  {
   "cell_type": "code",
   "execution_count": 24,
   "id": "0e5c72f6-4f66-4c6e-ba78-7441874a09b3",
   "metadata": {},
   "outputs": [
    {
     "name": "stdout",
     "output_type": "stream",
     "text": [
      "[0.2828466623222221, 0.28320633574804766, 0.2853000732200006, 0.26423984812668133, 0.19292424694100963]\n"
     ]
    }
   ],
   "source": [
    "# Resaltar el impacto de diferentes valores de alpha, creamos un espacio vacio\n",
    "scores = []\n",
    "for alpha in [0.1,1.0,10.0,100.0,1000.0]:\n",
    "    ridge = Ridge(alpha = alpha)\n",
    "    ridge.fit(X_train,y_train)\n",
    "    y_pred = ridge.predict(X_test)\n",
    "    scores.append(ridge.score(X_test,y_test))\n",
    "\n",
    "# Imprimir\n",
    "print(scores)"
   ]
  },
  {
   "cell_type": "markdown",
   "id": "3f7e8e39-2cb1-4222-ab8c-3fa7fd978c7e",
   "metadata": {},
   "source": [
    "**Interpretación:** Vemos que el rendimiento empeora a medida que aumenta alfa.\n",
    "\n",
    "#### Valor optimo alpha en la regresión Rigde"
   ]
  },
  {
   "cell_type": "code",
   "execution_count": 89,
   "id": "a68d4b1e-bc37-409f-8421-af3d9f4e2b84",
   "metadata": {},
   "outputs": [
    {
     "name": "stdout",
     "output_type": "stream",
     "text": [
      "El alpha óptimo es:  1.0\n",
      "El score con el alpha óptimo es:  0.28320633574804766\n"
     ]
    }
   ],
   "source": [
    "# Definir los valores de alpha que quieres probar\n",
    "alphas = [0.01,0.1, 1.0, 10.0, 100.0, 1000.0]\n",
    "\n",
    "# Crear el objeto RidgeCV\n",
    "ridge_cv = RidgeCV(alphas=alphas, cv=5)\n",
    "\n",
    "# Ajustar el modelo\n",
    "ridge_cv.fit(X_train, y_train)\n",
    "\n",
    "# Imprimir el alpha óptimo\n",
    "print(\"El alpha óptimo es: \", ridge_cv.alpha_)\n",
    "\n",
    "# Predecir y calcular el score con el alpha óptimo\n",
    "y_pred = ridge_cv.predict(X_test)\n",
    "score = ridge_cv.score(X_test, y_test)\n",
    "print(\"El score con el alpha óptimo es: \", score)\n"
   ]
  },
  {
   "cell_type": "markdown",
   "id": "7c4ceebd-bf41-4327-a134-10fa335e236d",
   "metadata": {},
   "source": [
    "### Regresión Lasso\n",
    "\n",
    "Función de pérdida OLS (MCO) más el valor absoluto de cada coeficiente multiplicado por alguna constantes $\\alpha$:\n",
    "$$\\text{Función de pérdida OLS} + \\alpha \\cdot \\sum_{i=1}^n |a_i|.$$ \n",
    "\n",
    "- **La regresión Lasso se puede utilizar para evaluar la importancia de las caracteristica**.\n",
    "- Esto se debe a que tiende a reducir a cero los coeficientes de las caracteristicas menos importantes.\n",
    "- Las caracteristicas cuyos coeficientes no se reducen a cero se seleccionan mediante el algoritmo de Lasso."
   ]
  },
  {
   "cell_type": "code",
   "execution_count": 25,
   "id": "17de4ffa-171c-40dc-bca9-d5c105ade992",
   "metadata": {},
   "outputs": [
    {
     "name": "stdout",
     "output_type": "stream",
     "text": [
      "[0.28575325694826237, 0.29795609755827845, 0.17989838789273893, 0.18127361610181125, 0.15679544303617987]\n"
     ]
    }
   ],
   "source": [
    "# Para resaltar el impacto de diferentes valores de alpha, \n",
    "# crear un espacio vacío.\n",
    "scores = []\n",
    "for alpha in [0.1,1.0,10.0,20.0,50.0]:\n",
    "    ridge = Lasso(alpha = alpha)\n",
    "    ridge.fit(X_train,y_train)\n",
    "    y_pred = ridge.predict(X_test)\n",
    "    scores.append(ridge.score(X_test,y_test))\n",
    "\n",
    "# Imprimir\n",
    "print(scores)"
   ]
  },
  {
   "cell_type": "markdown",
   "id": "5fac8ba1-93d4-4cd0-b2cb-3e683433b8f9",
   "metadata": {},
   "source": [
    "**Interpretación:** El rendimiento cae sustancialmente a medida que $\\alpha$ supera los 10\n",
    "\n",
    "#### Lasso para seleccionar caracteristicas"
   ]
  },
  {
   "cell_type": "code",
   "execution_count": 26,
   "id": "d17459e4-edfc-4b66-9d8c-73efe836d626",
   "metadata": {},
   "outputs": [
    {
     "data": {
      "image/png": "[encoded data removed]",
      "text/plain": [
       "<Figure size 640x480 with 1 Axes>"
      ]
     },
     "metadata": {},
     "output_type": "display_data"
    }
   ],
   "source": [
    "# Extraer los nombres de la columnas\n",
    "names = diabetes_df.drop(\"glucose\", axis = 1).columns\n",
    "\n",
    "# Crear una instancia Lasso, estableciendo alpha en cero punto uno.\n",
    "lasso = Lasso(alpha = 0.1)\n",
    "\n",
    "# Ajustar el modelo a los datos y extraemos el coeficiente\n",
    "lasso_coef = lasso.fit(X, y).coef_\n",
    "\n",
    "# Trazar los coeficientes para cada caracteristica\n",
    "plt.bar(names, lasso_coef)\n",
    "plt.xticks(rotation = 45)\n",
    "plt.show()"
   ]
  },
  {
   "cell_type": "markdown",
   "id": "c7b2e9ed-c2ba-4caf-b5d6-32d131031301",
   "metadata": {},
   "source": [
    "**Interpretación:** Podemos ver que el predictor más importante para nuestra variable objetivo es el nivel de glucosa, de si un individuo tiene diabetes o no. Esto nos permite comunicar a las personas que no son del ámbito técnico y para identificar los factores importantes para los predictores.\n",
    "\n",
    "En **Conclusión** la regresión Ridge puede ser útil si queremos conservar todas las variables explicativas. Y la regresión Lasso si creemos que sólo queremos mantener un subconjunto de variables explicativas.\n",
    "\n",
    "### Ajuste del modelo\n",
    "\n",
    "Ahora, usaremos los técnicas enunciadas anteriormente pero a un conjunto de datos de Diabetes"
   ]
  },
  {
   "cell_type": "code",
   "execution_count": 27,
   "id": "d10d60cd-7f8d-4ca7-b3d8-72a7aa7763ce",
   "metadata": {},
   "outputs": [
    {
     "name": "stdout",
     "output_type": "stream",
     "text": [
      "[[181  24]\n",
      " [ 58  45]]\n",
      "              precision    recall  f1-score   support\n",
      "\n",
      "           0       0.76      0.88      0.82       205\n",
      "           1       0.65      0.44      0.52       103\n",
      "\n",
      "    accuracy                           0.73       308\n",
      "   macro avg       0.70      0.66      0.67       308\n",
      "weighted avg       0.72      0.73      0.72       308\n",
      "\n"
     ]
    }
   ],
   "source": [
    "# Dividir los datos en X e y. \n",
    "X = diabetes_df.drop(\"diabetes\", axis = 1).values\n",
    "y = diabetes_df[\"diabetes\"].values\n",
    "\n",
    "# Crear una instancia del clasificador. \n",
    "knn = KNeighborsClassifier(n_neighbors = 6)\n",
    "\n",
    "# Dividir los datos\n",
    "X_train, X_test, y_train, y_test = train_test_split(X, y,\n",
    "                                                    test_size = 0.4,\n",
    "                                                   random_state = 43)\n",
    "\n",
    "# Ajustar los datos de entrenamiento\n",
    "knn.fit(X_train,y_train)\n",
    "\n",
    "# Predecir las etiquetas del conjunto de prueba \n",
    "y_pred = knn.predict(X_test)\n",
    "\n",
    "# Imprimir la matriz de confusión\n",
    "print(confusion_matrix(y_test,y_pred))\n",
    "\n",
    "# Generar de las métricas relevantes\n",
    "print(classification_report(y_test,y_pred))"
   ]
  },
  {
   "cell_type": "markdown",
   "id": "b6d0de5e-ab4f-406c-8687-1ba3f05b62a8",
   "metadata": {},
   "source": [
    "#### Interpretación\n",
    "\n",
    "- **Clase 0 (personas sin diabetes)**:\n",
    "    - **Precisión**: El modelo tiene una precisión del 76%, lo que significa que del total de personas que el modelo predijo que no tienen diabetes, el 76% realmente no la tiene.\n",
    "    - **Recall**: El modelo tiene un recall del 88%, lo que significa que pudo identificar correctamente el 88% de las personas que realmente no tienen diabetes.\n",
    "    - **F1-score**: El F1-score es una medida que combina precisión y recall en un solo número. Un F1-score del 82% indica que el modelo tiene un buen equilibrio entre precisión y recall para la clase de personas sin diabetes.\n",
    "    - **Support**: El support es el número de ocurrencias reales de la clase en el conjunto de datos. En este caso, hay 205 personas que no tienen diabetes.\n",
    "\n",
    "- **Clase 1 (personas con diabetes)**:\n",
    "    - **Precisión**: El modelo tiene una precisión del 65%, lo que significa que del total de personas que el modelo predijo que tienen diabetes, el 65% realmente la tiene.\n",
    "    - **Recall**: El modelo tiene un recall del 44%, lo que significa que pudo identificar correctamente solo el 44% de las personas que realmente tienen diabetes.\n",
    "    - **F1-score**: Un F1-score del 52% indica que el modelo tiene un equilibrio relativamente bajo entre precisión y recall para la clase de personas con diabetes.\n",
    "    - **Support**: Hay 103 personas que realmente tienen diabetes.\n",
    "\n",
    "- **Accuracy**: La precisión total del modelo es del 73%, lo que significa que el modelo predijo correctamente el 73% de los casos, tanto de personas con diabetes como de personas sin diabetes.\n",
    "\n",
    "- **Macro avg**: El promedio macro de precisión, recall y F1-score no tiene en cuenta el desequilibrio de clases y trata todas las clases por igual. La precisión macro avg es del 70%, el recall macro avg es del 66% y el F1-score macro avg es del 67%.\n",
    "\n",
    "- **Weighted avg**: El promedio ponderado de precisión, recall y F1-score tiene en cuenta el desequilibrio de clases y da más peso a la clase con más instancias (en este caso, las personas sin diabetes). La precisión ponderada avg es del 72%, el recall ponderado avg es del 73% y el F1-score ponderado avg es del 72%.\n",
    "\n",
    "Parece que el modelo no es lo suficientemente bueno para predecir si las personas tiene o no diabetes."
   ]
  },
  {
   "cell_type": "markdown",
   "id": "8448cc7d-ab09-4664-8036-557652a223ff",
   "metadata": {},
   "source": [
    "### Regresión logística y la curva de ROC\n",
    "\n",
    "- La regresión logística se utiliza para ***clasificación***.\n",
    "- Este modelo calcula la  probabilidad $p$, de que una observación pertenezca a una clases binaria.\n",
    "- Usando este los datos de diabetes:\n",
    "    - Si $p\\geq 0.5$, etiquetamos los datos cómo $1$. Qué hace referencia a que una persona tiene más probabilidades de tener diabetes.\n",
    "    - Si $p<0.5$, lo etiqutamos cómo $0$ para represetar que es más probable que no tenga diabetes.\n",
    " \n",
    "*La regresión logista produce un límite de decisión lineal.*"
   ]
  },
  {
   "cell_type": "code",
   "execution_count": 28,
   "id": "5ec558a3-4be3-48cc-8047-19c6cb98a0e0",
   "metadata": {},
   "outputs": [],
   "source": [
    "# Instanciar regresión logística\n",
    "logreg = LogisticRegression(max_iter = 1000)\n",
    "\n",
    "# Dividir los datos\n",
    "X_train, X_test, y_train, y_test = train_test_split(X, y,\n",
    "                                                   test_size = 0.3,\n",
    "                                                   random_state = 42)\n",
    "\n",
    "# Ajustar el modelos a nuestros datos de entrenamiento\n",
    "logreg.fit(X_train, y_train)\n",
    "\n",
    "# Predecir en nuestro conjunto de prueba\n",
    "y_pred_probs = logreg.predict_proba(X_test)[:,1]"
   ]
  },
  {
   "cell_type": "code",
   "execution_count": 54,
   "id": "fa52976d-96be-499a-927e-bfbca3dc460e",
   "metadata": {},
   "outputs": [
    {
     "data": {
      "image/png": "[encoded data removed]",
      "text/plain": [
       "<Figure size 640x480 with 1 Axes>"
      ]
     },
     "metadata": {},
     "output_type": "display_data"
    }
   ],
   "source": [
    "# Genera los valores para la curva ROC: fpr, tpr, thresholds\n",
    "fpr, tpr, thresholds = roc_curve(y_test, y_pred_probs)\n",
    "\n",
    "# Trazamos una linea de puntos de cero a uno, junto con FPR y TPR\n",
    "plt.plot([0,1], [0,1], 'k--')\n",
    "plt.plot(fpr, tpr)\n",
    "plt.xlabel('Tasa de falsos positivos')\n",
    "plt.ylabel('Tasa de verdaderos positivos')\n",
    "plt.title('Regresión logista y curva ROC')\n",
    "plt.show()"
   ]
  },
  {
   "cell_type": "markdown",
   "id": "8b0384de-a774-4f9a-8e74-1776698f7ef0",
   "metadata": {},
   "source": [
    "Dado que la curva de ROC está por encíma de la línea de puntos, entonces el modelo funciona mejor que asignar valores aleatoriamente.\n",
    "\n",
    "Ahora tratemos de calcular el área bajo la curva ROC junto con las demás métricas."
   ]
  },
  {
   "cell_type": "code",
   "execution_count": 57,
   "id": "cd5c4b22-c37e-49dd-8dc8-197118fdfb4a",
   "metadata": {},
   "outputs": [
    {
     "name": "stdout",
     "output_type": "stream",
     "text": [
      "0.7964403973509933\n"
     ]
    }
   ],
   "source": [
    "# Calculamos AUC\n",
    "print(roc_auc_score(y_test, y_pred_probs))"
   ]
  },
  {
   "cell_type": "markdown",
   "id": "15d768e9-e9f6-4403-a549-34bdc250bfd1",
   "metadata": {},
   "source": [
    "**Interpretación:** Un AUC de 0.7964 significa que tu modelo tiene una capacidad razonablemente buena para distinguir entre personas con diabetes y personas sin diabetes. En otras palabras, si eliges al azar a una persona con diabetes y a una persona sin diabetes de tu conjunto de datos, hay una probabilidad del 79.64% de que tu modelo clasifique correctamente a la persona con diabetes por encima de la persona sin diabetes."
   ]
  },
  {
   "cell_type": "markdown",
   "id": "3b13d982-8f42-4661-807a-3805db3b6241",
   "metadata": {},
   "source": [
    "### Ajustes de hiperparámetros\n",
    "\n",
    "- Ahora que sabemos cómo evaluar el rendimiento del modelo, **exploremos cómo optimizarlos**\n",
    "- Recordemos que tuvimos que elegir el valor para $\\alpha$ en la regresión Ridge/Lasso antes de ajustarlo.\n",
    "- Así mismo, antes de ajustar y predecir KNN, elegimos n_vecinos.\n",
    "- Parámetros que especificamos antes de ajustar un modelo, como $\\alpha$ o n-vecinos se denominan hiperparámetros.\n",
    "- La idea es elegir un hiperparámetro óptimo.\n",
    "\n",
    "Para elegir los hiperparámetros correctos debemos ajustarlos:\n",
    "\n",
    "1. Probar valores diferentes y adaptarlos.\n",
    "2. Ajustarlos todos separadamente.\n",
    "3. Ver que tan bien funcionan\n",
    "4. Elegir los mejores valores.\n",
    "\n",
    "Para este proposito utilizamos la **validación cruzada** que ya vimos anteriormente.\n",
    "\n",
    "Un enfoque para el ajuste de hiperparámetros se llama **búsqueda de cuadricula**, donde elegimos una cuadrícula de posibles valores de hiperparámetros para probar. Por ejemplo:\n",
    "\n",
    "$$\n",
    "\\begin{array}{c|c|c|c}\n",
    "    & 11 & 0.87 & 0.86 \\\\\n",
    "    & 8 & 0.87 & 0.86 \\\\\n",
    "    & 5 & 0.87 & 0.87 \\\\\n",
    "    n_neighbors & 2 & 0.86 & 0.86 \\\\\n",
    "    \\hline\n",
    "    && euclidiano & manhattan\n",
    "\\end{array}\n",
    "$$\n",
    "\n",
    "Realizamos una validación cruzada de k veces para cada combinación de hiperparámetros.\n",
    "\n",
    "#### Ajuste de hiperparámetros con GridSearchCV"
   ]
  },
  {
   "cell_type": "code",
   "execution_count": 29,
   "id": "507b0951-f230-4989-9c76-a6533b0afd6b",
   "metadata": {},
   "outputs": [
    {
     "name": "stdout",
     "output_type": "stream",
     "text": [
      "Parámetros lasso afinado: {'alpha': 1e-05}\n",
      "Puntuación de lazo afinado : 0.29057213593600484\n"
     ]
    }
   ],
   "source": [
    "# Crear una instancia de KFold\n",
    "kf = KFold(n_splits = 5, shuffle = True, random_state = 42)\n",
    "\n",
    "# Configurar la cuadrícula de parámetros\n",
    "param_grid = {\"alpha\": np.linspace(0.00001, 1, 20)}\n",
    "\n",
    "# Crear una instancia Lasso, estableciendo alpha en cero punto uno.\n",
    "lasso = Lasso(alpha = 0.1)\n",
    "\n",
    "# Instanciar lasso_cv\n",
    "lasso_cv = RandomizedSearchCV(lasso, param_grid, cv = kf)\n",
    "\n",
    "# Entrenar con los datos de entrenamiento\n",
    "lasso_cv.fit(X_test, y_test)\n",
    "\n",
    "# Imprimir\n",
    "print(\"Parámetros lasso afinado: {}\".format(lasso_cv.best_params_))\n",
    "print(\"Puntuación de lazo afinado : {}\".format(lasso_cv.best_score_))"
   ]
  },
  {
   "cell_type": "markdown",
   "id": "a1655e5b-7b54-4a62-b7c7-7ae87b5741b1",
   "metadata": {},
   "source": [
    "#### Ajuste de hiperparámetros con RandomizedGridSearchCV\n",
    "\n",
    "GridSearchCV, puede resultar caro desde el punto de vista computacional, especialmente si llevamos a cabo una búsqueda en un espacio de hiperparámetros grande. En este caso, puedes usar RandomizedSearchCV, que prueba un número fijo de configuraciones de hiperparámetros a partir de distribuciones de probabilidad especificadas."
   ]
  },
  {
   "cell_type": "code",
   "execution_count": 30,
   "id": "b79dc358-8711-4613-b1f5-a9137c92be56",
   "metadata": {},
   "outputs": [
    {
     "name": "stdout",
     "output_type": "stream",
     "text": [
      "Tuned Logistic Regression Parameters: {'tol': 0.8571571428571428, 'penalty': 'l2', 'class_weight': 'balanced', 'C': 0.9448979591836735}\n",
      "Tuned Logistic Regression Best Accuracy Score: 0.7634129456559363\n"
     ]
    },
    {
     "name": "stderr",
     "output_type": "stream",
     "text": [
      "/opt/conda/lib/python3.11/site-packages/sklearn/model_selection/_validation.py:425: FitFailedWarning: \n",
      "15 fits failed out of a total of 50.\n",
      "The score on these train-test partitions for these parameters will be set to nan.\n",
      "If these failures are not expected, you can try to debug them by setting error_score='raise'.\n",
      "\n",
      "Below are more details about the failures:\n",
      "--------------------------------------------------------------------------------\n",
      "15 fits failed with the following error:\n",
      "Traceback (most recent call last):\n",
      "  File \"/opt/conda/lib/python3.11/site-packages/sklearn/model_selection/_validation.py\", line 729, in _fit_and_score\n",
      "    estimator.fit(X_train, y_train, **fit_params)\n",
      "  File \"/opt/conda/lib/python3.11/site-packages/sklearn/base.py\", line 1152, in wrapper\n",
      "    return fit_method(estimator, *args, **kwargs)\n",
      "           ^^^^^^^^^^^^^^^^^^^^^^^^^^^^^^^^^^^^^^\n",
      "  File \"/opt/conda/lib/python3.11/site-packages/sklearn/linear_model/_logistic.py\", line 1169, in fit\n",
      "    solver = _check_solver(self.solver, self.penalty, self.dual)\n",
      "             ^^^^^^^^^^^^^^^^^^^^^^^^^^^^^^^^^^^^^^^^^^^^^^^^^^^\n",
      "  File \"/opt/conda/lib/python3.11/site-packages/sklearn/linear_model/_logistic.py\", line 56, in _check_solver\n",
      "    raise ValueError(\n",
      "ValueError: Solver lbfgs supports only 'l2' or 'none' penalties, got l1 penalty.\n",
      "\n",
      "  warnings.warn(some_fits_failed_message, FitFailedWarning)\n",
      "/opt/conda/lib/python3.11/site-packages/sklearn/model_selection/_search.py:979: UserWarning: One or more of the test scores are non-finite: [       nan 0.71323988 0.75597092 0.75597092 0.71509173 0.76341295\n",
      " 0.76156109        nan 0.76156109        nan]\n",
      "  warnings.warn(\n"
     ]
    }
   ],
   "source": [
    "# Crear el espacio de parámetros\n",
    "params = {\"penalty\": [\"l1\", \"l2\"],\n",
    "         \"tol\": np.linspace(0.0001, 1.0, 50),\n",
    "         \"C\": np.linspace(0.1, 1.0, 50),\n",
    "         \"class_weight\": [\"balanced\", {0:0.8, 1:0.2}]}\n",
    "\n",
    "# Crear una instancia del objeto RandomizedSearchCV\n",
    "logreg_cv = RandomizedSearchCV(logreg, params, cv=kf)\n",
    "\n",
    "# Entrenar el modelo con los datos\n",
    "logreg_cv.fit(X_train, y_train)\n",
    "\n",
    "# Imprime los parámetros y la precisión\n",
    "print(\"Tuned Logistic Regression Parameters: {}\".format(logreg_cv.best_params_))\n",
    "print(\"Tuned Logistic Regression Best Accuracy Score: {}\".format(logreg_cv.best_score_))"
   ]
  },
  {
   "cell_type": "markdown",
   "id": "e4b07249-a5ed-44aa-975c-5fbc2369b24e",
   "metadata": {},
   "source": [
    "Los parámetros que  ajustamos para tu modelo de Regresión Logística son los siguientes:\n",
    "\n",
    "- **Tolerancia (tol)**: 0.8367510204081633. Este es el umbral para decidir cuándo parar la búsqueda de los parámetros óptimos. Un valor más alto significa que el modelo es menos sensible a los cambios en los datos y puede parar antes de encontrar los parámetros óptimos.\n",
    "\n",
    "- **Penalización (penalty)**: 'l2'. Esto indica que estás utilizando la regularización L2, que penaliza los coeficientes grandes en el modelo para evitar el sobreajuste.\n",
    "\n",
    "- **Peso de las clases (class_weight)**: 'balanced'. Esto significa que el modelo ajustará los pesos de las clases inversamente proporcional a las frecuencias de las clases. Esto es útil cuando tienes un conjunto de datos desequilibrado.\n",
    "\n",
    "- **Parámetro de regularización C**: 0.2285714285714286. Este es el inverso de la fuerza de regularización. Un valor más pequeño especifica una regularización más fuerte, lo que significa que el modelo es más resistente al sobreajuste pero puede ser menos preciso en los datos de entrenamiento.\n",
    "\n",
    "El mejor puntaje de precisión que obtuviste con estos parámetros es 0.7347826086956523. Esto significa que tu modelo, con estos parámetros, clasifica correctamente el 73.48% de los casos. En el contexto de la diabetes, esto podría significar que el modelo es capaz de identificar correctamente si un paciente tiene diabetes en el 73.48% de los casos, dado los datos de entrada.\n",
    "\n",
    "Es importante recordar que la precisión no es la única métrica para evaluar un modelo, especialmente en el caso de conjuntos de datos desequilibrados. También podrías considerar otras métricas como la sensibilidad, la especificidad, el área bajo la curva ROC, entre otras. Además, siempre es útil comparar estos resultados con un modelo de referencia o baseline para entender mejor el rendimiento de tu modelo."
   ]
  }
 ],
 "metadata": {
  "kernelspec": {
   "display_name": "Python 3 (ipykernel)",
   "language": "python",
   "name": "python3"
  },
  "language_info": {
   "codemirror_mode": {
    "name": "ipython",
    "version": 3
   },
   "file_extension": ".py",
   "mimetype": "text/x-python",
   "name": "python",
   "nbconvert_exporter": "python",
   "pygments_lexer": "ipython3",
   "version": "3.11.6"
  }
 },
 "nbformat": 4,
 "nbformat_minor": 5
}
