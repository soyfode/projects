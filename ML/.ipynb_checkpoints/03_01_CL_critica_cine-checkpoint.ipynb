{
 "cells": [
  {
   "cell_type": "markdown",
   "id": "d47d78a9-be4f-47ea-9a87-a19199cd1c28",
   "metadata": {},
   "source": [
    "# Análisis del sentimiento de las críticas de cine\n",
    "\n",
    "Exploraremos las probabilidades obtenidas mediante regresión logística en un subconjunto del Conjunto de Datos de Reseñas de Películas.\n",
    "\n",
    "Las variables X e y ya están cargadas en el entorno. X contiene características basadas en el número de veces que aparecen palabras en las críticas de películas, e y contiene etiquetas para indicar si el sentimiento de la crítica es positivo (+1) o negativo (-1)."
   ]
  },
  {
   "cell_type": "code",
   "execution_count": null,
   "id": "fcecf7e5-a826-450a-a1e9-9c7ee56fd762",
   "metadata": {},
   "outputs": [],
   "source": [
    "# Instanciar la regresión logística y entrenar\n",
    "lr = LogisticRegression()\n",
    "lr.fit(X, y)\n",
    "\n",
    "# Predecir el sentimiento para una crítica muy positiva\n",
    "review1 = \"LOVED IT! This movie was amazing. Top 10 this year.\"\n",
    "review1_features = get_features(review1)\n",
    "print(\"Review:\", review1)\n",
    "print(\"Probability of positive review:\", lr.predict_proba(review1_features)[0,1])\n",
    "\n",
    "# Predecir el sentimiento para una crítica muy negativa\n",
    "review2 = \"Total junk! I'll never watch a film by that director again, no matter how good the reviews.\"\n",
    "review2_features = get_features(review2)\n",
    "print(\"Review:\", review2)\n",
    "print(\"Probability of positive review:\", lr.predict_proba(review2_features)[0,1])"
   ]
  }
 ],
 "metadata": {
  "kernelspec": {
   "display_name": "Python 3 (ipykernel)",
   "language": "python",
   "name": "python3"
  },
  "language_info": {
   "codemirror_mode": {
    "name": "ipython",
    "version": 3
   },
   "file_extension": ".py",
   "mimetype": "text/x-python",
   "name": "python",
   "nbconvert_exporter": "python",
   "pygments_lexer": "ipython3",
   "version": "3.11.6"
  }
 },
 "nbformat": 4,
 "nbformat_minor": 5
}
