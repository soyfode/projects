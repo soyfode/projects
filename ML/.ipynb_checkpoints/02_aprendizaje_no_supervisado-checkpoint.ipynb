{
 "cells": [
  {
   "cell_type": "markdown",
   "id": "308c74d0-c8f5-4814-8029-35739f437f25",
   "metadata": {},
   "source": [
    "# Aprendizaje no supervisado\n",
    "\n",
    "- El aprendizaje no supervisado es una clases de técnicas de aprendizaje automático para **descubrir patrones no guiados en los datos**.\n",
    "- Por ejemplo, encontrar los grupos naturales de cientes en función de sus historiales de compra o buscar patrones y correlaciones entre estas compras, y usar estos patrones para expresar los datos en forma comprimida. Este tipo de técnicas se las llama:\n",
    "    - Agrupación \n",
    "    - Reducción de dimensiones.\n",
    " \n",
    "El aprendizaje no supervisado **es un aprendizaje sin etiquetas**.\n",
    "\n",
    "Analizaremos el conjunto de datos de iris que consta de las medidas de muchas plantas de iris de tres especies diferentes.\n",
    "\n",
    "- Setosa\n",
    "- Versicolor\n",
    "- Virginica\n",
    "\n",
    "De donde tenemos cuatro medidas como características:\n",
    "\n",
    "- Largo del pétalo\n",
    "- Ancho del pétalo\n",
    "- largo del sépalo\n",
    "- ancho del sépalo\n",
    "\n",
    "La columna de la matriz se corresponderán con las características. Y las medidas para plantas individuales son las muestras del conjunto de datos que corresponden a las filas de la matriz.\n",
    "\n",
    "Las muestras del conjunto de datos del iris tienen cuatro medidas y corresponden a puntos en un espacio de cuatro dimensiones. Estas 4 dimensiones no podemos visualizarlas directamente, pero usando técnicas de aprendizaje no supervisadas añun podemos obtener información.\n",
    "\n",
    "## Agrupación para la exploración de conjuntos de datos\n",
    "\n",
    "Agruparemos estas muestras utilizando **k-means clustering**. Esta técnica encuentra un número específico de grupos en las muestras.\n",
    "\n",
    "Si se tiene nuevas muestras muestras de iris, `\"k\"` significa que puede determinar a que clusters pertenece sin empezar de nuevo. k-means hace esto al **recordar la media** de las muestras en cada grupo. A esto se le llaman **centroides**.\n",
    "- Las nuevas muestras se asignan al grupo cuyo centroide está más cerca."
   ]
  },
  {
   "cell_type": "code",
   "execution_count": 83,
   "id": "91f7032a-db8f-4f32-92dd-deea72356b83",
   "metadata": {},
   "outputs": [],
   "source": [
    "# LIBRERIAS\n",
    "import pandas as pd\n",
    "import matplotlib.pyplot as plt\n",
    "from sklearn.cluster import KMeans\n",
    "from sklearn.preprocessing import StandardScaler\n",
    "from sklearn.pipeline import make_pipeline"
   ]
  },
  {
   "cell_type": "code",
   "execution_count": 68,
   "id": "f7791ba4-82ad-421d-a249-57903f820640",
   "metadata": {},
   "outputs": [
    {
     "data": {
      "text/html": [
       "<div>\n",
       "<style scoped>\n",
       "    .dataframe tbody tr th:only-of-type {\n",
       "        vertical-align: middle;\n",
       "    }\n",
       "\n",
       "    .dataframe tbody tr th {\n",
       "        vertical-align: top;\n",
       "    }\n",
       "\n",
       "    .dataframe thead th {\n",
       "        text-align: right;\n",
       "    }\n",
       "</style>\n",
       "<table border=\"1\" class=\"dataframe\">\n",
       "  <thead>\n",
       "    <tr style=\"text-align: right;\">\n",
       "      <th></th>\n",
       "      <th>sepal_length</th>\n",
       "      <th>sepal_width</th>\n",
       "      <th>petal_length</th>\n",
       "      <th>petal_width</th>\n",
       "      <th>species</th>\n",
       "    </tr>\n",
       "  </thead>\n",
       "  <tbody>\n",
       "    <tr>\n",
       "      <th>0</th>\n",
       "      <td>5.1</td>\n",
       "      <td>3.5</td>\n",
       "      <td>1.4</td>\n",
       "      <td>0.2</td>\n",
       "      <td>setosa</td>\n",
       "    </tr>\n",
       "    <tr>\n",
       "      <th>1</th>\n",
       "      <td>4.9</td>\n",
       "      <td>3.0</td>\n",
       "      <td>1.4</td>\n",
       "      <td>0.2</td>\n",
       "      <td>setosa</td>\n",
       "    </tr>\n",
       "    <tr>\n",
       "      <th>2</th>\n",
       "      <td>4.7</td>\n",
       "      <td>3.2</td>\n",
       "      <td>1.3</td>\n",
       "      <td>0.2</td>\n",
       "      <td>setosa</td>\n",
       "    </tr>\n",
       "    <tr>\n",
       "      <th>3</th>\n",
       "      <td>4.6</td>\n",
       "      <td>3.1</td>\n",
       "      <td>1.5</td>\n",
       "      <td>0.2</td>\n",
       "      <td>setosa</td>\n",
       "    </tr>\n",
       "    <tr>\n",
       "      <th>4</th>\n",
       "      <td>5.0</td>\n",
       "      <td>3.6</td>\n",
       "      <td>1.4</td>\n",
       "      <td>0.2</td>\n",
       "      <td>setosa</td>\n",
       "    </tr>\n",
       "  </tbody>\n",
       "</table>\n",
       "</div>"
      ],
      "text/plain": [
       "   sepal_length  sepal_width  petal_length  petal_width species\n",
       "0           5.1          3.5           1.4          0.2  setosa\n",
       "1           4.9          3.0           1.4          0.2  setosa\n",
       "2           4.7          3.2           1.3          0.2  setosa\n",
       "3           4.6          3.1           1.5          0.2  setosa\n",
       "4           5.0          3.6           1.4          0.2  setosa"
      ]
     },
     "execution_count": 68,
     "metadata": {},
     "output_type": "execute_result"
    }
   ],
   "source": [
    "# DATA\n",
    "ruta_archivo = '/home/jovyan/notebooks/data/iris.csv'\n",
    "iris = pd.read_csv(ruta_archivo,index_col = None)\n",
    "samples = iris.drop(\"species\", axis = 1).values\n",
    "iris.head()"
   ]
  },
  {
   "cell_type": "code",
   "execution_count": 69,
   "id": "928acea3-a27d-4125-9ccb-ed45110a20dd",
   "metadata": {},
   "outputs": [
    {
     "name": "stdout",
     "output_type": "stream",
     "text": [
      "[1 1 1 1 1 1 1 1 1 1 1 1 1 1 1 1 1 1 1 1 1 1 1 1 1 1 1 1 1 1 1 1 1 1 1 1 1\n",
      " 1 1 1 1 1 1 1 1 1 1 1 1 1 2 2 0 2 2 2 2 2 2 2 2 2 2 2 2 2 2 2 2 2 2 2 2 2\n",
      " 2 2 2 0 2 2 2 2 2 2 2 2 2 2 2 2 2 2 2 2 2 2 2 2 2 2 0 2 0 0 0 0 2 0 0 0 0\n",
      " 0 0 2 2 0 0 0 0 2 0 2 0 2 0 0 2 2 0 0 0 0 0 2 0 0 0 0 2 0 0 0 2 0 0 0 2 0\n",
      " 0 2]\n",
      "[1 1 1 1 1 1 1 1 1 1 1 1 1 1 1 1 1 1 1 1 1 1 1 1 1 1 1 1 1 1 1 1 1 1 1 1 1\n",
      " 1 1 1 1 1 1 1 1 1 1 1 1 1 2 2 0 2 2 2 2 2 2 2 2 2 2 2 2 2 2 2 2 2 2 2 2 2\n",
      " 2 2 2 0 2 2 2 2 2 2 2 2 2 2 2 2 2 2 2 2 2 2 2 2 2 2 0 2 0 0 0 0 2 0 0 0 0\n",
      " 0 0 2 2 0 0 0 0 2 0 2 0 2 0 0 2 2 0 0 0 0 0 2 0 0 0 0 2 0 0 0 2 0 0 0 2 0\n",
      " 0 2]\n"
     ]
    }
   ],
   "source": [
    "# Crear un modelo kmeans, especificando la cantidad de clústers\n",
    "# que se desea encontrar.\n",
    "model = KMeans(n_clusters = 3, n_init = 10)\n",
    "\n",
    "# Llamar al método de ajuste del modelo, pasando la matriz de muestras\n",
    "model.fit(samples)\n",
    "\n",
    "# Usar el método depredicción\n",
    "labels = model.predict(samples)\n",
    "\n",
    "# Imprimir una etiqueta de conglomerados para cada muestra, \n",
    "# que indica a que conglomerado pertenece una muestra\n",
    "print(labels)\n",
    "\n",
    "# Predecir para nuevos datos\n",
    "new_labels = model.predict(samples)\n",
    "\n",
    "# Imprimir\n",
    "print(labels)"
   ]
  },
  {
   "cell_type": "markdown",
   "id": "3b5eab00-89b3-4618-8fc6-dffd852f9f6d",
   "metadata": {},
   "source": [
    "- Visualizar scatter plots, creando un diagrama de dispersión."
   ]
  },
  {
   "cell_type": "code",
   "execution_count": 70,
   "id": "5eab1699-6fbc-4193-b9e9-e4c79207b686",
   "metadata": {},
   "outputs": [
    {
     "data": {
      "image/png": "[encoded data removed]",
      "text/plain": [
       "<Figure size 640x480 with 1 Axes>"
      ]
     },
     "metadata": {},
     "output_type": "display_data"
    }
   ],
   "source": [
    "# Obtener coordenadas x e y de cada muestra\n",
    "# La longitud de sépalo está en la columna 0 de la matriz\n",
    "# La longitud del pétalo está en la columna 2\n",
    "xs = samples[:,0]\n",
    "ys = samples[:,2]\n",
    "\n",
    "# Llamar a la función de dispersión de puntos plt\n",
    "# c = labels colorea \n",
    "plt.scatter(xs, ys, c = labels)\n",
    "plt.show()"
   ]
  },
  {
   "cell_type": "markdown",
   "id": "c297a2af-cb03-43ef-a0b5-8888c0e1b4f8",
   "metadata": {},
   "source": [
    "- Dibujar otro gráfico"
   ]
  },
  {
   "cell_type": "code",
   "execution_count": 71,
   "id": "86b2924b-6898-4d00-bf26-b7f4010c79e2",
   "metadata": {},
   "outputs": [
    {
     "data": {
      "image/png": "[encoded data removed]",
      "text/plain": [
       "<Figure size 640x480 with 1 Axes>"
      ]
     },
     "metadata": {},
     "output_type": "display_data"
    }
   ],
   "source": [
    "# Asignar las columnas de new_points: xs e ys\n",
    "xs = samples[:,0]\n",
    "ys = samples[:,1]\n",
    "\n",
    "# Hacer un diagrama de dispersión de xs e ys, usando etiquetas para definir los colores\n",
    "plt.scatter(xs, ys, c=labels, alpha=0.5)\n",
    "\n",
    "# Asignar los centros del cluster: centroides con .cluster_centers_\n",
    "centroids = model.cluster_centers_\n",
    "\n",
    "# Asignar las columnas de centroides: centroids_x, centroids_y\n",
    "centroids_x = centroids[:,0]\n",
    "centroids_y = centroids[:,1]\n",
    "\n",
    "# Hacer un diagrama de dispersión de centroids_x y centroids_y\n",
    "plt.scatter(centroids_x, centroids_y, marker='D', s=50)\n",
    "plt.show()"
   ]
  },
  {
   "cell_type": "markdown",
   "id": "43e7dba7-b6c2-4424-aa44-d568ee96316c",
   "metadata": {},
   "source": [
    "### Evaluando un clustering\n",
    "\n",
    "1. Podemos evaluar con un enfoque directo que compara los grupos con las especies de iris.\n",
    "- Verifiquemos si los 3 grupos de muestras de iris tiene alguna correspondencia con las especies de iris.\n",
    "- La correspondencia se describe en una tabla llamada **tabulaciones cruzadas**.\n",
    "- Hay una columna para cada una de las tres especies de iris:\n",
    "    - Setosa\n",
    "    - Versicolor\n",
    "    - Virginica\n",
    "- Y una fila para cada una de las tres etiquetas de grupo:\n",
    "    - 0\n",
    "    - 1\n",
    "    - 2\n",
    "- La tabla muestra el número de muestras que tienen cada combinación posible de etiqueta de grupo/especie.\n",
    "- Por ejemplo, se ve que el grupo 1 se corresponde perfectamente con la especie setosa.\n",
    "- Por otro lado, mientras que el clúster 0 contiene principalmente muestras de virginica, también hay algunas muestras de virginica en el grupo 2.\n",
    "2. Otra manera es con una medida de calidad que se puede usar para tomar una decisión informada sobre la cantidad de grupos que se deben buscar.\n",
    "\n",
    "- VEAMOS COMO CONSTRUIR LA TABULACIÓN CRUZADA."
   ]
  },
  {
   "cell_type": "code",
   "execution_count": 72,
   "id": "ddec0d76-f2db-4b22-ab28-d2a1777ed9b6",
   "metadata": {},
   "outputs": [
    {
     "data": {
      "text/html": [
       "<div>\n",
       "<style scoped>\n",
       "    .dataframe tbody tr th:only-of-type {\n",
       "        vertical-align: middle;\n",
       "    }\n",
       "\n",
       "    .dataframe tbody tr th {\n",
       "        vertical-align: top;\n",
       "    }\n",
       "\n",
       "    .dataframe thead th {\n",
       "        text-align: right;\n",
       "    }\n",
       "</style>\n",
       "<table border=\"1\" class=\"dataframe\">\n",
       "  <thead>\n",
       "    <tr style=\"text-align: right;\">\n",
       "      <th></th>\n",
       "      <th>labels</th>\n",
       "      <th>species</th>\n",
       "    </tr>\n",
       "  </thead>\n",
       "  <tbody>\n",
       "    <tr>\n",
       "      <th>0</th>\n",
       "      <td>1</td>\n",
       "      <td>setosa</td>\n",
       "    </tr>\n",
       "    <tr>\n",
       "      <th>1</th>\n",
       "      <td>1</td>\n",
       "      <td>setosa</td>\n",
       "    </tr>\n",
       "    <tr>\n",
       "      <th>2</th>\n",
       "      <td>1</td>\n",
       "      <td>setosa</td>\n",
       "    </tr>\n",
       "    <tr>\n",
       "      <th>3</th>\n",
       "      <td>1</td>\n",
       "      <td>setosa</td>\n",
       "    </tr>\n",
       "    <tr>\n",
       "      <th>4</th>\n",
       "      <td>1</td>\n",
       "      <td>setosa</td>\n",
       "    </tr>\n",
       "    <tr>\n",
       "      <th>...</th>\n",
       "      <td>...</td>\n",
       "      <td>...</td>\n",
       "    </tr>\n",
       "    <tr>\n",
       "      <th>145</th>\n",
       "      <td>0</td>\n",
       "      <td>virginica</td>\n",
       "    </tr>\n",
       "    <tr>\n",
       "      <th>146</th>\n",
       "      <td>2</td>\n",
       "      <td>virginica</td>\n",
       "    </tr>\n",
       "    <tr>\n",
       "      <th>147</th>\n",
       "      <td>0</td>\n",
       "      <td>virginica</td>\n",
       "    </tr>\n",
       "    <tr>\n",
       "      <th>148</th>\n",
       "      <td>0</td>\n",
       "      <td>virginica</td>\n",
       "    </tr>\n",
       "    <tr>\n",
       "      <th>149</th>\n",
       "      <td>2</td>\n",
       "      <td>virginica</td>\n",
       "    </tr>\n",
       "  </tbody>\n",
       "</table>\n",
       "<p>150 rows × 2 columns</p>\n",
       "</div>"
      ],
      "text/plain": [
       "     labels    species\n",
       "0         1     setosa\n",
       "1         1     setosa\n",
       "2         1     setosa\n",
       "3         1     setosa\n",
       "4         1     setosa\n",
       "..      ...        ...\n",
       "145       0  virginica\n",
       "146       2  virginica\n",
       "147       0  virginica\n",
       "148       0  virginica\n",
       "149       2  virginica\n",
       "\n",
       "[150 rows x 2 columns]"
      ]
     },
     "execution_count": 72,
     "metadata": {},
     "output_type": "execute_result"
    }
   ],
   "source": [
    "# Crear un DataFrame de dos columnas, donde \n",
    "# la primera columna son etiquetas de clúster\n",
    "# y la segunda columna es la especie de lirio\n",
    "df = pd.DataFrame({'labels':labels, 'species': species})\n",
    "df"
   ]
  },
  {
   "cell_type": "code",
   "execution_count": 73,
   "id": "f7b86e92-cb59-42f2-8b1b-28320bd8ea6c",
   "metadata": {},
   "outputs": [
    {
     "data": {
      "text/html": [
       "<div>\n",
       "<style scoped>\n",
       "    .dataframe tbody tr th:only-of-type {\n",
       "        vertical-align: middle;\n",
       "    }\n",
       "\n",
       "    .dataframe tbody tr th {\n",
       "        vertical-align: top;\n",
       "    }\n",
       "\n",
       "    .dataframe thead th {\n",
       "        text-align: right;\n",
       "    }\n",
       "</style>\n",
       "<table border=\"1\" class=\"dataframe\">\n",
       "  <thead>\n",
       "    <tr style=\"text-align: right;\">\n",
       "      <th>species</th>\n",
       "      <th>setosa</th>\n",
       "      <th>versicolor</th>\n",
       "      <th>virginica</th>\n",
       "    </tr>\n",
       "    <tr>\n",
       "      <th>labels</th>\n",
       "      <th></th>\n",
       "      <th></th>\n",
       "      <th></th>\n",
       "    </tr>\n",
       "  </thead>\n",
       "  <tbody>\n",
       "    <tr>\n",
       "      <th>0</th>\n",
       "      <td>0</td>\n",
       "      <td>2</td>\n",
       "      <td>36</td>\n",
       "    </tr>\n",
       "    <tr>\n",
       "      <th>1</th>\n",
       "      <td>50</td>\n",
       "      <td>0</td>\n",
       "      <td>0</td>\n",
       "    </tr>\n",
       "    <tr>\n",
       "      <th>2</th>\n",
       "      <td>0</td>\n",
       "      <td>48</td>\n",
       "      <td>14</td>\n",
       "    </tr>\n",
       "  </tbody>\n",
       "</table>\n",
       "</div>"
      ],
      "text/plain": [
       "species  setosa  versicolor  virginica\n",
       "labels                                \n",
       "0             0           2         36\n",
       "1            50           0          0\n",
       "2             0          48         14"
      ]
     },
     "execution_count": 73,
     "metadata": {},
     "output_type": "execute_result"
    }
   ],
   "source": [
    "# Usar la función de TABULACIÓN CRUZADA\n",
    "ct = pd.crosstab(df['labels'],[df['species']])\n",
    "ct"
   ]
  },
  {
   "cell_type": "markdown",
   "id": "7d6fd4d4-3aae-48e5-b3ad-297f2c21c8c7",
   "metadata": {},
   "source": [
    "La *TABULACIÓN CRUZADA* brindan grandes conocimientos sobre qué tipo de muestras se encuentran en qué grupo.\n",
    "\n",
    "Pero en la mayoria de los conjuntos de datos, las muestras no están etiquetadas por especies, entonces\n",
    "**¿Cómo se puede evaluar la calidad de un agrupamiento en estos casos?**\n",
    "\n",
    "Necesitamos una forma de medir la calidad de un agrupamiento que use solo los agrupamientos y las muestras en si. Dado que las muestras en cada conglomerado están agrupadas y no dispersas, la **inercia** puede medir la distribución de las muestras dentro de cada grupo.\n",
    "- Intuitivamente **la inercia mide qué tan lejos están las muestras de sus centroides**.\n",
    "- ***Los valores más bajos de la inercia son mejores.***\n",
    "- ***La inercia de Kmeans se mide automáticamente*** cuando se llama a los métodos de ajuste y está disponible como el atributo de inercia.\n",
    "- De hecho, **kmeans** tiene como **objetivo** colocar los clústers de manera que se **minimice la inercia**."
   ]
  },
  {
   "cell_type": "code",
   "execution_count": 74,
   "id": "2282b5e7-d717-4f56-b8fb-a34a5cc059d9",
   "metadata": {},
   "outputs": [
    {
     "name": "stdout",
     "output_type": "stream",
     "text": [
      "78.94084142614602\n"
     ]
    }
   ],
   "source": [
    "# instanciar Kmeans\n",
    "model = KMeans(n_clusters = 3, n_init = 10)\n",
    "\n",
    "# Ajustar a los datos\n",
    "model.fit(samples)\n",
    "\n",
    "# Imprimir la inercia.\n",
    "print(model.inertia_)"
   ]
  },
  {
   "cell_type": "markdown",
   "id": "26a7df2a-1cd6-4229-b16e-a86c53296c6a",
   "metadata": {},
   "source": [
    "- Al dibujar una gráfica de los valores de inercia de las agrupaciones del conjunto de datos de iris con diferentes número de agrupaciones, vemos que kmeans con 3 grupos tiene una inercia relativamente baja, lo cual es excelente.\n",
    "- Oservaremos que la inercia continúa disminuyendo lentamente. Entonces nos preguntamos\n",
    "**¿Cuál es la mejor cantidad de clústers para elegir?**\n",
    "- ***A parte de verificar que no tenga mucha inercia, verificaremos que no tenga demasiados clusters.*** Es decir, veremos en la gráfica algun punto donde la inercia comience a disminuir más lentamente.\n",
    "\n",
    "### Transformación de características para mejores agrupaciones\n",
    "\n",
    "Veamos otro conjunto de datos de vino. Donde tenemos:\n",
    "- 178 muestras de vino tinto de la región de Piamonte Italia.\n",
    "- Las características miden la composición química (como el contenido de alcohol) y las propiedades visuales como la intensidad de calor\n",
    "- Las muestras proceden de 3 variedades distintas de vino."
   ]
  },
  {
   "cell_type": "code",
   "execution_count": 75,
   "id": "0c8c9ff9-88d5-453b-a1e5-3daedcdb3047",
   "metadata": {},
   "outputs": [
    {
     "data": {
      "text/html": [
       "<div>\n",
       "<style scoped>\n",
       "    .dataframe tbody tr th:only-of-type {\n",
       "        vertical-align: middle;\n",
       "    }\n",
       "\n",
       "    .dataframe tbody tr th {\n",
       "        vertical-align: top;\n",
       "    }\n",
       "\n",
       "    .dataframe thead th {\n",
       "        text-align: right;\n",
       "    }\n",
       "</style>\n",
       "<table border=\"1\" class=\"dataframe\">\n",
       "  <thead>\n",
       "    <tr style=\"text-align: right;\">\n",
       "      <th></th>\n",
       "      <th>class_label</th>\n",
       "      <th>class_name</th>\n",
       "      <th>alcohol</th>\n",
       "      <th>malic_acid</th>\n",
       "      <th>ash</th>\n",
       "      <th>alcalinity_of_ash</th>\n",
       "      <th>magnesium</th>\n",
       "      <th>total_phenols</th>\n",
       "      <th>flavanoids</th>\n",
       "      <th>nonflavanoid_phenols</th>\n",
       "      <th>proanthocyanins</th>\n",
       "      <th>color_intensity</th>\n",
       "      <th>hue</th>\n",
       "      <th>od280</th>\n",
       "      <th>proline</th>\n",
       "    </tr>\n",
       "  </thead>\n",
       "  <tbody>\n",
       "    <tr>\n",
       "      <th>0</th>\n",
       "      <td>1</td>\n",
       "      <td>Barolo</td>\n",
       "      <td>14.23</td>\n",
       "      <td>1.71</td>\n",
       "      <td>2.43</td>\n",
       "      <td>15.6</td>\n",
       "      <td>127</td>\n",
       "      <td>2.80</td>\n",
       "      <td>3.06</td>\n",
       "      <td>0.28</td>\n",
       "      <td>2.29</td>\n",
       "      <td>5.64</td>\n",
       "      <td>1.04</td>\n",
       "      <td>3.92</td>\n",
       "      <td>1065</td>\n",
       "    </tr>\n",
       "    <tr>\n",
       "      <th>1</th>\n",
       "      <td>1</td>\n",
       "      <td>Barolo</td>\n",
       "      <td>13.20</td>\n",
       "      <td>1.78</td>\n",
       "      <td>2.14</td>\n",
       "      <td>11.2</td>\n",
       "      <td>100</td>\n",
       "      <td>2.65</td>\n",
       "      <td>2.76</td>\n",
       "      <td>0.26</td>\n",
       "      <td>1.28</td>\n",
       "      <td>4.38</td>\n",
       "      <td>1.05</td>\n",
       "      <td>3.40</td>\n",
       "      <td>1050</td>\n",
       "    </tr>\n",
       "    <tr>\n",
       "      <th>2</th>\n",
       "      <td>1</td>\n",
       "      <td>Barolo</td>\n",
       "      <td>13.16</td>\n",
       "      <td>2.36</td>\n",
       "      <td>2.67</td>\n",
       "      <td>18.6</td>\n",
       "      <td>101</td>\n",
       "      <td>2.80</td>\n",
       "      <td>3.24</td>\n",
       "      <td>0.30</td>\n",
       "      <td>2.81</td>\n",
       "      <td>5.68</td>\n",
       "      <td>1.03</td>\n",
       "      <td>3.17</td>\n",
       "      <td>1185</td>\n",
       "    </tr>\n",
       "    <tr>\n",
       "      <th>3</th>\n",
       "      <td>1</td>\n",
       "      <td>Barolo</td>\n",
       "      <td>14.37</td>\n",
       "      <td>1.95</td>\n",
       "      <td>2.50</td>\n",
       "      <td>16.8</td>\n",
       "      <td>113</td>\n",
       "      <td>3.85</td>\n",
       "      <td>3.49</td>\n",
       "      <td>0.24</td>\n",
       "      <td>2.18</td>\n",
       "      <td>7.80</td>\n",
       "      <td>0.86</td>\n",
       "      <td>3.45</td>\n",
       "      <td>1480</td>\n",
       "    </tr>\n",
       "    <tr>\n",
       "      <th>4</th>\n",
       "      <td>1</td>\n",
       "      <td>Barolo</td>\n",
       "      <td>13.24</td>\n",
       "      <td>2.59</td>\n",
       "      <td>2.87</td>\n",
       "      <td>21.0</td>\n",
       "      <td>118</td>\n",
       "      <td>2.80</td>\n",
       "      <td>2.69</td>\n",
       "      <td>0.39</td>\n",
       "      <td>1.82</td>\n",
       "      <td>4.32</td>\n",
       "      <td>1.04</td>\n",
       "      <td>2.93</td>\n",
       "      <td>735</td>\n",
       "    </tr>\n",
       "  </tbody>\n",
       "</table>\n",
       "</div>"
      ],
      "text/plain": [
       "   class_label class_name  alcohol  malic_acid   ash  alcalinity_of_ash  \\\n",
       "0            1     Barolo    14.23        1.71  2.43               15.6   \n",
       "1            1     Barolo    13.20        1.78  2.14               11.2   \n",
       "2            1     Barolo    13.16        2.36  2.67               18.6   \n",
       "3            1     Barolo    14.37        1.95  2.50               16.8   \n",
       "4            1     Barolo    13.24        2.59  2.87               21.0   \n",
       "\n",
       "   magnesium  total_phenols  flavanoids  nonflavanoid_phenols  \\\n",
       "0        127           2.80        3.06                  0.28   \n",
       "1        100           2.65        2.76                  0.26   \n",
       "2        101           2.80        3.24                  0.30   \n",
       "3        113           3.85        3.49                  0.24   \n",
       "4        118           2.80        2.69                  0.39   \n",
       "\n",
       "   proanthocyanins  color_intensity   hue  od280  proline  \n",
       "0             2.29             5.64  1.04   3.92     1065  \n",
       "1             1.28             4.38  1.05   3.40     1050  \n",
       "2             2.81             5.68  1.03   3.17     1185  \n",
       "3             2.18             7.80  0.86   3.45     1480  \n",
       "4             1.82             4.32  1.04   2.93      735  "
      ]
     },
     "execution_count": 75,
     "metadata": {},
     "output_type": "execute_result"
    }
   ],
   "source": [
    "# DATA\n",
    "ruta_archivo = '/home/jovyan/notebooks/data/wine.csv'\n",
    "wine = pd.read_csv(ruta_archivo,index_col = None)\n",
    "samples = wine.drop(\"class_name\", axis = 1).values\n",
    "varieties = wine[\"class_name\"].values\n",
    "wine.head()"
   ]
  },
  {
   "cell_type": "code",
   "execution_count": 76,
   "id": "f0ba192d-901a-4b4c-943f-667488b5d966",
   "metadata": {},
   "outputs": [],
   "source": [
    "# Instanciar el modelo KMeans\n",
    "model = KMeans(n_clusters = 3, random_state = 42, n_init = 10)\n",
    "\n",
    "# Ajustar y predecir el modelo a la matriz\n",
    "labels = model.fit_predict(samples)"
   ]
  },
  {
   "cell_type": "markdown",
   "id": "585855f1-9b0d-4329-85f1-4c4eff0154ab",
   "metadata": {},
   "source": [
    "- Usemos VALIDACIÓN CRUZADA para verificar la etiqueta del grupo correspondencia de la variedad de vino."
   ]
  },
  {
   "cell_type": "code",
   "execution_count": 77,
   "id": "51a63ce5-cd93-4143-83fd-72283dd78736",
   "metadata": {},
   "outputs": [
    {
     "name": "stdout",
     "output_type": "stream",
     "text": [
      "varieties  Barbera  Barolo  Grignolino\n",
      "labels                                \n",
      "0               29      13          20\n",
      "1                0      46           1\n",
      "2               19       0          50\n"
     ]
    }
   ],
   "source": [
    "# Crear un DataFrame con labels y varieties\n",
    "df = pd.DataFrame({'labels': labels,\n",
    "                  'varieties': varieties})\n",
    "\n",
    "# Crear la validación cruzada\n",
    "ct = pd.crosstab(df['labels'], df['varieties'])\n",
    "\n",
    "# Imprimir la validación cruzada\n",
    "print(ct)"
   ]
  },
  {
   "cell_type": "markdown",
   "id": "d2f5d3e2-d021-40a9-ad0f-84f205227dfe",
   "metadata": {},
   "source": [
    "-  Esta vez las cosas no salieron bien, los grupos de KMeans nos se corresponden bien con las variedades de vino.\n",
    "-  El problema es que las características del conjunto de datos del vino tienen variaciones muy diferentes.\n",
    "-  La varianza de una característica mide la dispersión de sus valores.\n",
    "-  Por ejemplo la característica del ácido málico tiene una varianza más alta que la función od280\n",
    "-  La **diferencia de algunas varianzas son enormes**.\n",
    "\n",
    "**En el agrupamiento de KMeans, la varianza de una caracteristica corresponde a su influencia en el algoritmo de clusters**.\n",
    "- Para darle la misma oportunidad a cada característica, los datos deben transformarse para que las características tengan la misma variación. Por lo que **escalaremos los datos estandarizandolos**."
   ]
  },
  {
   "cell_type": "code",
   "execution_count": 79,
   "id": "5b87f3eb-8b09-4cc9-a699-d048c82d27cf",
   "metadata": {},
   "outputs": [],
   "source": [
    "# Instanciar StandardScaler()\n",
    "scaler = StandardScaler()\n",
    "\n",
    "# Ajustar el modelo al conjunto de datos \n",
    "scaler.fit(samples)\n",
    "\n",
    "# El método de transformación se puede ahora usar para estandarizar \n",
    "# cualquier muestra, ya sea las mismas o completamente nuevas\n",
    "StandardScaler(copy = True, with_mean = True, with_std = True)\n",
    "samples_scaled = scaler.transform(samples)"
   ]
  },
  {
   "cell_type": "markdown",
   "id": "c2a2ebfa-9062-44fc-b097-6d53d3846854",
   "metadata": {},
   "source": [
    "- AHORA CANALICEMOS (PIPELINES) PARA COMBINAR KMEANS Y STANDARDSCALER"
   ]
  },
  {
   "cell_type": "code",
   "execution_count": 99,
   "id": "d043b83e-b277-413b-9cec-8a97c1b88a09",
   "metadata": {},
   "outputs": [
    {
     "name": "stdout",
     "output_type": "stream",
     "text": [
      "varieties  Barbera  Barolo  Grignolino\n",
      "labels                                \n",
      "0                0       0          68\n",
      "1               48       0           1\n",
      "2                0      59           2\n"
     ]
    }
   ],
   "source": [
    "# Instanciar StandardScaler() y KMeans()\n",
    "scaler = StandardScaler()\n",
    "kmeans = KMeans(n_clusters = 3, n_init = 10, random_state = 21)\n",
    "\n",
    "# Aplicar la función make_pipeline al scaler y objetos kmeans\n",
    "pipeline = make_pipeline(scaler, kmeans)\n",
    "\n",
    "# Ajustar pipeline para ajustar al escalador y kmeans\n",
    "pipeline.fit(samples)\n",
    "\n",
    "# Usar el método de predicción\n",
    "labels = pipeline.predict(samples)\n",
    "\n",
    "# Crear un DataFrame con labels y varieties\n",
    "df = pd.DataFrame({'labels': labels,\n",
    "                  'varieties': varieties})\n",
    "\n",
    "# Crear la validación cruzada\n",
    "ct = pd.crosstab(df['labels'], df['varieties'])\n",
    "\n",
    "# Imprimir la validación cruzada\n",
    "print(ct)"
   ]
  },
  {
   "cell_type": "markdown",
   "id": "e7059639-fc1e-4267-a977-0b22a99ce506",
   "metadata": {},
   "source": [
    "- Este nuevo agrupamiento que incorpora la estandarización, es fantástico. Sus tres racimos corresponden casi exactamente a las tres variedades de vino.\n",
    "- En scikit-learn existen varios prepocesamientos como:\n",
    "    - MaxAbsScaler\n",
    "    - Normalizer"
   ]
  }
 ],
 "metadata": {
  "kernelspec": {
   "display_name": "Python 3 (ipykernel)",
   "language": "python",
   "name": "python3"
  },
  "language_info": {
   "codemirror_mode": {
    "name": "ipython",
    "version": 3
   },
   "file_extension": ".py",
   "mimetype": "text/x-python",
   "name": "python",
   "nbconvert_exporter": "python",
   "pygments_lexer": "ipython3",
   "version": "3.11.6"
  }
 },
 "nbformat": 4,
 "nbformat_minor": 5
}
