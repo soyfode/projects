{
 "cells": [
  {
   "cell_type": "markdown",
   "id": "308c74d0-c8f5-4814-8029-35739f437f25",
   "metadata": {},
   "source": [
    "# Aprendizaje no supervisado\n",
    "\n",
    "- El aprendizaje no supervisado es una clases de técnicas de aprendizaje automático para **descubrir patrones no guiados en los datos**.\n",
    "- Por ejemplo, encontrar los grupos naturales de cientes en función de sus historiales de compra o buscar patrones y correlaciones entre estas compras, y usar estos patrones para expresar los datos en forma comprimida. Este tipo de técnicas se las llama:\n",
    "    - Agrupación \n",
    "    - Reducción de dimensiones.\n",
    " \n",
    "El aprendizaje no supervisado **es un aprendizaje sin etiquetas**.\n",
    "\n",
    "Analizaremos el conjunto de datos de iris que consta de las medidas de muchas plantas de iris de tres especies diferentes.\n",
    "\n",
    "- Setosa\n",
    "- Versicolor\n",
    "- Virginica\n",
    "\n",
    "De donde tenemos cuatro medidas como características:\n",
    "\n",
    "- Largo del pétalo\n",
    "- Ancho del pétalo\n",
    "- largo del sépalo\n",
    "- ancho del sépalo\n",
    "\n",
    "La columna de la matriz se corresponderán con las características. Y las medidas para plantas individuales son las muestras del conjunto de datos que corresponden a las filas de la matriz.\n",
    "\n",
    "Las muestras del conjunto de datos del iris tienen cuatro medidas y corresponden a puntos en un espacio de cuatro dimensiones. Estas 4 dimensiones no podemos visualizarlas directamente, pero usando técnicas de aprendizaje no supervisadas añun podemos obtener información.\n",
    "\n",
    "## Agrupación para la exploración de conjuntos de datos\n",
    "\n",
    "Agruparemos estas muestras utilizando **k-means clustering**. Esta técnica encuentra un número específico de grupos en las muestras.\n",
    "\n",
    "Si se tiene nuevas muestras muestras de iris, `\"k\"` significa que puede determinar a que clusters pertenece sin empezar de nuevo. k-means hace esto al **recordar la media** de las muestras en cada grupo. A esto se le llaman **centroides**.\n",
    "- Las nuevas muestras se asignan al grupo cuyo centroide está más cerca."
   ]
  },
  {
   "cell_type": "code",
   "execution_count": 1,
   "id": "91f7032a-db8f-4f32-92dd-deea72356b83",
   "metadata": {},
   "outputs": [],
   "source": [
    "# LIBRERIAS\n",
    "import pandas as pd\n",
    "import matplotlib.pyplot as plt\n",
    "from sklearn.cluster import KMeans\n",
    "from sklearn.preprocessing import StandardScaler\n",
    "from sklearn.pipeline import make_pipeline\n",
    "from scipy.cluster.hierarchy import linkage, dendrogram \n",
    "from scipy.cluster.hierarchy import fcluster\n",
    "from sklearn.manifold import TSNE\n",
    "from sklearn.decomposition import PCA\n",
    "from sklearn.decomposition import NMF"
   ]
  },
  {
   "cell_type": "code",
   "execution_count": 2,
   "id": "f7791ba4-82ad-421d-a249-57903f820640",
   "metadata": {},
   "outputs": [
    {
     "data": {
      "text/html": [
       "<div>\n",
       "<style scoped>\n",
       "    .dataframe tbody tr th:only-of-type {\n",
       "        vertical-align: middle;\n",
       "    }\n",
       "\n",
       "    .dataframe tbody tr th {\n",
       "        vertical-align: top;\n",
       "    }\n",
       "\n",
       "    .dataframe thead th {\n",
       "        text-align: right;\n",
       "    }\n",
       "</style>\n",
       "<table border=\"1\" class=\"dataframe\">\n",
       "  <thead>\n",
       "    <tr style=\"text-align: right;\">\n",
       "      <th></th>\n",
       "      <th>sepal_length</th>\n",
       "      <th>sepal_width</th>\n",
       "      <th>petal_length</th>\n",
       "      <th>petal_width</th>\n",
       "      <th>species</th>\n",
       "    </tr>\n",
       "  </thead>\n",
       "  <tbody>\n",
       "    <tr>\n",
       "      <th>0</th>\n",
       "      <td>5.1</td>\n",
       "      <td>3.5</td>\n",
       "      <td>1.4</td>\n",
       "      <td>0.2</td>\n",
       "      <td>setosa</td>\n",
       "    </tr>\n",
       "    <tr>\n",
       "      <th>1</th>\n",
       "      <td>4.9</td>\n",
       "      <td>3.0</td>\n",
       "      <td>1.4</td>\n",
       "      <td>0.2</td>\n",
       "      <td>setosa</td>\n",
       "    </tr>\n",
       "    <tr>\n",
       "      <th>2</th>\n",
       "      <td>4.7</td>\n",
       "      <td>3.2</td>\n",
       "      <td>1.3</td>\n",
       "      <td>0.2</td>\n",
       "      <td>setosa</td>\n",
       "    </tr>\n",
       "    <tr>\n",
       "      <th>3</th>\n",
       "      <td>4.6</td>\n",
       "      <td>3.1</td>\n",
       "      <td>1.5</td>\n",
       "      <td>0.2</td>\n",
       "      <td>setosa</td>\n",
       "    </tr>\n",
       "    <tr>\n",
       "      <th>4</th>\n",
       "      <td>5.0</td>\n",
       "      <td>3.6</td>\n",
       "      <td>1.4</td>\n",
       "      <td>0.2</td>\n",
       "      <td>setosa</td>\n",
       "    </tr>\n",
       "  </tbody>\n",
       "</table>\n",
       "</div>"
      ],
      "text/plain": [
       "   sepal_length  sepal_width  petal_length  petal_width species\n",
       "0           5.1          3.5           1.4          0.2  setosa\n",
       "1           4.9          3.0           1.4          0.2  setosa\n",
       "2           4.7          3.2           1.3          0.2  setosa\n",
       "3           4.6          3.1           1.5          0.2  setosa\n",
       "4           5.0          3.6           1.4          0.2  setosa"
      ]
     },
     "execution_count": 2,
     "metadata": {},
     "output_type": "execute_result"
    }
   ],
   "source": [
    "# DATA\n",
    "ruta_archivo = '/home/jovyan/notebooks/data/iris.csv'\n",
    "iris = pd.read_csv(ruta_archivo,index_col = None)\n",
    "samples = iris.drop(\"species\", axis = 1).values\n",
    "species = iris[\"species\"].astype('category').cat.codes.values\n",
    "iris.head()"
   ]
  },
  {
   "cell_type": "code",
   "execution_count": 43,
   "id": "2e3e23e3-b3ad-49c0-917e-0c0029a9c83f",
   "metadata": {},
   "outputs": [
    {
     "data": {
      "text/html": [
       "<div>\n",
       "<style scoped>\n",
       "    .dataframe tbody tr th:only-of-type {\n",
       "        vertical-align: middle;\n",
       "    }\n",
       "\n",
       "    .dataframe tbody tr th {\n",
       "        vertical-align: top;\n",
       "    }\n",
       "\n",
       "    .dataframe thead th {\n",
       "        text-align: right;\n",
       "    }\n",
       "</style>\n",
       "<table border=\"1\" class=\"dataframe\">\n",
       "  <thead>\n",
       "    <tr style=\"text-align: right;\">\n",
       "      <th></th>\n",
       "      <th>sepal_length</th>\n",
       "      <th>sepal_width</th>\n",
       "      <th>petal_length</th>\n",
       "      <th>petal_width</th>\n",
       "      <th>species_setosa</th>\n",
       "      <th>species_versicolor</th>\n",
       "      <th>species_virginica</th>\n",
       "    </tr>\n",
       "  </thead>\n",
       "  <tbody>\n",
       "    <tr>\n",
       "      <th>0</th>\n",
       "      <td>5.1</td>\n",
       "      <td>3.5</td>\n",
       "      <td>1.4</td>\n",
       "      <td>0.2</td>\n",
       "      <td>True</td>\n",
       "      <td>False</td>\n",
       "      <td>False</td>\n",
       "    </tr>\n",
       "    <tr>\n",
       "      <th>1</th>\n",
       "      <td>4.9</td>\n",
       "      <td>3.0</td>\n",
       "      <td>1.4</td>\n",
       "      <td>0.2</td>\n",
       "      <td>True</td>\n",
       "      <td>False</td>\n",
       "      <td>False</td>\n",
       "    </tr>\n",
       "    <tr>\n",
       "      <th>2</th>\n",
       "      <td>4.7</td>\n",
       "      <td>3.2</td>\n",
       "      <td>1.3</td>\n",
       "      <td>0.2</td>\n",
       "      <td>True</td>\n",
       "      <td>False</td>\n",
       "      <td>False</td>\n",
       "    </tr>\n",
       "    <tr>\n",
       "      <th>3</th>\n",
       "      <td>4.6</td>\n",
       "      <td>3.1</td>\n",
       "      <td>1.5</td>\n",
       "      <td>0.2</td>\n",
       "      <td>True</td>\n",
       "      <td>False</td>\n",
       "      <td>False</td>\n",
       "    </tr>\n",
       "    <tr>\n",
       "      <th>4</th>\n",
       "      <td>5.0</td>\n",
       "      <td>3.6</td>\n",
       "      <td>1.4</td>\n",
       "      <td>0.2</td>\n",
       "      <td>True</td>\n",
       "      <td>False</td>\n",
       "      <td>False</td>\n",
       "    </tr>\n",
       "  </tbody>\n",
       "</table>\n",
       "</div>"
      ],
      "text/plain": [
       "   sepal_length  sepal_width  petal_length  petal_width  species_setosa  \\\n",
       "0           5.1          3.5           1.4          0.2            True   \n",
       "1           4.9          3.0           1.4          0.2            True   \n",
       "2           4.7          3.2           1.3          0.2            True   \n",
       "3           4.6          3.1           1.5          0.2            True   \n",
       "4           5.0          3.6           1.4          0.2            True   \n",
       "\n",
       "   species_versicolor  species_virginica  \n",
       "0               False              False  \n",
       "1               False              False  \n",
       "2               False              False  \n",
       "3               False              False  \n",
       "4               False              False  "
      ]
     },
     "execution_count": 43,
     "metadata": {},
     "output_type": "execute_result"
    }
   ],
   "source": [
    "species.head()"
   ]
  },
  {
   "cell_type": "code",
   "execution_count": 34,
   "id": "928acea3-a27d-4125-9ccb-ed45110a20dd",
   "metadata": {},
   "outputs": [
    {
     "name": "stdout",
     "output_type": "stream",
     "text": [
      "[1 1 1 1 1 1 1 1 1 1 1 1 1 1 1 1 1 1 1 1 1 1 1 1 1 1 1 1 1 1 1 1 1 1 1 1 1\n",
      " 1 1 1 1 1 1 1 1 1 1 1 1 1 2 2 0 2 2 2 2 2 2 2 2 2 2 2 2 2 2 2 2 2 2 2 2 2\n",
      " 2 2 2 0 2 2 2 2 2 2 2 2 2 2 2 2 2 2 2 2 2 2 2 2 2 2 0 2 0 0 0 0 2 0 0 0 0\n",
      " 0 0 2 2 0 0 0 0 2 0 2 0 2 0 0 2 2 0 0 0 0 0 2 0 0 0 0 2 0 0 0 2 0 0 0 2 0\n",
      " 0 2]\n",
      "[1 1 1 1 1 1 1 1 1 1 1 1 1 1 1 1 1 1 1 1 1 1 1 1 1 1 1 1 1 1 1 1 1 1 1 1 1\n",
      " 1 1 1 1 1 1 1 1 1 1 1 1 1 2 2 0 2 2 2 2 2 2 2 2 2 2 2 2 2 2 2 2 2 2 2 2 2\n",
      " 2 2 2 0 2 2 2 2 2 2 2 2 2 2 2 2 2 2 2 2 2 2 2 2 2 2 0 2 0 0 0 0 2 0 0 0 0\n",
      " 0 0 2 2 0 0 0 0 2 0 2 0 2 0 0 2 2 0 0 0 0 0 2 0 0 0 0 2 0 0 0 2 0 0 0 2 0\n",
      " 0 2]\n"
     ]
    }
   ],
   "source": [
    "# Crear un modelo kmeans, especificando la cantidad de clústers\n",
    "# que se desea encontrar.\n",
    "model = KMeans(n_clusters = 3, n_init = 10)\n",
    "\n",
    "# Llamar al método de ajuste del modelo, pasando la matriz de muestras\n",
    "model.fit(samples)\n",
    "\n",
    "# Usar el método depredicción\n",
    "labels = model.predict(samples)\n",
    "\n",
    "# Imprimir una etiqueta de conglomerados para cada muestra, \n",
    "# que indica a que conglomerado pertenece una muestra\n",
    "print(labels)\n",
    "\n",
    "# Predecir para nuevos datos\n",
    "new_labels = model.predict(samples)\n",
    "\n",
    "# Imprimir\n",
    "print(labels)"
   ]
  },
  {
   "cell_type": "markdown",
   "id": "3b5eab00-89b3-4618-8fc6-dffd852f9f6d",
   "metadata": {},
   "source": [
    "- Visualizar scatter plots, creando un diagrama de dispersión."
   ]
  },
  {
   "cell_type": "code",
   "execution_count": 70,
   "id": "5eab1699-6fbc-4193-b9e9-e4c79207b686",
   "metadata": {},
   "outputs": [
    {
     "data": {
      "image/png": "[encoded data removed]",
      "text/plain": [
       "<Figure size 640x480 with 1 Axes>"
      ]
     },
     "metadata": {},
     "output_type": "display_data"
    }
   ],
   "source": [
    "# Obtener coordenadas x e y de cada muestra\n",
    "# La longitud de sépalo está en la columna 0 de la matriz\n",
    "# La longitud del pétalo está en la columna 2\n",
    "xs = samples[:,0]\n",
    "ys = samples[:,2]\n",
    "\n",
    "# Llamar a la función de dispersión de puntos plt\n",
    "# c = labels colorea \n",
    "plt.scatter(xs, ys, c = labels)\n",
    "plt.show()"
   ]
  },
  {
   "cell_type": "markdown",
   "id": "c297a2af-cb03-43ef-a0b5-8888c0e1b4f8",
   "metadata": {},
   "source": [
    "- Dibujar otro gráfico"
   ]
  },
  {
   "cell_type": "code",
   "execution_count": 71,
   "id": "86b2924b-6898-4d00-bf26-b7f4010c79e2",
   "metadata": {},
   "outputs": [
    {
     "data": {
      "image/png": "[encoded data removed]",
      "text/plain": [
       "<Figure size 640x480 with 1 Axes>"
      ]
     },
     "metadata": {},
     "output_type": "display_data"
    }
   ],
   "source": [
    "# Asignar las columnas de new_points: xs e ys\n",
    "xs = samples[:,0]\n",
    "ys = samples[:,1]\n",
    "\n",
    "# Hacer un diagrama de dispersión de xs e ys, usando etiquetas para definir los colores\n",
    "plt.scatter(xs, ys, c=labels, alpha=0.5)\n",
    "\n",
    "# Asignar los centros del cluster: centroides con .cluster_centers_\n",
    "centroids = model.cluster_centers_\n",
    "\n",
    "# Asignar las columnas de centroides: centroids_x, centroids_y\n",
    "centroids_x = centroids[:,0]\n",
    "centroids_y = centroids[:,1]\n",
    "\n",
    "# Hacer un diagrama de dispersión de centroids_x y centroids_y\n",
    "plt.scatter(centroids_x, centroids_y, marker='D', s=50)\n",
    "plt.show()"
   ]
  },
  {
   "cell_type": "markdown",
   "id": "43e7dba7-b6c2-4424-aa44-d568ee96316c",
   "metadata": {},
   "source": [
    "### Evaluando un clustering\n",
    "\n",
    "1. Podemos evaluar con un enfoque directo que compara los grupos con las especies de iris.\n",
    "- Verifiquemos si los 3 grupos de muestras de iris tiene alguna correspondencia con las especies de iris.\n",
    "- La correspondencia se describe en una tabla llamada **tabulaciones cruzadas**.\n",
    "- Hay una columna para cada una de las tres especies de iris:\n",
    "    - Setosa\n",
    "    - Versicolor\n",
    "    - Virginica\n",
    "- Y una fila para cada una de las tres etiquetas de grupo:\n",
    "    - 0\n",
    "    - 1\n",
    "    - 2\n",
    "- La tabla muestra el número de muestras que tienen cada combinación posible de etiqueta de grupo/especie.\n",
    "- Por ejemplo, se ve que el grupo 1 se corresponde perfectamente con la especie setosa.\n",
    "- Por otro lado, mientras que el clúster 0 contiene principalmente muestras de virginica, también hay algunas muestras de virginica en el grupo 2.\n",
    "2. Otra manera es con una medida de calidad que se puede usar para tomar una decisión informada sobre la cantidad de grupos que se deben buscar.\n",
    "\n",
    "- VEAMOS COMO CONSTRUIR LA TABULACIÓN CRUZADA."
   ]
  },
  {
   "cell_type": "code",
   "execution_count": 35,
   "id": "ddec0d76-f2db-4b22-ab28-d2a1777ed9b6",
   "metadata": {},
   "outputs": [
    {
     "data": {
      "text/html": [
       "<div>\n",
       "<style scoped>\n",
       "    .dataframe tbody tr th:only-of-type {\n",
       "        vertical-align: middle;\n",
       "    }\n",
       "\n",
       "    .dataframe tbody tr th {\n",
       "        vertical-align: top;\n",
       "    }\n",
       "\n",
       "    .dataframe thead th {\n",
       "        text-align: right;\n",
       "    }\n",
       "</style>\n",
       "<table border=\"1\" class=\"dataframe\">\n",
       "  <thead>\n",
       "    <tr style=\"text-align: right;\">\n",
       "      <th></th>\n",
       "      <th>labels</th>\n",
       "      <th>species</th>\n",
       "    </tr>\n",
       "  </thead>\n",
       "  <tbody>\n",
       "    <tr>\n",
       "      <th>0</th>\n",
       "      <td>1</td>\n",
       "      <td>setosa</td>\n",
       "    </tr>\n",
       "    <tr>\n",
       "      <th>1</th>\n",
       "      <td>1</td>\n",
       "      <td>setosa</td>\n",
       "    </tr>\n",
       "    <tr>\n",
       "      <th>2</th>\n",
       "      <td>1</td>\n",
       "      <td>setosa</td>\n",
       "    </tr>\n",
       "    <tr>\n",
       "      <th>3</th>\n",
       "      <td>1</td>\n",
       "      <td>setosa</td>\n",
       "    </tr>\n",
       "    <tr>\n",
       "      <th>4</th>\n",
       "      <td>1</td>\n",
       "      <td>setosa</td>\n",
       "    </tr>\n",
       "    <tr>\n",
       "      <th>...</th>\n",
       "      <td>...</td>\n",
       "      <td>...</td>\n",
       "    </tr>\n",
       "    <tr>\n",
       "      <th>145</th>\n",
       "      <td>0</td>\n",
       "      <td>virginica</td>\n",
       "    </tr>\n",
       "    <tr>\n",
       "      <th>146</th>\n",
       "      <td>2</td>\n",
       "      <td>virginica</td>\n",
       "    </tr>\n",
       "    <tr>\n",
       "      <th>147</th>\n",
       "      <td>0</td>\n",
       "      <td>virginica</td>\n",
       "    </tr>\n",
       "    <tr>\n",
       "      <th>148</th>\n",
       "      <td>0</td>\n",
       "      <td>virginica</td>\n",
       "    </tr>\n",
       "    <tr>\n",
       "      <th>149</th>\n",
       "      <td>2</td>\n",
       "      <td>virginica</td>\n",
       "    </tr>\n",
       "  </tbody>\n",
       "</table>\n",
       "<p>150 rows × 2 columns</p>\n",
       "</div>"
      ],
      "text/plain": [
       "     labels    species\n",
       "0         1     setosa\n",
       "1         1     setosa\n",
       "2         1     setosa\n",
       "3         1     setosa\n",
       "4         1     setosa\n",
       "..      ...        ...\n",
       "145       0  virginica\n",
       "146       2  virginica\n",
       "147       0  virginica\n",
       "148       0  virginica\n",
       "149       2  virginica\n",
       "\n",
       "[150 rows x 2 columns]"
      ]
     },
     "execution_count": 35,
     "metadata": {},
     "output_type": "execute_result"
    }
   ],
   "source": [
    "# Crear un DataFrame de dos columnas, donde \n",
    "# la primera columna son etiquetas de clúster\n",
    "# y la segunda columna es la especie de lirio\n",
    "df = pd.DataFrame({'labels':labels, 'species': species})\n",
    "df"
   ]
  },
  {
   "cell_type": "code",
   "execution_count": 36,
   "id": "f7b86e92-cb59-42f2-8b1b-28320bd8ea6c",
   "metadata": {},
   "outputs": [
    {
     "data": {
      "text/html": [
       "<div>\n",
       "<style scoped>\n",
       "    .dataframe tbody tr th:only-of-type {\n",
       "        vertical-align: middle;\n",
       "    }\n",
       "\n",
       "    .dataframe tbody tr th {\n",
       "        vertical-align: top;\n",
       "    }\n",
       "\n",
       "    .dataframe thead th {\n",
       "        text-align: right;\n",
       "    }\n",
       "</style>\n",
       "<table border=\"1\" class=\"dataframe\">\n",
       "  <thead>\n",
       "    <tr style=\"text-align: right;\">\n",
       "      <th>species</th>\n",
       "      <th>setosa</th>\n",
       "      <th>versicolor</th>\n",
       "      <th>virginica</th>\n",
       "    </tr>\n",
       "    <tr>\n",
       "      <th>labels</th>\n",
       "      <th></th>\n",
       "      <th></th>\n",
       "      <th></th>\n",
       "    </tr>\n",
       "  </thead>\n",
       "  <tbody>\n",
       "    <tr>\n",
       "      <th>0</th>\n",
       "      <td>0</td>\n",
       "      <td>2</td>\n",
       "      <td>36</td>\n",
       "    </tr>\n",
       "    <tr>\n",
       "      <th>1</th>\n",
       "      <td>50</td>\n",
       "      <td>0</td>\n",
       "      <td>0</td>\n",
       "    </tr>\n",
       "    <tr>\n",
       "      <th>2</th>\n",
       "      <td>0</td>\n",
       "      <td>48</td>\n",
       "      <td>14</td>\n",
       "    </tr>\n",
       "  </tbody>\n",
       "</table>\n",
       "</div>"
      ],
      "text/plain": [
       "species  setosa  versicolor  virginica\n",
       "labels                                \n",
       "0             0           2         36\n",
       "1            50           0          0\n",
       "2             0          48         14"
      ]
     },
     "execution_count": 36,
     "metadata": {},
     "output_type": "execute_result"
    }
   ],
   "source": [
    "# Usar la función de TABULACIÓN CRUZADA\n",
    "ct = pd.crosstab(df['labels'],[df['species']])\n",
    "ct"
   ]
  },
  {
   "cell_type": "markdown",
   "id": "7d6fd4d4-3aae-48e5-b3ad-297f2c21c8c7",
   "metadata": {},
   "source": [
    "La *TABULACIÓN CRUZADA* brindan grandes conocimientos sobre qué tipo de muestras se encuentran en qué grupo.\n",
    "\n",
    "Pero en la mayoria de los conjuntos de datos, las muestras no están etiquetadas por especies, entonces\n",
    "**¿Cómo se puede evaluar la calidad de un agrupamiento en estos casos?**\n",
    "\n",
    "Necesitamos una forma de medir la calidad de un agrupamiento que use solo los agrupamientos y las muestras en si. Dado que las muestras en cada conglomerado están agrupadas y no dispersas, la **inercia** puede medir la distribución de las muestras dentro de cada grupo.\n",
    "- Intuitivamente **la inercia mide qué tan lejos están las muestras de sus centroides**.\n",
    "- ***Los valores más bajos de la inercia son mejores.***\n",
    "- ***La inercia de Kmeans se mide automáticamente*** cuando se llama a los métodos de ajuste y está disponible como el atributo de inercia.\n",
    "- De hecho, **kmeans** tiene como **objetivo** colocar los clústers de manera que se **minimice la inercia**."
   ]
  },
  {
   "cell_type": "code",
   "execution_count": 74,
   "id": "2282b5e7-d717-4f56-b8fb-a34a5cc059d9",
   "metadata": {},
   "outputs": [
    {
     "name": "stdout",
     "output_type": "stream",
     "text": [
      "78.94084142614602\n"
     ]
    }
   ],
   "source": [
    "# instanciar Kmeans\n",
    "model = KMeans(n_clusters = 3, n_init = 10)\n",
    "\n",
    "# Ajustar a los datos\n",
    "model.fit(samples)\n",
    "\n",
    "# Imprimir la inercia.\n",
    "print(model.inertia_)"
   ]
  },
  {
   "cell_type": "markdown",
   "id": "26a7df2a-1cd6-4229-b16e-a86c53296c6a",
   "metadata": {},
   "source": [
    "- Al dibujar una gráfica de los valores de inercia de las agrupaciones del conjunto de datos de iris con diferentes número de agrupaciones, vemos que kmeans con 3 grupos tiene una inercia relativamente baja, lo cual es excelente.\n",
    "- Oservaremos que la inercia continúa disminuyendo lentamente. Entonces nos preguntamos\n",
    "**¿Cuál es la mejor cantidad de clústers para elegir?**\n",
    "- ***A parte de verificar que no tenga mucha inercia, verificaremos que no tenga demasiados clusters.*** Es decir, veremos en la gráfica algun punto donde la inercia comience a disminuir más lentamente.\n",
    "\n",
    "### Transformación de características para mejores agrupaciones\n",
    "\n",
    "Veamos otro conjunto de datos de vino. Donde tenemos:\n",
    "- 178 muestras de vino tinto de la región de Piamonte Italia.\n",
    "- Las características miden la composición química (como el contenido de alcohol) y las propiedades visuales como la intensidad de calor\n",
    "- Las muestras proceden de 3 variedades distintas de vino."
   ]
  },
  {
   "cell_type": "code",
   "execution_count": 75,
   "id": "0c8c9ff9-88d5-453b-a1e5-3daedcdb3047",
   "metadata": {},
   "outputs": [
    {
     "data": {
      "text/html": [
       "<div>\n",
       "<style scoped>\n",
       "    .dataframe tbody tr th:only-of-type {\n",
       "        vertical-align: middle;\n",
       "    }\n",
       "\n",
       "    .dataframe tbody tr th {\n",
       "        vertical-align: top;\n",
       "    }\n",
       "\n",
       "    .dataframe thead th {\n",
       "        text-align: right;\n",
       "    }\n",
       "</style>\n",
       "<table border=\"1\" class=\"dataframe\">\n",
       "  <thead>\n",
       "    <tr style=\"text-align: right;\">\n",
       "      <th></th>\n",
       "      <th>class_label</th>\n",
       "      <th>class_name</th>\n",
       "      <th>alcohol</th>\n",
       "      <th>malic_acid</th>\n",
       "      <th>ash</th>\n",
       "      <th>alcalinity_of_ash</th>\n",
       "      <th>magnesium</th>\n",
       "      <th>total_phenols</th>\n",
       "      <th>flavanoids</th>\n",
       "      <th>nonflavanoid_phenols</th>\n",
       "      <th>proanthocyanins</th>\n",
       "      <th>color_intensity</th>\n",
       "      <th>hue</th>\n",
       "      <th>od280</th>\n",
       "      <th>proline</th>\n",
       "    </tr>\n",
       "  </thead>\n",
       "  <tbody>\n",
       "    <tr>\n",
       "      <th>0</th>\n",
       "      <td>1</td>\n",
       "      <td>Barolo</td>\n",
       "      <td>14.23</td>\n",
       "      <td>1.71</td>\n",
       "      <td>2.43</td>\n",
       "      <td>15.6</td>\n",
       "      <td>127</td>\n",
       "      <td>2.80</td>\n",
       "      <td>3.06</td>\n",
       "      <td>0.28</td>\n",
       "      <td>2.29</td>\n",
       "      <td>5.64</td>\n",
       "      <td>1.04</td>\n",
       "      <td>3.92</td>\n",
       "      <td>1065</td>\n",
       "    </tr>\n",
       "    <tr>\n",
       "      <th>1</th>\n",
       "      <td>1</td>\n",
       "      <td>Barolo</td>\n",
       "      <td>13.20</td>\n",
       "      <td>1.78</td>\n",
       "      <td>2.14</td>\n",
       "      <td>11.2</td>\n",
       "      <td>100</td>\n",
       "      <td>2.65</td>\n",
       "      <td>2.76</td>\n",
       "      <td>0.26</td>\n",
       "      <td>1.28</td>\n",
       "      <td>4.38</td>\n",
       "      <td>1.05</td>\n",
       "      <td>3.40</td>\n",
       "      <td>1050</td>\n",
       "    </tr>\n",
       "    <tr>\n",
       "      <th>2</th>\n",
       "      <td>1</td>\n",
       "      <td>Barolo</td>\n",
       "      <td>13.16</td>\n",
       "      <td>2.36</td>\n",
       "      <td>2.67</td>\n",
       "      <td>18.6</td>\n",
       "      <td>101</td>\n",
       "      <td>2.80</td>\n",
       "      <td>3.24</td>\n",
       "      <td>0.30</td>\n",
       "      <td>2.81</td>\n",
       "      <td>5.68</td>\n",
       "      <td>1.03</td>\n",
       "      <td>3.17</td>\n",
       "      <td>1185</td>\n",
       "    </tr>\n",
       "    <tr>\n",
       "      <th>3</th>\n",
       "      <td>1</td>\n",
       "      <td>Barolo</td>\n",
       "      <td>14.37</td>\n",
       "      <td>1.95</td>\n",
       "      <td>2.50</td>\n",
       "      <td>16.8</td>\n",
       "      <td>113</td>\n",
       "      <td>3.85</td>\n",
       "      <td>3.49</td>\n",
       "      <td>0.24</td>\n",
       "      <td>2.18</td>\n",
       "      <td>7.80</td>\n",
       "      <td>0.86</td>\n",
       "      <td>3.45</td>\n",
       "      <td>1480</td>\n",
       "    </tr>\n",
       "    <tr>\n",
       "      <th>4</th>\n",
       "      <td>1</td>\n",
       "      <td>Barolo</td>\n",
       "      <td>13.24</td>\n",
       "      <td>2.59</td>\n",
       "      <td>2.87</td>\n",
       "      <td>21.0</td>\n",
       "      <td>118</td>\n",
       "      <td>2.80</td>\n",
       "      <td>2.69</td>\n",
       "      <td>0.39</td>\n",
       "      <td>1.82</td>\n",
       "      <td>4.32</td>\n",
       "      <td>1.04</td>\n",
       "      <td>2.93</td>\n",
       "      <td>735</td>\n",
       "    </tr>\n",
       "  </tbody>\n",
       "</table>\n",
       "</div>"
      ],
      "text/plain": [
       "   class_label class_name  alcohol  malic_acid   ash  alcalinity_of_ash  \\\n",
       "0            1     Barolo    14.23        1.71  2.43               15.6   \n",
       "1            1     Barolo    13.20        1.78  2.14               11.2   \n",
       "2            1     Barolo    13.16        2.36  2.67               18.6   \n",
       "3            1     Barolo    14.37        1.95  2.50               16.8   \n",
       "4            1     Barolo    13.24        2.59  2.87               21.0   \n",
       "\n",
       "   magnesium  total_phenols  flavanoids  nonflavanoid_phenols  \\\n",
       "0        127           2.80        3.06                  0.28   \n",
       "1        100           2.65        2.76                  0.26   \n",
       "2        101           2.80        3.24                  0.30   \n",
       "3        113           3.85        3.49                  0.24   \n",
       "4        118           2.80        2.69                  0.39   \n",
       "\n",
       "   proanthocyanins  color_intensity   hue  od280  proline  \n",
       "0             2.29             5.64  1.04   3.92     1065  \n",
       "1             1.28             4.38  1.05   3.40     1050  \n",
       "2             2.81             5.68  1.03   3.17     1185  \n",
       "3             2.18             7.80  0.86   3.45     1480  \n",
       "4             1.82             4.32  1.04   2.93      735  "
      ]
     },
     "execution_count": 75,
     "metadata": {},
     "output_type": "execute_result"
    }
   ],
   "source": [
    "# DATA\n",
    "ruta_archivo = '/home/jovyan/notebooks/data/wine.csv'\n",
    "wine = pd.read_csv(ruta_archivo,index_col = None)\n",
    "samples = wine.drop(\"class_name\", axis = 1).values\n",
    "varieties = wine[\"class_name\"].values\n",
    "wine.head()"
   ]
  },
  {
   "cell_type": "code",
   "execution_count": 76,
   "id": "f0ba192d-901a-4b4c-943f-667488b5d966",
   "metadata": {},
   "outputs": [],
   "source": [
    "# Instanciar el modelo KMeans\n",
    "model = KMeans(n_clusters = 3, random_state = 42, n_init = 10)\n",
    "\n",
    "# Ajustar y predecir el modelo a la matriz\n",
    "labels = model.fit_predict(samples)"
   ]
  },
  {
   "cell_type": "markdown",
   "id": "585855f1-9b0d-4329-85f1-4c4eff0154ab",
   "metadata": {},
   "source": [
    "- Usemos VALIDACIÓN CRUZADA para verificar la etiqueta del grupo correspondencia de la variedad de vino."
   ]
  },
  {
   "cell_type": "code",
   "execution_count": 77,
   "id": "51a63ce5-cd93-4143-83fd-72283dd78736",
   "metadata": {},
   "outputs": [
    {
     "name": "stdout",
     "output_type": "stream",
     "text": [
      "varieties  Barbera  Barolo  Grignolino\n",
      "labels                                \n",
      "0               29      13          20\n",
      "1                0      46           1\n",
      "2               19       0          50\n"
     ]
    }
   ],
   "source": [
    "# Crear un DataFrame con labels y varieties\n",
    "df = pd.DataFrame({'labels': labels,\n",
    "                  'varieties': varieties})\n",
    "\n",
    "# Crear la validación cruzada\n",
    "ct = pd.crosstab(df['labels'], df['varieties'])\n",
    "\n",
    "# Imprimir la validación cruzada\n",
    "print(ct)"
   ]
  },
  {
   "cell_type": "markdown",
   "id": "d2f5d3e2-d021-40a9-ad0f-84f205227dfe",
   "metadata": {},
   "source": [
    "-  Esta vez las cosas no salieron bien, los grupos de KMeans nos se corresponden bien con las variedades de vino.\n",
    "-  El problema es que las características del conjunto de datos del vino tienen variaciones muy diferentes.\n",
    "-  La varianza de una característica mide la dispersión de sus valores.\n",
    "-  Por ejemplo la característica del ácido málico tiene una varianza más alta que la función od280\n",
    "-  La **diferencia de algunas varianzas son enormes**.\n",
    "\n",
    "**En el agrupamiento de KMeans, la varianza de una caracteristica corresponde a su influencia en el algoritmo de clusters**.\n",
    "- Para darle la misma oportunidad a cada característica, los datos deben transformarse para que las características tengan la misma variación. Por lo que **escalaremos los datos estandarizandolos**."
   ]
  },
  {
   "cell_type": "code",
   "execution_count": 79,
   "id": "5b87f3eb-8b09-4cc9-a699-d048c82d27cf",
   "metadata": {},
   "outputs": [],
   "source": [
    "# Instanciar StandardScaler()\n",
    "scaler = StandardScaler()\n",
    "\n",
    "# Ajustar el modelo al conjunto de datos \n",
    "scaler.fit(samples)\n",
    "\n",
    "# El método de transformación se puede ahora usar para estandarizar \n",
    "# cualquier muestra, ya sea las mismas o completamente nuevas\n",
    "StandardScaler(copy = True, with_mean = True, with_std = True)\n",
    "samples_scaled = scaler.transform(samples)"
   ]
  },
  {
   "cell_type": "markdown",
   "id": "c2a2ebfa-9062-44fc-b097-6d53d3846854",
   "metadata": {},
   "source": [
    "- AHORA CANALICEMOS (PIPELINES) PARA COMBINAR KMEANS Y STANDARDSCALER"
   ]
  },
  {
   "cell_type": "code",
   "execution_count": 99,
   "id": "d043b83e-b277-413b-9cec-8a97c1b88a09",
   "metadata": {},
   "outputs": [
    {
     "name": "stdout",
     "output_type": "stream",
     "text": [
      "varieties  Barbera  Barolo  Grignolino\n",
      "labels                                \n",
      "0                0       0          68\n",
      "1               48       0           1\n",
      "2                0      59           2\n"
     ]
    }
   ],
   "source": [
    "# Instanciar StandardScaler() y KMeans()\n",
    "scaler = StandardScaler()\n",
    "kmeans = KMeans(n_clusters = 3, n_init = 10, random_state = 21)\n",
    "\n",
    "# Aplicar la función make_pipeline al scaler y objetos kmeans\n",
    "pipeline = make_pipeline(scaler, kmeans)\n",
    "\n",
    "# Ajustar pipeline para ajustar al escalador y kmeans\n",
    "pipeline.fit(samples)\n",
    "\n",
    "# Usar el método de predicción\n",
    "labels = pipeline.predict(samples)\n",
    "\n",
    "# Crear un DataFrame con labels y varieties\n",
    "df = pd.DataFrame({'labels': labels,\n",
    "                  'varieties': varieties})\n",
    "\n",
    "# Crear la validación cruzada\n",
    "ct = pd.crosstab(df['labels'], df['varieties'])\n",
    "\n",
    "# Imprimir la validación cruzada\n",
    "print(ct)"
   ]
  },
  {
   "cell_type": "markdown",
   "id": "e7059639-fc1e-4267-a977-0b22a99ce506",
   "metadata": {},
   "source": [
    "- Este nuevo agrupamiento que incorpora la estandarización, es fantástico. Sus tres racimos corresponden casi exactamente a las tres variedades de vino.\n",
    "- En scikit-learn existen varios prepocesamientos como:\n",
    "    - MaxAbsScaler\n",
    "    - Normalizer"
   ]
  },
  {
   "cell_type": "markdown",
   "id": "56847d2d-ff3f-402a-9414-1652d1558a23",
   "metadata": {},
   "source": [
    "## Visualización con agrupamiento jerárquico y t-SNE\n",
    "\n",
    "- t-SNE crea un mapa 2D de cualquier conjunto de datos y transmite información últil sobre la proximidad de las muestras entre si.\n",
    "\n",
    "Pero primero veremos lo que es agrupación jerárquica.\n",
    "\n",
    "### Agraupación Jerárquica\n",
    "\n",
    "- Existe varios grupos que están contenido unos a otros y que forman una jerarquía. El agrupamiento jerárquico organiza las muestras en jerarquías de conglomerados.\n",
    "- El agrupamiento jerárquico puede organizar cualquier tipo de datos en una jerarquía.\n",
    "\n",
    "Consideremos un conjunto de datos que describa cómo los países obtuvieron puntajes en el concurso de canciones de Eurovisión del 2016.\n",
    "- Las filas son países.\n",
    "- Las columnas son cancion.\n",
    "La matriz menciona cuantos puntos le dio un país a cada canción. Las puntuaciones se pueden visualizar como un diagrma en forma de árbol llamado **dendrograma**. El dendograma agrupa a los países en grupos cada vez más grandes, y muchos de estos grupos son inmediatamente reconocibles como países que están cerca uno del otro geométricamente, o que tengan estrechos lazos culturales o políticos, o que pertenezcan a un mismo grupo de idioma.\n",
    "\n",
    "Ahora bien, el agrupamiento jerárquico procese en pasos:\n",
    "- En principio, cada país es su propio clúster, de lo que hay tantos clusters como países.\n",
    "- En cada paso, los dos clústers más cercanos se fusionan, lo que diminuye el número de grupos, y eventualmente, sólo queda un grupo que contiene a todos los países. \n",
    "- Este proceso es en realidad un tipo particular de agrupamiento jerárquico llamado **agrupamiento aglomerativo**.\n",
    "- Existe también el **agrupamiento divisivo**, que funciona al revés\n",
    "\n",
    "Todo el preceso de agrupamiento jerárquico está codificado en el dendograma, en la parte inferior cada país está en un grupo propio\n",
    "- Los grupos se representan como líneas verticales y la unión de líneas verticales indica una función de grupos."
   ]
  },
  {
   "cell_type": "code",
   "execution_count": 15,
   "id": "fb774cd6-efce-4cf4-a593-59426eef9273",
   "metadata": {},
   "outputs": [
    {
     "data": {
      "text/html": [
       "<div>\n",
       "<style scoped>\n",
       "    .dataframe tbody tr th:only-of-type {\n",
       "        vertical-align: middle;\n",
       "    }\n",
       "\n",
       "    .dataframe tbody tr th {\n",
       "        vertical-align: top;\n",
       "    }\n",
       "\n",
       "    .dataframe thead th {\n",
       "        text-align: right;\n",
       "    }\n",
       "</style>\n",
       "<table border=\"1\" class=\"dataframe\">\n",
       "  <thead>\n",
       "    <tr style=\"text-align: right;\">\n",
       "      <th></th>\n",
       "      <th>From country</th>\n",
       "      <th>To country</th>\n",
       "      <th>Jury A</th>\n",
       "      <th>Jury B</th>\n",
       "      <th>Jury C</th>\n",
       "      <th>Jury D</th>\n",
       "      <th>Jury E</th>\n",
       "      <th>Jury Rank</th>\n",
       "      <th>Televote Rank</th>\n",
       "      <th>Jury Points</th>\n",
       "      <th>Televote Points</th>\n",
       "    </tr>\n",
       "  </thead>\n",
       "  <tbody>\n",
       "    <tr>\n",
       "      <th>0</th>\n",
       "      <td>Albania</td>\n",
       "      <td>Belgium</td>\n",
       "      <td>20</td>\n",
       "      <td>16</td>\n",
       "      <td>24</td>\n",
       "      <td>22</td>\n",
       "      <td>24</td>\n",
       "      <td>25</td>\n",
       "      <td>14</td>\n",
       "      <td>NaN</td>\n",
       "      <td>NaN</td>\n",
       "    </tr>\n",
       "    <tr>\n",
       "      <th>1</th>\n",
       "      <td>Albania</td>\n",
       "      <td>Czech Republic</td>\n",
       "      <td>21</td>\n",
       "      <td>15</td>\n",
       "      <td>25</td>\n",
       "      <td>23</td>\n",
       "      <td>16</td>\n",
       "      <td>22</td>\n",
       "      <td>22</td>\n",
       "      <td>NaN</td>\n",
       "      <td>NaN</td>\n",
       "    </tr>\n",
       "    <tr>\n",
       "      <th>2</th>\n",
       "      <td>Albania</td>\n",
       "      <td>The Netherlands</td>\n",
       "      <td>22</td>\n",
       "      <td>14</td>\n",
       "      <td>23</td>\n",
       "      <td>24</td>\n",
       "      <td>21</td>\n",
       "      <td>24</td>\n",
       "      <td>24</td>\n",
       "      <td>NaN</td>\n",
       "      <td>NaN</td>\n",
       "    </tr>\n",
       "    <tr>\n",
       "      <th>3</th>\n",
       "      <td>Albania</td>\n",
       "      <td>Azerbaijan</td>\n",
       "      <td>19</td>\n",
       "      <td>12</td>\n",
       "      <td>11</td>\n",
       "      <td>21</td>\n",
       "      <td>11</td>\n",
       "      <td>13</td>\n",
       "      <td>19</td>\n",
       "      <td>NaN</td>\n",
       "      <td>NaN</td>\n",
       "    </tr>\n",
       "    <tr>\n",
       "      <th>4</th>\n",
       "      <td>Albania</td>\n",
       "      <td>Hungary</td>\n",
       "      <td>8</td>\n",
       "      <td>13</td>\n",
       "      <td>9</td>\n",
       "      <td>14</td>\n",
       "      <td>9</td>\n",
       "      <td>10</td>\n",
       "      <td>10</td>\n",
       "      <td>1.0</td>\n",
       "      <td>1.0</td>\n",
       "    </tr>\n",
       "  </tbody>\n",
       "</table>\n",
       "</div>"
      ],
      "text/plain": [
       "  From country       To country  Jury A  Jury B  Jury C  Jury D  Jury E  \\\n",
       "0      Albania          Belgium      20      16      24      22      24   \n",
       "1      Albania   Czech Republic      21      15      25      23      16   \n",
       "2      Albania  The Netherlands      22      14      23      24      21   \n",
       "3      Albania       Azerbaijan      19      12      11      21      11   \n",
       "4      Albania          Hungary       8      13       9      14       9   \n",
       "\n",
       "   Jury Rank  Televote Rank  Jury Points  Televote Points  \n",
       "0         25             14          NaN              NaN  \n",
       "1         22             22          NaN              NaN  \n",
       "2         24             24          NaN              NaN  \n",
       "3         13             19          NaN              NaN  \n",
       "4         10             10          1.0              1.0  "
      ]
     },
     "execution_count": 15,
     "metadata": {},
     "output_type": "execute_result"
    }
   ],
   "source": [
    "# DATA\n",
    "ruta_archivo = '/home/jovyan/notebooks/data/eurovision-2016.csv'\n",
    "eurovision = pd.read_csv(ruta_archivo,index_col = None)\n",
    "samples = eurovision.drop([\"From country\",\n",
    "                            \"To country\",\n",
    "                            \"Jury Rank\",\n",
    "                            \"Televote Rank\",\n",
    "                            \"Jury Points\",\n",
    "                            \"Televote Points\"], axis = 1).values\n",
    "country_names = eurovision[\"From country\"].values\n",
    "eurovision.head()"
   ]
  },
  {
   "cell_type": "code",
   "execution_count": 20,
   "id": "33dcbc2d-0776-4536-81ea-259edd4ec4f7",
   "metadata": {},
   "outputs": [
    {
     "data": {
      "image/png": "[encoded data removed]",
      "text/plain": [
       "<Figure size 640x480 with 1 Axes>"
      ]
     },
     "metadata": {},
     "output_type": "display_data"
    }
   ],
   "source": [
    "# Aplicar la función de vinculación a la matriz de muestra\n",
    "mergings = linkage(samples, method = 'complete')\n",
    "\n",
    "# Pasar la salida de enlace a la función dendrograma, especificando\n",
    "# la lista de nombres de países como el parámetro de etiquetas\n",
    "dendrogram(mergings,\n",
    "          labels = country_names,\n",
    "          leaf_rotation = 90,\n",
    "          leaf_font_size = 2)\n",
    "plt.show()"
   ]
  },
  {
   "cell_type": "markdown",
   "id": "c46efcc4-fbdd-41ad-9ce9-f7cc5408fcd4",
   "metadata": {},
   "source": [
    "### Etiquetas de conglomerado en agrupamiento jerárquico\n",
    "\n",
    "Ahora, extraeremos los clústeres de las etapas intermedias de un agrupamiento jerárquico.\n",
    "- estas etapas intermediad se podrían aplicar como tabulaciones cruzadas, al igual que las etiquetas de conglomerados de k-means.\n",
    "- Se especifica una etapa intermedia en el agrupamiento jerárquico eligiendo una **altura** en el dendrograma.\n",
    "- La **altura** significa una **distancia**\n",
    "- La **distancia** entre dos grupos se mide utilizando un **método de vinculación**.\n",
    "- Cuando utilizamos el parámetro `\"complete\"` de `linkage`, hacemos referencia a la ***distancia máxima*** entre dos conglomerados.\n",
    "\n",
    "**NOTA**\n",
    "Las etiquetas de clúster de scipy comienzan en 1 y no en 0."
   ]
  },
  {
   "cell_type": "code",
   "execution_count": 23,
   "id": "c5f2f2eb-db03-49eb-a8db-9cbab11d1265",
   "metadata": {},
   "outputs": [
    {
     "name": "stdout",
     "output_type": "stream",
     "text": [
      "[ 9 39 10 ... 84 37  1]\n",
      "      labels         coutries\n",
      "1065       1   United Kingdom\n",
      "551        1          Iceland\n",
      "517        1          Hungary\n",
      "1011       1  The Netherlands\n",
      "759        1       Montenegro\n",
      "...      ...              ...\n",
      "731       89          Moldova\n",
      "462       89          Germany\n",
      "862       89       San Marino\n",
      "1023      89          Ukraine\n",
      "77        89          Austria\n",
      "\n",
      "[1066 rows x 2 columns]\n"
     ]
    }
   ],
   "source": [
    "# Especificar la altura del cluster\n",
    "labels = fcluster(mergings, 15, criterion = 'distance')\n",
    "\n",
    "# Devolver una matriz numpy que contiene las etiquetas de clúster\n",
    "# para todos los países.\n",
    "print(labels)\n",
    "\n",
    "# Inspecionar las etiquetas de los clústeres.\n",
    "pairs = pd.DataFrame({\n",
    "    'labels': labels,\n",
    "    'coutries': country_names\n",
    "})\n",
    "\n",
    "# Imprimir labels de pairs\n",
    "print(pairs.sort_values('labels'))"
   ]
  },
  {
   "cell_type": "markdown",
   "id": "415bd2a9-f734-4ba4-842b-c933a9479d7f",
   "metadata": {},
   "source": [
    "### Vinculación diferente, agrupación jerárquica diferente.\n",
    "\n",
    "realice una agrupación jerárquica de los países votantes con enlace `\"simple\"` y compare el dendrograma resultante con el del vídeo. Diferente vinculación, diferente agrupación jerárquica."
   ]
  },
  {
   "cell_type": "code",
   "execution_count": 28,
   "id": "2a626fac-d08a-4db2-b355-b1cf8e7d8969",
   "metadata": {},
   "outputs": [
    {
     "data": {
      "image/png": "[encoded data removed]",
      "text/plain": [
       "<Figure size 640x480 with 1 Axes>"
      ]
     },
     "metadata": {},
     "output_type": "display_data"
    }
   ],
   "source": [
    "# Calcular linkage: mergings\n",
    "mergings = linkage(samples, method = 'single')\n",
    "\n",
    "# Graficar el dendrogama\n",
    "dendrogram(mergings,\n",
    "          labels = country_names,\n",
    "          leaf_rotation = 90,\n",
    "          leaf_font_size = 2)\n",
    "plt.show()"
   ]
  },
  {
   "cell_type": "markdown",
   "id": "ca11f977-1105-417e-ad12-95a1b71aabac",
   "metadata": {},
   "source": [
    "### t-SNE para mapas bidimensionales\n",
    "\n",
    "- Veremos ahora un método de aprendizaje no supervisado para visualización llamado t-SNE.\n",
    "- t-SNE significa **incrustación de vecinos estocásticos distribuidos en t**.\n",
    "- T-SNE mape muestras desde espacios de alta dimensión a un espacio de 2 o 3 dimensiones para que puedan visualizarse.\n",
    "- Veamos el conjunto de datos iris."
   ]
  },
  {
   "cell_type": "code",
   "execution_count": null,
   "id": "8721c101-010a-4eeb-9dab-48a54fcd44a4",
   "metadata": {},
   "outputs": [],
   "source": [
    "# Instanciar T-SNE\n",
    "model = TSNE(learning_rate = 100)\n",
    "\n",
    "# Aplicar el  método fit_transform\n",
    "transformed = model.fit_transform(samples)\n",
    "\n",
    "# Dibujar diagrama de dispersion del resultado\n",
    "xs = transformed[:,0]\n",
    "ys = transformed[:,1]\n",
    "plt.scatter(xs, ys, c = species)\n",
    "plt.show()"
   ]
  },
  {
   "cell_type": "markdown",
   "id": "f3f06435-cfa8-447b-9965-2956004be721",
   "metadata": {},
   "source": [
    "Hay dos aspectos que merecen especial atención:\n",
    "- El método fit_transform\n",
    "    - Ajusta el modelo y transforma los datos simultaneamente.\n",
    "    - T-SNE no tiene métodos de ajuste y de transformación.\n",
    "    - Esto significa que no puede extender un mapa T-SNE para incluir nuevas muestras. Por lo que tendríamos que empezar de nuevo cada vez.\n",
    "    - Los ejes de un gráfico no tiene ningún significado interpretable.\n",
    "    - De hecho, son diferentes cada vez que se aplica T-SNE, incluso sobre los mismo datos.\n",
    "- tasa de aprendizaje\n",
    "    - La tasa de aprendizaje hace que el uso de T-SNE sea más complicado que otras técnicas.\n",
    "    - Es posibile que deba probar diferentes tasas de aprendizaje para diferentes conjuntos de datos.\n",
    "    - Por lo que tendremos que utilizar una tasa de aprendizaje entre 50 y 200."
   ]
  },
  {
   "cell_type": "markdown",
   "id": "ed7f5871-7501-4c80-93e5-d0bc0ed1af6a",
   "metadata": {},
   "source": [
    "## Descorrelación de sus datos y reducción de dimensiones\n",
    "\n",
    "- La reducción de dimensiones **encuentra patrones en los datos y utiliza estos patrones para volver a expresarlos en forma comprimida** a su *esqueleto básico*.\n",
    "- La compresión hace que los cálculos posteriores sean mucho mas eficientes.\n",
    "- Descartará características ruidosas que causan grandes problemas para tareas de parendizaje supervisado como la regresiçon y clasificación.\n",
    "- ***En muchas aplicaciones, es la reducción de dimensiones lo que hace posible la predicción***.\n",
    "- Esta reducción de dimensiones se llama **Análisis de componentes principales o PCA**.\n",
    "- PCA realiza la reducción de dimensiones en dos pasos:\n",
    "    1. Descorrelación: No cambia la dimensión de los datos en absoluto.\n",
    "       - PCA rota las muestras para que estén alineadas con los ejes de coordenadas.\n",
    "       - PCA cambia las muestras para que tengan media cero.\n",
    "       - PCA hace que cambie los ejes en función de la correlación."
   ]
  },
  {
   "cell_type": "code",
   "execution_count": 79,
   "id": "57d9239f-add4-4466-ab64-84331c3137ba",
   "metadata": {},
   "outputs": [
    {
     "name": "stdout",
     "output_type": "stream",
     "text": [
      "[-2.7464372  -0.31112432  0.03767198 -0.07595527]\n",
      "----------------------\n",
      "[[ 0.36158968 -0.08226889  0.85657211  0.35884393]\n",
      " [ 0.65653988  0.72971237 -0.1757674  -0.07470647]\n",
      " [-0.58099728  0.59641809  0.07252408  0.54906091]\n",
      " [ 0.31725455 -0.32409435 -0.47971899  0.75112056]]\n"
     ]
    }
   ],
   "source": [
    "# Crear un objeto PCA\n",
    "model = PCA()\n",
    "\n",
    "# Ajustar a los datos\n",
    "model.fit(samples)\n",
    "\n",
    "# Usar el objeto PCA de ajuste para transformar las muestras\n",
    "transformed = model.transform(samples)\n",
    "\n",
    "# Imprimir transformed\n",
    "print(transformed[3,:])\n",
    "\n",
    "\n",
    "# Observar componentes principales\n",
    "print(\"----------------------\")\n",
    "print(model.components_)"
   ]
  },
  {
   "cell_type": "markdown",
   "id": "d5d2fcf8-700b-4908-95ea-305fe361b85e",
   "metadata": {},
   "source": [
    "- Las columnas de esta nueva matriz corresponden a \"catacteristicas de PCA\".\n",
    "- Suele ocurrir que las características de un conjunto de datos están correlacionadas.\n",
    "- PCA debido a la rotación que realiza, descorrelaciona los datos, en el sentido de que las columnas de la matriz transformada no están linealmente correlacionadas.\n",
    "- La correlación lineal se puede medir con la correlación de Pearson.\n",
    "    - Toma valores entre -1 y 1 donde los valores más grandes indican una correlación más fuerte y los valores más pequeños indican una correlación más baja.\n",
    "- PCA aprende los componentes principales de los datos."
   ]
  },
  {
   "cell_type": "markdown",
   "id": "b38b111e-9c96-4ee3-be5a-f4948f99f833",
   "metadata": {},
   "source": [
    "### Dimensión intrínseca\n",
    "\n",
    "- La **dimensión intríseca de un conjunto de datos es el número de características necesarias para aproximarlo o es el número de características de PCA que tienen una variación significativa**.\n",
    "- La dimensión intríseca informa la reduccuón de la dimensión, porque nos dice cuánto se puede comprimir un conjunto de datos.\n",
    "- Por ejemplo, tomemos tres medidas de `iris`.\n",
    "    - Longitud del sépalo\n",
    "    - Ancho del sépalo\n",
    "    - Ancho del pétalo\n",
    "- Si realizamos un diagrama de dispersión de 3 dimensiones, podemos ver que los puntos parecen estar en un plano, por lo que podemos aproximar usando solo dos coordenadas, sin perder mucha información.\n",
    "- ***Por lo tanto, este conjunto de datos tiene una dimensión intrínseca 2***.\n",
    "- **PCA al clasificar caracteristicas tendrá menos variación que la última, que concuerda con el diagrama de dispersión de las características de PCA, donde las muestras no varían mucho en la dirección vertical.\n",
    "- En las otras dos direcciones, empero, la variación es evidente."
   ]
  },
  {
   "cell_type": "code",
   "execution_count": 81,
   "id": "8d01171d-3b16-4d16-95d7-ecbabbe39dcc",
   "metadata": {},
   "outputs": [
    {
     "data": {
      "image/png": "[encoded data removed]",
      "text/plain": [
       "<Figure size 640x480 with 1 Axes>"
      ]
     },
     "metadata": {},
     "output_type": "display_data"
    }
   ],
   "source": [
    "# Intanciar PCA\n",
    "pca = PCA()\n",
    "\n",
    "# Ajustar a los datos\n",
    "pca.fit(samples)\n",
    "\n",
    "# Crear un rango que enumere las características de PCA\n",
    "features = range(pca.n_components_)\n",
    "\n",
    "# Graficar\n",
    "plt.bar(features, pca.explained_variance_)\n",
    "plt.xticks(features)\n",
    "plt.ylabel('Varianza')\n",
    "plt.xlabel('Catacterísticas PCA')\n",
    "plt.show()"
   ]
  },
  {
   "cell_type": "markdown",
   "id": "05336caa-e1d8-4c59-b678-bb532385a227",
   "metadata": {},
   "source": [
    "### Reducción de dimensión con PCA\n",
    "\n",
    "- La reducción de dimensión es importante para poder realizar pipelines en machine learning.\n",
    "- PCA realiza la reducción de dimensión al descartar las características de PCA con menor varianza, lo que asume que son ruido, y retiene las características PCA de mayor varianza, que asume que son informativas.\n",
    "- Para usar PCA, debe especificar cuántas características de PCA desae conservar.\n",
    "- Una buena opción es la dimensión intrínseca del conjunto de datos.\n",
    "\n",
    "Por ejemplo, al utilizar el conjunto de datos `iris`. Podemos reducir la muestra `samples` de cuatro características a dos."
   ]
  },
  {
   "cell_type": "code",
   "execution_count": 11,
   "id": "492afeb4-76b9-41a2-8fda-4234292affa1",
   "metadata": {},
   "outputs": [
    {
     "name": "stdout",
     "output_type": "stream",
     "text": [
      "(150, 2)\n"
     ]
    },
    {
     "data": {
      "image/png": "[encoded data removed]",
      "text/plain": [
       "<Figure size 640x480 with 1 Axes>"
      ]
     },
     "metadata": {},
     "output_type": "display_data"
    }
   ],
   "source": [
    "# Crear un modelo PCA especificando n_components = 2.\n",
    "pca = PCA(n_components = 2)\n",
    "\n",
    "# Ajustar del modelo\n",
    "pca.fit(samples)\n",
    "\n",
    "# transformar las muestras.\n",
    "transformed = pca.transform(samples)\n",
    "\n",
    "# Imprimir la forma de las muestras transformadas.\n",
    "print(transformed.shape)\n",
    "\n",
    "# Dibujar un diagrama de dispersión\n",
    "xs = transformed[:,0]\n",
    "ys = transformed[:,1]\n",
    "plt.scatter(xs, ys, c = species)\n",
    "plt.show()"
   ]
  },
  {
   "cell_type": "markdown",
   "id": "656d230b-8d58-4a0d-9eeb-f089d2fc795e",
   "metadata": {},
   "source": [
    "- A pesar que se redujo la dimensión de 4 a 2, aún se pueden distinguir las especies.\n",
    "- Recuerde que PCA ni siquiera sabía que había especies distintas.\n",
    "- PCA simplemente tomó las 2 características de PCA con la variación más alta.\n",
    "- ***En algunos otros casos es necesario utilizar una implementación alternativa de PCA.*** **Las matrices de frecuencias de palabras** son un gran ejemplo.\n",
    "    - En una matriz de frecuencia de palabras, cada fila corresponde a un documento, y cada columna corresponde a una palabra de un vocabulario fijo.\n",
    "    - La entrada de matriz de frecuencia de palabras miden con qué frecuencia aparece cada palabra en cada documento.\n",
    "    - Solo algunas de las palabras del vocabulario aparecen en cualquier documento, por lo que la mayoría de las entradas de la matriz de frecuencia de palabras son cero.\n",
    "    - Se dice que las matrices como esta son \"escasas\" y a menudo son representados con un tipo espcial de array llamado `csr_matrix`.\n",
    "    -  `csr_matrix`ahorra espacio al recordar solo las entradas distintas de cero de la matriz.\n",
    "    -  Para este tipo de problemas usaremos `TruncatedSVD`. Que realiza la misma transformación que PCA, pero acepta matrices `csr_matrix` como entrada."
   ]
  },
  {
   "cell_type": "code",
   "execution_count": 12,
   "id": "8d6438ee-c97c-414f-b240-344c93caeb0c",
   "metadata": {},
   "outputs": [],
   "source": [
    "# from sklearn.descomposition import TruncatedSVD\n",
    "# model = TruncatedSVD(n_components = 3)\n",
    "# model.fit(documents)\n",
    "# transformed = model.transform(documents)"
   ]
  },
  {
   "cell_type": "markdown",
   "id": "18a7735b-7db4-4197-8424-9d6d748dc310",
   "metadata": {},
   "source": [
    "## Descubrir características interpretables\n",
    "\n",
    "### Factorización de matriz no negativa (NMF)\n",
    "\n",
    "- NMF, como PCA, son técnicas de reducción de dimensiones.\n",
    "- ***A diferencia de PCA, los modelos NMF son interpretables.***\n",
    "- Esto significa que los modelos NMF son más fáciles de entender  mucho más fáciles de explicar a los demás.\n",
    "- Empero, no se puede aplicar a todos los conjuntos de datos.\n",
    "- Se requiere que las caracteristicas de la muestras sean **\"no negativas\"**.\n",
    "- NMF logra su interpretabilidad al descomponer las muestras como sumas de sus partes.\n",
    "- Por ejemplo, NMF descompone documentos como combinaciones de temas comunes o en imagenes cómo combinaciones de patrones comunes.\n",
    "- A comparación de PCA, siempre se debe especificar el nçumero deseado de componentes `NMF(n_componentes = 2)`\n",
    "- NMF funciona tanto con matrices numpy como con matrices dispersas en el formato csr_matrix.\n",
    "- Por ejemplo tenemos un array que se componen por filas que representa un documento, y las columnas son frecuencias de cada palabra en el documento usando `\"tf-idf\"`.\n",
    "    - `\"tf\"` es la frecuencia de la palabra en el documento. Si el 10% de las palabras en el documento son \"dataCamp\", entonces el `tf` de \"dataCamp\" para ese documento es el punto 0.1\n",
    "    - `\"idf\"` es un esquema de ponderación que reduce la influencia de palabras frecuentes como `\"el\"`."
   ]
  },
  {
   "cell_type": "code",
   "execution_count": 3,
   "id": "649f1b1c-a781-4750-aa61-9f46deb68655",
   "metadata": {},
   "outputs": [],
   "source": [
    "# Istanciar el modelo especificando el número deseado de componentes\n",
    "#model = NMF(n_components = 2)\n",
    "\n",
    "# Ajustar el modelo a las muestras\n",
    "#model.fit(samples)\n",
    "\n",
    "# Usar el modelo de ajuste para realizar la transformación\n",
    "# nmf_features = model.transform(samples)\n",
    "\n",
    "# Imprimir las componentes principales  \n",
    "# print(model.components_)"
   ]
  },
  {
   "cell_type": "markdown",
   "id": "e49cd4ab-c4c0-41df-8a92-3189948b37a8",
   "metadata": {},
   "source": [
    "- Así, como PCA tiene componentes principales, NMF tiene componentes que aprenden de las muestras.\n",
    "- Y, la dimensión de los componentes es la misma que la dimensión de las muestras.\n",
    "- En nuestro ejemplo, hay 2 componentes y viven en un espacio de 4 dimensiones, correspondientes a las 4 palabras del vocabulario.\n",
    "- Ahora, nuestros datos ***transformados*** tendrán dos columnas correspondientes a nuestras dos nuevas características.\n",
    "- Las características y los componentes de un modelo NMF se pueden combinar para reconstruir aproximadamente las muestras de datos originales. Esto se hace multiplicando los componentes NMF por los valores de característica NMF de la muestras y luego sumando (PRODUCTO DE MATRICES). Es de donde viene MF \"factorización de matriz\"."
   ]
  },
  {
   "cell_type": "markdown",
   "id": "35042c70-f327-4599-bf88-9efe7f826c43",
   "metadata": {},
   "source": [
    "### NMF y partes interpretables\n",
    "\n",
    "- Los componentes de NMF representan patronos que ocurren con frecuencia en las muestras.\n",
    "- Por ejemplo imaginemonos que tenemos 20000 artículos y 800 palabras en cada artículo como columna.\n",
    "    - La matriz tiene 800 columnas.\n",
    "    - Ajustemos un modelo NMF co 10 componentes a los artículos:\n",
    "        - `nmf = NMF(n_components = 10)`\n",
    "        - `nmf.fit(articles)`\n",
    "    - Estos componentes se almacenan comolas 10 filas de una matriz numpy bidimensional.\n",
    "    - Las filas o componentes viven en un espacio de 800 dimensiones: hay una dimensión para cada una de las palabras.\n",
    "    - Alinear las palabras de nuestro vocabulario con las columnas de los componentes NMF permite interpretarlas. Donde, veremos las palabras más utilizadas.\n",
    "- Si NMF se aplica a los documentos, entonces los componentes corresponden a temas, y las características de NMF reconstriyen los documentos a partir de los temas.\n",
    "- Si NMF se aplica a una colección de imágenes. Entonces, representan patrones que ocurren con frecuencia en las imagenes.\n",
    "    - Una imagen en la que todos los pixeles son tonos de gris se denomina **\"imagen en escala de grises\"**.\n",
    "    - Se representa este *brillo* como un número entre 0 y 1; donde 0 es totalmente negro y 1 es totalemten blanco. Así, la imagen se puede representar como una matriz bidimensional de número.\n",
    "    - Se puede representar como una matriz plana de números no negativos.\n",
    "        - Cada fila representará una imagen como una matriz aplanada\n",
    "        - Y cada columan representa un pixel.\n",
    "     - Al ver las imágenes como muestras y los píxeles como características\n",
    "- Para recuperar la imagen, utilizaremos el método de reforma de la muestra, especificando las dimensiones de la imagen original como una tupla.\n",
    "    - `bitmap = sample.reshape((2,3))`\n",
    "    - `plt.imshow(bitmap, cmap = \"gray\", interpolation = \"nearest\"`"
   ]
  },
  {
   "cell_type": "markdown",
   "id": "05875bff-1632-4d37-ae13-4e971e944864",
   "metadata": {},
   "source": [
    "### Creación de sistemas de recomendación mediante NMF\n",
    "\n",
    "- Supongamos que se nos encomendo la tarea de recomendar artículos similares al artículo que un cliente está leyendo actualmente.\n",
    "- ¿Cómo podemos encontrar artículos que tengan temas similares?\n",
    "- Aplicaremos las funciones NMF resultantes.\n",
    "    - Artículos similares tendrán características NMF similares.\n",
    "- ¿Cómo podemos comparar dos artículos usando sus características NMF?\n",
    "    - Se nos proporciona una matriz de frecuencias de palabras de artículos correspondientes a la colección de artículos periodísticos en cuestión.\n",
    "    -  Importamos NFM, creamos el modelo, usamos el método fit_transform() para obetener los artículos transformados\n",
    "        - `nmf = NMF(n_components = 6)`\n",
    "        - `nmf_features = nmf_transform(articles)`\n",
    "    - Ahora tenemos funciones NMF para cada artículo, dadas por las columnas de la nueva matriz.\n",
    "    - Luego, definamos cómo compara artículos usando sus características NMF.\n",
    "        - Documentos similares tiene temas similares, pero no siempre se da el caso de que los valores de las funciones NMF sean exactamente iguales.\n",
    "            - Las charlas sin sentido reducen las frecuencias de las palabras del tema.\n",
    "        - Sin embargo, en un diagrama de dispersión de las características NMF, todas estas versiones se encuentran en una sóla linea que pasa por el origen. Por esta razón, al comparar dos documentos, ***es una buena idea comparar estas lineas***.\n",
    "        - **Los comparamos usando lo que se conoce como la similitud del coseno, que usa el ángulo entre las dos líneas.***\n",
    "            - ***Los valores más altos indican una mayor similitud.***\n",
    "\n",
    "Veamos como calcular la ***similitud del coseno***\n",
    "- `from sklearn.preprocessing import normalize`\n",
    "- `norm_features = normalize(nmf_features)`\n",
    "- Seleccionamos ahora la fila correspondiente al artículo actual\n",
    "    - `current_article = norm_features[23,:]`\n",
    "- Pasamos el método de punto de la matriz de toda las características normalizadas:\n",
    "    - `similarities = norm_features.dot(current_article)`\n",
    "- El resultado no da una similud del coseno.\n",
    "-  Con la ayuda de un DataFrame, podemos etiquetar las similitudes con los títulos de los artículos.\n",
    "    - Normalice las características de NMF\n",
    "        - `norm_features = normalize(nmf_features)`\n",
    "    - Creamos un DataFrame cuyo filas sean las características normlaizadas.\n",
    "        - `df = pd.DataFrame(norm_features, index = titles)`\n",
    "    - Use el método loc para seleccionar el normalizado.\n",
    "        - `current_article = df.loc['Dog bites man']`.\n",
    "    - Calculemos las similitudes del coseno usando el método de puntos del DataFrame\n",
    "        - `similarities = df.dot(current_article)`\n",
    "- Finalmente,  seleciona el método más grande de series para encontrar los artículos con mayor similitud de coseno.\n",
    "    - `print(similarities.nlargest())`.\n",
    "- Vemos que todos están relacionados por ejemplo con animales domesticos y/o en peligro. "
   ]
  },
  {
   "cell_type": "code",
   "execution_count": null,
   "id": "8589e2c4-a809-41c1-b020-49feaa6ce1a4",
   "metadata": {},
   "outputs": [],
   "source": []
  }
 ],
 "metadata": {
  "kernelspec": {
   "display_name": "Python 3 (ipykernel)",
   "language": "python",
   "name": "python3"
  },
  "language_info": {
   "codemirror_mode": {
    "name": "ipython",
    "version": 3
   },
   "file_extension": ".py",
   "mimetype": "text/x-python",
   "name": "python",
   "nbconvert_exporter": "python",
   "pygments_lexer": "ipython3",
   "version": "3.11.6"
  }
 },
 "nbformat": 4,
 "nbformat_minor": 5
}
