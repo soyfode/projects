{
 "cells": [
  {
   "cell_type": "markdown",
   "id": "3a16cf6e-41e9-4d6f-a3b2-c9ab639f805f",
   "metadata": {},
   "source": [
    "# Machine Learning para datos de series temporales"
   ]
  },
  {
   "cell_type": "code",
   "execution_count": 6,
   "id": "37fb4068-6977-46e4-8c35-8e0d59d338b4",
   "metadata": {},
   "outputs": [],
   "source": [
    "# Librerias\n",
    "import pandas as pd\n",
    "import numpy as np\n",
    "import matplotlib.pyplot as plt\n",
    "from sklearn.svm import LinearSVC"
   ]
  },
  {
   "cell_type": "code",
   "execution_count": 8,
   "id": "abea225f-4dfb-406a-9c07-afe4a61d877e",
   "metadata": {},
   "outputs": [],
   "source": [
    "# DATA\n",
    "prices = pd.read_csv(\"data/prices.csv\")"
   ]
  },
  {
   "cell_type": "markdown",
   "id": "ce0dbfb7-6861-429e-86b3-710d1461a9de",
   "metadata": {},
   "source": [
    "## Manual de series temporales y machine learning\n",
    "\n",
    "### Tipos de series temporales y aplicaciones\n",
    "\n",
    "Los datos de series temporales constan de al menos dos cosas: una matriz de números que representa los datos en sí. Y, otra matriz que contiene una marca de tiempo para cada punto de datos. Las marcas de tiempo pueden incluir una amplia gama de datos de tiempo, desde meses del año hasta nanosegundos.\n",
    "\n",
    "Importamos datos de series temporales a un DataFrame de pandas. Tenga en cuenta que cada punto de datos tiene un punto de tiempo correspondiente (en este caso, una fecha), aunque varios puntos de datos pueden tener el mismo punto de tiempo.\n",
    "\n",
    "El aprendizaje automático consiste en encontrar patrones en los datos. Los datos de las series temporales siempre cambian con el tiempo, lo que resulta ser un patrón útil de utilizar. Por ejemplo, aquí hay una forma de onda sin procesar de alguien hablando y aquí hay una colección de características de series temporales que se extrajeron de ella. Como puede ver, el uso de funciones específicas de series temporales nos permite ver una representación mucho más rica de los datos sin procesar.\n",
    "\n",
    "Nos centrarémos en un proceso simple de aprendizaje automático en el contexto de datos de series temporales. Esto se reduce a los siguientes pasos principales. Extracción de características: ¿qué tipos de características especiales aprovechan una señal que cambia con el tiempo? Ajuste de modelos: ¿qué tipos de modelos son adecuados para hacer preguntas con datos de series temporales? Validación: ¿Cómo podemos validar un modelo que utiliza datos de series temporales? ¿Qué consideraciones debemos hacer porque cambia en el tiempo?\n",
    "\n",
    "### Conceptos básicos de machine learning\n",
    "Antes de realizar cualquier análisis de datos, siempre debes echar un vistazo a tus datos sin procesar. Esto le brinda una visión rápida de alto nivel de la calidad/tipo de sus datos. En Numpy, puedes hacerlo imprimiendo las primeras filas de los datos.\n",
    "\n",
    "En Pandas, esto se puede hacer utilizando el método del punto, que muestra las primeras cinco filas y todas las columnas de forma predeterminada.\n",
    "\n",
    "La visualización adecuada dependerá del tipo de datos que tengas, aunque los histogramas y los diagramas de dispersión son un buen punto de partida. Mire la distribución de sus datos. ¿Parece razonable? ¿Hay valores atípicos? ¿Te faltan datos? Es importante responder cada una de estas preguntas antes de realizar cualquier análisis.\n",
    "\n",
    "Una vez que haya conocido sus datos, es hora de comenzar a modelarlos. La biblioteca más popular para el aprendizaje automático en Python se llama \"scikit-learn\". Tiene una API estandarizada para que puedas adaptar muchos modelos diferentes con una estructura de código similar. Aquí, importamos Support Vector Machine para clasificar puntos de datos.\n",
    "\n",
    "scikit-learn espera que los datos tengan una forma particular. Antes de utilizar scikit-learn, sus datos deben ser bidimensionales. El primer eje debe corresponder al número de muestra y el segundo debe corresponder al número de característica. Este patrón se utiliza en casi todas las funciones de scikit-learn. Si sus datos no tienen esta forma, existen algunas opciones para remodelarlos para que pueda usarlos con scikit-learn.\n",
    "\n",
    "#### Ajustar un modelo con scikit-learn\n",
    "Ahora que sus datos tienen la forma correcta, es hora de ajustar un modelo. Primero debemos crear una instancia del modelo que hemos importado (en este caso, un clasificador de vector de soporte). Puede llamar al método dot-fit en esta instancia para entrenar el modelo. Aquí mostramos cómo puede ingresar X (datos de entrenamiento) e y (etiquetas para cada punto de datos) para ajustarse al modelo.\n",
    "\n",
    "10. Investigando el modelo\n",
    "02:39 - 02:55\n",
    "A menudo resulta útil investigar qué tipo de patrón ha encontrado el modelo. La mayoría de los modelos almacenarán esta información en atributos que se crean después de llamar a dot-fit. Aquí mostramos los coeficientes que el modelo le ha dado a cada característica.\n",
    "\n",
    "11. Predecir con un modelo ajustado\n",
    "02:55 - 03:02\n",
    "Una vez que su modelo esté ajustado, puede llamar al método de predicción de puntos en el modelo para determinar etiquetas para puntos de datos invisibles."
   ]
  },
  {
   "cell_type": "code",
   "execution_count": null,
   "id": "25905b1c-3fda-4e98-a959-1d983fb9fbad",
   "metadata": {},
   "outputs": [],
   "source": [
    "\n",
    "\n",
    "# Instanciar modelo\n",
    "model = LinearSVC()\n",
    "model.fit(X,y)"
   ]
  },
  {
   "cell_type": "code",
   "execution_count": 12,
   "id": "413f72e2-edac-4c9e-976e-c25182ca8450",
   "metadata": {},
   "outputs": [
    {
     "data": {
      "text/plain": [
       "(84912, 4)"
      ]
     },
     "execution_count": 12,
     "metadata": {},
     "output_type": "execute_result"
    }
   ],
   "source": [
    "prices.shape"
   ]
  },
  {
   "cell_type": "code",
   "execution_count": 11,
   "id": "e6e214d2-8206-41cd-9dd9-bc960845084a",
   "metadata": {},
   "outputs": [
    {
     "ename": "AttributeError",
     "evalue": "'DataFrame' object has no attribute 'reshape'",
     "output_type": "error",
     "traceback": [
      "\u001b[0;31m---------------------------------------------------------------------------\u001b[0m",
      "\u001b[0;31mAttributeError\u001b[0m                            Traceback (most recent call last)",
      "\u001b[0;32m/tmp/ipykernel_185/2128876346.py\u001b[0m in \u001b[0;36m?\u001b[0;34m()\u001b[0m\n\u001b[0;32m----> 1\u001b[0;31m \u001b[0mprices\u001b[0m\u001b[0;34m.\u001b[0m\u001b[0mreshape\u001b[0m\u001b[0;34m(\u001b[0m\u001b[0;34m-\u001b[0m\u001b[0;36m1\u001b[0m\u001b[0;34m,\u001b[0m\u001b[0;36m1\u001b[0m\u001b[0;34m)\u001b[0m\u001b[0;34m\u001b[0m\u001b[0;34m\u001b[0m\u001b[0m\n\u001b[0m",
      "\u001b[0;32m/opt/conda/lib/python3.11/site-packages/pandas/core/generic.py\u001b[0m in \u001b[0;36m?\u001b[0;34m(self, name)\u001b[0m\n\u001b[1;32m   6200\u001b[0m             \u001b[0;32mand\u001b[0m \u001b[0mname\u001b[0m \u001b[0;32mnot\u001b[0m \u001b[0;32min\u001b[0m \u001b[0mself\u001b[0m\u001b[0;34m.\u001b[0m\u001b[0m_accessors\u001b[0m\u001b[0;34m\u001b[0m\u001b[0;34m\u001b[0m\u001b[0m\n\u001b[1;32m   6201\u001b[0m             \u001b[0;32mand\u001b[0m \u001b[0mself\u001b[0m\u001b[0;34m.\u001b[0m\u001b[0m_info_axis\u001b[0m\u001b[0;34m.\u001b[0m\u001b[0m_can_hold_identifiers_and_holds_name\u001b[0m\u001b[0;34m(\u001b[0m\u001b[0mname\u001b[0m\u001b[0;34m)\u001b[0m\u001b[0;34m\u001b[0m\u001b[0;34m\u001b[0m\u001b[0m\n\u001b[1;32m   6202\u001b[0m         ):\n\u001b[1;32m   6203\u001b[0m             \u001b[0;32mreturn\u001b[0m \u001b[0mself\u001b[0m\u001b[0;34m[\u001b[0m\u001b[0mname\u001b[0m\u001b[0;34m]\u001b[0m\u001b[0;34m\u001b[0m\u001b[0;34m\u001b[0m\u001b[0m\n\u001b[0;32m-> 6204\u001b[0;31m         \u001b[0;32mreturn\u001b[0m \u001b[0mobject\u001b[0m\u001b[0;34m.\u001b[0m\u001b[0m__getattribute__\u001b[0m\u001b[0;34m(\u001b[0m\u001b[0mself\u001b[0m\u001b[0;34m,\u001b[0m \u001b[0mname\u001b[0m\u001b[0;34m)\u001b[0m\u001b[0;34m\u001b[0m\u001b[0;34m\u001b[0m\u001b[0m\n\u001b[0m",
      "\u001b[0;31mAttributeError\u001b[0m: 'DataFrame' object has no attribute 'reshape'"
     ]
    }
   ],
   "source": [
    "prices.reshape(-1,1)"
   ]
  },
  {
   "cell_type": "code",
   "execution_count": null,
   "id": "a87c98e7-df74-480e-a4f6-30073a181cac",
   "metadata": {},
   "outputs": [],
   "source": []
  }
 ],
 "metadata": {
  "kernelspec": {
   "display_name": "Python 3 (ipykernel)",
   "language": "python",
   "name": "python3"
  },
  "language_info": {
   "codemirror_mode": {
    "name": "ipython",
    "version": 3
   },
   "file_extension": ".py",
   "mimetype": "text/x-python",
   "name": "python",
   "nbconvert_exporter": "python",
   "pygments_lexer": "ipython3",
   "version": "3.11.6"
  }
 },
 "nbformat": 4,
 "nbformat_minor": 5
}
