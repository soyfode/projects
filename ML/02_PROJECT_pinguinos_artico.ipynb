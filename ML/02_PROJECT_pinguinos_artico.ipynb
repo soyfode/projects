{
 "cells": [
  {
   "cell_type": "markdown",
   "id": "a9466c1c-471f-440d-89d6-868597c9ed59",
   "metadata": {},
   "source": [
    "# Exploración de Pingüinos en el Ártico: Descubriendo Grupos en el Dominio Helado con el agrupamiento K-means\n",
    "\n",
    "Apoyaremos a un equipo de investigadores que han estado recogiendo datos sobre pingüinos en la Antártida.\n",
    "\n",
    "- **Origen de estos datos:** Los datos fueron recogidos y puestos a disposición por la Dra. Kristen Gorman y la Estación Palmer, Antártida LTER, miembro de la Red de Investigación Ecológica a Largo Plazo.\n",
    "\n",
    "- **El conjunto de datos consta de 5 columnas.**\n",
    "    - `culmen_length_mm`: longitud del culmen (mm)\n",
    "    - `culmen_depth_mm`: profundidad del culmen (mm)\n",
    "    - `flipper_length_mm`: longitud de la aleta (mm)\n",
    "    - `body_mass_g`: masa corporal (g)\n",
    "    - `sex`: sexo del pingüino\n",
    "\n",
    "Desafortunadamente, no han podido registrar la especie de pingüino, pero saben que hay tres especies que son nativas de la región: \n",
    "- Adelie,\n",
    "- Barbijo \n",
    "- Gentoo\n",
    "\n",
    "así que nuestra tarea será ***identificar grupos en el conjunto de datos.***\n",
    "\n",
    "- ***Utilizaremos el aprendizaje no supervisado para reducir la dimensionalidad e identificar grupos.***"
   ]
  },
  {
   "cell_type": "code",
   "execution_count": 3,
   "id": "5a563580-0c0f-4842-bf4d-1ff6b72a78f4",
   "metadata": {},
   "outputs": [],
   "source": [
    "# LIBRERIAS\n",
    "import pandas as pd\n",
    "import matplotlib.pyplot as plt\n",
    "from sklearn.decomposition import PCA\n",
    "from sklearn.cluster import KMeans\n",
    "from sklearn.preprocessing import StandardScaler"
   ]
  },
  {
   "cell_type": "code",
   "execution_count": 7,
   "id": "a45e3016-4ad8-4165-aaad-00e2b31b05f2",
   "metadata": {},
   "outputs": [
    {
     "data": {
      "text/html": [
       "<div>\n",
       "<style scoped>\n",
       "    .dataframe tbody tr th:only-of-type {\n",
       "        vertical-align: middle;\n",
       "    }\n",
       "\n",
       "    .dataframe tbody tr th {\n",
       "        vertical-align: top;\n",
       "    }\n",
       "\n",
       "    .dataframe thead th {\n",
       "        text-align: right;\n",
       "    }\n",
       "</style>\n",
       "<table border=\"1\" class=\"dataframe\">\n",
       "  <thead>\n",
       "    <tr style=\"text-align: right;\">\n",
       "      <th></th>\n",
       "      <th>culmen_length_mm</th>\n",
       "      <th>culmen_depth_mm</th>\n",
       "      <th>flipper_length_mm</th>\n",
       "      <th>body_mass_g</th>\n",
       "      <th>sex</th>\n",
       "    </tr>\n",
       "  </thead>\n",
       "  <tbody>\n",
       "    <tr>\n",
       "      <th>0</th>\n",
       "      <td>39.1</td>\n",
       "      <td>18.7</td>\n",
       "      <td>181.0</td>\n",
       "      <td>3750.0</td>\n",
       "      <td>MALE</td>\n",
       "    </tr>\n",
       "    <tr>\n",
       "      <th>1</th>\n",
       "      <td>39.5</td>\n",
       "      <td>17.4</td>\n",
       "      <td>186.0</td>\n",
       "      <td>3800.0</td>\n",
       "      <td>FEMALE</td>\n",
       "    </tr>\n",
       "    <tr>\n",
       "      <th>2</th>\n",
       "      <td>40.3</td>\n",
       "      <td>18.0</td>\n",
       "      <td>195.0</td>\n",
       "      <td>3250.0</td>\n",
       "      <td>FEMALE</td>\n",
       "    </tr>\n",
       "    <tr>\n",
       "      <th>3</th>\n",
       "      <td>NaN</td>\n",
       "      <td>NaN</td>\n",
       "      <td>NaN</td>\n",
       "      <td>NaN</td>\n",
       "      <td>NaN</td>\n",
       "    </tr>\n",
       "    <tr>\n",
       "      <th>4</th>\n",
       "      <td>36.7</td>\n",
       "      <td>19.3</td>\n",
       "      <td>193.0</td>\n",
       "      <td>3450.0</td>\n",
       "      <td>FEMALE</td>\n",
       "    </tr>\n",
       "  </tbody>\n",
       "</table>\n",
       "</div>"
      ],
      "text/plain": [
       "   culmen_length_mm  culmen_depth_mm  flipper_length_mm  body_mass_g     sex\n",
       "0              39.1             18.7              181.0       3750.0    MALE\n",
       "1              39.5             17.4              186.0       3800.0  FEMALE\n",
       "2              40.3             18.0              195.0       3250.0  FEMALE\n",
       "3               NaN              NaN                NaN          NaN     NaN\n",
       "4              36.7             19.3              193.0       3450.0  FEMALE"
      ]
     },
     "execution_count": 7,
     "metadata": {},
     "output_type": "execute_result"
    }
   ],
   "source": [
    "# DATA\n",
    "ruta_archivo = '/home/jovyan/notebooks/data/penguins.csv'\n",
    "penguins_df = pd.read_csv(ruta_archivo)\n",
    "penguins_df.head()"
   ]
  },
  {
   "cell_type": "markdown",
   "id": "cb70b063-aebd-4f65-b104-836562da5124",
   "metadata": {},
   "source": [
    "## Analizando el conjunto de datos"
   ]
  },
  {
   "cell_type": "code",
   "execution_count": 8,
   "id": "49d41d54-2bb5-4dee-9b41-12bbf9ffc81f",
   "metadata": {},
   "outputs": [
    {
     "name": "stdout",
     "output_type": "stream",
     "text": [
      "<class 'pandas.core.frame.DataFrame'>\n",
      "RangeIndex: 344 entries, 0 to 343\n",
      "Data columns (total 5 columns):\n",
      " #   Column             Non-Null Count  Dtype  \n",
      "---  ------             --------------  -----  \n",
      " 0   culmen_length_mm   342 non-null    float64\n",
      " 1   culmen_depth_mm    342 non-null    float64\n",
      " 2   flipper_length_mm  342 non-null    float64\n",
      " 3   body_mass_g        342 non-null    float64\n",
      " 4   sex                335 non-null    object \n",
      "dtypes: float64(4), object(1)\n",
      "memory usage: 13.6+ KB\n"
     ]
    }
   ],
   "source": [
    "# Explorar los datos para ver cómo se ven los valores, los tipos de datos y los valores faltantes.\n",
    "penguins_df.info()"
   ]
  },
  {
   "cell_type": "markdown",
   "id": "20c5e3ef-9bc5-4e8d-be18-f007bba1b52b",
   "metadata": {},
   "source": [
    "## Manejo de valores nulos y valores atípicos"
   ]
  },
  {
   "cell_type": "code",
   "execution_count": 11,
   "id": "247df2bb-be5b-4459-ad50-7f240a29d2a0",
   "metadata": {},
   "outputs": [
    {
     "data": {
      "image/png": "[encoded data removed]",
      "text/plain": [
       "<Figure size 640x480 with 1 Axes>"
      ]
     },
     "metadata": {},
     "output_type": "display_data"
    }
   ],
   "source": [
    "# Eliminar valores nulos.\n",
    "penguins_clean = penguins_df.dropna()\n",
    "\n",
    "# Crear una visualización de diagrama de caja para identificar valores atípicos \n",
    "penguins_df.boxplot()\n",
    "plt.show()\n",
    "\n",
    "# Identificar dos valores atípicos según la visualización del diagrama de caja, \n",
    "# donde los valores están fuera de los \"bigotes\" del diagrama. \n",
    "penguins_clean[penguins_clean['flipper_length_mm']>4000]\n",
    "penguins_clean[penguins_clean['flipper_length_mm']<0]\n",
    "penguins_clean = penguins_clean.drop([9,14])"
   ]
  },
  {
   "cell_type": "markdown",
   "id": "dd792869-9c98-4597-8aaa-98ea8a1d0449",
   "metadata": {},
   "source": [
    "## Realice pasos de preprocesamiento en el conjunto de datos para crear variables ficticias"
   ]
  },
  {
   "cell_type": "code",
   "execution_count": 13,
   "id": "4d02c49a-a57c-4f5f-8aa6-55e155dfce88",
   "metadata": {},
   "outputs": [
    {
     "data": {
      "text/html": [
       "<div>\n",
       "<style scoped>\n",
       "    .dataframe tbody tr th:only-of-type {\n",
       "        vertical-align: middle;\n",
       "    }\n",
       "\n",
       "    .dataframe tbody tr th {\n",
       "        vertical-align: top;\n",
       "    }\n",
       "\n",
       "    .dataframe thead th {\n",
       "        text-align: right;\n",
       "    }\n",
       "</style>\n",
       "<table border=\"1\" class=\"dataframe\">\n",
       "  <thead>\n",
       "    <tr style=\"text-align: right;\">\n",
       "      <th></th>\n",
       "      <th>culmen_length_mm</th>\n",
       "      <th>culmen_depth_mm</th>\n",
       "      <th>flipper_length_mm</th>\n",
       "      <th>body_mass_g</th>\n",
       "      <th>sex_FEMALE</th>\n",
       "      <th>sex_MALE</th>\n",
       "    </tr>\n",
       "  </thead>\n",
       "  <tbody>\n",
       "    <tr>\n",
       "      <th>0</th>\n",
       "      <td>39.1</td>\n",
       "      <td>18.7</td>\n",
       "      <td>181.0</td>\n",
       "      <td>3750.0</td>\n",
       "      <td>False</td>\n",
       "      <td>True</td>\n",
       "    </tr>\n",
       "    <tr>\n",
       "      <th>1</th>\n",
       "      <td>39.5</td>\n",
       "      <td>17.4</td>\n",
       "      <td>186.0</td>\n",
       "      <td>3800.0</td>\n",
       "      <td>True</td>\n",
       "      <td>False</td>\n",
       "    </tr>\n",
       "    <tr>\n",
       "      <th>2</th>\n",
       "      <td>40.3</td>\n",
       "      <td>18.0</td>\n",
       "      <td>195.0</td>\n",
       "      <td>3250.0</td>\n",
       "      <td>True</td>\n",
       "      <td>False</td>\n",
       "    </tr>\n",
       "    <tr>\n",
       "      <th>4</th>\n",
       "      <td>36.7</td>\n",
       "      <td>19.3</td>\n",
       "      <td>193.0</td>\n",
       "      <td>3450.0</td>\n",
       "      <td>True</td>\n",
       "      <td>False</td>\n",
       "    </tr>\n",
       "    <tr>\n",
       "      <th>5</th>\n",
       "      <td>39.3</td>\n",
       "      <td>20.6</td>\n",
       "      <td>190.0</td>\n",
       "      <td>3650.0</td>\n",
       "      <td>False</td>\n",
       "      <td>True</td>\n",
       "    </tr>\n",
       "  </tbody>\n",
       "</table>\n",
       "</div>"
      ],
      "text/plain": [
       "   culmen_length_mm  culmen_depth_mm  flipper_length_mm  body_mass_g  \\\n",
       "0              39.1             18.7              181.0       3750.0   \n",
       "1              39.5             17.4              186.0       3800.0   \n",
       "2              40.3             18.0              195.0       3250.0   \n",
       "4              36.7             19.3              193.0       3450.0   \n",
       "5              39.3             20.6              190.0       3650.0   \n",
       "\n",
       "   sex_FEMALE  sex_MALE  \n",
       "0       False      True  \n",
       "1        True     False  \n",
       "2        True     False  \n",
       "4        True     False  \n",
       "5       False      True  "
      ]
     },
     "execution_count": 13,
     "metadata": {},
     "output_type": "execute_result"
    }
   ],
   "source": [
    "# Crear variables ficticias de sex\n",
    "df = pd.get_dummies(penguins_clean).drop('sex_.',axis=1)\n",
    "df.head()"
   ]
  },
  {
   "cell_type": "markdown",
   "id": "4312ddff-b402-4ad2-b7f5-0a1e33836664",
   "metadata": {},
   "source": [
    "## Realizar pasos de preprocesamiento en el conjunto de datos: escalado"
   ]
  },
  {
   "cell_type": "code",
   "execution_count": 14,
   "id": "a9d462a7-5fe8-4858-b11d-4ac1bc0b82fe",
   "metadata": {},
   "outputs": [
    {
     "data": {
      "text/html": [
       "<div>\n",
       "<style scoped>\n",
       "    .dataframe tbody tr th:only-of-type {\n",
       "        vertical-align: middle;\n",
       "    }\n",
       "\n",
       "    .dataframe tbody tr th {\n",
       "        vertical-align: top;\n",
       "    }\n",
       "\n",
       "    .dataframe thead th {\n",
       "        text-align: right;\n",
       "    }\n",
       "</style>\n",
       "<table border=\"1\" class=\"dataframe\">\n",
       "  <thead>\n",
       "    <tr style=\"text-align: right;\">\n",
       "      <th></th>\n",
       "      <th>culmen_length_mm</th>\n",
       "      <th>culmen_depth_mm</th>\n",
       "      <th>flipper_length_mm</th>\n",
       "      <th>body_mass_g</th>\n",
       "      <th>sex_FEMALE</th>\n",
       "      <th>sex_MALE</th>\n",
       "    </tr>\n",
       "  </thead>\n",
       "  <tbody>\n",
       "    <tr>\n",
       "      <th>0</th>\n",
       "      <td>-0.905520</td>\n",
       "      <td>0.793126</td>\n",
       "      <td>-1.428125</td>\n",
       "      <td>-0.569709</td>\n",
       "      <td>-0.991031</td>\n",
       "      <td>0.997001</td>\n",
       "    </tr>\n",
       "    <tr>\n",
       "      <th>1</th>\n",
       "      <td>-0.831938</td>\n",
       "      <td>0.128503</td>\n",
       "      <td>-1.071522</td>\n",
       "      <td>-0.507579</td>\n",
       "      <td>1.009050</td>\n",
       "      <td>-1.003008</td>\n",
       "    </tr>\n",
       "    <tr>\n",
       "      <th>2</th>\n",
       "      <td>-0.684775</td>\n",
       "      <td>0.435252</td>\n",
       "      <td>-0.429637</td>\n",
       "      <td>-1.191006</td>\n",
       "      <td>1.009050</td>\n",
       "      <td>-1.003008</td>\n",
       "    </tr>\n",
       "    <tr>\n",
       "      <th>3</th>\n",
       "      <td>-1.347011</td>\n",
       "      <td>1.099875</td>\n",
       "      <td>-0.572278</td>\n",
       "      <td>-0.942487</td>\n",
       "      <td>1.009050</td>\n",
       "      <td>-1.003008</td>\n",
       "    </tr>\n",
       "    <tr>\n",
       "      <th>4</th>\n",
       "      <td>-0.868729</td>\n",
       "      <td>1.764498</td>\n",
       "      <td>-0.786240</td>\n",
       "      <td>-0.693968</td>\n",
       "      <td>-0.991031</td>\n",
       "      <td>0.997001</td>\n",
       "    </tr>\n",
       "  </tbody>\n",
       "</table>\n",
       "</div>"
      ],
      "text/plain": [
       "   culmen_length_mm  culmen_depth_mm  flipper_length_mm  body_mass_g  \\\n",
       "0         -0.905520         0.793126          -1.428125    -0.569709   \n",
       "1         -0.831938         0.128503          -1.071522    -0.507579   \n",
       "2         -0.684775         0.435252          -0.429637    -1.191006   \n",
       "3         -1.347011         1.099875          -0.572278    -0.942487   \n",
       "4         -0.868729         1.764498          -0.786240    -0.693968   \n",
       "\n",
       "   sex_FEMALE  sex_MALE  \n",
       "0   -0.991031  0.997001  \n",
       "1    1.009050 -1.003008  \n",
       "2    1.009050 -1.003008  \n",
       "3    1.009050 -1.003008  \n",
       "4   -0.991031  0.997001  "
      ]
     },
     "execution_count": 14,
     "metadata": {},
     "output_type": "execute_result"
    }
   ],
   "source": [
    "# Escalar los datos para que tenga una media de 0 y desviación estandar de 1\n",
    "scaler = StandardScaler()\n",
    "\n",
    "# Ajustar y transformar el conjunto de datos mediante StandardScaler()\n",
    "X = scaler.fit_transform(df)\n",
    "\n",
    "# Crear un DataFrame\n",
    "penguins_preprocessed = pd.DataFrame(data=X,columns=df.columns)\n",
    "\n",
    "# Visualizar los datos\n",
    "penguins_preprocessed.head()"
   ]
  },
  {
   "cell_type": "markdown",
   "id": "f27de238-c029-4a8d-aa02-34ec47027354",
   "metadata": {},
   "source": [
    "## Realizar PCA\n",
    "\n",
    "1. Realizaremos `PCA()`, sin especificar el número de componentes, para determinar la relación de varianza explicada versus el número de componentes principales. \n",
    "2. Detectaremos el número de componentes que tienen más del 10% de ratio de varianza explicada.\n",
    "3. Crear una variable nombrada `n_components` para almacenar la cantidad óptima de componentes determinada por el análisis.\n",
    "4. Ejecutar el PCA mientras configura n_components."
   ]
  },
  {
   "cell_type": "code",
   "execution_count": 16,
   "id": "daae1f6e-113f-4c39-afa2-127d83959fc2",
   "metadata": {},
   "outputs": [],
   "source": [
    "# Instanciar PCA sin componentes\n",
    "pca = PCA(n_components=None)\n",
    "\n",
    "# Ajustar el modelo a los datos preprocesados\n",
    "dfx_pca = pca.fit(penguins_preprocessed)\n",
    "\n",
    "# Acceder al índice de varianza explicada para cada componente principal\n",
    "dfx_pca.explained_variance_ratio_\n",
    "\n",
    "# Seleccionar la cantidad de componentes \n",
    "# con un valor de relación de varianza explicada mayor que 0.1\n",
    "n_components=sum(dfx_pca.explained_variance_ratio_ > 0.1)\n",
    "\n",
    "# Instancia una vez más pero con los componentes analizados\n",
    "pca = PCA(n_components = n_components)\n",
    "\n",
    "# Ajuste una vez más el modelo con este nuevo hiperparámetro\n",
    "penguins_PCA = pca.fit_transform(penguins_preprocessed)"
   ]
  },
  {
   "cell_type": "markdown",
   "id": "ee2fcddf-3a3c-4d9e-b1ca-e5b0a9688976",
   "metadata": {},
   "source": [
    "## Detectar el número óptimo de grupos para la agrupación de k-medias"
   ]
  },
  {
   "cell_type": "code",
   "execution_count": 21,
   "id": "fba3a052-7eef-466b-93a8-2e0426d4f083",
   "metadata": {},
   "outputs": [
    {
     "data": {
      "image/png": "[encoded data removed]",
      "text/plain": [
       "<Figure size 640x480 with 1 Axes>"
      ]
     },
     "metadata": {},
     "output_type": "display_data"
    }
   ],
   "source": [
    "# Crear una lista vacía para almacenar la inercia o variedad de KMeans \n",
    "inertia = []\n",
    "\n",
    "# Realizar un análisis utilizando un bucle for para el número de grupos \n",
    "# que van del 1 al 9 inclusive\n",
    "for k in range(1, 10):\n",
    "    # Instanciar y ajustar el modelo.\n",
    "    kmeans = KMeans(n_clusters=k, random_state=42, n_init = 10).fit(penguins_PCA)\n",
    "    # Agregar los resultados a la lista inertia\n",
    "    inertia.append(kmeans.inertia_)    \n",
    "# Visualizar la lista de valores de inercia para determinar el número óptimo \n",
    "# de clústeres para el conjunto de datos, donde la inercia comienza a disminuir más lentamente.\n",
    "plt.plot(range(1, 10), inertia, marker='o')\n",
    "plt.xlabel('Número de clusters')\n",
    "plt.ylabel('Inercia')\n",
    "plt.title('Método Elbow')\n",
    "plt.show()\n",
    "\n",
    "# Almacenar el número óptimo de clústeres en la variable n_clusters.\n",
    "n_clusters = 4"
   ]
  },
  {
   "cell_type": "markdown",
   "id": "62d3626a-f231-4dc2-ad30-b5279430ba12",
   "metadata": {},
   "source": [
    "## Ejecutar el algoritmo de agrupamiento k-means\n",
    "\n",
    "- Utilizaremos el número óptimo de clusters obtenido en el paso anterior."
   ]
  },
  {
   "cell_type": "code",
   "execution_count": 23,
   "id": "65ab8bba-5c8e-47a4-8292-15d362ce3eb6",
   "metadata": {},
   "outputs": [
    {
     "name": "stderr",
     "output_type": "stream",
     "text": [
      "No artists with labels found to put in legend.  Note that artists whose label start with an underscore are ignored when legend() is called with no argument.\n"
     ]
    },
    {
     "data": {
      "image/png": "[encoded data removed]",
      "text/plain": [
       "<Figure size 640x480 with 1 Axes>"
      ]
     },
     "metadata": {},
     "output_type": "display_data"
    }
   ],
   "source": [
    "# Utilizar la variable n_clusters determinada en el paso anterior\n",
    "kmeans = KMeans(n_clusters=n_clusters, random_state=42, n_init = 10).fit(penguins_PCA)\n",
    "\n",
    "# Visualizar los dos primeros componentes principales.\n",
    "plt.scatter(penguins_PCA[:, 0], penguins_PCA[:, 1], c=kmeans.labels_, cmap='viridis')\n",
    "plt.xlabel('Primer componente principal')\n",
    "plt.ylabel('Segundo componente principal')\n",
    "plt.title(f'K-means Clustering (K={n_clusters})')\n",
    "plt.legend()\n",
    "plt.show()"
   ]
  },
  {
   "cell_type": "markdown",
   "id": "7aff53b2-651e-4fb7-85a1-25ccebb1c135",
   "metadata": {},
   "source": [
    "## Crear un marco de datos estadístico final para cada grupo\n",
    "\n",
    "- Crearemos un DataFrame característico final para cada grupo utilizando el método `groupby` y la función media solo en columnas numéricas."
   ]
  },
  {
   "cell_type": "code",
   "execution_count": 24,
   "id": "bca66cc4-7107-4dd0-b9ad-172d9de58bde",
   "metadata": {},
   "outputs": [
    {
     "data": {
      "text/html": [
       "<div>\n",
       "<style scoped>\n",
       "    .dataframe tbody tr th:only-of-type {\n",
       "        vertical-align: middle;\n",
       "    }\n",
       "\n",
       "    .dataframe tbody tr th {\n",
       "        vertical-align: top;\n",
       "    }\n",
       "\n",
       "    .dataframe thead th {\n",
       "        text-align: right;\n",
       "    }\n",
       "</style>\n",
       "<table border=\"1\" class=\"dataframe\">\n",
       "  <thead>\n",
       "    <tr style=\"text-align: right;\">\n",
       "      <th></th>\n",
       "      <th>culmen_length_mm</th>\n",
       "      <th>culmen_depth_mm</th>\n",
       "      <th>flipper_length_mm</th>\n",
       "    </tr>\n",
       "    <tr>\n",
       "      <th>label</th>\n",
       "      <th></th>\n",
       "      <th></th>\n",
       "      <th></th>\n",
       "    </tr>\n",
       "  </thead>\n",
       "  <tbody>\n",
       "    <tr>\n",
       "      <th>0</th>\n",
       "      <td>43.878302</td>\n",
       "      <td>19.111321</td>\n",
       "      <td>194.764151</td>\n",
       "    </tr>\n",
       "    <tr>\n",
       "      <th>1</th>\n",
       "      <td>45.545763</td>\n",
       "      <td>14.262712</td>\n",
       "      <td>212.779661</td>\n",
       "    </tr>\n",
       "    <tr>\n",
       "      <th>2</th>\n",
       "      <td>40.217757</td>\n",
       "      <td>17.611215</td>\n",
       "      <td>189.046729</td>\n",
       "    </tr>\n",
       "    <tr>\n",
       "      <th>3</th>\n",
       "      <td>49.473770</td>\n",
       "      <td>15.718033</td>\n",
       "      <td>221.540984</td>\n",
       "    </tr>\n",
       "  </tbody>\n",
       "</table>\n",
       "</div>"
      ],
      "text/plain": [
       "       culmen_length_mm  culmen_depth_mm  flipper_length_mm\n",
       "label                                                      \n",
       "0             43.878302        19.111321         194.764151\n",
       "1             45.545763        14.262712         212.779661\n",
       "2             40.217757        17.611215         189.046729\n",
       "3             49.473770        15.718033         221.540984"
      ]
     },
     "execution_count": 24,
     "metadata": {},
     "output_type": "execute_result"
    }
   ],
   "source": [
    "# Agregar una nueva columna denominada `label` al conjunto penguins_clean, \n",
    "# con valores iguales al atributo kmeans.labels_.\n",
    "penguins_clean['label'] = kmeans.labels_\n",
    "\n",
    "# Cree una lista que contenga los nombres de las columnas numéricas \n",
    "# del DataFrame penguins_clean y almacene como numeric_columns.\n",
    "numeric_columns = ['culmen_length_mm', 'culmen_depth_mm', 'flipper_length_mm','label']\n",
    "\n",
    "# Cree un DataFrame característico final con la media\n",
    "stat_penguins = penguins_clean[numeric_columns].groupby('label').mean()\n",
    "stat_penguins"
   ]
  },
  {
   "cell_type": "code",
   "execution_count": null,
   "id": "9b2e7721-b320-40d5-9141-8d29f01a7b19",
   "metadata": {},
   "outputs": [],
   "source": []
  }
 ],
 "metadata": {
  "kernelspec": {
   "display_name": "Python 3 (ipykernel)",
   "language": "python",
   "name": "python3"
  },
  "language_info": {
   "codemirror_mode": {
    "name": "ipython",
    "version": 3
   },
   "file_extension": ".py",
   "mimetype": "text/x-python",
   "name": "python",
   "nbconvert_exporter": "python",
   "pygments_lexer": "ipython3",
   "version": "3.11.6"
  }
 },
 "nbformat": 4,
 "nbformat_minor": 5
}
