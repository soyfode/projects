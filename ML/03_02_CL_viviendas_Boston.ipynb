{
 "cells": [
  {
   "cell_type": "markdown",
   "id": "f531b871-b1c9-487b-b968-90ff6803677b",
   "metadata": {},
   "source": [
    "# Minimizar la función de pérdida: precios de vivienda en Boston\n",
    "\n",
    "Implementaremos la regresión lineal \"desde cero\" utilizando scipy.optimize.minimize.\n",
    "\n",
    "Vamos a entrenar un modelo en el conjunto de datos de precios de la vivienda de Boston, que ya está cargado en las variables X e y. Para simplificar, no vamos a incluir un intercepto en nuestro modelo de regresión."
   ]
  },
  {
   "cell_type": "code",
   "execution_count": 10,
   "id": "7e0e5663-b172-4073-9e24-160736bace46",
   "metadata": {},
   "outputs": [],
   "source": [
    "# LIBRERIAS\n",
    "import pandas as pd\n",
    "import numpy as np\n",
    "from scipy.optimize import minimize\n",
    "from sklearn.linear_model import LinearRegression"
   ]
  },
  {
   "cell_type": "code",
   "execution_count": 6,
   "id": "eb80054c-c40a-4a64-9d0b-bb85d07ed455",
   "metadata": {},
   "outputs": [],
   "source": [
    "# Cargar datos de Boston housing price\n",
    "\n",
    "data_url = \"http://lib.stat.cmu.edu/datasets/boston\"\n",
    "raw_df = pd.read_csv(data_url, sep=\"\\s+\", skiprows=22, header=None)\n",
    "X = np.hstack([raw_df.values[::2, :], raw_df.values[1::2, :2]])\n",
    "y = raw_df.values[1::2, 2]"
   ]
  },
  {
   "cell_type": "code",
   "execution_count": 11,
   "id": "9c2b5fdc-2131-4c71-9d04-660e16d83c98",
   "metadata": {},
   "outputs": [
    {
     "name": "stdout",
     "output_type": "stream",
     "text": [
      "[-9.28967744e-02  4.87152733e-02 -4.05725869e-03  2.85399035e+00\n",
      " -2.86835796e+00  5.92815444e+00 -7.26946531e-03 -9.68512930e-01\n",
      "  1.71156095e-01 -9.39661630e-03 -3.92188695e-01  1.49054820e-02\n",
      " -4.16303942e-01]\n",
      "[-9.28965170e-02  4.87149552e-02 -4.05997958e-03  2.85399882e+00\n",
      " -2.86843637e+00  5.92814778e+00 -7.26933458e-03 -9.68514157e-01\n",
      "  1.71151128e-01 -9.39621540e-03 -3.92190926e-01  1.49056102e-02\n",
      " -4.16304471e-01]\n"
     ]
    }
   ],
   "source": [
    "# El error cuadrado, sumado sobre los ejemplos de entrenamiento\n",
    "def my_loss(w):\n",
    "    s = 0\n",
    "    for i in range(y.size):\n",
    "        # Obtener los valores objetivo verdaderos y predichos para el ejemplo 'i'\n",
    "        y_i_true = y[i]\n",
    "        y_i_pred = w@X[i]\n",
    "        s = s + (y_i_true - y_i_pred)**2  # Aquí falta el término que se va a elevar al cuadrado\n",
    "    return s\n",
    "\n",
    "# Devolver el w que hace que my_loss(w) sea más pequeño\n",
    "w_fit = minimize(my_loss, X[0]).x\n",
    "print(w_fit)\n",
    "\n",
    "# Comparar con los coeficientes de LinearRegression de scikit-learn\n",
    "lr = LinearRegression(fit_intercept=False).fit(X,y)\n",
    "print(lr.coef_)  # Aquí falta lo que se va a imprimir"
   ]
  },
  {
   "cell_type": "code",
   "execution_count": null,
   "id": "29fd189c-c90c-40b6-ac62-60a88a84d257",
   "metadata": {},
   "outputs": [],
   "source": []
  }
 ],
 "metadata": {
  "kernelspec": {
   "display_name": "Python 3 (ipykernel)",
   "language": "python",
   "name": "python3"
  },
  "language_info": {
   "codemirror_mode": {
    "name": "ipython",
    "version": 3
   },
   "file_extension": ".py",
   "mimetype": "text/x-python",
   "name": "python",
   "nbconvert_exporter": "python",
   "pygments_lexer": "ipython3",
   "version": "3.11.6"
  }
 },
 "nbformat": 4,
 "nbformat_minor": 5
}
