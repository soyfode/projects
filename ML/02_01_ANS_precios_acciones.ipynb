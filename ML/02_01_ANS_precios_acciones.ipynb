{
 "cells": [
  {
   "cell_type": "markdown",
   "id": "01fdd54c-0d43-4342-8236-bf5f773844b7",
   "metadata": {},
   "source": [
    "# Clustering de acciones utilizando KMeans\n",
    "\n",
    "Agruparemos empresas utilizando sus movimientos diarios en el precio de las acciones (es decir, la diferencia en dólares entre los precios de cierre y apertura de cada día de negociación). Los datos `movements` de movimientos de precios diarios de 2010 a 2015 (obtenido de Yahoo! Finance), donde cada fila corresponde a una empresa y cada columna corresponde a un día de negociación.\n",
    "\n",
    "Algunas acciones son más caras que otras. Para tener en cuenta esto, incluya un `Normalizeral` comienzo de su canalización. El `Normalizador` transformará por separado el precio de las acciones de cada empresa a una escala relativa antes de que comience la agrupación.\n",
    "\n",
    "Tenga en cuenta que Normalizer() es diferente al StandardScaler(). Mientras StandardScaler() estandariza características (como las características de los datos de peces) eliminando la media y escalando a la varianza unitaria, Normalizer() reescala cada muestra (en este caso, el precio de las acciones de cada empresa) independientemente de la otra."
   ]
  },
  {
   "cell_type": "code",
   "execution_count": 1,
   "id": "f3332c1d-6118-4dba-b568-b30e3394b552",
   "metadata": {},
   "outputs": [],
   "source": [
    "# LIBRERIAS"
   ]
  },
  {
   "cell_type": "code",
   "execution_count": 2,
   "id": "96e09deb-c66a-4abd-9e3e-c078ba6eb4f6",
   "metadata": {},
   "outputs": [],
   "source": [
    "import pandas as pd\n",
    "from sklearn.cluster import KMeans\n",
    "from sklearn.preprocessing import Normalizer\n",
    "from sklearn.pipeline import make_pipeline"
   ]
  },
  {
   "cell_type": "code",
   "execution_count": 21,
   "id": "80b05f3a-1531-4148-a109-ccca2e6bb893",
   "metadata": {},
   "outputs": [],
   "source": [
    "# DATA\n",
    "ruta_archivo = '/home/jovyan/notebooks/data/company-stock-movements-2010-2015-incl.csv'\n",
    "precios = pd.read_csv(ruta_archivo,index_col = None)\n",
    "movements = precios.drop(precios.columns[0], axis=1).values\n",
    "companies = precios[precios.columns[0]].values"
   ]
  },
  {
   "cell_type": "code",
   "execution_count": 10,
   "id": "66a8caba-5639-4a1c-9c7c-5408556df03a",
   "metadata": {},
   "outputs": [
    {
     "data": {
      "text/html": [
       "<style>#sk-container-id-2 {color: black;}#sk-container-id-2 pre{padding: 0;}#sk-container-id-2 div.sk-toggleable {background-color: white;}#sk-container-id-2 label.sk-toggleable__label {cursor: pointer;display: block;width: 100%;margin-bottom: 0;padding: 0.3em;box-sizing: border-box;text-align: center;}#sk-container-id-2 label.sk-toggleable__label-arrow:before {content: \"▸\";float: left;margin-right: 0.25em;color: #696969;}#sk-container-id-2 label.sk-toggleable__label-arrow:hover:before {color: black;}#sk-container-id-2 div.sk-estimator:hover label.sk-toggleable__label-arrow:before {color: black;}#sk-container-id-2 div.sk-toggleable__content {max-height: 0;max-width: 0;overflow: hidden;text-align: left;background-color: #f0f8ff;}#sk-container-id-2 div.sk-toggleable__content pre {margin: 0.2em;color: black;border-radius: 0.25em;background-color: #f0f8ff;}#sk-container-id-2 input.sk-toggleable__control:checked~div.sk-toggleable__content {max-height: 200px;max-width: 100%;overflow: auto;}#sk-container-id-2 input.sk-toggleable__control:checked~label.sk-toggleable__label-arrow:before {content: \"▾\";}#sk-container-id-2 div.sk-estimator input.sk-toggleable__control:checked~label.sk-toggleable__label {background-color: #d4ebff;}#sk-container-id-2 div.sk-label input.sk-toggleable__control:checked~label.sk-toggleable__label {background-color: #d4ebff;}#sk-container-id-2 input.sk-hidden--visually {border: 0;clip: rect(1px 1px 1px 1px);clip: rect(1px, 1px, 1px, 1px);height: 1px;margin: -1px;overflow: hidden;padding: 0;position: absolute;width: 1px;}#sk-container-id-2 div.sk-estimator {font-family: monospace;background-color: #f0f8ff;border: 1px dotted black;border-radius: 0.25em;box-sizing: border-box;margin-bottom: 0.5em;}#sk-container-id-2 div.sk-estimator:hover {background-color: #d4ebff;}#sk-container-id-2 div.sk-parallel-item::after {content: \"\";width: 100%;border-bottom: 1px solid gray;flex-grow: 1;}#sk-container-id-2 div.sk-label:hover label.sk-toggleable__label {background-color: #d4ebff;}#sk-container-id-2 div.sk-serial::before {content: \"\";position: absolute;border-left: 1px solid gray;box-sizing: border-box;top: 0;bottom: 0;left: 50%;z-index: 0;}#sk-container-id-2 div.sk-serial {display: flex;flex-direction: column;align-items: center;background-color: white;padding-right: 0.2em;padding-left: 0.2em;position: relative;}#sk-container-id-2 div.sk-item {position: relative;z-index: 1;}#sk-container-id-2 div.sk-parallel {display: flex;align-items: stretch;justify-content: center;background-color: white;position: relative;}#sk-container-id-2 div.sk-item::before, #sk-container-id-2 div.sk-parallel-item::before {content: \"\";position: absolute;border-left: 1px solid gray;box-sizing: border-box;top: 0;bottom: 0;left: 50%;z-index: -1;}#sk-container-id-2 div.sk-parallel-item {display: flex;flex-direction: column;z-index: 1;position: relative;background-color: white;}#sk-container-id-2 div.sk-parallel-item:first-child::after {align-self: flex-end;width: 50%;}#sk-container-id-2 div.sk-parallel-item:last-child::after {align-self: flex-start;width: 50%;}#sk-container-id-2 div.sk-parallel-item:only-child::after {width: 0;}#sk-container-id-2 div.sk-dashed-wrapped {border: 1px dashed gray;margin: 0 0.4em 0.5em 0.4em;box-sizing: border-box;padding-bottom: 0.4em;background-color: white;}#sk-container-id-2 div.sk-label label {font-family: monospace;font-weight: bold;display: inline-block;line-height: 1.2em;}#sk-container-id-2 div.sk-label-container {text-align: center;}#sk-container-id-2 div.sk-container {/* jupyter's `normalize.less` sets `[hidden] { display: none; }` but bootstrap.min.css set `[hidden] { display: none !important; }` so we also need the `!important` here to be able to override the default hidden behavior on the sphinx rendered scikit-learn.org. See: https://github.com/scikit-learn/scikit-learn/issues/21755 */display: inline-block !important;position: relative;}#sk-container-id-2 div.sk-text-repr-fallback {display: none;}</style><div id=\"sk-container-id-2\" class=\"sk-top-container\"><div class=\"sk-text-repr-fallback\"><pre>Pipeline(steps=[(&#x27;normalizer&#x27;, Normalizer()),\n",
       "                (&#x27;kmeans&#x27;, KMeans(n_clusters=10, n_init=10, random_state=42))])</pre><b>In a Jupyter environment, please rerun this cell to show the HTML representation or trust the notebook. <br />On GitHub, the HTML representation is unable to render, please try loading this page with nbviewer.org.</b></div><div class=\"sk-container\" hidden><div class=\"sk-item sk-dashed-wrapped\"><div class=\"sk-label-container\"><div class=\"sk-label sk-toggleable\"><input class=\"sk-toggleable__control sk-hidden--visually\" id=\"sk-estimator-id-4\" type=\"checkbox\" ><label for=\"sk-estimator-id-4\" class=\"sk-toggleable__label sk-toggleable__label-arrow\">Pipeline</label><div class=\"sk-toggleable__content\"><pre>Pipeline(steps=[(&#x27;normalizer&#x27;, Normalizer()),\n",
       "                (&#x27;kmeans&#x27;, KMeans(n_clusters=10, n_init=10, random_state=42))])</pre></div></div></div><div class=\"sk-serial\"><div class=\"sk-item\"><div class=\"sk-estimator sk-toggleable\"><input class=\"sk-toggleable__control sk-hidden--visually\" id=\"sk-estimator-id-5\" type=\"checkbox\" ><label for=\"sk-estimator-id-5\" class=\"sk-toggleable__label sk-toggleable__label-arrow\">Normalizer</label><div class=\"sk-toggleable__content\"><pre>Normalizer()</pre></div></div></div><div class=\"sk-item\"><div class=\"sk-estimator sk-toggleable\"><input class=\"sk-toggleable__control sk-hidden--visually\" id=\"sk-estimator-id-6\" type=\"checkbox\" ><label for=\"sk-estimator-id-6\" class=\"sk-toggleable__label sk-toggleable__label-arrow\">KMeans</label><div class=\"sk-toggleable__content\"><pre>KMeans(n_clusters=10, n_init=10, random_state=42)</pre></div></div></div></div></div></div></div>"
      ],
      "text/plain": [
       "Pipeline(steps=[('normalizer', Normalizer()),\n",
       "                ('kmeans', KMeans(n_clusters=10, n_init=10, random_state=42))])"
      ]
     },
     "execution_count": 10,
     "metadata": {},
     "output_type": "execute_result"
    }
   ],
   "source": [
    "# Instanciar un normalizer: normalizer\n",
    "normalizer = Normalizer()\n",
    "\n",
    "# Crear un modelo KMeans con 10 clusters: kmeans\n",
    "kmeans = KMeans(n_clusters = 10, n_init = 10, random_state = 42)\n",
    "\n",
    "# Realizar un pipeline cambiando normalizer and kmeans: pipeline\n",
    "pipeline = make_pipeline(normalizer, kmeans)\n",
    "\n",
    "# Ajustar pipeline a los movimientos diarios de precios\n",
    "pipeline.fit(movements)"
   ]
  },
  {
   "cell_type": "markdown",
   "id": "899e013e-ea66-49c8-b381-6747de4080eb",
   "metadata": {},
   "source": [
    "## ¿Qué valores se mueven juntos?\n",
    "\n",
    "Agrupamos las empresas en función de los movimientos diarios de sus cotizaciones bursátiles. Entonces, ¿qué empresas tienen precios de acciones que tienden a cambiar de la misma manera? Para averiguarlo, inspeccione las etiquetas de las agrupaciones."
   ]
  },
  {
   "cell_type": "code",
   "execution_count": 24,
   "id": "bd787f27-f7cd-4f8a-8831-f170247b24d4",
   "metadata": {},
   "outputs": [
    {
     "name": "stdout",
     "output_type": "stream",
     "text": [
      "    labels                           companies\n",
      "3        0                    American express\n",
      "55       0                         Wells Fargo\n",
      "30       0                          MasterCard\n",
      "25       1                   Johnson & Johnson\n",
      "27       1                      Kimberly-Clark\n",
      "40       1                      Procter Gamble\n",
      "28       1                           Coca Cola\n",
      "56       1                            Wal-Mart\n",
      "41       1                       Philip Morris\n",
      "38       1                               Pepsi\n",
      "9        1                   Colgate-Palmolive\n",
      "15       2                                Ford\n",
      "35       2                            Navistar\n",
      "1        2                                 AIG\n",
      "46       3                      Sanofi-Aventis\n",
      "43       3                                 SAP\n",
      "37       3                            Novartis\n",
      "52       3                            Unilever\n",
      "19       3                     GlaxoSmithKline\n",
      "6        3            British American Tobacco\n",
      "39       3                              Pfizer\n",
      "49       3                               Total\n",
      "32       4                                  3M\n",
      "31       4                           McDonalds\n",
      "58       4                               Xerox\n",
      "59       4                               Yahoo\n",
      "51       4                   Texas instruments\n",
      "23       4                                 IBM\n",
      "50       4  Taiwan Semiconductor Manufacturing\n",
      "20       4                          Home Depot\n",
      "17       4                     Google/Alphabet\n",
      "16       4                   General Electrics\n",
      "13       4                   DuPont de Nemours\n",
      "8        4                         Caterpillar\n",
      "2        4                              Amazon\n",
      "47       4                            Symantec\n",
      "53       5                       Valero Energy\n",
      "44       5                        Schlumberger\n",
      "12       5                             Chevron\n",
      "10       5                      ConocoPhillips\n",
      "57       5                               Exxon\n",
      "42       5                   Royal Dutch Shell\n",
      "54       6                            Walgreen\n",
      "29       6                     Lookheed Martin\n",
      "4        6                              Boeing\n",
      "36       6                    Northrop Grumman\n",
      "33       7                           Microsoft\n",
      "24       7                               Intel\n",
      "22       7                                  HP\n",
      "14       7                                Dell\n",
      "11       7                               Cisco\n",
      "0        7                               Apple\n",
      "34       8                          Mitsubishi\n",
      "45       8                                Sony\n",
      "48       8                              Toyota\n",
      "21       8                               Honda\n",
      "7        8                               Canon\n",
      "26       9                      JPMorgan Chase\n",
      "18       9                       Goldman Sachs\n",
      "5        9                     Bank of America\n"
     ]
    }
   ],
   "source": [
    "# Predecir las etiquetas de labels: labels\n",
    "labels = pipeline.predict(movements)\n",
    "\n",
    "# Crear un DataFrame alineando etiquetas y empresas: df\n",
    "df = pd.DataFrame({'labels': labels, 'companies': companies})\n",
    "\n",
    "# Mostrar df ordenado por etiqueta de grupo\n",
    "print(df.sort_values(by = 'labels'))"
   ]
  },
  {
   "cell_type": "code",
   "execution_count": null,
   "id": "a0e37b0f-3f7e-49e7-9eec-885503d71278",
   "metadata": {},
   "outputs": [],
   "source": []
  }
 ],
 "metadata": {
  "kernelspec": {
   "display_name": "Python 3 (ipykernel)",
   "language": "python",
   "name": "python3"
  },
  "language_info": {
   "codemirror_mode": {
    "name": "ipython",
    "version": 3
   },
   "file_extension": ".py",
   "mimetype": "text/x-python",
   "name": "python",
   "nbconvert_exporter": "python",
   "pygments_lexer": "ipython3",
   "version": "3.11.6"
  }
 },
 "nbformat": 4,
 "nbformat_minor": 5
}
