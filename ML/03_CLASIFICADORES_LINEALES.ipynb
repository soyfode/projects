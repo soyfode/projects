{
 "cells": [
  {
   "cell_type": "markdown",
   "id": "8f464b2f-269d-4742-87cd-611801d290c1",
   "metadata": {},
   "source": [
    "# Clasificadores lineales\n",
    "\n",
    "## Aplicando la regresión logística y SVM\n",
    "\n",
    "Empecemos recordando algunos pasos típicos de aprendizaje supervisado."
   ]
  },
  {
   "cell_type": "code",
   "execution_count": null,
   "id": "8e1668c9-1556-4b4c-a10e-196b42b8898a",
   "metadata": {},
   "outputs": [],
   "source": [
    "# LEBRERIA\n",
    "import sklearn.datasets\n",
    "from sklearn.neighbors import KNeighborsClassifier\n",
    "from sklearn.model_selection import train_test_split"
   ]
  },
  {
   "cell_type": "code",
   "execution_count": 5,
   "id": "fb468c33-f694-47da-8b1e-2f947e196fbe",
   "metadata": {},
   "outputs": [
    {
     "name": "stdout",
     "output_type": "stream",
     "text": [
      "(11314, 130107)\n",
      "\n",
      "(11314,)\n"
     ]
    }
   ],
   "source": [
    "# Cargar los datos de los grupos de noticias del repositorio \n",
    "# de conjunto de datos integrados en scikit-learn\n",
    "newsgroups = sklearn.datasets.fetch_20newsgroups_vectorized()\n",
    "X, y = newsgroups.data, newsgroups.target\n",
    "\n",
    "# Inspeccionar la forma de X e y.\n",
    "print(X.shape)\n",
    "print()\n",
    "print(y.shape)"
   ]
  },
  {
   "cell_type": "markdown",
   "id": "060eb3d1-d014-4c7a-a393-79eaf4367e26",
   "metadata": {},
   "source": [
    "-  En este caso las características se derivan de las palabras que aparencen en cada articulo de noticia y los valores son los temas del artículo que es lo que intentamos predecir."
   ]
  },
  {
   "cell_type": "code",
   "execution_count": null,
   "id": "9e1d9498-73ab-4b6c-b48f-6c1a537f295a",
   "metadata": {},
   "outputs": [],
   "source": [
    "# Intanciar KNN\n",
    "knn = KNeighborsClassifier(n_neighbors = 1)\n",
    "\n",
    "# Ajustar el modelo con el conjunto de datos\n",
    "knn.fit(X, y)\n",
    "\n",
    "# Precedir \n",
    "y_pred = knn.predict(X)"
   ]
  },
  {
   "cell_type": "markdown",
   "id": "ecbb493d-65f4-44ee-a351-16edc796c890",
   "metadata": {},
   "source": [
    "### Evaluando el modelo"
   ]
  },
  {
   "cell_type": "code",
   "execution_count": null,
   "id": "e891f923-760e-466b-81e0-6609d52a705b",
   "metadata": {},
   "outputs": [],
   "source": [
    "# Usar .score() para evaluar el modelo\n",
    "knn.score(X, y)"
   ]
  },
  {
   "cell_type": "markdown",
   "id": "0a80601b-2a62-4c10-8003-e78a7744612f",
   "metadata": {},
   "source": [
    "- El número no es particularmente significativo, ya que queremos saber cómo se generaliza el modelo a datos no vistos."
   ]
  },
  {
   "cell_type": "code",
   "execution_count": null,
   "id": "4866eedb-9d5f-4989-9a10-b9add9034b7f",
   "metadata": {},
   "outputs": [],
   "source": [
    "# Dividimos el conjunto de datos en entrenamiento y prueba\n",
    "X_train, X_test, y_train, y_test = train_test_split(X, y)\n",
    "\n",
    "# Volvemos a ajustar al conjunto de datos\n",
    "knn.fit(X_train, y_train)\n",
    "\n",
    "# Calculamos la puntación de la prueba\n",
    "knn.score(X_test, y_test)"
   ]
  },
  {
   "cell_type": "code",
   "execution_count": null,
   "id": "e9b0fbe1-e956-4c43-a374-cde5ae423afa",
   "metadata": {},
   "outputs": [],
   "source": []
  }
 ],
 "metadata": {
  "kernelspec": {
   "display_name": "Python 3 (ipykernel)",
   "language": "python",
   "name": "python3"
  },
  "language_info": {
   "codemirror_mode": {
    "name": "ipython",
    "version": 3
   },
   "file_extension": ".py",
   "mimetype": "text/x-python",
   "name": "python",
   "nbconvert_exporter": "python",
   "pygments_lexer": "ipython3",
   "version": "3.11.6"
  }
 },
 "nbformat": 4,
 "nbformat_minor": 5
}
