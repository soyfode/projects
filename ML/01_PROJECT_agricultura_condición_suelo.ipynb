{
 "cells": [
  {
   "cell_type": "markdown",
   "id": "558063f9-3dab-4068-aa59-a4f7bb7837d9",
   "metadata": {},
   "source": [
    "# Sembrando éxito: cómo el aprendizaje automático ayuda a los agricultores a seleccionar los mejores cultivos\n",
    "\n",
    "Medir métricas esenciales del suelo, como los niveles de nitrógeno, fósforo, potasio y el valor del pH, es un aspecto importante de la evaluación del estado del suelo. Sin embargo, puede ser un proceso costoso y que requiere mucho tiempo, lo que puede hacer que los agricultores prioricen qué métricas medir en función de sus limitaciones presupuestarias.\n",
    "\n",
    "Los agricultores tienen varias opciones a la hora de decidir qué cultivo plantar en cada temporada. Su principal objetivo es maximizar el rendimiento de sus cultivos, teniendo en cuenta diferentes factores. Un factor crucial que afecta el crecimiento de los cultivos es la condición del suelo en el campo, que puede evaluarse midiendo elementos básicos como los niveles de nitrógeno y potasio. Cada cultivo tiene una condición de suelo ideal que garantiza un crecimiento óptimo y un rendimiento máximo.\n",
    "\n",
    "La idea es seleccionar el mejor cultivo para su campo. Se proporcionó un conjunto de datos llamado `soil_measures.csv`, que contiene:\n",
    "\n",
    "- `\"N\"`: Relación de contenido de nitrógeno en el suelo\n",
    "- `\"P\"`: Relación de contenido de fósforo en el suelo\n",
    "- `\"K\"`: Relación de contenido de potasio en el suelo\n",
    "- `\"pH\"`: Valor del suelo\n",
    "- `\"crop\"`: valores categóricos que contienen varios cultivos (variable objetivo).\n",
    "\n",
    "Cada fila de este conjunto de datos representa varias medidas del suelo en un campo en particular. Según estas mediciones, el cultivo especificado en la columna `\"crop\"` es la opción óptima para ese campo.\n",
    "\n",
    "En este proyecto, creará modelos de clasificación de clases múltiples para predecir el tipo de `\"crop\"` e identificar la característica más importante para el rendimiento predictivo.\n",
    "\n",
    "--------------------------\n",
    "\n",
    "Identifique la característica única que tiene el mayor rendimiento predictivo para clasificar los tipos de cultivos. \n",
    "\n",
    "- Encuentre la característica en el conjunto de datos que produce la mejor puntuación para predecir `\"crop\"`.\n",
    "- A partir de esta información, cree una variable llamada `\"best_predictive_feature\"`, que:\n",
    "    - Debe ser un `\"dictionary\"` que contenga el mejor nombre de característica predictiva como clave y la puntuación de evaluación (para la métrica que eligió) como valor."
   ]
  },
  {
   "cell_type": "code",
   "execution_count": 2,
   "id": "753849b2-2c28-49a6-b7a9-d2d6275bacef",
   "metadata": {},
   "outputs": [
    {
     "data": {
      "text/html": [
       "<div>\n",
       "<style scoped>\n",
       "    .dataframe tbody tr th:only-of-type {\n",
       "        vertical-align: middle;\n",
       "    }\n",
       "\n",
       "    .dataframe tbody tr th {\n",
       "        vertical-align: top;\n",
       "    }\n",
       "\n",
       "    .dataframe thead th {\n",
       "        text-align: right;\n",
       "    }\n",
       "</style>\n",
       "<table border=\"1\" class=\"dataframe\">\n",
       "  <thead>\n",
       "    <tr style=\"text-align: right;\">\n",
       "      <th></th>\n",
       "      <th>N</th>\n",
       "      <th>P</th>\n",
       "      <th>K</th>\n",
       "      <th>ph</th>\n",
       "      <th>crop</th>\n",
       "    </tr>\n",
       "  </thead>\n",
       "  <tbody>\n",
       "    <tr>\n",
       "      <th>0</th>\n",
       "      <td>90</td>\n",
       "      <td>42</td>\n",
       "      <td>43</td>\n",
       "      <td>6.502985</td>\n",
       "      <td>rice</td>\n",
       "    </tr>\n",
       "    <tr>\n",
       "      <th>1</th>\n",
       "      <td>85</td>\n",
       "      <td>58</td>\n",
       "      <td>41</td>\n",
       "      <td>7.038096</td>\n",
       "      <td>rice</td>\n",
       "    </tr>\n",
       "    <tr>\n",
       "      <th>2</th>\n",
       "      <td>60</td>\n",
       "      <td>55</td>\n",
       "      <td>44</td>\n",
       "      <td>7.840207</td>\n",
       "      <td>rice</td>\n",
       "    </tr>\n",
       "    <tr>\n",
       "      <th>3</th>\n",
       "      <td>74</td>\n",
       "      <td>35</td>\n",
       "      <td>40</td>\n",
       "      <td>6.980401</td>\n",
       "      <td>rice</td>\n",
       "    </tr>\n",
       "    <tr>\n",
       "      <th>4</th>\n",
       "      <td>78</td>\n",
       "      <td>42</td>\n",
       "      <td>42</td>\n",
       "      <td>7.628473</td>\n",
       "      <td>rice</td>\n",
       "    </tr>\n",
       "  </tbody>\n",
       "</table>\n",
       "</div>"
      ],
      "text/plain": [
       "    N   P   K        ph  crop\n",
       "0  90  42  43  6.502985  rice\n",
       "1  85  58  41  7.038096  rice\n",
       "2  60  55  44  7.840207  rice\n",
       "3  74  35  40  6.980401  rice\n",
       "4  78  42  42  7.628473  rice"
      ]
     },
     "execution_count": 2,
     "metadata": {},
     "output_type": "execute_result"
    }
   ],
   "source": [
    "# LIBRERIAS\n",
    "import pandas as pd\n",
    "from sklearn.linear_model import LogisticRegression\n",
    "from sklearn.model_selection import train_test_split\n",
    "from sklearn import metrics\n",
    "\n",
    "# DATA\n",
    "ruta_archivo = '/home/jovyan/notebooks/data/soil_measures.csv'\n",
    "crops = pd.read_csv(ruta_archivo,index_col = None)\n",
    "crops.head()"
   ]
  },
  {
   "cell_type": "markdown",
   "id": "3e192d53-bbd2-4a6e-b1c9-350834483265",
   "metadata": {},
   "source": [
    "## Análisis exploratorio de datos"
   ]
  },
  {
   "cell_type": "code",
   "execution_count": null,
   "id": "0df22bd5-db56-4d86-96a4-30d22815073e",
   "metadata": {},
   "outputs": [],
   "source": [
    "# Ver los valores faltantes.\n",
    "crops.isna().sum()"
   ]
  },
  {
   "cell_type": "code",
   "execution_count": 21,
   "id": "2e915c3c-c1a9-43dc-8edb-c0bf741c891b",
   "metadata": {},
   "outputs": [
    {
     "data": {
      "text/plain": [
       "array(['rice', 'maize', 'chickpea', 'kidneybeans', 'pigeonpeas',\n",
       "       'mothbeans', 'mungbean', 'blackgram', 'lentil', 'pomegranate',\n",
       "       'banana', 'mango', 'grapes', 'watermelon', 'muskmelon', 'apple',\n",
       "       'orange', 'papaya', 'coconut', 'cotton', 'jute', 'coffee'],\n",
       "      dtype=object)"
      ]
     },
     "execution_count": 21,
     "metadata": {},
     "output_type": "execute_result"
    }
   ],
   "source": [
    "# Veamos los valores categoricos únicos de crop\n",
    "crops[\"crop\"].unique()"
   ]
  },
  {
   "cell_type": "markdown",
   "id": "f843234c-1e78-43ee-b227-54b291253c58",
   "metadata": {},
   "source": [
    "## Dividir datos"
   ]
  },
  {
   "cell_type": "code",
   "execution_count": 26,
   "id": "2ed4fdb1-4112-4939-8647-f1d6d5927f78",
   "metadata": {},
   "outputs": [],
   "source": [
    "# Dividir datos \n",
    "X = crops.drop(columns=\"crop\")\n",
    "y = crops[\"crop\"]\n",
    "\n",
    "# Dividir en datos de entranamiento y prueba\n",
    "X_train, X_test, y_train, y_test = train_test_split(X, y,\n",
    "                                                    test_size = 0.2,\n",
    "                                                   random_state = 42)"
   ]
  },
  {
   "cell_type": "markdown",
   "id": "5fee8465-6853-4d05-8035-c905ba5adcb5",
   "metadata": {},
   "source": [
    "## Evaluar el rendimiento de las funciones"
   ]
  },
  {
   "cell_type": "code",
   "execution_count": 37,
   "id": "cb677333-185b-4887-8539-8ce3da8b5e69",
   "metadata": {},
   "outputs": [
    {
     "name": "stdout",
     "output_type": "stream",
     "text": [
      "F1-score for N: 0.10350482196004852\n",
      "F1-score for P: 0.12002525220652878\n",
      "F1-score for K: 0.20353265184616823\n",
      "F1-score for ph: 0.04532731061152114\n"
     ]
    },
    {
     "data": {
      "text/plain": [
       "{'K': 0.20353265184616823}"
      ]
     },
     "execution_count": 37,
     "metadata": {},
     "output_type": "execute_result"
    }
   ],
   "source": [
    "# Crear un diccionario para almacenar el rendimiento del modelo para cada característica.\n",
    "feature_performance = {}\n",
    "\n",
    "# Entrenar un modelo de regresión logística para cada característica\n",
    "for feature in [\"N\", \"P\", \"K\", \"ph\"]:\n",
    "    # se utiliza multinomial dado que se tiene más de dos categorías\n",
    "    log_reg = LogisticRegression(multi_class=\"multinomial\", max_iter = 3900) \n",
    "    log_reg.fit(X_train[[feature]], y_train)\n",
    "    y_pred = log_reg.predict(X_test[[feature]])\n",
    "    \n",
    "    # Calcular la puntuación F1, la media armónica de precisión y recuperación \n",
    "    # También podría usar balance_accuracy_score\n",
    "    f1 = metrics.f1_score(y_test, y_pred, average=\"weighted\")\n",
    "    \n",
    "    # Agregar pares de puntuación característica-f1 al diccionario\n",
    "    feature_performance[feature] = f1\n",
    "    print(f\"F1-score for {feature}: {f1}\")\n",
    "\n",
    "# K obtuvo la mejor puntuación en F1 \n",
    "# Almacenar en el diccionario best_predictive_feature\n",
    "best_predictive_feature = {\"K\": feature_performance[\"K\"]}\n",
    "best_predictive_feature"
   ]
  },
  {
   "cell_type": "code",
   "execution_count": null,
   "id": "6b7c6d17-d642-4ac3-82d6-b1c917c0f405",
   "metadata": {},
   "outputs": [],
   "source": []
  }
 ],
 "metadata": {
  "kernelspec": {
   "display_name": "Python 3 (ipykernel)",
   "language": "python",
   "name": "python3"
  },
  "language_info": {
   "codemirror_mode": {
    "name": "ipython",
    "version": 3
   },
   "file_extension": ".py",
   "mimetype": "text/x-python",
   "name": "python",
   "nbconvert_exporter": "python",
   "pygments_lexer": "ipython3",
   "version": "3.11.6"
  }
 },
 "nbformat": 4,
 "nbformat_minor": 5
}
