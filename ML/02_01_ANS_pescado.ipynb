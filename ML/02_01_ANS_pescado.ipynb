{
 "cells": [
  {
   "cell_type": "markdown",
   "id": "be9c5062-b578-4ff4-a8a1-43b886b1f900",
   "metadata": {},
   "source": [
    "# Medición de Peces\n",
    "\n",
    "## Escalar datos de peces para agruparlos\n",
    "\n",
    "Se proporciona una serie samples de medidas de peces. Cada fila representa:\n",
    "- un pez individual.\n",
    "Las medidas como:\n",
    "- el peso en gramos,\n",
    "- la longitud en centímetros y\n",
    "- el porcentaje de altura a longitud\n",
    "tienen escalas muy diferentes.\n",
    "\n",
    "Para agrupar estos datos de manera efectiva, primero debemos estandarizar estas características. Por lo que, crearémos una canalización para estandarizar y agrupar los datos."
   ]
  },
  {
   "cell_type": "code",
   "execution_count": 54,
   "id": "5c889060-cff3-432a-83d1-1e23af3fb0d7",
   "metadata": {},
   "outputs": [],
   "source": [
    "# LIBRERIAS\n",
    "import pandas as pd\n",
    "import numpy as np\n",
    "import matplotlib.pyplot as plt\n",
    "from sklearn.cluster import KMeans\n",
    "from sklearn.preprocessing import StandardScaler\n",
    "from sklearn.pipeline import make_pipeline"
   ]
  },
  {
   "cell_type": "code",
   "execution_count": 55,
   "id": "b1af4a7c-cc22-4ce5-93c8-d82908dee51f",
   "metadata": {},
   "outputs": [],
   "source": [
    "# DATA\n",
    "ruta_archivo = '/home/jovyan/notebooks/data/fish.csv'\n",
    "with open(ruta_archivo, 'r') as f:\n",
    "    num_cols = len(f.readline().split(','))\n",
    "\n",
    "samples = np.loadtxt(ruta_archivo, delimiter=',', usecols=range(1, num_cols))\n",
    "\n",
    "species = pd.read_csv(ruta_archivo, usecols = [0],  header = None)\n",
    "species = species[0].tolist()"
   ]
  },
  {
   "cell_type": "code",
   "execution_count": 56,
   "id": "974d49f5-d485-45b2-9de6-939b069a105b",
   "metadata": {},
   "outputs": [],
   "source": [
    "# Crear un escalador: scaler\n",
    "scaler = StandardScaler()\n",
    "\n",
    "# Crear una instancia KMeans: kmeans\n",
    "kmeans = KMeans(n_clusters = 4, n_init = 10, random_state = 50)\n",
    "\n",
    "# Crear pipeline: pipeline\n",
    "pipeline = make_pipeline(scaler, kmeans)"
   ]
  },
  {
   "cell_type": "markdown",
   "id": "55223ca7-c83a-4396-b9cd-50e4ea94f622",
   "metadata": {},
   "source": [
    "## Agrupamiento de datos de pescado.\n",
    "\n",
    "- Ahora utilizaremos la estandarización y la agrupación para agrupar los peces según sus medidas y, a continuación, creará una tabulación cruzada para comparar las etiquetas de los grupos con las especies de peces."
   ]
  },
  {
   "cell_type": "code",
   "execution_count": 57,
   "id": "0002e224-e5bc-4431-b83a-b8630ff12cb7",
   "metadata": {},
   "outputs": [
    {
     "name": "stdout",
     "output_type": "stream",
     "text": [
      "species  Bream  Pike  Roach  Smelt\n",
      "labels                            \n",
      "0            1     0     19      1\n",
      "1           33     0      1      0\n",
      "2            0     0      0     13\n",
      "3            0    17      0      0\n"
     ]
    }
   ],
   "source": [
    "# Ajustar la tubería (pipeline) a las muestras.\n",
    "pipeline.fit(samples)\n",
    "\n",
    "# Predecir las etiquetas del cluster: labels\n",
    "labels = pipeline.predict(samples)\n",
    "\n",
    "# Crear un DataFrame con labels y species como columnas\n",
    "df = pd.DataFrame({'labels': labels,\n",
    "                  'species': species})\n",
    "\n",
    "# Crear crosstab: ct\n",
    "ct = pd.crosstab(df['labels'], df['species'])\n",
    "\n",
    "# Imprimir ct\n",
    "print(ct)"
   ]
  },
  {
   "cell_type": "code",
   "execution_count": null,
   "id": "d2b3f9ff-5c52-48ed-9893-05b573602b27",
   "metadata": {},
   "outputs": [],
   "source": []
  }
 ],
 "metadata": {
  "kernelspec": {
   "display_name": "Python 3 (ipykernel)",
   "language": "python",
   "name": "python3"
  },
  "language_info": {
   "codemirror_mode": {
    "name": "ipython",
    "version": 3
   },
   "file_extension": ".py",
   "mimetype": "text/x-python",
   "name": "python",
   "nbconvert_exporter": "python",
   "pygments_lexer": "ipython3",
   "version": "3.11.6"
  }
 },
 "nbformat": 4,
 "nbformat_minor": 5
}
