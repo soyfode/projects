{
 "cells": [
  {
   "cell_type": "markdown",
   "id": "be9c5062-b578-4ff4-a8a1-43b886b1f900",
   "metadata": {},
   "source": [
    "# Medición de Peces\n",
    "\n",
    "## Escalar datos de peces para agruparlos\n",
    "\n",
    "Se proporciona una serie samples de medidas de peces. Cada fila representa:\n",
    "- un pez individual.\n",
    "Las medidas como:\n",
    "- el peso en gramos,\n",
    "- la longitud en centímetros y\n",
    "- el porcentaje de altura a longitud\n",
    "tienen escalas muy diferentes.\n",
    "\n",
    "Para agrupar estos datos de manera efectiva, primero debemos estandarizar estas características. Por lo que, crearémos una canalización para estandarizar y agrupar los datos."
   ]
  },
  {
   "cell_type": "code",
   "execution_count": 1,
   "id": "5c889060-cff3-432a-83d1-1e23af3fb0d7",
   "metadata": {},
   "outputs": [],
   "source": [
    "# LIBRERIAS\n",
    "import pandas as pd\n",
    "import numpy as np\n",
    "import matplotlib.pyplot as plt\n",
    "from sklearn.cluster import KMeans\n",
    "from sklearn.preprocessing import StandardScaler\n",
    "from sklearn.pipeline import make_pipeline\n",
    "from sklearn.decomposition import PCA"
   ]
  },
  {
   "cell_type": "code",
   "execution_count": 2,
   "id": "b1af4a7c-cc22-4ce5-93c8-d82908dee51f",
   "metadata": {},
   "outputs": [],
   "source": [
    "# DATA\n",
    "ruta_archivo = '/home/jovyan/notebooks/data/fish.csv'\n",
    "with open(ruta_archivo, 'r') as f:\n",
    "    num_cols = len(f.readline().split(','))\n",
    "\n",
    "samples = np.loadtxt(ruta_archivo, delimiter=',', usecols=range(1, num_cols))\n",
    "\n",
    "species = pd.read_csv(ruta_archivo, usecols = [0],  header = None)\n",
    "species = species[0].tolist()"
   ]
  },
  {
   "cell_type": "code",
   "execution_count": 56,
   "id": "974d49f5-d485-45b2-9de6-939b069a105b",
   "metadata": {},
   "outputs": [],
   "source": [
    "# Crear un escalador: scaler\n",
    "scaler = StandardScaler()\n",
    "\n",
    "# Crear una instancia KMeans: kmeans\n",
    "kmeans = KMeans(n_clusters = 4, n_init = 10, random_state = 50)\n",
    "\n",
    "# Crear pipeline: pipeline\n",
    "pipeline = make_pipeline(scaler, kmeans)"
   ]
  },
  {
   "cell_type": "markdown",
   "id": "55223ca7-c83a-4396-b9cd-50e4ea94f622",
   "metadata": {},
   "source": [
    "## Agrupamiento de datos de pescado.\n",
    "\n",
    "- Ahora utilizaremos la estandarización y la agrupación para agrupar los peces según sus medidas y, a continuación, creará una tabulación cruzada para comparar las etiquetas de los grupos con las especies de peces."
   ]
  },
  {
   "cell_type": "code",
   "execution_count": 57,
   "id": "0002e224-e5bc-4431-b83a-b8630ff12cb7",
   "metadata": {},
   "outputs": [
    {
     "name": "stdout",
     "output_type": "stream",
     "text": [
      "species  Bream  Pike  Roach  Smelt\n",
      "labels                            \n",
      "0            1     0     19      1\n",
      "1           33     0      1      0\n",
      "2            0     0      0     13\n",
      "3            0    17      0      0\n"
     ]
    }
   ],
   "source": [
    "# Ajustar la tubería (pipeline) a las muestras.\n",
    "pipeline.fit(samples)\n",
    "\n",
    "# Predecir las etiquetas del cluster: labels\n",
    "labels = pipeline.predict(samples)\n",
    "\n",
    "# Crear un DataFrame con labels y species como columnas\n",
    "df = pd.DataFrame({'labels': labels,\n",
    "                  'species': species})\n",
    "\n",
    "# Crear crosstab: ct\n",
    "ct = pd.crosstab(df['labels'], df['species'])\n",
    "\n",
    "# Imprimir ct\n",
    "print(ct)"
   ]
  },
  {
   "cell_type": "markdown",
   "id": "4a9a6d05-6ad0-4cf4-94c3-60b9473279ba",
   "metadata": {},
   "source": [
    "### Varianza de las características PCA\n",
    "\n",
    "El conjunto de datos de los peces tiene 6 dimensiones. Pero, ¿cuál es su dimensión intrínseca? Haremos gráfico de las varianzas de las características PCA para averiguarlo. \n",
    "\n",
    "Como antes, las muestras son una matriz 2D, donde cada fila representa un pez. Primero tendremos que estandarizar las características."
   ]
  },
  {
   "cell_type": "code",
   "execution_count": 3,
   "id": "1cd4ed16-2b09-4638-b91f-2eba279d9b5c",
   "metadata": {},
   "outputs": [
    {
     "data": {
      "image/png": "[encoded data removed]",
      "text/plain": [
       "<Figure size 640x480 with 1 Axes>"
      ]
     },
     "metadata": {},
     "output_type": "display_data"
    }
   ],
   "source": [
    "# Crea el escalador: scaler\n",
    "scaler = StandardScaler()\n",
    "\n",
    "# Crea una instancia de PCA: pca\n",
    "pca = PCA()\n",
    "\n",
    "# Crea la tubería: pipeline\n",
    "pipeline = make_pipeline(scaler, pca)\n",
    "\n",
    "# Ajusta la tubería a 'samples'\n",
    "pipeline.fit(samples)\n",
    "\n",
    "# Grafica las varianzas explicadas\n",
    "features = range(pca.n_components_)\n",
    "plt.bar(features, pca.explained_variance_)\n",
    "plt.xlabel('Característica de PCA')\n",
    "plt.ylabel('varianza')\n",
    "plt.xticks(features)\n",
    "plt.show()"
   ]
  },
  {
   "cell_type": "markdown",
   "id": "ce10192e-7a59-4446-ada1-fd2ed01e3f02",
   "metadata": {},
   "source": [
    "Podría tener varianza significativa en dos características.\n",
    "\n",
    "### Reducción de la dimensión de las medidas de los peces\n",
    "Se vió que 2 era una elección razonable para la \"dimensión intrínseca\" de las medidas de los peces. Ahora utilizaremos PCA para reducir la dimensionalidad de las medidas de los peces, reteniendo sólo los 2 componentes más importantes.\n",
    "\n",
    "Las medidas de los peces ya han sido escaladas y están disponibles como muestras_escaladas."
   ]
  },
  {
   "cell_type": "code",
   "execution_count": 4,
   "id": "c939db72-dd99-4630-b6ad-17d21964c33a",
   "metadata": {},
   "outputs": [
    {
     "name": "stdout",
     "output_type": "stream",
     "text": [
      "(85, 2)\n"
     ]
    }
   ],
   "source": [
    "# Crea el escalador: scaler\n",
    "scaler = StandardScaler()\n",
    "\n",
    "# Crear un modelo PCA con 2 componentes: pca\n",
    "pca = PCA(n_components = 2)\n",
    "\n",
    "# Crea la tubería: pipeline\n",
    "pipeline = make_pipeline(scaler, pca)\n",
    "\n",
    "# Ajustar la instancia PCA a las muestras escaladas\n",
    "pipeline.fit(samples)\n",
    "\n",
    "# Transformar las muestras escaladas: pca_features\n",
    "pca_features = pipeline.transform(samples)\n",
    "\n",
    "# Imprimir la forma de pca_features\n",
    "print(pca_features.shape)"
   ]
  },
  {
   "cell_type": "code",
   "execution_count": null,
   "id": "41cd6a11-baa7-41f0-bb8b-76e8cfb1fb5c",
   "metadata": {},
   "outputs": [],
   "source": []
  }
 ],
 "metadata": {
  "kernelspec": {
   "display_name": "Python 3 (ipykernel)",
   "language": "python",
   "name": "python3"
  },
  "language_info": {
   "codemirror_mode": {
    "name": "ipython",
    "version": 3
   },
   "file_extension": ".py",
   "mimetype": "text/x-python",
   "name": "python",
   "nbconvert_exporter": "python",
   "pygments_lexer": "ipython3",
   "version": "3.11.6"
  }
 },
 "nbformat": 4,
 "nbformat_minor": 5
}
